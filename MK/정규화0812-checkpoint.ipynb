{
 "cells": [
  {
   "cell_type": "code",
   "execution_count": 2,
   "id": "99b80672",
   "metadata": {},
   "outputs": [],
   "source": [
    "import pandas as pd \n",
    "import numpy as np "
   ]
  },
  {
   "cell_type": "code",
   "execution_count": 13,
   "id": "0304fd0a",
   "metadata": {},
   "outputs": [
    {
     "data": {
      "text/plain": [
       "0         4\n",
       "1         4\n",
       "2         4\n",
       "3         4\n",
       "4         4\n",
       "       ... \n",
       "1885    716\n",
       "1886    716\n",
       "1887    716\n",
       "1888    716\n",
       "1889    716\n",
       "Name: country_num, Length: 1890, dtype: category\n",
       "Categories (158, int64): [4, 8, 12, 24, ..., 860, 862, 887, 894]"
      ]
     },
     "execution_count": 13,
     "metadata": {},
     "output_type": "execute_result"
    }
   ],
   "source": [
    "df=pd.read_csv('C:/py/pjt/happy_0811.csv')\n",
    "df.columns\n",
    "df['country_num'].astype('category')"
   ]
  },
  {
   "cell_type": "markdown",
   "id": "d3034509",
   "metadata": {},
   "source": [
    "# 정규화"
   ]
  },
  {
   "cell_type": "code",
   "execution_count": 14,
   "id": "8b2854d2",
   "metadata": {},
   "outputs": [],
   "source": [
    "x=df[df.columns.difference(['country','year','continent'])]\n",
    "y=df['HS']"
   ]
  },
  {
   "cell_type": "code",
   "execution_count": 15,
   "id": "d76a4eae",
   "metadata": {},
   "outputs": [],
   "source": [
    "#minmax정규화\n",
    "from sklearn.preprocessing import MinMaxScaler\n",
    "\n",
    "scaler=MinMaxScaler()\n",
    "scaler.fit(x)\n",
    "\n",
    "Normalized_Values=scaler.transform(x)"
   ]
  },
  {
   "cell_type": "code",
   "execution_count": 9,
   "id": "7ff8599b",
   "metadata": {},
   "outputs": [
    {
     "name": "stdout",
     "output_type": "stream",
     "text": [
      "[[0.23901488 0.02334898 0.81355154 ... 0.1328125  0.23098996 0.05573201]\n",
      " [0.35914245 0.02261579 0.78403181 ... 0.140625   0.3758967  0.05809457]\n",
      " [0.42221828 0.02208708 0.75298256 ... 0.1484375  0.35724534 0.06150912]\n",
      " ...\n",
      " [0.21987952 0.02827217 0.39171    ... 0.5390625  0.69583931 0.31603434]\n",
      " [0.0565202  0.02827217 0.37886204 ... 0.5390625  0.67288379 0.31603434]\n",
      " [0.13908575 0.02827217 0.36800245 ... 0.5390625  0.61262554 0.31603434]]\n"
     ]
    }
   ],
   "source": [
    "print(Normalized_Values)"
   ]
  },
  {
   "cell_type": "code",
   "execution_count": 16,
   "id": "79bfa5a4",
   "metadata": {},
   "outputs": [],
   "source": [
    "#스탠다드 정규화\n",
    "from sklearn.preprocessing import StandardScaler\n",
    "\n",
    "scaler1 = StandardScaler()   \n",
    "\n",
    "scaler1 = scaler.fit_transform(x)\n"
   ]
  },
  {
   "cell_type": "code",
   "execution_count": 11,
   "id": "f874a9ce",
   "metadata": {},
   "outputs": [
    {
     "name": "stdout",
     "output_type": "stream",
     "text": [
      "[[0.23901488 0.02334898 0.81355154 ... 0.1328125  0.23098996 0.05573201]\n",
      " [0.35914245 0.02261579 0.78403181 ... 0.140625   0.3758967  0.05809457]\n",
      " [0.42221828 0.02208708 0.75298256 ... 0.1484375  0.35724534 0.06150912]\n",
      " ...\n",
      " [0.21987952 0.02827217 0.39171    ... 0.5390625  0.69583931 0.31603434]\n",
      " [0.0565202  0.02827217 0.37886204 ... 0.5390625  0.67288379 0.31603434]\n",
      " [0.13908575 0.02827217 0.36800245 ... 0.5390625  0.61262554 0.31603434]]\n"
     ]
    }
   ],
   "source": [
    "print(scaler1)"
   ]
  },
  {
   "cell_type": "code",
   "execution_count": 19,
   "id": "a61c5e33",
   "metadata": {},
   "outputs": [
    {
     "data": {
      "text/html": [
       "<table class=\"simpletable\">\n",
       "<caption>OLS Regression Results</caption>\n",
       "<tr>\n",
       "  <th>Dep. Variable:</th>       <td>np.log(HS)</td>    <th>  R-squared:         </th> <td>   0.749</td>\n",
       "</tr>\n",
       "<tr>\n",
       "  <th>Model:</th>                   <td>OLS</td>       <th>  Adj. R-squared:    </th> <td>   0.748</td>\n",
       "</tr>\n",
       "<tr>\n",
       "  <th>Method:</th>             <td>Least Squares</td>  <th>  F-statistic:       </th> <td>   431.4</td>\n",
       "</tr>\n",
       "<tr>\n",
       "  <th>Date:</th>             <td>Thu, 12 Aug 2021</td> <th>  Prob (F-statistic):</th>  <td>  0.00</td> \n",
       "</tr>\n",
       "<tr>\n",
       "  <th>Time:</th>                 <td>16:58:40</td>     <th>  Log-Likelihood:    </th> <td>  1555.9</td>\n",
       "</tr>\n",
       "<tr>\n",
       "  <th>No. Observations:</th>      <td>  1890</td>      <th>  AIC:               </th> <td>  -3084.</td>\n",
       "</tr>\n",
       "<tr>\n",
       "  <th>Df Residuals:</th>          <td>  1876</td>      <th>  BIC:               </th> <td>  -3006.</td>\n",
       "</tr>\n",
       "<tr>\n",
       "  <th>Df Model:</th>              <td>    13</td>      <th>                     </th>     <td> </td>   \n",
       "</tr>\n",
       "<tr>\n",
       "  <th>Covariance Type:</th>      <td>nonrobust</td>    <th>                     </th>     <td> </td>   \n",
       "</tr>\n",
       "</table>\n",
       "<table class=\"simpletable\">\n",
       "<tr>\n",
       "       <td></td>          <th>coef</th>     <th>std err</th>      <th>t</th>      <th>P>|t|</th>  <th>[0.025</th>    <th>0.975]</th>  \n",
       "</tr>\n",
       "<tr>\n",
       "  <th>Intercept</th>   <td>   -0.1029</td> <td>    0.072</td> <td>   -1.424</td> <td> 0.155</td> <td>   -0.245</td> <td>    0.039</td>\n",
       "</tr>\n",
       "<tr>\n",
       "  <th>mental</th>      <td>    0.0103</td> <td>    0.003</td> <td>    4.026</td> <td> 0.000</td> <td>    0.005</td> <td>    0.015</td>\n",
       "</tr>\n",
       "<tr>\n",
       "  <th>log_gdp</th>     <td>    0.0882</td> <td>    0.006</td> <td>   15.595</td> <td> 0.000</td> <td>    0.077</td> <td>    0.099</td>\n",
       "</tr>\n",
       "<tr>\n",
       "  <th>social</th>      <td>    0.4417</td> <td>    0.032</td> <td>   13.699</td> <td> 0.000</td> <td>    0.378</td> <td>    0.505</td>\n",
       "</tr>\n",
       "<tr>\n",
       "  <th>life_exp</th>    <td>    0.0068</td> <td>    0.001</td> <td>    7.389</td> <td> 0.000</td> <td>    0.005</td> <td>    0.009</td>\n",
       "</tr>\n",
       "<tr>\n",
       "  <th>freedom</th>     <td>    0.2026</td> <td>    0.022</td> <td>    9.024</td> <td> 0.000</td> <td>    0.159</td> <td>    0.247</td>\n",
       "</tr>\n",
       "<tr>\n",
       "  <th>generosity</th>  <td>    0.0947</td> <td>    0.017</td> <td>    5.440</td> <td> 0.000</td> <td>    0.061</td> <td>    0.129</td>\n",
       "</tr>\n",
       "<tr>\n",
       "  <th>corruption</th>  <td>   -0.0179</td> <td>    0.017</td> <td>   -1.032</td> <td> 0.302</td> <td>   -0.052</td> <td>    0.016</td>\n",
       "</tr>\n",
       "<tr>\n",
       "  <th>schooling</th>   <td>   -0.0040</td> <td>    0.002</td> <td>   -2.532</td> <td> 0.011</td> <td>   -0.007</td> <td>   -0.001</td>\n",
       "</tr>\n",
       "<tr>\n",
       "  <th>alcohol</th>     <td>    0.0065</td> <td>    0.001</td> <td>    8.030</td> <td> 0.000</td> <td>    0.005</td> <td>    0.008</td>\n",
       "</tr>\n",
       "<tr>\n",
       "  <th>suicide</th>     <td>   -0.0195</td> <td>    0.004</td> <td>   -4.904</td> <td> 0.000</td> <td>   -0.027</td> <td>   -0.012</td>\n",
       "</tr>\n",
       "<tr>\n",
       "  <th>obesity</th>     <td>   -0.0024</td> <td>    0.001</td> <td>   -3.140</td> <td> 0.002</td> <td>   -0.004</td> <td>   -0.001</td>\n",
       "</tr>\n",
       "<tr>\n",
       "  <th>birth</th>       <td>    0.0167</td> <td>    0.004</td> <td>    4.092</td> <td> 0.000</td> <td>    0.009</td> <td>    0.025</td>\n",
       "</tr>\n",
       "<tr>\n",
       "  <th>country_num</th> <td>-1.245e-05</td> <td> 1.01e-05</td> <td>   -1.234</td> <td> 0.217</td> <td>-3.22e-05</td> <td> 7.33e-06</td>\n",
       "</tr>\n",
       "</table>\n",
       "<table class=\"simpletable\">\n",
       "<tr>\n",
       "  <th>Omnibus:</th>       <td>113.711</td> <th>  Durbin-Watson:     </th> <td>   0.676</td>\n",
       "</tr>\n",
       "<tr>\n",
       "  <th>Prob(Omnibus):</th> <td> 0.000</td>  <th>  Jarque-Bera (JB):  </th> <td> 208.628</td>\n",
       "</tr>\n",
       "<tr>\n",
       "  <th>Skew:</th>          <td>-0.437</td>  <th>  Prob(JB):          </th> <td>4.98e-46</td>\n",
       "</tr>\n",
       "<tr>\n",
       "  <th>Kurtosis:</th>      <td> 4.373</td>  <th>  Cond. No.          </th> <td>1.51e+04</td>\n",
       "</tr>\n",
       "</table><br/><br/>Notes:<br/>[1] Standard Errors assume that the covariance matrix of the errors is correctly specified.<br/>[2] The condition number is large, 1.51e+04. This might indicate that there are<br/>strong multicollinearity or other numerical problems."
      ],
      "text/plain": [
       "<class 'statsmodels.iolib.summary.Summary'>\n",
       "\"\"\"\n",
       "                            OLS Regression Results                            \n",
       "==============================================================================\n",
       "Dep. Variable:             np.log(HS)   R-squared:                       0.749\n",
       "Model:                            OLS   Adj. R-squared:                  0.748\n",
       "Method:                 Least Squares   F-statistic:                     431.4\n",
       "Date:                Thu, 12 Aug 2021   Prob (F-statistic):               0.00\n",
       "Time:                        16:58:40   Log-Likelihood:                 1555.9\n",
       "No. Observations:                1890   AIC:                            -3084.\n",
       "Df Residuals:                    1876   BIC:                            -3006.\n",
       "Df Model:                          13                                         \n",
       "Covariance Type:            nonrobust                                         \n",
       "===============================================================================\n",
       "                  coef    std err          t      P>|t|      [0.025      0.975]\n",
       "-------------------------------------------------------------------------------\n",
       "Intercept      -0.1029      0.072     -1.424      0.155      -0.245       0.039\n",
       "mental          0.0103      0.003      4.026      0.000       0.005       0.015\n",
       "log_gdp         0.0882      0.006     15.595      0.000       0.077       0.099\n",
       "social          0.4417      0.032     13.699      0.000       0.378       0.505\n",
       "life_exp        0.0068      0.001      7.389      0.000       0.005       0.009\n",
       "freedom         0.2026      0.022      9.024      0.000       0.159       0.247\n",
       "generosity      0.0947      0.017      5.440      0.000       0.061       0.129\n",
       "corruption     -0.0179      0.017     -1.032      0.302      -0.052       0.016\n",
       "schooling      -0.0040      0.002     -2.532      0.011      -0.007      -0.001\n",
       "alcohol         0.0065      0.001      8.030      0.000       0.005       0.008\n",
       "suicide        -0.0195      0.004     -4.904      0.000      -0.027      -0.012\n",
       "obesity        -0.0024      0.001     -3.140      0.002      -0.004      -0.001\n",
       "birth           0.0167      0.004      4.092      0.000       0.009       0.025\n",
       "country_num -1.245e-05   1.01e-05     -1.234      0.217   -3.22e-05    7.33e-06\n",
       "==============================================================================\n",
       "Omnibus:                      113.711   Durbin-Watson:                   0.676\n",
       "Prob(Omnibus):                  0.000   Jarque-Bera (JB):              208.628\n",
       "Skew:                          -0.437   Prob(JB):                     4.98e-46\n",
       "Kurtosis:                       4.373   Cond. No.                     1.51e+04\n",
       "==============================================================================\n",
       "\n",
       "Notes:\n",
       "[1] Standard Errors assume that the covariance matrix of the errors is correctly specified.\n",
       "[2] The condition number is large, 1.51e+04. This might indicate that there are\n",
       "strong multicollinearity or other numerical problems.\n",
       "\"\"\""
      ]
     },
     "execution_count": 19,
     "metadata": {},
     "output_type": "execute_result"
    }
   ],
   "source": [
    "import pandas as pd\n",
    "import seaborn as sns\n",
    "import numpy as np\n",
    "from statsmodels.formula.api import ols\n",
    "\n",
    "model = ols(\"np.log(HS)~+mental + log_gdp+\\\n",
    "            social+ life_exp + freedom + \\\n",
    "                generosity + corruption + schooling+ \\\n",
    "                    alcohol+ suicide + obesity+ birth +country_num\", data=x).fit()\n",
    "model.summary()"
   ]
  },
  {
   "cell_type": "code",
   "execution_count": null,
   "id": "b154f10b",
   "metadata": {},
   "outputs": [],
   "source": []
  }
 ],
 "metadata": {
  "kernelspec": {
   "display_name": "Python 3",
   "language": "python",
   "name": "python3"
  },
  "language_info": {
   "codemirror_mode": {
    "name": "ipython",
    "version": 3
   },
   "file_extension": ".py",
   "mimetype": "text/x-python",
   "name": "python",
   "nbconvert_exporter": "python",
   "pygments_lexer": "ipython3",
   "version": "3.8.8"
  }
 },
 "nbformat": 4,
 "nbformat_minor": 5
}
