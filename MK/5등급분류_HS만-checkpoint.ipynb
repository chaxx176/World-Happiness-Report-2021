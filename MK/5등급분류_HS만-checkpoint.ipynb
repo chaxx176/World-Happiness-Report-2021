{
 "cells": [
  {
   "cell_type": "code",
   "execution_count": 2,
   "id": "5cd46ed8",
   "metadata": {},
   "outputs": [
    {
     "name": "stdout",
     "output_type": "stream",
     "text": [
      "<class 'pandas.core.frame.DataFrame'>\n",
      "RangeIndex: 1881 entries, 0 to 1880\n",
      "Data columns (total 17 columns):\n",
      " #   Column       Non-Null Count  Dtype   \n",
      "---  ------       --------------  -----   \n",
      " 0   country      1881 non-null   category\n",
      " 1   year         1881 non-null   category\n",
      " 2   HS           1881 non-null   float64 \n",
      " 3   log_gdp      1881 non-null   float64 \n",
      " 4   social       1881 non-null   float64 \n",
      " 5   life_exp     1881 non-null   float64 \n",
      " 6   freedom      1881 non-null   float64 \n",
      " 7   generosity   1881 non-null   float64 \n",
      " 8   corruption   1881 non-null   float64 \n",
      " 9   schooling    1881 non-null   float64 \n",
      " 10  alcohol      1881 non-null   float64 \n",
      " 11  suicide      1881 non-null   float64 \n",
      " 12  obesity      1881 non-null   float64 \n",
      " 13  birth        1881 non-null   float64 \n",
      " 14  mental       1881 non-null   float64 \n",
      " 15  country_num  1881 non-null   category\n",
      " 16  continent    1881 non-null   category\n",
      "dtypes: category(4), float64(13)\n",
      "memory usage: 213.6 KB\n"
     ]
    }
   ],
   "source": [
    "import pandas as pd \n",
    "import numpy as np\n",
    "import matplotlib.pyplot as plt\n",
    "df=pd.read_csv('C:/py/pjt/happy_0814.csv')\n",
    "df['country']= df['country'].astype(\"category\")\n",
    "df['year']= df['year'].astype(\"category\")\n",
    "df['country_num']= df['country_num'].astype(\"category\")\n",
    "df['continent']= df['continent'].astype(\"category\")\n",
    "df.info()"
   ]
  },
  {
   "cell_type": "code",
   "execution_count": 3,
   "id": "7a048017",
   "metadata": {},
   "outputs": [],
   "source": [
    "##군집\n",
    "##x 정규화 \n",
    "from sklearn import preprocessing\n",
    "from sklearn.preprocessing import MinMaxScaler\n",
    "x= df[['HS']]\n",
    "xnor = MinMaxScaler().fit_transform(x)"
   ]
  },
  {
   "cell_type": "code",
   "execution_count": 5,
   "id": "116d93bd",
   "metadata": {},
   "outputs": [
    {
     "name": "stdout",
     "output_type": "stream",
     "text": [
      "[3 1 1 ... 3 3 3]\n"
     ]
    },
    {
     "data": {
      "text/plain": [
       "2    463\n",
       "4    463\n",
       "1    430\n",
       "0    319\n",
       "3    206\n",
       "Name: Cluster, dtype: int64"
      ]
     },
     "execution_count": 5,
     "metadata": {},
     "output_type": "execute_result"
    }
   ],
   "source": [
    "##k-means\n",
    "from sklearn import cluster \n",
    "kmeans=cluster.KMeans(init='k-means++', n_clusters=5, n_init=10)\n",
    "kmeans.fit(x)\n",
    "cluster_label=kmeans.labels_\n",
    "print(cluster_label)\n",
    "\n",
    "df['Cluster']=cluster_label\n",
    "df['Cluster'].value_counts()"
   ]
  },
  {
   "cell_type": "code",
   "execution_count": 6,
   "id": "1713d004",
   "metadata": {},
   "outputs": [
    {
     "name": "stdout",
     "output_type": "stream",
     "text": [
      "1504\n",
      "377\n"
     ]
    }
   ],
   "source": [
    "#####분류시작 \n",
    "#나라이름 원핫인코딩\n",
    "one_c=pd.get_dummies(df['country'])\n",
    "one_c.head()\n",
    "\n",
    "#합치기 \n",
    "ndf=pd.concat([df,one_c],axis=1)\n",
    "xnor1=ndf[ndf.columns.difference(['country','year','HS','country_num','continent','Cluster'])]\n",
    "\n",
    "##정규화 \n",
    "from sklearn import preprocessing\n",
    "from sklearn.preprocessing import MinMaxScaler\n",
    "xnor2 = MinMaxScaler().fit_transform(xnor1)\n",
    "y=ndf['Cluster']\n",
    "\n",
    "#학습데이터 테스트데이터 분리 \n",
    "from sklearn.model_selection import train_test_split\n",
    "x_train,x_test,y_train,y_test=train_test_split\\\n",
    "    (xnor2,y,test_size=0.2, random_state=4)\n",
    "print(len(x_train))\n",
    "print(len(x_test))"
   ]
  },
  {
   "cell_type": "code",
   "execution_count": 7,
   "id": "d1187cce",
   "metadata": {},
   "outputs": [
    {
     "name": "stdout",
     "output_type": "stream",
     "text": [
      "정확도: 0.6843501326259946\n"
     ]
    }
   ],
   "source": [
    "##KNN\n",
    "from sklearn.neighbors import KNeighborsClassifier  \n",
    "knn=KNeighborsClassifier(n_neighbors=5)\n",
    "knn.fit(x_train,y_train) \n",
    "y_pred=knn.predict(x_test)\n",
    "\n",
    "#성능평가\n",
    "from sklearn import metrics\n",
    "knn_matrix=metrics.confusion_matrix(y_test,y_pred)\n",
    "knn_matrix\n",
    "\n",
    "#평가지표\n",
    "knn_report=metrics.classification_report(y_test,y_pred)\n",
    "\n",
    "#정확도\n",
    "from sklearn.metrics import accuracy_score\n",
    "print('정확도:',accuracy_score(y_test,y_pred))"
   ]
  },
  {
   "cell_type": "code",
   "execution_count": 8,
   "id": "6a5095c8",
   "metadata": {},
   "outputs": [
    {
     "name": "stdout",
     "output_type": "stream",
     "text": [
      "정확도: 0.6790450928381963\n"
     ]
    }
   ],
   "source": [
    "###SVM\n",
    "from sklearn import svm\n",
    "svm_model=svm.SVC(kernel='rbf')\n",
    "svm_model.fit(x_train,y_train)\n",
    "y_pred=svm_model.predict(x_test)\n",
    "\n",
    "#성능평가\n",
    "from sklearn import metrics\n",
    "svm_matrix=metrics.confusion_matrix(y_test,y_pred)\n",
    "svm_matrix\n",
    "\n",
    "#평가지표\n",
    "svm_report=metrics.classification_report(y_test,y_pred)\n",
    "\n",
    "#정확도\n",
    "from sklearn.metrics import accuracy_score\n",
    "print('정확도:',accuracy_score(y_test,y_pred))"
   ]
  },
  {
   "cell_type": "code",
   "execution_count": 9,
   "id": "bf0fb300",
   "metadata": {},
   "outputs": [
    {
     "name": "stdout",
     "output_type": "stream",
     "text": [
      "정확도: 0.6021220159151194\n"
     ]
    }
   ],
   "source": [
    "###의사결정 나무 \n",
    "from sklearn import tree\n",
    "tree_model=tree.DecisionTreeClassifier(criterion='entropy',\\\n",
    "                                       max_depth=5)\n",
    "tree_model.fit(x_train,y_train)\n",
    "y_pred=tree_model.predict(x_test)\n",
    "\n",
    "#성능평가\n",
    "from sklearn import metrics\n",
    "tree_matrix=metrics.confusion_matrix(y_test,y_pred)\n",
    "tree_matrix\n",
    "\n",
    "#평가지표\n",
    "tree_report=metrics.classification_report(y_test,y_pred)\n",
    "\n",
    "#정확도\n",
    "from sklearn.metrics import accuracy_score\n",
    "print('정확도:',accuracy_score(y_test,y_pred))"
   ]
  },
  {
   "cell_type": "code",
   "execution_count": 10,
   "id": "3a6603e8",
   "metadata": {},
   "outputs": [
    {
     "name": "stdout",
     "output_type": "stream",
     "text": [
      "정확도: 0.7055702917771883\n"
     ]
    }
   ],
   "source": [
    "###GradientBoostingClassifier  \n",
    "from sklearn.ensemble import GradientBoostingClassifier\n",
    "clf=GradientBoostingClassifier()\n",
    "clf.fit(x_train,y_train)\n",
    "y_pred=clf.predict(x_test)\n",
    "\n",
    "#성능평가\n",
    "from sklearn import metrics\n",
    "clf_matrix=metrics.confusion_matrix(y_test,y_pred)\n",
    "clf_matrix\n",
    "\n",
    "#평가지표\n",
    "clf_report=metrics.classification_report(y_test,y_pred)\n",
    "\n",
    "#정확도, 정밀도, 재현율, F1 score\n",
    "from sklearn.metrics import accuracy_score\n",
    "print('정확도:',accuracy_score(y_test,y_pred))  "
   ]
  },
  {
   "cell_type": "code",
   "execution_count": 11,
   "id": "ca1504e0",
   "metadata": {},
   "outputs": [
    {
     "name": "stdout",
     "output_type": "stream",
     "text": [
      "정확도: 0.6896551724137931\n"
     ]
    },
    {
     "name": "stderr",
     "output_type": "stream",
     "text": [
      "C:\\Users\\K\\anaconda3\\lib\\site-packages\\sklearn\\linear_model\\_logistic.py:763: ConvergenceWarning: lbfgs failed to converge (status=1):\n",
      "STOP: TOTAL NO. of ITERATIONS REACHED LIMIT.\n",
      "\n",
      "Increase the number of iterations (max_iter) or scale the data as shown in:\n",
      "    https://scikit-learn.org/stable/modules/preprocessing.html\n",
      "Please also refer to the documentation for alternative solver options:\n",
      "    https://scikit-learn.org/stable/modules/linear_model.html#logistic-regression\n",
      "  n_iter_i = _check_optimize_result(\n"
     ]
    }
   ],
   "source": [
    "###Logistic \n",
    "from sklearn.linear_model import LogisticRegression\n",
    "lr=LogisticRegression(random_state=4)\n",
    "lr.fit(x_train,y_train)\n",
    "y_pred=lr.predict(x_test)\n",
    "\n",
    "#성능평가\n",
    "from sklearn import metrics\n",
    "lr_matrix=metrics.confusion_matrix(y_test,y_pred)\n",
    "lr_matrix\n",
    "\n",
    "#평가지표\n",
    "lr_report=metrics.classification_report(y_test,y_pred)\n",
    "\n",
    "#정확도, 정밀도, 재현율, F1 score\n",
    "from sklearn.metrics import accuracy_score\n",
    "print('정확도:',accuracy_score(y_test,y_pred))"
   ]
  },
  {
   "cell_type": "code",
   "execution_count": null,
   "id": "b2419cb4",
   "metadata": {},
   "outputs": [],
   "source": []
  }
 ],
 "metadata": {
  "kernelspec": {
   "display_name": "Python 3",
   "language": "python",
   "name": "python3"
  },
  "language_info": {
   "codemirror_mode": {
    "name": "ipython",
    "version": 3
   },
   "file_extension": ".py",
   "mimetype": "text/x-python",
   "name": "python",
   "nbconvert_exporter": "python",
   "pygments_lexer": "ipython3",
   "version": "3.8.8"
  }
 },
 "nbformat": 4,
 "nbformat_minor": 5
}
