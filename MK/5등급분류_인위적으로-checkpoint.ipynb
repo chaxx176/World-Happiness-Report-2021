{
 "cells": [
  {
   "cell_type": "code",
   "execution_count": 1,
   "id": "a82ea273",
   "metadata": {},
   "outputs": [
    {
     "name": "stdout",
     "output_type": "stream",
     "text": [
      "<class 'pandas.core.frame.DataFrame'>\n",
      "RangeIndex: 1881 entries, 0 to 1880\n",
      "Data columns (total 17 columns):\n",
      " #   Column       Non-Null Count  Dtype  \n",
      "---  ------       --------------  -----  \n",
      " 0   country      1881 non-null   object \n",
      " 1   year         1881 non-null   int64  \n",
      " 2   HS           1881 non-null   float64\n",
      " 3   log_gdp      1881 non-null   float64\n",
      " 4   social       1881 non-null   float64\n",
      " 5   life_exp     1881 non-null   float64\n",
      " 6   freedom      1881 non-null   float64\n",
      " 7   generosity   1881 non-null   float64\n",
      " 8   corruption   1881 non-null   float64\n",
      " 9   schooling    1881 non-null   float64\n",
      " 10  alcohol      1881 non-null   float64\n",
      " 11  suicide      1881 non-null   float64\n",
      " 12  obesity      1881 non-null   float64\n",
      " 13  birth        1881 non-null   float64\n",
      " 14  mental       1881 non-null   float64\n",
      " 15  country_num  1881 non-null   int64  \n",
      " 16  continent    1881 non-null   object \n",
      "dtypes: float64(13), int64(2), object(2)\n",
      "memory usage: 249.9+ KB\n",
      "<class 'pandas.core.frame.DataFrame'>\n",
      "RangeIndex: 1881 entries, 0 to 1880\n",
      "Data columns (total 18 columns):\n",
      " #   Column       Non-Null Count  Dtype  \n",
      "---  ------       --------------  -----  \n",
      " 0   country      1881 non-null   object \n",
      " 1   year         1881 non-null   int64  \n",
      " 2   HS           1881 non-null   float64\n",
      " 3   log_gdp      1881 non-null   float64\n",
      " 4   social       1881 non-null   float64\n",
      " 5   life_exp     1881 non-null   float64\n",
      " 6   freedom      1881 non-null   float64\n",
      " 7   generosity   1881 non-null   float64\n",
      " 8   corruption   1881 non-null   float64\n",
      " 9   schooling    1881 non-null   float64\n",
      " 10  alcohol      1881 non-null   float64\n",
      " 11  suicide      1881 non-null   float64\n",
      " 12  obesity      1881 non-null   float64\n",
      " 13  birth        1881 non-null   float64\n",
      " 14  mental       1881 non-null   float64\n",
      " 15  country_num  1881 non-null   int64  \n",
      " 16  continent    1881 non-null   object \n",
      " 17  Grade        1881 non-null   int64  \n",
      "dtypes: float64(13), int64(3), object(2)\n",
      "memory usage: 264.6+ KB\n"
     ]
    }
   ],
   "source": [
    "import pandas as pd\n",
    "import numpy as np\n",
    "\n",
    "df=pd.read_csv('C:/py/pjt/happy_0814.csv')\n",
    "df.columns\n",
    "df.info()\n",
    "\n",
    "#등급컬럼 추가하기 #1-5단계\n",
    "def grademaker(x):\n",
    "    if x<4:\n",
    "        return 1\n",
    "    elif x>=4 and x<5:\n",
    "        return 2\n",
    "    elif x>=5 and x<6:\n",
    "        return 3\n",
    "    elif x>=6 and x<7:\n",
    "        return 4\n",
    "    else:\n",
    "        return 5\n",
    "\n",
    "df['Grade']=df['HS'].astype(int)\n",
    "df['Grade']=df['Grade'].apply(lambda x:grademaker(x))\n",
    "df['Grade'].unique()\n",
    "\n",
    "#나라이름 원핫인코딩\n",
    "one_c=pd.get_dummies(df['country'])\n",
    "one_c.head()\n",
    "\n",
    "df.info()\n",
    "#합치기 \n",
    "ndf=pd.concat([df,one_c],axis=1)\n",
    "#속성, 독립변수 나누기 \n",
    "x=ndf[ndf.columns.difference(['country','year','HS','country_num','continent','Grade'])]\n",
    "y=ndf['Grade']"
   ]
  },
  {
   "cell_type": "code",
   "execution_count": 2,
   "id": "35d5921c",
   "metadata": {},
   "outputs": [
    {
     "name": "stdout",
     "output_type": "stream",
     "text": [
      "1504\n",
      "377\n",
      "정확도: 0.7188328912466844\n"
     ]
    }
   ],
   "source": [
    "#정규화\n",
    "from sklearn.model_selection import train_test_split\n",
    "from sklearn import preprocessing\n",
    "from sklearn.preprocessing import MinMaxScaler\n",
    "xnor = MinMaxScaler().fit_transform(x)\n",
    "x_train,x_test,y_train,y_test=train_test_split\\\n",
    "    (xnor,y,test_size=0.2, random_state=4)\n",
    "print(len(x_train))\n",
    "print(len(x_test))\n",
    "\n",
    "##KNN\n",
    "from sklearn.neighbors import KNeighborsClassifier  \n",
    "knn=KNeighborsClassifier(n_neighbors=5)\n",
    "knn.fit(x_train,y_train) \n",
    "y_pred=knn.predict(x_test)\n",
    "\n",
    "#성능평가\n",
    "from sklearn import metrics\n",
    "knn_matrix=metrics.confusion_matrix(y_test,y_pred)\n",
    "knn_matrix\n",
    "\n",
    "#평가지표\n",
    "knn_report=metrics.classification_report(y_test,y_pred)\n",
    "\n",
    "#정확도, 정밀도, 재현율, F1 score\n",
    "from sklearn.metrics import accuracy_score\n",
    "print('정확도:',accuracy_score(y_test,y_pred))"
   ]
  },
  {
   "cell_type": "code",
   "execution_count": 3,
   "id": "136183d9",
   "metadata": {},
   "outputs": [
    {
     "name": "stdout",
     "output_type": "stream",
     "text": [
      "정확도: 0.7241379310344828\n"
     ]
    }
   ],
   "source": [
    "###SVM\n",
    "from sklearn import svm\n",
    "svm_model=svm.SVC(kernel='rbf')\n",
    "svm_model.fit(x_train,y_train)\n",
    "y_pred=svm_model.predict(x_test)\n",
    "\n",
    "#성능평가\n",
    "from sklearn import metrics\n",
    "svm_matrix=metrics.confusion_matrix(y_test,y_pred)\n",
    "svm_matrix\n",
    "\n",
    "#평가지표\n",
    "svm_report=metrics.classification_report(y_test,y_pred)\n",
    "\n",
    "#정확도, 정밀도, 재현율, F1 score\n",
    "from sklearn.metrics import accuracy_score\n",
    "print('정확도:',accuracy_score(y_test,y_pred))"
   ]
  },
  {
   "cell_type": "code",
   "execution_count": 4,
   "id": "51254fe3",
   "metadata": {},
   "outputs": [
    {
     "name": "stdout",
     "output_type": "stream",
     "text": [
      "정확도: 0.636604774535809\n"
     ]
    }
   ],
   "source": [
    "###의사결정 나무 \n",
    "from sklearn import tree\n",
    "tree_model=tree.DecisionTreeClassifier(criterion='entropy',\\\n",
    "                                       max_depth=5)\n",
    "tree_model.fit(x_train,y_train)\n",
    "y_pred=tree_model.predict(x_test)\n",
    "\n",
    "#성능평가\n",
    "from sklearn import metrics\n",
    "tree_matrix=metrics.confusion_matrix(y_test,y_pred)\n",
    "tree_matrix\n",
    "\n",
    "#평가지표\n",
    "tree_report=metrics.classification_report(y_test,y_pred)\n",
    "\n",
    "#정확도, 정밀도, 재현율, F1 score\n",
    "from sklearn.metrics import accuracy_score\n",
    "print('정확도:',accuracy_score(y_test,y_pred))"
   ]
  },
  {
   "cell_type": "code",
   "execution_count": 5,
   "id": "655db4f7",
   "metadata": {},
   "outputs": [
    {
     "name": "stdout",
     "output_type": "stream",
     "text": [
      "정확도: 0.753315649867374\n"
     ]
    }
   ],
   "source": [
    "###GradientBoostingClassifier  \n",
    "from sklearn.ensemble import GradientBoostingClassifier\n",
    "clf=GradientBoostingClassifier()\n",
    "clf.fit(x_train,y_train)\n",
    "y_pred=clf.predict(x_test)\n",
    "\n",
    "#성능평가\n",
    "from sklearn import metrics\n",
    "clf_matrix=metrics.confusion_matrix(y_test,y_pred)\n",
    "clf_matrix\n",
    "\n",
    "#평가지표\n",
    "clf_report=metrics.classification_report(y_test,y_pred)\n",
    "\n",
    "#정확도, 정밀도, 재현율, F1 score\n",
    "from sklearn.metrics import accuracy_score\n",
    "print('정확도:',accuracy_score(y_test,y_pred)) ###0.74, 가장높음 "
   ]
  },
  {
   "cell_type": "code",
   "execution_count": null,
   "id": "c3f5dbf9",
   "metadata": {},
   "outputs": [],
   "source": []
  }
 ],
 "metadata": {
  "kernelspec": {
   "display_name": "Python 3",
   "language": "python",
   "name": "python3"
  },
  "language_info": {
   "codemirror_mode": {
    "name": "ipython",
    "version": 3
   },
   "file_extension": ".py",
   "mimetype": "text/x-python",
   "name": "python",
   "nbconvert_exporter": "python",
   "pygments_lexer": "ipython3",
   "version": "3.8.8"
  }
 },
 "nbformat": 4,
 "nbformat_minor": 5
}
