{
 "cells": [
  {
   "cell_type": "code",
   "execution_count": 4,
   "id": "a6a6c9ce",
   "metadata": {},
   "outputs": [
    {
     "name": "stdout",
     "output_type": "stream",
     "text": [
      "[0 0 0 ... 1 2 4]\n"
     ]
    },
    {
     "data": {
      "text/plain": [
       "array([ 0,  1, -1,  2,  3,  4,  5,  6,  7], dtype=int64)"
      ]
     },
     "execution_count": 4,
     "metadata": {},
     "output_type": "execute_result"
    }
   ],
   "source": [
    "from sklearn import cluster \n",
    "import folium\n",
    "import pandas as pd \n",
    "from sklearn import preprocessing\n",
    "from sklearn.preprocessing import MinMaxScaler\n",
    "\n",
    "df=pd.read_csv('C:/py/pjt/happy_0817.csv')\n",
    "df.columns\n",
    "x=df[['HS']]\n",
    "xnor = MinMaxScaler().fit_transform(x)\n",
    "\n",
    "dbm=cluster.DBSCAN(eps=0.02,min_samples=3)\n",
    "\n",
    "#모형학습\n",
    "dbm.fit(x)\n",
    "\n",
    "#예측 (군집)\n",
    "cluster_label=dbm.labels_\n",
    "print(cluster_label)\n",
    "\n",
    "#데이터프레임에 추가 \n",
    "df['cluster']=cluster_label\n",
    "df.cluster.unique()"
   ]
  },
  {
   "cell_type": "code",
   "execution_count": null,
   "id": "17ff0a79",
   "metadata": {},
   "outputs": [],
   "source": [
    "colors={-1:'gray',0:'coral',1:'red',2:'green',3:'purple',4:'orange',\n",
    "        5:'brown',6:'black',7:'yellow',8:'magenta',9:'blue',10:'cyan',\n",
    "        11:'ivory',12:'azure',13:'hotpink',14:'indigo',15:'salmon',16:'teal'}\n",
    "\n",
    "cluster_map=folium.Map(location=[1,1], zoom_start=3)    \n",
    "for name, lat,lng,clus in zip(df.country,df.lat,df.lng,df.cluster):\n",
    "    folium.CircleMarker([lat,lng],\n",
    "                        radius=10,\n",
    "                        color='brown',\n",
    "                        fill=True,\n",
    "                        fill_color=colors[clus],\n",
    "                        fill_opacity=0.7,\n",
    "                        popup=name,\n",
    "                        tooltip=name).add_to(cluster_map)\n",
    "cluster_map.save('./world_mapp_cluster.html')  "
   ]
  },
  {
   "cell_type": "code",
   "execution_count": null,
   "id": "8f4d263f",
   "metadata": {},
   "outputs": [],
   "source": []
  }
 ],
 "metadata": {
  "kernelspec": {
   "display_name": "Python 3",
   "language": "python",
   "name": "python3"
  },
  "language_info": {
   "codemirror_mode": {
    "name": "ipython",
    "version": 3
   },
   "file_extension": ".py",
   "mimetype": "text/x-python",
   "name": "python",
   "nbconvert_exporter": "python",
   "pygments_lexer": "ipython3",
   "version": "3.8.8"
  }
 },
 "nbformat": 4,
 "nbformat_minor": 5
}
