{
 "cells": [
  {
   "cell_type": "markdown",
   "id": "23e0230b",
   "metadata": {},
   "source": [
    "# 크롤링 (crawling)"
   ]
  },
  {
   "cell_type": "markdown",
   "id": "a335032a",
   "metadata": {},
   "source": [
    "## 크롤링으로 데이터 가져오기\n",
    "### 1. 실행 전 확인사항\n",
    "1. 파이썬 버전확인: 윈도우 시작버튼 > anaconda3 > anaconda prompt > cmd창 모드 python --version 3.8.8 출력\n",
    "2. jpype 사이트 (https://www.lfd.uci.edu/~gohlke/pythonlibs/#jpype) 에서 Jpype1-1.1.2-cp38-cp38-win_amd64.whl 설치\n",
    "3. c:\\User\\Cha-laptop 폴더에 저장\n",
    "4. anaconda cmd 창에 pip install Jpype1-1.1.2-cp38-cp38-win_amd64.whl 입력\n",
    "5. 형태소분석: konlpy 모듈 설치: pip install konlpy"
   ]
  },
  {
   "cell_type": "markdown",
   "id": "f363c4f5",
   "metadata": {},
   "source": [
    "###  2. 나무위키 사이트로 접속하여 한글 데이터 가져오기"
   ]
  },
  {
   "cell_type": "code",
   "execution_count": 2,
   "id": "a125af87",
   "metadata": {},
   "outputs": [],
   "source": [
    "from selenium import webdriver\n",
    "import re\n",
    "# chromedriver.exe 파일의 위치 설정\n",
    "path= \"C:/Users/CHA-LAPTOP/Downloads/chromedriver\"\n",
    "# 크롤링할 사이트 주소 설정\n",
    "source_url= \"https://namu.wiki/RecentChanges\"\n",
    "driver= webdriver.Chrome(path)\n",
    "driver.get(source_url)"
   ]
  },
  {
   "cell_type": "code",
   "execution_count": 3,
   "id": "f62c03f8",
   "metadata": {
    "scrolled": true
   },
   "outputs": [
    {
     "name": "stdout",
     "output_type": "stream",
     "text": [
      "477\n"
     ]
    }
   ],
   "source": [
    "a_data=driver.find_elements_by_css_selector(\"table tr td a\")\n",
    "print(len(a_data))"
   ]
  },
  {
   "cell_type": "markdown",
   "id": "1c83e1b6",
   "metadata": {},
   "source": [
    "#### a_data: a 태그들의 모임\n",
    "#### a:<a href= ....>문자열</a>\n",
    "#### a 태그: 문자열을 클릭하면 href속성의 값으로 현재 브라우저 페이지가 변경됨\n",
    "#### href 속성의 값으로 연결하여 브러우저페이지에 표시됨"
   ]
  },
  {
   "cell_type": "code",
   "execution_count": 4,
   "id": "ff8b3b1b",
   "metadata": {},
   "outputs": [
    {
     "name": "stdout",
     "output_type": "stream",
     "text": [
      "https://namu.wiki/history/%ED%8B%80:%EC%8A%A4%ED%86%A0%EB%A6%AC/%ED%86%A0%EB%A6%AC/%ED%8C%A9%ED%86%A0%EB%A6%AC\n",
      "https://namu.wiki/discuss/%EC%99%95%ED%8F%89(%EC%82%BC%EA%B5%AD%EC%A0%84%ED%88%AC%EA%B8%B0)\n",
      "https://namu.wiki/w/%EC%99%95%ED%8F%89(%EC%82%BC%EA%B5%AD%EC%A0%84%ED%88%AC%EA%B8%B0)\n",
      "https://namu.wiki/history/%EC%99%95%ED%8F%89(%EC%82%BC%EA%B5%AD%EC%A0%84%ED%88%AC%EA%B8%B0)\n",
      "https://namu.wiki/w/%ED%8B%80:%EC%8A%A4%ED%86%A0%EB%A6%AC/%ED%86%A0%EB%A6%AC/%ED%8C%A9%ED%86%A0%EB%A6%AC\n",
      "*****************\n",
      "['https://namu.wiki/history/%ED%8B%80:%EC%8A%A4%ED%86%A0%EB%A6%AC/%ED%86%A0%EB%A6%AC/%ED%8C%A9%ED%86%A0%EB%A6%AC', 'https://namu.wiki/discuss/%EC%99%95%ED%8F%89(%EC%82%BC%EA%B5%AD%EC%A0%84%ED%88%AC%EA%B8%B0)', 'https://namu.wiki/w/%EC%99%95%ED%8F%89(%EC%82%BC%EA%B5%AD%EC%A0%84%ED%88%AC%EA%B8%B0)', 'https://namu.wiki/history/%EC%99%95%ED%8F%89(%EC%82%BC%EA%B5%AD%EC%A0%84%ED%88%AC%EA%B8%B0)', 'https://namu.wiki/w/%ED%8B%80:%EC%8A%A4%ED%86%A0%EB%A6%AC/%ED%86%A0%EB%A6%AC/%ED%8C%A9%ED%86%A0%EB%A6%AC', 'https://namu.wiki/history/%EC%8B%A0%EC%9E%A5%20%EC%9E%AC%EA%B5%90%EC%9C%A1%20%EC%BA%A0%ED%94%84', 'https://namu.wiki/diff/%EC%8B%A0%EC%9E%A5%20%EC%9E%AC%EA%B5%90%EC%9C%A1%20%EC%BA%A0%ED%94%84?rev=315&oldrev=314', 'https://namu.wiki/discuss/%ED%8B%80:%EC%8A%A4%ED%86%A0%EB%A6%AC/%ED%86%A0%EB%A6%AC/%ED%8C%A9%ED%86%A0%EB%A6%AC', 'https://namu.wiki/w/%EC%8B%A0%EC%9E%A5%20%EC%9E%AC%EA%B5%90%EC%9C%A1%20%EC%BA%A0%ED%94%84', 'https://namu.wiki/diff/%EC%99%95%ED%8F%89(%EC%82%BC%EA%B5%AD%EC%A0%84%ED%88%AC%EA%B8%B0)?rev=36&oldrev=35', 'https://namu.wiki/diff/%ED%8B%80:%EC%8A%A4%ED%86%A0%EB%A6%AC/%ED%86%A0%EB%A6%AC/%ED%8C%A9%ED%86%A0%EB%A6%AC?rev=15&oldrev=14']\n"
     ]
    }
   ],
   "source": [
    "page_urls= []\n",
    "cnt= 0\n",
    "# a_data: a 태그들의 모임\n",
    "# a: <a href= ....>문자열</a>\n",
    "# a 태그: 문자열을 클릭하면 href속성의 값으로 현재 브라우저 페이지가 변경됨\n",
    "# href 속성의 값으로 연결하여 브러우저페이지에 표시됨\n",
    "\n",
    "for a in a_data:\n",
    "    # a 태그의 속성 중 href속성이 없는경우\n",
    "    if a.get_attribute('href')== None:\n",
    "        continue # 반복문의 처음으로 제어 이동\n",
    "    page_url= a.get_attribute('href')\n",
    "    if 'png' not in page_url:\n",
    "        page_urls.append(page_url)\n",
    "        cnt += 1\n",
    "    if cnt>10:\n",
    "        break\n",
    "# 중복 url을 제거\n",
    "# set(page_urls): 중복된 url 정보가 한개만 남음\n",
    "# page_urls: 크롤링 대한이 되는 url 정보 저장\n",
    "page_urls = list(set(page_urls))\n",
    "for page in page_urls[:5]:\n",
    "    print(page)\n",
    "print(\"*****************\")\n",
    "print(page_urls)\n",
    "# 크롤링에 사용한 브라우저를 종료\n",
    "driver.close()"
   ]
  },
  {
   "cell_type": "code",
   "execution_count": 5,
   "id": "3a0e970c",
   "metadata": {},
   "outputs": [],
   "source": [
    "import pandas as pd\n",
    "from bs4 import BeautifulSoup\n",
    "columns = [\"title\", \"category\", \"content_text\"]\n",
    "df = pd.DataFrame(columns=columns)"
   ]
  },
  {
   "cell_type": "code",
   "execution_count": 6,
   "id": "412bd1e7",
   "metadata": {},
   "outputs": [],
   "source": [
    "# 각 페이지별 '제목', '카테고리', '본문' 정보를 데이터 프레임으로\n",
    "for page_url in page_urls:\n",
    "    # 사이트의 html 구조에 기반하여 크롤링을 수행\n",
    "    driver = webdriver.Chrome(path)  # 크롬브라우저 로드\n",
    "    driver.get(page_url)\n",
    "    req = driver.page_source\n",
    "    soup = BeautifulSoup(req, \"html.parser\")\n",
    "    # contents_table: article 이름의 태그 선택하여 저장\n",
    "    contents_table = soup.find(name=\"article\")\n",
    "    # contents_table 태그의 하위 태그들 중 h1태그의 첫번째\n",
    "    title = contents_table.find_all(\"h1\")[0]\n",
    "    # contents_table 태그의 하위 태그들 중 ul태그의 갯수 0보다 큰 경우\n",
    "    # 카테고리 정보가 없는 경우를 확인.\n",
    "    if len(contents_table.find_all(\"ul\")) > 0:\n",
    "        # category: contents_table 태그 하위 태그 중 첫번쨰 ul 태그\n",
    "        category = contents_table.find_all(\"ul\")[0]\n",
    "    else:\n",
    "        category = None\n",
    "        \n",
    "    content_paragraphs = contents_table.find_all(name=\"div\", attrs={\"class\":\"wiki-paragraph\"})\n",
    "    content_corpus_list = []\n",
    "    \n",
    "    # 페이지 내 제목 정보에서 개행 문자를 제거한 뒤 추출. 없는 경우, 빈 문자열로 대체\n",
    "    if title is not None:\n",
    "        # row_title: 제목\n",
    "        row_title = title.text.replace(\"\\n\", \" \")\n",
    "    else:\n",
    "        row_title = \"\"\n",
    "\n",
    "   # 페이지 내 본문 정보에서 개행 문자를 제거한 뒤 추출. 없는 경우, 빈 문자열로 대체.\n",
    "    if content_paragraphs is not None:\n",
    "        for paragraphs in content_paragraphs:\n",
    "            if paragraphs is not None:\n",
    "                content_corpus_list.append(paragraphs.text.replace(\"\\n\", \" \"))\n",
    "            else:\n",
    "                content_corpus_list.append(\"\")\n",
    "    else:\n",
    "        content_corpus_list.append(\"\")\n",
    "    # category: 첫번째 ul 태그    \n",
    "    # 페이지 내 카테고리정보에서 “분류”라는 단어와 개행 문자를 제거한 뒤 추출. 없는 경우, 빈 문자열로 대체\n",
    "    if category is not None:\n",
    "        # row_category: ul 태그의 텍스트\n",
    "        row_category = category.text.replace(\"\\n\", \" \")\n",
    "    else:\n",
    "        row_category = \"\"\n",
    "    \n",
    "    # 모든 정보를 하나의 데이터 프레임에 저장\n",
    "    row = [row_title, row_category, \"\".join(content_corpus_list)]\n",
    "    series = pd.Series(row, index=df.columns)\n",
    "    df = df.append(series, ignore_index=True)\n",
    "    \n",
    "    # 크롤링에 사용한 브라우저를 종료\n",
    "    driver.close()"
   ]
  },
  {
   "cell_type": "code",
   "execution_count": 7,
   "id": "b5eaee63",
   "metadata": {},
   "outputs": [
    {
     "data": {
      "text/html": [
       "<div>\n",
       "<style scoped>\n",
       "    .dataframe tbody tr th:only-of-type {\n",
       "        vertical-align: middle;\n",
       "    }\n",
       "\n",
       "    .dataframe tbody tr th {\n",
       "        vertical-align: top;\n",
       "    }\n",
       "\n",
       "    .dataframe thead th {\n",
       "        text-align: right;\n",
       "    }\n",
       "</style>\n",
       "<table border=\"1\" class=\"dataframe\">\n",
       "  <thead>\n",
       "    <tr style=\"text-align: right;\">\n",
       "      <th></th>\n",
       "      <th>title</th>\n",
       "      <th>category</th>\n",
       "      <th>content_text</th>\n",
       "    </tr>\n",
       "  </thead>\n",
       "  <tbody>\n",
       "    <tr>\n",
       "      <th>0</th>\n",
       "      <td>틀:스토리/토리/팩토리 (문서 역사)</td>\n",
       "      <td>2021-07-13 14:46:10 (보기 | RAW | Blame | 이 리비전으...</td>\n",
       "      <td></td>\n",
       "    </tr>\n",
       "    <tr>\n",
       "      <th>1</th>\n",
       "      <td>왕평(삼국전투기) (토론)</td>\n",
       "      <td></td>\n",
       "      <td></td>\n",
       "    </tr>\n",
       "    <tr>\n",
       "      <th>2</th>\n",
       "      <td>왕평(삼국전투기)</td>\n",
       "      <td>삼국전투기/등장인물</td>\n",
       "      <td>1. 개요2. 작중 행적2.1. 한중 공방전2.2. 남만 전투2.3. 가정 전투2....</td>\n",
       "    </tr>\n",
       "    <tr>\n",
       "      <th>3</th>\n",
       "      <td>왕평(삼국전투기) (문서 역사)</td>\n",
       "      <td>2021-07-13 14:46:10 (보기 | RAW | Blame | 이 리비전으...</td>\n",
       "      <td></td>\n",
       "    </tr>\n",
       "    <tr>\n",
       "      <th>4</th>\n",
       "      <td>틀:스토리/토리/팩토리</td>\n",
       "      <td>스토리(유튜버)</td>\n",
       "      <td>스토리의 틀스토리의 틀 [ 펼치기 · 접기 ]스토리팩토리토리유튜브중립유튜브특수문자 ...</td>\n",
       "    </tr>\n",
       "  </tbody>\n",
       "</table>\n",
       "</div>"
      ],
      "text/plain": [
       "                  title                                           category  \\\n",
       "0  틀:스토리/토리/팩토리 (문서 역사)  2021-07-13 14:46:10 (보기 | RAW | Blame | 이 리비전으...   \n",
       "1        왕평(삼국전투기) (토론)                                                      \n",
       "2            왕평(삼국전투기)                                          삼국전투기/등장인물   \n",
       "3     왕평(삼국전투기) (문서 역사)  2021-07-13 14:46:10 (보기 | RAW | Blame | 이 리비전으...   \n",
       "4         틀:스토리/토리/팩토리                                            스토리(유튜버)   \n",
       "\n",
       "                                        content_text  \n",
       "0                                                     \n",
       "1                                                     \n",
       "2  1. 개요2. 작중 행적2.1. 한중 공방전2.2. 남만 전투2.3. 가정 전투2....  \n",
       "3                                                     \n",
       "4  스토리의 틀스토리의 틀 [ 펼치기 · 접기 ]스토리팩토리토리유튜브중립유튜브특수문자 ...  "
      ]
     },
     "execution_count": 7,
     "metadata": {},
     "output_type": "execute_result"
    }
   ],
   "source": [
    "df.head(5)\n"
   ]
  },
  {
   "cell_type": "code",
   "execution_count": 8,
   "id": "795f97c6",
   "metadata": {},
   "outputs": [
    {
     "name": "stdout",
     "output_type": "stream",
     "text": [
      "<class 'pandas.core.frame.DataFrame'>\n",
      "RangeIndex: 11 entries, 0 to 10\n",
      "Data columns (total 3 columns):\n",
      " #   Column        Non-Null Count  Dtype \n",
      "---  ------        --------------  ----- \n",
      " 0   title         11 non-null     object\n",
      " 1   category      11 non-null     object\n",
      " 2   content_text  11 non-null     object\n",
      "dtypes: object(3)\n",
      "memory usage: 392.0+ bytes\n"
     ]
    }
   ],
   "source": [
    "df.info()"
   ]
  },
  {
   "cell_type": "code",
   "execution_count": 9,
   "id": "d4f467bc",
   "metadata": {},
   "outputs": [
    {
     "data": {
      "text/html": [
       "<div>\n",
       "<style scoped>\n",
       "    .dataframe tbody tr th:only-of-type {\n",
       "        vertical-align: middle;\n",
       "    }\n",
       "\n",
       "    .dataframe tbody tr th {\n",
       "        vertical-align: top;\n",
       "    }\n",
       "\n",
       "    .dataframe thead th {\n",
       "        text-align: right;\n",
       "    }\n",
       "</style>\n",
       "<table border=\"1\" class=\"dataframe\">\n",
       "  <thead>\n",
       "    <tr style=\"text-align: right;\">\n",
       "      <th></th>\n",
       "      <th>title</th>\n",
       "      <th>category</th>\n",
       "      <th>content_text</th>\n",
       "    </tr>\n",
       "  </thead>\n",
       "  <tbody>\n",
       "    <tr>\n",
       "      <th>0</th>\n",
       "      <td>틀스토리토리팩토리 문서 역사</td>\n",
       "      <td>보기      이 리비전으로 되돌리기  비교                    ...</td>\n",
       "      <td></td>\n",
       "    </tr>\n",
       "    <tr>\n",
       "      <th>1</th>\n",
       "      <td>왕평삼국전투기 토론</td>\n",
       "      <td></td>\n",
       "      <td></td>\n",
       "    </tr>\n",
       "    <tr>\n",
       "      <th>2</th>\n",
       "      <td>왕평삼국전투기</td>\n",
       "      <td>삼국전투기등장인물</td>\n",
       "      <td>개요 작중 행적 한중 공방전 남만 전투 가정 전투 오장원 전투 전투외편  낙곡 전...</td>\n",
       "    </tr>\n",
       "    <tr>\n",
       "      <th>3</th>\n",
       "      <td>왕평삼국전투기 문서 역사</td>\n",
       "      <td>보기      이 리비전으로 되돌리기  비교                    ...</td>\n",
       "      <td></td>\n",
       "    </tr>\n",
       "    <tr>\n",
       "      <th>4</th>\n",
       "      <td>틀스토리토리팩토리</td>\n",
       "      <td>스토리유튜버</td>\n",
       "      <td>스토리의 틀스토리의 틀  펼치기  접기 스토리팩토리토리유튜브중립유튜브특수문자 채널 ...</td>\n",
       "    </tr>\n",
       "  </tbody>\n",
       "</table>\n",
       "</div>"
      ],
      "text/plain": [
       "             title                                           category  \\\n",
       "0  틀스토리토리팩토리 문서 역사    보기      이 리비전으로 되돌리기  비교                    ...   \n",
       "1       왕평삼국전투기 토론                                                      \n",
       "2         왕평삼국전투기                                           삼국전투기등장인물   \n",
       "3    왕평삼국전투기 문서 역사    보기      이 리비전으로 되돌리기  비교                    ...   \n",
       "4       틀스토리토리팩토리                                              스토리유튜버   \n",
       "\n",
       "                                        content_text  \n",
       "0                                                     \n",
       "1                                                     \n",
       "2   개요 작중 행적 한중 공방전 남만 전투 가정 전투 오장원 전투 전투외편  낙곡 전...  \n",
       "3                                                     \n",
       "4  스토리의 틀스토리의 틀  펼치기  접기 스토리팩토리토리유튜브중립유튜브특수문자 채널 ...  "
      ]
     },
     "execution_count": 9,
     "metadata": {},
     "output_type": "execute_result"
    }
   ],
   "source": [
    "# 한글아니면 제거\n",
    "def text_cleaning(text):\n",
    "    hangul = re.compile('[^ ㄱ-ㅣ가-힣]+') # 한글의 정규표현식.\n",
    "    result = hangul.sub('', text)\n",
    "    return result\n",
    "# title 컬럼의 내용 중 한글만 남기고, 나머지 정보는 제거\n",
    "df['title'] = df['title'].apply(lambda x: text_cleaning(x))\n",
    "df['category'] = df['category'].apply(lambda x: text_cleaning(x))\n",
    "df['content_text'] = df['content_text'].apply(lambda x: text_cleaning(x))\n",
    "df.head(5)\n",
    "\n"
   ]
  },
  {
   "cell_type": "markdown",
   "id": "d5c06b35",
   "metadata": {},
   "source": [
    "### 3. konlpy의 형태소 분석기 모듈을 이용하여 단어를 추출하기"
   ]
  },
  {
   "cell_type": "code",
   "execution_count": 15,
   "id": "da6d2853",
   "metadata": {},
   "outputs": [],
   "source": [
    "from konlpy.tag import Okt\n",
    "from collections import Counter\n",
    "nouns_tagger = Okt() # 명사 추출을 위한 형태소 분석기\n",
    "\n",
    "# 각 피처마다 말뭉치를 생성\n",
    "title_corpus = \"\".join(df['title'].tolist())\n",
    "category_corpus = \"\".join(df['category'].tolist())\n",
    "content_corpus = \"\".join(df['content_text'].tolist())\n",
    "\n",
    "# 각 단어들의 빈도수 계산\n",
    "nouns = nouns_tagger.nouns(content_corpus)\n",
    "count = Counter(nouns)\n",
    "# print(count) 실행시, 단어 빈도수 출력됨\n",
    "\n",
    "# 한글자 단어들은 제거\n",
    "remove_char_counter = Counter({x : count[x] for x in count if len(x) > 1})\n",
    "# print(remove_char_counter)\n",
    "\n",
    "# 불용어 제거, 불용어 파일 읽기\n",
    "\n",
    "korean_stopwords_path = \"C:/Users/CHA-LAPTOP/Downloads/pdata/korean_stopwords.txt\"\n",
    "with open(korean_stopwords_path, encoding='utf8') as f:\n",
    "    stopwords = f.readlines()\n",
    "stopwords = [x.strip() for x in stopwords]\n",
    "# print(stopwords[:10])\n",
    "\n",
    "# remove_char_counter 데이터에서 불용어를 제거\n",
    "remove_char_counter = Counter({x : remove_char_counter[x] for x in count if x not in stopwords})\n",
    "# print(remove_char_counter)\n"
   ]
  },
  {
   "cell_type": "markdown",
   "id": "1926d501",
   "metadata": {},
   "source": [
    "### 4. 워드 클라우드 시각화\n",
    "1. 폰트 다운로드 http://hangeul.naver.com/webfont/NanumGothic/NanumGothic.ttf\n",
    "2. 폰트 저장 C:\\Users\\CHA-LAPTOP\\anaconda3\\Lib\\site-packages\\pytagcloud\\fonts\n",
    "3. fonts 폴더의 font.json 파일을 메모장으로 열기-> 아래문장 추가하고 저장하기\n",
    "{\n",
    "      \"name\": \"NanumGothic\",\n",
    "      \"ttf\": \"NanumGothic.ttf\",\n",
    "      \"web\": \"http://fonts.googleapis.com/css?family=Nanum+Gothic\"\n",
    "},"
   ]
  },
  {
   "cell_type": "code",
   "execution_count": 16,
   "id": "c1d49954",
   "metadata": {},
   "outputs": [
    {
     "name": "stdout",
     "output_type": "stream",
     "text": [
      "pygame 2.0.1 (SDL 2.0.14, Python 3.8.8)\n",
      "Hello from the pygame community. https://www.pygame.org/contribute.html\n"
     ]
    },
    {
     "data": {
      "image/jpeg": "[encoded data removed]",
      "text/plain": [
       "<IPython.core.display.Image object>"
      ]
     },
     "execution_count": 16,
     "metadata": {},
     "output_type": "execute_result"
    }
   ],
   "source": [
    "import pytagcloud # wordcloud 시각화를 위한 모듈\n",
    "\n",
    "# remove_char_counter: 단어의 빈도수 저장. 단어길이가 두개이상인 단어, 불용어 제거\n",
    "# most_common(40): 가장 많이 사용된 단어 40개만 저장\n",
    "ranked_tags = remove_char_counter.most_common(40)\n",
    "ranked_tags # 단어구름 시각화에 표시될 내용\n",
    "taglist = pytagcloud.make_tags(ranked_tags, maxsize=80)\n",
    "\n",
    "# wordcloud 시각화를 wordcloud.jpg 이미지 파일로 저장\n",
    "# fontname='NanumGothic' : 한글 표시가 가능한 폰트여야함\n",
    "pytagcloud.create_tag_image(taglist, 'wordcloud.jpg',\n",
    "            size=(900, 600), fontname='NanumGothic', rectangular=False)\n",
    "\n",
    "# 생성된 이미지 바로 콘솔에 출력\n",
    "from IPython.display import Image\n",
    "Image(filename='wordcloud.jpg')"
   ]
  },
  {
   "cell_type": "code",
   "execution_count": 17,
   "id": "5323f041",
   "metadata": {},
   "outputs": [
    {
     "data": {
      "image/jpeg": "[encoded data removed]",
      "text/plain": [
       "<IPython.core.display.Image object>"
      ]
     },
     "execution_count": 17,
     "metadata": {},
     "output_type": "execute_result"
    }
   ],
   "source": [
    "# title 부분을 단어구름으로 시각화 하기: titlecloud.jpg\n",
    "nouns_tagger = Okt()\n",
    "nouns = nouns_tagger.nouns(title_corpus)\n",
    "count = Counter(nouns) #단어들의 빈도수\n",
    "# 한문자 단어 제거\n",
    "remove_char_counter = Counter({x : count[x] for x in count if len(x) > 1})\n",
    "# stopwords: 불용어 저장 객체\n",
    "remove_char_counter = Counter({x : remove_char_counter[x] for x in count if x not in stopwords})\n",
    "ranked_tags = remove_char_counter.most_common(40)\n",
    "taglist = pytagcloud.make_tags(ranked_tags, maxsize=50)\n",
    "pytagcloud.create_tag_image(taglist, 'titlecloud.jpg', size=(900, 600), fontname='NanumGothic', rectangular=False)\n",
    "Image(filename='titlecloud.jpg')"
   ]
  },
  {
   "cell_type": "code",
   "execution_count": 18,
   "id": "a63f7466",
   "metadata": {},
   "outputs": [
    {
     "data": {
      "image/jpeg": "[encoded data removed]",
      "text/plain": [
       "<IPython.core.display.Image object>"
      ]
     },
     "execution_count": 18,
     "metadata": {},
     "output_type": "execute_result"
    }
   ],
   "source": [
    "# category 부분을 단어구름으로 시각화하기: categorycloud.jpg\n",
    "nouns_tagger = Okt()\n",
    "nouns = nouns_tagger.nouns(category_corpus)\n",
    "count = Counter(nouns)\n",
    "\n",
    "remove_char_counter = Counter({x : count[x] for x in count if len(x) > 1})\n",
    "remove_char_counter = Counter({x : remove_char_counter[x] for x in remove_char_counter if x not in stopwords})\n",
    "\n",
    "ranked_tags = remove_char_counter.most_common(40)\n",
    "taglist = pytagcloud.make_tags(ranked_tags, maxsize=80)\n",
    "pytagcloud.create_tag_image(taglist, 'categorycloud.jpg', size=(900, 600), fontname='NanumGothic', rectangular=False)\n",
    "\n",
    "Image(filename='categorycloud.jpg')"
   ]
  },
  {
   "cell_type": "code",
   "execution_count": null,
   "id": "d6291e8c",
   "metadata": {},
   "outputs": [],
   "source": []
  },
  {
   "cell_type": "code",
   "execution_count": null,
   "id": "c62eeec1",
   "metadata": {},
   "outputs": [],
   "source": []
  },
  {
   "cell_type": "code",
   "execution_count": null,
   "id": "c78b7b15",
   "metadata": {},
   "outputs": [],
   "source": []
  }
 ],
 "metadata": {
  "kernelspec": {
   "display_name": "Python 3",
   "language": "python",
   "name": "python3"
  },
  "language_info": {
   "codemirror_mode": {
    "name": "ipython",
    "version": 3
   },
   "file_extension": ".py",
   "mimetype": "text/x-python",
   "name": "python",
   "nbconvert_exporter": "python",
   "pygments_lexer": "ipython3",
   "version": "3.8.8"
  }
 },
 "nbformat": 4,
 "nbformat_minor": 5
}
