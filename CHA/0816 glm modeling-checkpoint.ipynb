{
 "cells": [
  {
   "cell_type": "code",
   "execution_count": 12,
   "id": "46c7a674",
   "metadata": {},
   "outputs": [
    {
     "name": "stderr",
     "output_type": "stream",
     "text": [
      "The following object is masked _by_ .GlobalEnv:\n",
      "\n",
      "    year\n",
      "\n",
      "The following objects are masked from df (pos = 3):\n",
      "\n",
      "    alcohol, birth, continent, corruption, country, country_num,\n",
      "    freedom, generosity, HS, life_exp, log_gdp, mental, obesity,\n",
      "    schooling, social, suicide, year\n",
      "\n",
      "The following objects are masked from df (pos = 4):\n",
      "\n",
      "    alcohol, birth, continent, corruption, country, country_num,\n",
      "    freedom, generosity, HS, life_exp, log_gdp, mental, obesity,\n",
      "    schooling, social, suicide, year\n",
      "\n",
      "The following objects are masked from df (pos = 5):\n",
      "\n",
      "    alcohol, birth, continent, corruption, country, country_num,\n",
      "    freedom, generosity, HS, life_exp, log_gdp, mental, obesity,\n",
      "    schooling, social, suicide, year\n",
      "\n",
      "The following objects are masked from df (pos = 12):\n",
      "\n",
      "    alcohol, birth, continent, corruption, country, country_num,\n",
      "    freedom, generosity, HS, life_exp, log_gdp, mental, obesity,\n",
      "    schooling, social, suicide, year\n",
      "\n",
      "The following objects are masked from df (pos = 13):\n",
      "\n",
      "    alcohol, birth, continent, corruption, country, country_num,\n",
      "    freedom, generosity, HS, life_exp, log_gdp, mental, obesity,\n",
      "    schooling, social, suicide, year\n",
      "\n",
      "The following objects are masked from df (pos = 14):\n",
      "\n",
      "    alcohol, birth, continent, corruption, country, country_num,\n",
      "    freedom, generosity, HS, life_exp, log_gdp, mental, obesity,\n",
      "    schooling, social, suicide, year\n",
      "\n",
      "Warning message:\n",
      "\"package 'faraway' was built under R version 3.6.3\""
     ]
    },
    {
     "ename": "ERROR",
     "evalue": "Error: package or namespace load failed for 'faraway' in loadNamespace(j <- i[[1L]], c(lib.loc, .libPaths()), versionCheck = vI[[j]]):\n there is no package called 'statmod'\n",
     "output_type": "error",
     "traceback": [
      "Error: package or namespace load failed for 'faraway' in loadNamespace(j <- i[[1L]], c(lib.loc, .libPaths()), versionCheck = vI[[j]]):\n there is no package called 'statmod'\nTraceback:\n",
      "1. library(faraway)",
      "2. tryCatch({\n .     attr(package, \"LibPath\") <- which.lib.loc\n .     ns <- loadNamespace(package, lib.loc)\n .     env <- attachNamespace(ns, pos = pos, deps, exclude, include.only)\n . }, error = function(e) {\n .     P <- if (!is.null(cc <- conditionCall(e))) \n .         paste(\" in\", deparse(cc)[1L])\n .     else \"\"\n .     msg <- gettextf(\"package or namespace load failed for %s%s:\\n %s\", \n .         sQuote(package), P, conditionMessage(e))\n .     if (logical.return) \n .         message(paste(\"Error:\", msg), domain = NA)\n .     else stop(msg, call. = FALSE, domain = NA)\n . })",
      "3. tryCatchList(expr, classes, parentenv, handlers)",
      "4. tryCatchOne(expr, names, parentenv, handlers[[1L]])",
      "5. value[[3L]](cond)",
      "6. stop(msg, call. = FALSE, domain = NA)"
     ]
    }
   ],
   "source": [
    "setwd(\"/Jupyter Notebook/\")\n",
    "df <-read.csv(\"happy_0814.csv\")\n",
    "attach(df)\n",
    "library(faraway)\n",
    "require(rms)"
   ]
  },
  {
   "cell_type": "markdown",
   "id": "d67e80ca",
   "metadata": {},
   "source": [
    "# continent를 범주형 컬럼으로 넣을경우"
   ]
  },
  {
   "cell_type": "code",
   "execution_count": 13,
   "id": "4461cae2",
   "metadata": {},
   "outputs": [
    {
     "data": {
      "text/plain": [
       "\n",
       "Call:\n",
       "lm(formula = HS ~ continent + log_gdp + social + life_exp + freedom + \n",
       "    generosity + corruption + alcohol + suicide + obesity + birth + \n",
       "    mental, data = df)\n",
       "\n",
       "Residuals:\n",
       "     Min       1Q   Median       3Q      Max \n",
       "-1.68739 -0.29509  0.00994  0.31672  1.68190 \n",
       "\n",
       "Coefficients:\n",
       "                Estimate Std. Error t value Pr(>|t|)    \n",
       "(Intercept)    -3.571085   0.339971 -10.504  < 2e-16 ***\n",
       "continentAS     0.168839   0.045615   3.701 0.000221 ***\n",
       "continentEU     0.350272   0.062228   5.629 2.09e-08 ***\n",
       "continentNor.A  0.769264   0.061371  12.535  < 2e-16 ***\n",
       "continentOC     0.519122   0.113168   4.587 4.79e-06 ***\n",
       "continentSA     0.718072   0.061057  11.761  < 2e-16 ***\n",
       "log_gdp         0.549886   0.026624  20.654  < 2e-16 ***\n",
       "social          1.639430   0.151523  10.820  < 2e-16 ***\n",
       "life_exp        0.024595   0.004374   5.623 2.16e-08 ***\n",
       "freedom         0.918832   0.108884   8.439  < 2e-16 ***\n",
       "generosity      0.573358   0.086964   6.593 5.59e-11 ***\n",
       "corruption     -0.445558   0.082355  -5.410 7.11e-08 ***\n",
       "alcohol         0.018728   0.004111   4.556 5.56e-06 ***\n",
       "suicide        -0.067535   0.020027  -3.372 0.000761 ***\n",
       "obesity        -0.022115   0.003566  -6.202 6.84e-10 ***\n",
       "birth           0.162510   0.020261   8.021 1.84e-15 ***\n",
       "mental          0.034362   0.012071   2.847 0.004466 ** \n",
       "---\n",
       "Signif. codes:  0 '***' 0.001 '**' 0.01 '*' 0.05 '.' 0.1 ' ' 1\n",
       "\n",
       "Residual standard error: 0.4989 on 1864 degrees of freedom\n",
       "Multiple R-squared:  0.8042,\tAdjusted R-squared:  0.8025 \n",
       "F-statistic: 478.4 on 16 and 1864 DF,  p-value: < 2.2e-16\n"
      ]
     },
     "metadata": {},
     "output_type": "display_data"
    }
   ],
   "source": [
    "# continent를 범주형 변수로 넣을 경우\n",
    "m1= lm(HS~continent+ log_gdp + social+ life_exp + freedom+ generosity+ corruption  + alcohol + \n",
    "         suicide + obesity + birth + mental,data=df)\n",
    "summary(m1)"
   ]
  },
  {
   "cell_type": "code",
   "execution_count": 15,
   "id": "8d081880",
   "metadata": {},
   "outputs": [
    {
     "data": {
      "text/plain": [
       "\n",
       "Call:\n",
       "glm(formula = HS ~ continent + log_gdp + social + life_exp + \n",
       "    freedom + generosity + corruption + alcohol + suicide + obesity + \n",
       "    birth + mental, family = gaussian(identity), data = df)\n",
       "\n",
       "Deviance Residuals: \n",
       "     Min        1Q    Median        3Q       Max  \n",
       "-1.68739  -0.29509   0.00994   0.31672   1.68190  \n",
       "\n",
       "Coefficients:\n",
       "                Estimate Std. Error t value Pr(>|t|)    \n",
       "(Intercept)    -3.571085   0.339971 -10.504  < 2e-16 ***\n",
       "continentAS     0.168839   0.045615   3.701 0.000221 ***\n",
       "continentEU     0.350272   0.062228   5.629 2.09e-08 ***\n",
       "continentNor.A  0.769264   0.061371  12.535  < 2e-16 ***\n",
       "continentOC     0.519122   0.113168   4.587 4.79e-06 ***\n",
       "continentSA     0.718072   0.061057  11.761  < 2e-16 ***\n",
       "log_gdp         0.549886   0.026624  20.654  < 2e-16 ***\n",
       "social          1.639430   0.151523  10.820  < 2e-16 ***\n",
       "life_exp        0.024595   0.004374   5.623 2.16e-08 ***\n",
       "freedom         0.918832   0.108884   8.439  < 2e-16 ***\n",
       "generosity      0.573358   0.086964   6.593 5.59e-11 ***\n",
       "corruption     -0.445558   0.082355  -5.410 7.11e-08 ***\n",
       "alcohol         0.018728   0.004111   4.556 5.56e-06 ***\n",
       "suicide        -0.067535   0.020027  -3.372 0.000761 ***\n",
       "obesity        -0.022115   0.003566  -6.202 6.84e-10 ***\n",
       "birth           0.162510   0.020261   8.021 1.84e-15 ***\n",
       "mental          0.034362   0.012071   2.847 0.004466 ** \n",
       "---\n",
       "Signif. codes:  0 '***' 0.001 '**' 0.01 '*' 0.05 '.' 0.1 ' ' 1\n",
       "\n",
       "(Dispersion parameter for gaussian family taken to be 0.2489455)\n",
       "\n",
       "    Null deviance: 2369.72  on 1880  degrees of freedom\n",
       "Residual deviance:  464.03  on 1864  degrees of freedom\n",
       "AIC: 2741.4\n",
       "\n",
       "Number of Fisher Scoring iterations: 2\n"
      ]
     },
     "metadata": {},
     "output_type": "display_data"
    }
   ],
   "source": [
    "g1= glm(HS~continent+ log_gdp + social+ life_exp + freedom+ generosity+ corruption  + alcohol + \n",
    "          suicide + obesity + birth + mental, data=df, family=gaussian(identity))\n",
    "summary(g1)"
   ]
  },
  {
   "cell_type": "code",
   "execution_count": 16,
   "id": "c1a225f4",
   "metadata": {},
   "outputs": [
    {
     "data": {
      "text/html": [
       "0.804182128003049"
      ],
      "text/latex": [
       "0.804182128003049"
      ],
      "text/markdown": [
       "0.804182128003049"
      ],
      "text/plain": [
       "[1] 0.8041821"
      ]
     },
     "metadata": {},
     "output_type": "display_data"
    }
   ],
   "source": [
    "with(summary(g1), 1 - deviance/null.deviance)"
   ]
  },
  {
   "cell_type": "code",
   "execution_count": 17,
   "id": "2517c055",
   "metadata": {},
   "outputs": [
    {
     "data": {
      "text/plain": [
       "\n",
       "Call:\n",
       "glm(formula = HS ~ continent + log_gdp + social + life_exp + \n",
       "    freedom + generosity + corruption + alcohol + suicide + obesity + \n",
       "    birth + mental, family = Gamma(link = inverse), data = df)\n",
       "\n",
       "Deviance Residuals: \n",
       "     Min        1Q    Median        3Q       Max  \n",
       "-0.43430  -0.05729   0.00259   0.05857   0.35193  \n",
       "\n",
       "Coefficients:\n",
       "                 Estimate Std. Error t value Pr(>|t|)    \n",
       "(Intercept)     0.5180977  0.0132094  39.222  < 2e-16 ***\n",
       "continentAS    -0.0088032  0.0018840  -4.673 3.19e-06 ***\n",
       "continentEU    -0.0084200  0.0024045  -3.502 0.000473 ***\n",
       "continentNor.A -0.0233870  0.0023230 -10.067  < 2e-16 ***\n",
       "continentOC    -0.0123918  0.0034860  -3.555 0.000388 ***\n",
       "continentSA    -0.0249740  0.0022898 -10.907  < 2e-16 ***\n",
       "log_gdp        -0.0170963  0.0010141 -16.859  < 2e-16 ***\n",
       "social         -0.0761494  0.0063420 -12.007  < 2e-16 ***\n",
       "life_exp       -0.0010213  0.0001725  -5.922 3.78e-09 ***\n",
       "freedom        -0.0333711  0.0041586  -8.025 1.79e-15 ***\n",
       "generosity     -0.0139036  0.0030488  -4.560 5.44e-06 ***\n",
       "corruption      0.0019296  0.0028055   0.688 0.491661    \n",
       "alcohol        -0.0007550  0.0001438  -5.252 1.68e-07 ***\n",
       "suicide         0.0027629  0.0007071   3.907 9.67e-05 ***\n",
       "obesity         0.0003407  0.0001283   2.656 0.007979 ** \n",
       "birth          -0.0041224  0.0008150  -5.058 4.65e-07 ***\n",
       "mental         -0.0006064  0.0004306  -1.408 0.159191    \n",
       "---\n",
       "Signif. codes:  0 '***' 0.001 '**' 0.01 '*' 0.05 '.' 0.1 ' ' 1\n",
       "\n",
       "(Dispersion parameter for Gamma family taken to be 0.009590968)\n",
       "\n",
       "    Null deviance: 82.449  on 1880  degrees of freedom\n",
       "Residual deviance: 18.410  on 1864  degrees of freedom\n",
       "AIC: 2990.4\n",
       "\n",
       "Number of Fisher Scoring iterations: 4\n"
      ]
     },
     "metadata": {},
     "output_type": "display_data"
    }
   ],
   "source": [
    "g2= glm(HS~continent+ log_gdp + social+ life_exp + freedom+ generosity+ corruption  + alcohol + \n",
    "          suicide + obesity + birth + mental, data=df, family=Gamma(link=inverse))\n",
    "summary(g2)"
   ]
  },
  {
   "cell_type": "code",
   "execution_count": 18,
   "id": "2af9c41c",
   "metadata": {},
   "outputs": [
    {
     "data": {
      "text/html": [
       "0.776709745523025"
      ],
      "text/latex": [
       "0.776709745523025"
      ],
      "text/markdown": [
       "0.776709745523025"
      ],
      "text/plain": [
       "[1] 0.7767097"
      ]
     },
     "metadata": {},
     "output_type": "display_data"
    }
   ],
   "source": [
    "with(summary(g2), 1 - deviance/null.deviance)"
   ]
  },
  {
   "cell_type": "code",
   "execution_count": 19,
   "id": "89a30001",
   "metadata": {},
   "outputs": [
    {
     "data": {
      "text/plain": [
       "\n",
       "Call:\n",
       "glm(formula = HS ~ continent + log_gdp + social + life_exp + \n",
       "    freedom + generosity + corruption + alcohol + suicide + obesity + \n",
       "    birth + mental, family = Gamma(link = identity), data = df)\n",
       "\n",
       "Deviance Residuals: \n",
       "     Min        1Q    Median        3Q       Max  \n",
       "-0.43970  -0.05640   0.00186   0.05605   0.36015  \n",
       "\n",
       "Coefficients:\n",
       "                Estimate Std. Error t value Pr(>|t|)    \n",
       "(Intercept)    -2.924078   0.328785  -8.894  < 2e-16 ***\n",
       "continentAS     0.149184   0.042430   3.516 0.000449 ***\n",
       "continentEU     0.354582   0.062492   5.674 1.61e-08 ***\n",
       "continentNor.A  0.738481   0.064132  11.515  < 2e-16 ***\n",
       "continentOC     0.568134   0.152125   3.735 0.000194 ***\n",
       "continentSA     0.707199   0.065122  10.860  < 2e-16 ***\n",
       "log_gdp         0.532225   0.026542  20.052  < 2e-16 ***\n",
       "social          1.450184   0.133867  10.833  < 2e-16 ***\n",
       "life_exp        0.019040   0.004169   4.567 5.28e-06 ***\n",
       "freedom         0.896924   0.106599   8.414  < 2e-16 ***\n",
       "generosity      0.553143   0.093396   5.923 3.77e-09 ***\n",
       "corruption     -0.392185   0.090460  -4.335 1.53e-05 ***\n",
       "alcohol         0.020230   0.004540   4.456 8.86e-06 ***\n",
       "suicide        -0.061217   0.021992  -2.784 0.005430 ** \n",
       "obesity        -0.024392   0.003829  -6.370 2.37e-10 ***\n",
       "birth           0.138113   0.019025   7.260 5.68e-13 ***\n",
       "mental          0.049952   0.012825   3.895 0.000102 ***\n",
       "---\n",
       "Signif. codes:  0 '***' 0.001 '**' 0.01 '*' 0.05 '.' 0.1 ' ' 1\n",
       "\n",
       "(Dispersion parameter for Gamma family taken to be 0.009960505)\n",
       "\n",
       "    Null deviance: 82.449  on 1880  degrees of freedom\n",
       "Residual deviance: 19.201  on 1864  degrees of freedom\n",
       "AIC: 3069.6\n",
       "\n",
       "Number of Fisher Scoring iterations: 5\n"
      ]
     },
     "metadata": {},
     "output_type": "display_data"
    }
   ],
   "source": [
    "g3= glm(HS~continent+ log_gdp + social+ life_exp + freedom+ generosity+ corruption  + alcohol + \n",
    "          suicide + obesity + birth + mental, data=df, family=Gamma(link=identity))\n",
    "summary(g3)"
   ]
  },
  {
   "cell_type": "code",
   "execution_count": 20,
   "id": "f4d1e575",
   "metadata": {},
   "outputs": [
    {
     "data": {
      "text/html": [
       "0.767122018754739"
      ],
      "text/latex": [
       "0.767122018754739"
      ],
      "text/markdown": [
       "0.767122018754739"
      ],
      "text/plain": [
       "[1] 0.767122"
      ]
     },
     "metadata": {},
     "output_type": "display_data"
    }
   ],
   "source": [
    "with(summary(g3), 1 - deviance/null.deviance)"
   ]
  },
  {
   "cell_type": "code",
   "execution_count": 21,
   "id": "2c88cc14",
   "metadata": {},
   "outputs": [
    {
     "data": {
      "text/plain": [
       "\n",
       "Call:\n",
       "glm(formula = HS ~ continent + log_gdp + social + life_exp + \n",
       "    freedom + generosity + corruption + alcohol + suicide + obesity + \n",
       "    birth + mental, family = Gamma(link = log), data = df)\n",
       "\n",
       "Deviance Residuals: \n",
       "     Min        1Q    Median        3Q       Max  \n",
       "-0.43257  -0.05589   0.00170   0.05689   0.36197  \n",
       "\n",
       "Coefficients:\n",
       "                 Estimate Std. Error t value Pr(>|t|)    \n",
       "(Intercept)    -0.0143473  0.0668872  -0.214 0.830181    \n",
       "continentAS     0.0368120  0.0089744   4.102 4.27e-05 ***\n",
       "continentEU     0.0526092  0.0122430   4.297 1.82e-05 ***\n",
       "continentNor.A  0.1329993  0.0120743  11.015  < 2e-16 ***\n",
       "continentOC     0.0780078  0.0222652   3.504 0.000470 ***\n",
       "continentSA     0.1319518  0.0120126  10.984  < 2e-16 ***\n",
       "log_gdp         0.0978487  0.0052381  18.680  < 2e-16 ***\n",
       "social          0.3466082  0.0298113  11.627  < 2e-16 ***\n",
       "life_exp        0.0045772  0.0008605   5.319 1.17e-07 ***\n",
       "freedom         0.1778978  0.0214222   8.304  < 2e-16 ***\n",
       "generosity      0.0912902  0.0171096   5.336 1.07e-07 ***\n",
       "corruption     -0.0412979  0.0162029  -2.549 0.010889 *  \n",
       "alcohol         0.0038189  0.0008088   4.722 2.51e-06 ***\n",
       "suicide        -0.0137893  0.0039403  -3.500 0.000477 ***\n",
       "obesity        -0.0031194  0.0007015  -4.447 9.24e-06 ***\n",
       "birth           0.0246920  0.0039862   6.194 7.19e-10 ***\n",
       "mental          0.0054436  0.0023748   2.292 0.022006 *  \n",
       "---\n",
       "Signif. codes:  0 '***' 0.001 '**' 0.01 '*' 0.05 '.' 0.1 ' ' 1\n",
       "\n",
       "(Dispersion parameter for Gamma family taken to be 0.009636197)\n",
       "\n",
       "    Null deviance: 82.449  on 1880  degrees of freedom\n",
       "Residual deviance: 18.499  on 1864  degrees of freedom\n",
       "AIC: 2999.4\n",
       "\n",
       "Number of Fisher Scoring iterations: 4\n"
      ]
     },
     "metadata": {},
     "output_type": "display_data"
    }
   ],
   "source": [
    "g4= glm(HS~continent+ log_gdp + social+ life_exp + freedom+ generosity+ corruption  + alcohol + \n",
    "          suicide + obesity + birth + mental, data=df, family=Gamma(link=log))\n",
    "summary(g4)"
   ]
  },
  {
   "cell_type": "code",
   "execution_count": 22,
   "id": "96bca946",
   "metadata": {},
   "outputs": [
    {
     "data": {
      "text/html": [
       "0.775633891675013"
      ],
      "text/latex": [
       "0.775633891675013"
      ],
      "text/markdown": [
       "0.775633891675013"
      ],
      "text/plain": [
       "[1] 0.7756339"
      ]
     },
     "metadata": {},
     "output_type": "display_data"
    }
   ],
   "source": [
    "with(summary(g4), 1 - deviance/null.deviance)"
   ]
  },
  {
   "cell_type": "code",
   "execution_count": 23,
   "id": "1e353fb2",
   "metadata": {},
   "outputs": [
    {
     "data": {
      "text/plain": [
       "\n",
       "Call:\n",
       "glm(formula = HS ~ continent + log_gdp + social + life_exp + \n",
       "    freedom + generosity + corruption + alcohol + suicide + obesity + \n",
       "    birth + mental, family = inverse.gaussian(link = 1/mu^2), \n",
       "    data = df)\n",
       "\n",
       "Deviance Residuals: \n",
       "      Min         1Q     Median         3Q        Max  \n",
       "-0.251934  -0.025017   0.000525   0.024994   0.159139  \n",
       "\n",
       "Coefficients:\n",
       "                 Estimate Std. Error t value Pr(>|t|)    \n",
       "(Intercept)     1.604e-01  5.279e-03  30.387  < 2e-16 ***\n",
       "continentAS    -4.051e-03  7.888e-04  -5.136 3.11e-07 ***\n",
       "continentEU    -2.963e-03  9.758e-04  -3.037 0.002425 ** \n",
       "continentNor.A -8.324e-03  9.399e-04  -8.856  < 2e-16 ***\n",
       "continentOC    -4.408e-03  1.298e-03  -3.395 0.000700 ***\n",
       "continentSA    -9.548e-03  9.243e-04 -10.329  < 2e-16 ***\n",
       "log_gdp        -5.908e-03  4.037e-04 -14.636  < 2e-16 ***\n",
       "social         -3.185e-02  2.638e-03 -12.071  < 2e-16 ***\n",
       "life_exp       -3.995e-04  6.964e-05  -5.737 1.12e-08 ***\n",
       "freedom        -1.246e-02  1.660e-03  -7.507 9.35e-14 ***\n",
       "generosity     -3.928e-03  1.165e-03  -3.373 0.000758 ***\n",
       "corruption     -1.266e-03  1.053e-03  -1.202 0.229515    \n",
       "alcohol        -3.029e-04  5.556e-05  -5.452 5.66e-08 ***\n",
       "suicide         1.083e-03  2.751e-04   3.936 8.58e-05 ***\n",
       "obesity         6.124e-05  5.030e-05   1.218 0.223535    \n",
       "birth          -1.171e-03  3.329e-04  -3.518 0.000445 ***\n",
       "mental         -1.998e-04  1.662e-04  -1.202 0.229371    \n",
       "---\n",
       "Signif. codes:  0 '***' 0.001 '**' 0.01 '*' 0.05 '.' 0.1 ' ' 1\n",
       "\n",
       "(Dispersion parameter for inverse.gaussian family taken to be 0.00202748)\n",
       "\n",
       "    Null deviance: 15.8342  on 1880  degrees of freedom\n",
       "Residual deviance:  4.0158  on 1864  degrees of freedom\n",
       "AIC: 3281.2\n",
       "\n",
       "Number of Fisher Scoring iterations: 4\n"
      ]
     },
     "metadata": {},
     "output_type": "display_data"
    }
   ],
   "source": [
    "g5= glm(HS~continent+ log_gdp + social+ life_exp + freedom+ generosity+ corruption  + alcohol + \n",
    "          suicide + obesity + birth + mental, data=df, family=inverse.gaussian(link=1/mu^2))\n",
    "summary(g5)"
   ]
  },
  {
   "cell_type": "code",
   "execution_count": 24,
   "id": "8577d98e",
   "metadata": {},
   "outputs": [
    {
     "data": {
      "text/html": [
       "0.746388176310314"
      ],
      "text/latex": [
       "0.746388176310314"
      ],
      "text/markdown": [
       "0.746388176310314"
      ],
      "text/plain": [
       "[1] 0.7463882"
      ]
     },
     "metadata": {},
     "output_type": "display_data"
    }
   ],
   "source": [
    "with(summary(g5), 1 - deviance/null.deviance)"
   ]
  },
  {
   "cell_type": "code",
   "execution_count": 25,
   "id": "8b8019ba",
   "metadata": {},
   "outputs": [
    {
     "data": {
      "text/plain": [
       "\n",
       "Call:\n",
       "glm(formula = HS ~ continent + log_gdp + social + life_exp + \n",
       "    freedom + generosity + corruption + alcohol + suicide + obesity + \n",
       "    birth + mental, family = quasi(link = \"identity\", variance = \"constant\"), \n",
       "    data = df)\n",
       "\n",
       "Deviance Residuals: \n",
       "     Min        1Q    Median        3Q       Max  \n",
       "-1.68739  -0.29509   0.00994   0.31672   1.68190  \n",
       "\n",
       "Coefficients:\n",
       "                Estimate Std. Error t value Pr(>|t|)    \n",
       "(Intercept)    -3.571085   0.339971 -10.504  < 2e-16 ***\n",
       "continentAS     0.168839   0.045615   3.701 0.000221 ***\n",
       "continentEU     0.350272   0.062228   5.629 2.09e-08 ***\n",
       "continentNor.A  0.769264   0.061371  12.535  < 2e-16 ***\n",
       "continentOC     0.519122   0.113168   4.587 4.79e-06 ***\n",
       "continentSA     0.718072   0.061057  11.761  < 2e-16 ***\n",
       "log_gdp         0.549886   0.026624  20.654  < 2e-16 ***\n",
       "social          1.639430   0.151523  10.820  < 2e-16 ***\n",
       "life_exp        0.024595   0.004374   5.623 2.16e-08 ***\n",
       "freedom         0.918832   0.108884   8.439  < 2e-16 ***\n",
       "generosity      0.573358   0.086964   6.593 5.59e-11 ***\n",
       "corruption     -0.445558   0.082355  -5.410 7.11e-08 ***\n",
       "alcohol         0.018728   0.004111   4.556 5.56e-06 ***\n",
       "suicide        -0.067535   0.020027  -3.372 0.000761 ***\n",
       "obesity        -0.022115   0.003566  -6.202 6.84e-10 ***\n",
       "birth           0.162510   0.020261   8.021 1.84e-15 ***\n",
       "mental          0.034362   0.012071   2.847 0.004466 ** \n",
       "---\n",
       "Signif. codes:  0 '***' 0.001 '**' 0.01 '*' 0.05 '.' 0.1 ' ' 1\n",
       "\n",
       "(Dispersion parameter for quasi family taken to be 0.2489455)\n",
       "\n",
       "    Null deviance: 2369.72  on 1880  degrees of freedom\n",
       "Residual deviance:  464.03  on 1864  degrees of freedom\n",
       "AIC: NA\n",
       "\n",
       "Number of Fisher Scoring iterations: 2\n"
      ]
     },
     "metadata": {},
     "output_type": "display_data"
    }
   ],
   "source": [
    "g6= glm(HS~continent+ log_gdp + social+ life_exp + freedom+ generosity+ corruption  + alcohol + \n",
    "          suicide + obesity + birth + mental, data=df, family=quasi(link = \"identity\", variance = \"constant\"))\n",
    "summary(g6)"
   ]
  },
  {
   "cell_type": "code",
   "execution_count": 26,
   "id": "7a05a082",
   "metadata": {},
   "outputs": [
    {
     "data": {
      "text/html": [
       "0.804182128003049"
      ],
      "text/latex": [
       "0.804182128003049"
      ],
      "text/markdown": [
       "0.804182128003049"
      ],
      "text/plain": [
       "[1] 0.8041821"
      ]
     },
     "metadata": {},
     "output_type": "display_data"
    }
   ],
   "source": [
    "with(summary(g6), 1 - deviance/null.deviance)"
   ]
  },
  {
   "cell_type": "markdown",
   "id": "695b7c24",
   "metadata": {},
   "source": [
    "# country를 범주형 컬럼으로 넣을경우"
   ]
  },
  {
   "cell_type": "code",
   "execution_count": 70,
   "id": "1a90d97f",
   "metadata": {},
   "outputs": [
    {
     "data": {
      "text/plain": [
       "\n",
       "Call:\n",
       "lm(formula = HS ~ country + log_gdp + social + life_exp + freedom + \n",
       "    generosity + corruption + alcohol + suicide + obesity + birth + \n",
       "    mental, data = df)\n",
       "\n",
       "Residuals:\n",
       "     Min       1Q   Median       3Q      Max \n",
       "-1.49794 -0.19485 -0.00686  0.19135  1.28700 \n",
       "\n",
       "Coefficients:\n",
       "                                 Estimate Std. Error t value Pr(>|t|)    \n",
       "(Intercept)                     -4.599865   0.811383  -5.669 1.68e-08 ***\n",
       "countryAlbania                   0.179557   0.245182   0.732 0.464059    \n",
       "countryAlgeria                   0.546894   0.240197   2.277 0.022918 *  \n",
       "countryAngola                   -1.223470   0.264719  -4.622 4.09e-06 ***\n",
       "countryArgentina                 0.240692   0.272516   0.883 0.377239    \n",
       "countryArmenia                  -0.070546   0.242628  -0.291 0.771273    \n",
       "countryAustralia                -0.008882   0.354612  -0.025 0.980021    \n",
       "countryAustria                   0.017630   0.341582   0.052 0.958843    \n",
       "countryAzerbaijan               -0.079734   0.252292  -0.316 0.752010    \n",
       "countryBahrain                  -0.661300   0.371909  -1.778 0.075560 .  \n",
       "countryBangladesh                0.631045   0.235444   2.680 0.007427 ** \n",
       "countryBelarus                   0.459056   0.375935   1.221 0.222214    \n",
       "countryBelgium                  -0.264503   0.351301  -0.753 0.451598    \n",
       "countryBelize                    1.397735   0.311219   4.491 7.56e-06 ***\n",
       "countryBenin                    -0.322974   0.169534  -1.905 0.056938 .  \n",
       "countryBhutan                   -0.554881   0.329053  -1.686 0.091921 .  \n",
       "countryBolivia                   0.691548   0.204463   3.382 0.000735 ***\n",
       "countryBosnia and Herzegovina    0.488605   0.272435   1.793 0.073073 .  \n",
       "countryBotswana                 -2.224665   0.265728  -8.372  < 2e-16 ***\n",
       "countryBrazil                    1.095984   0.266380   4.114 4.07e-05 ***\n",
       "countryBulgaria                 -0.787247   0.301924  -2.607 0.009201 ** \n",
       "countryBurkina Faso             -0.090104   0.167837  -0.537 0.591437    \n",
       "countryBurundi                   0.751872   0.222354   3.381 0.000737 ***\n",
       "countryCambodia                 -0.242261   0.225537  -1.074 0.282905    \n",
       "countryCameroon                 -0.093070   0.164081  -0.567 0.570638    \n",
       "countryCanada                    0.170024   0.330917   0.514 0.607461    \n",
       "countryCentral African Republic  0.269839   0.211962   1.273 0.203172    \n",
       "countryChad                     -0.073458   0.163630  -0.449 0.653541    \n",
       "countryChile                     0.435699   0.295494   1.474 0.140536    \n",
       "countryChina                    -0.258079   0.265867  -0.971 0.331831    \n",
       "countryColombia                  0.675389   0.252288   2.677 0.007498 ** \n",
       "countryComoros                  -0.310354   0.201689  -1.539 0.124043    \n",
       "countryCosta Rica                1.326594   0.267836   4.953 8.03e-07 ***\n",
       "countryCote d'Ivoire            -0.509102   0.196784  -2.587 0.009760 ** \n",
       "countryCroatia                   0.040336   0.294099   0.137 0.890927    \n",
       "countryCyprus                   -0.130896   0.326989  -0.400 0.688981    \n",
       "countryCzechia                   0.328644   0.311489   1.055 0.291539    \n",
       "countryDenmark                   0.148486   0.374652   0.396 0.691910    \n",
       "countryDjibouti                  0.288925   0.252120   1.146 0.251962    \n",
       "countryDominican Republic       -0.496904   0.235053  -2.114 0.034659 *  \n",
       "countryEcuador                   0.530972   0.225401   2.356 0.018601 *  \n",
       "countryEgypt                    -0.156033   0.230354  -0.677 0.498269    \n",
       "countryEl Salvador               1.644724   0.299936   5.484 4.79e-08 ***\n",
       "countryEstonia                  -0.171165   0.342665  -0.500 0.617484    \n",
       "countryEswatini                 -1.051294   0.317180  -3.315 0.000937 ***\n",
       "countryEthiopia                  0.307835   0.202466   1.520 0.128587    \n",
       "countryFinland                   0.405944   0.344122   1.180 0.238302    \n",
       "countryFrance                   -0.352807   0.358413  -0.984 0.325077    \n",
       "countryGabon                    -1.514489   0.243288  -6.225 6.04e-10 ***\n",
       "countryGambia                    0.459946   0.239385   1.921 0.054851 .  \n",
       "countryGeorgia                  -0.195551   0.250646  -0.780 0.435388    \n",
       "countryGermany                  -0.170673   0.334626  -0.510 0.610089    \n",
       "countryGhana                     0.051962   0.172058   0.302 0.762688    \n",
       "countryGreece                   -0.147380   0.319119  -0.462 0.644257    \n",
       "countryGuatemala                 1.289221   0.269789   4.779 1.92e-06 ***\n",
       "countryGuinea                   -0.054499   0.175886  -0.310 0.756711    \n",
       "countryHaiti                     0.391775   0.208898   1.875 0.060902 .  \n",
       "countryHonduras                  1.019539   0.210068   4.853 1.32e-06 ***\n",
       "countryHungary                  -0.516186   0.318512  -1.621 0.105284    \n",
       "countryIceland                   0.070719   0.359710   0.197 0.844164    \n",
       "countryIndia                    -0.229148   0.239061  -0.959 0.337930    \n",
       "countryIndonesia                -0.165894   0.245741  -0.675 0.499717    \n",
       "countryIran                     -0.344933   0.277264  -1.244 0.213647    \n",
       "countryIraq                     -0.412042   0.205865  -2.002 0.045494 *  \n",
       "countryIreland                  -0.674414   0.379838  -1.776 0.075987 .  \n",
       "countryIsrael                    0.535969   0.311468   1.721 0.085470 .  \n",
       "countryItaly                    -0.147914   0.335858  -0.440 0.659699    \n",
       "countryJamaica                   0.909075   0.253497   3.586 0.000345 ***\n",
       "countryJapan                    -1.029682   0.378595  -2.720 0.006599 ** \n",
       "countryJordan                    0.298494   0.223129   1.338 0.181149    \n",
       "countryKazakhstan               -0.215654   0.335474  -0.643 0.520418    \n",
       "countryKenya                    -0.395226   0.194536  -2.032 0.042345 *  \n",
       "countryKuwait                   -0.592800   0.370951  -1.598 0.110215    \n",
       "countryKyrgyzstan                0.799457   0.211378   3.782 0.000161 ***\n",
       "countryLaos                     -0.307164   0.228851  -1.342 0.179708    \n",
       "countryLatvia                   -0.117353   0.327645  -0.358 0.720258    \n",
       "countryLebanon                  -0.030889   0.272792  -0.113 0.909860    \n",
       "countryLesotho                  -0.774072   0.286356  -2.703 0.006936 ** \n",
       "countryLiberia                   0.332501   0.177761   1.870 0.061585 .  \n",
       "countryLibya                     0.207823   0.282148   0.737 0.461481    \n",
       "countryLithuania                -0.061182   0.345633  -0.177 0.859518    \n",
       "countryLuxembourg               -1.075622   0.401565  -2.679 0.007464 ** \n",
       "countryMadagascar                0.451681   0.185251   2.438 0.014861 *  \n",
       "countryMalawi                    0.781643   0.183344   4.263 2.12e-05 ***\n",
       "countryMalaysia                 -0.362168   0.286771  -1.263 0.206791    \n",
       "countryMali                     -0.347528   0.173006  -2.009 0.044718 *  \n",
       "countryMalta                    -0.323407   0.316713  -1.021 0.307333    \n",
       "countryMauritania               -0.504216   0.170150  -2.963 0.003085 ** \n",
       "countryMauritius                 0.373135   0.308247   1.211 0.226252    \n",
       "countryMexico                    1.211383   0.246634   4.912 9.89e-07 ***\n",
       "countryMoldova                   1.071719   0.289447   3.703 0.000220 ***\n",
       "countryMongolia                 -0.055745   0.298277  -0.187 0.851768    \n",
       "countryMontenegro                0.004444   0.271901   0.016 0.986963    \n",
       "countryMorocco                   0.932016   0.218715   4.261 2.14e-05 ***\n",
       "countryMozambique                0.893470   0.194418   4.596 4.63e-06 ***\n",
       "countryMyanmar                  -0.585201   0.261874  -2.235 0.025567 *  \n",
       "countryNamibia                  -1.091728   0.254286  -4.293 1.86e-05 ***\n",
       "countryNepal                     0.558905   0.233064   2.398 0.016588 *  \n",
       "countryNetherlands              -0.114465   0.370365  -0.309 0.757312    \n",
       "countryNew Zealand               0.036802   0.334396   0.110 0.912379    \n",
       "countryNicaragua                 1.257433   0.223836   5.618 2.25e-08 ***\n",
       "countryNiger                     0.301223   0.200776   1.500 0.133722    \n",
       "countryNigeria                  -0.448216   0.198781  -2.255 0.024270 *  \n",
       "countryNorth Macedonia          -0.061733   0.275981  -0.224 0.823029    \n",
       "countryNorway                   -0.214180   0.381353  -0.562 0.574439    \n",
       "countryPakistan                  1.002435   0.172934   5.797 8.03e-09 ***\n",
       "countryPalestine                 0.469716   0.196539   2.390 0.016959 *  \n",
       "countryPanama                    0.360085   0.271474   1.326 0.184881    \n",
       "countryParaguay                  0.253422   0.237041   1.069 0.285172    \n",
       "countryPeru                      0.371735   0.249388   1.491 0.136253    \n",
       "countryPhilippines               0.131058   0.198700   0.660 0.509612    \n",
       "countryPoland                   -0.009083   0.313501  -0.029 0.976890    \n",
       "countryPortugal                 -0.809507   0.323407  -2.503 0.012405 *  \n",
       "countryQatar                    -1.499233   0.472362  -3.174 0.001531 ** \n",
       "countryRomania                   0.109108   0.294868   0.370 0.711412    \n",
       "countryRussia                   -0.061739   0.370156  -0.167 0.867553    \n",
       "countryRwanda                   -0.527912   0.209693  -2.518 0.011908 *  \n",
       "countrySaudi Arabia             -0.203429   0.318392  -0.639 0.522956    \n",
       "countrySenegal                  -0.020011   0.166525  -0.120 0.904364    \n",
       "countrySerbia                    0.187833   0.283349   0.663 0.507482    \n",
       "countrySierra Leone              0.065918   0.172896   0.381 0.703060    \n",
       "countrySingapore                -1.572748   0.448227  -3.509 0.000462 ***\n",
       "countrySlovakia                  0.175886   0.309966   0.567 0.570491    \n",
       "countrySlovenia                 -0.506157   0.319815  -1.583 0.113684    \n",
       "countrySouth Africa             -1.075022   0.271317  -3.962 7.73e-05 ***\n",
       "countrySouth Korea              -1.103357   0.485071  -2.275 0.023051 *  \n",
       "countrySpain                    -0.009266   0.333904  -0.028 0.977865    \n",
       "countrySri Lanka                -1.380694   0.302353  -4.566 5.31e-06 ***\n",
       "countrySudan                    -0.287066   0.205116  -1.400 0.161834    \n",
       "countrySweden                   -0.079410   0.349132  -0.227 0.820102    \n",
       "countrySwitzerland              -0.228028   0.382953  -0.595 0.551622    \n",
       "countrySyria                    -0.205766   0.213444  -0.964 0.335169    \n",
       "countryTaiwan                   -0.646702   0.372967  -1.734 0.083109 .  \n",
       "countryTajikistan                0.949858   0.174080   5.456 5.57e-08 ***\n",
       "countryTanzania                 -0.733872   0.168199  -4.363 1.36e-05 ***\n",
       "countryThailand                  0.035570   0.294003   0.121 0.903718    \n",
       "countryTogo                      0.301578   0.177582   1.698 0.089642 .  \n",
       "countryTrinidad and Tobago       0.250049   0.336062   0.744 0.456943    \n",
       "countryTunisia                   0.249504   0.241228   1.034 0.301139    \n",
       "countryTurkey                   -0.312990   0.274056  -1.142 0.253587    \n",
       "countryTurkmenistan              0.282338   0.262391   1.076 0.282070    \n",
       "countryUganda                   -0.178863   0.178549  -1.002 0.316600    \n",
       "countryUkraine                   0.157308   0.324431   0.485 0.627829    \n",
       "countryUnited Arab Emirates     -0.631143   0.368578  -1.712 0.087009 .  \n",
       "countryUnited Kingdom           -0.251669   0.335658  -0.750 0.453491    \n",
       "countryUnited States            -0.075906   0.334254  -0.227 0.820380    \n",
       "countryUruguay                   0.120210   0.272095   0.442 0.658693    \n",
       "countryUzbekistan                0.946110   0.233865   4.046 5.45e-05 ***\n",
       "countryVenezuela                 0.699118   0.237926   2.938 0.003343 ** \n",
       "countryVietnam                   0.292652   0.258513   1.132 0.257769    \n",
       "countryYemen                    -0.304823   0.163933  -1.859 0.063136 .  \n",
       "countryZambia                   -0.291081   0.178140  -1.634 0.102442    \n",
       "countryZimbabwe                 -0.622813   0.204116  -3.051 0.002314 ** \n",
       "log_gdp                          1.106777   0.090883  12.178  < 2e-16 ***\n",
       "social                           1.645021   0.185223   8.881  < 2e-16 ***\n",
       "life_exp                        -0.025738   0.008214  -3.133 0.001757 ** \n",
       "freedom                          0.808122   0.128085   6.309 3.56e-10 ***\n",
       "generosity                       0.379178   0.117193   3.235 0.001237 ** \n",
       "corruption                      -0.553641   0.145091  -3.816 0.000141 ***\n",
       "alcohol                         -0.029791   0.014507  -2.054 0.040170 *  \n",
       "suicide                          0.121500   0.070224   1.730 0.083776 .  \n",
       "obesity                         -0.054653   0.017444  -3.133 0.001759 ** \n",
       "birth                            0.116440   0.056511   2.061 0.039501 *  \n",
       "mental                          -0.007670   0.040925  -0.187 0.851365    \n",
       "---\n",
       "Signif. codes:  0 '***' 0.001 '**' 0.01 '*' 0.05 '.' 0.1 ' ' 1\n",
       "\n",
       "Residual standard error: 0.3535 on 1717 degrees of freedom\n",
       "Multiple R-squared:  0.9095,\tAdjusted R-squared:  0.9009 \n",
       "F-statistic: 105.8 on 163 and 1717 DF,  p-value: < 2.2e-16\n"
      ]
     },
     "metadata": {},
     "output_type": "display_data"
    }
   ],
   "source": [
    "m2= lm(HS~country+ log_gdp + social+ life_exp + freedom+ generosity+ corruption  + alcohol + \n",
    "         suicide + obesity + birth + mental,data=df)\n",
    "summary(m2)"
   ]
  },
  {
   "cell_type": "code",
   "execution_count": 28,
   "id": "049664e2",
   "metadata": {},
   "outputs": [
    {
     "data": {
      "text/plain": [
       "\n",
       "Call:\n",
       "glm(formula = HS ~ country + log_gdp + social + life_exp + freedom + \n",
       "    generosity + corruption + alcohol + suicide + obesity + birth + \n",
       "    mental, family = gaussian(identity), data = df)\n",
       "\n",
       "Deviance Residuals: \n",
       "     Min        1Q    Median        3Q       Max  \n",
       "-1.49794  -0.19485  -0.00686   0.19135   1.28700  \n",
       "\n",
       "Coefficients:\n",
       "                                 Estimate Std. Error t value Pr(>|t|)    \n",
       "(Intercept)                     -4.599865   0.811383  -5.669 1.68e-08 ***\n",
       "countryAlbania                   0.179557   0.245182   0.732 0.464059    \n",
       "countryAlgeria                   0.546894   0.240197   2.277 0.022918 *  \n",
       "countryAngola                   -1.223470   0.264719  -4.622 4.09e-06 ***\n",
       "countryArgentina                 0.240692   0.272516   0.883 0.377239    \n",
       "countryArmenia                  -0.070546   0.242628  -0.291 0.771273    \n",
       "countryAustralia                -0.008882   0.354612  -0.025 0.980021    \n",
       "countryAustria                   0.017630   0.341582   0.052 0.958843    \n",
       "countryAzerbaijan               -0.079734   0.252292  -0.316 0.752010    \n",
       "countryBahrain                  -0.661300   0.371909  -1.778 0.075560 .  \n",
       "countryBangladesh                0.631045   0.235444   2.680 0.007427 ** \n",
       "countryBelarus                   0.459056   0.375935   1.221 0.222214    \n",
       "countryBelgium                  -0.264503   0.351301  -0.753 0.451598    \n",
       "countryBelize                    1.397735   0.311219   4.491 7.56e-06 ***\n",
       "countryBenin                    -0.322974   0.169534  -1.905 0.056938 .  \n",
       "countryBhutan                   -0.554881   0.329053  -1.686 0.091921 .  \n",
       "countryBolivia                   0.691548   0.204463   3.382 0.000735 ***\n",
       "countryBosnia and Herzegovina    0.488605   0.272435   1.793 0.073073 .  \n",
       "countryBotswana                 -2.224665   0.265728  -8.372  < 2e-16 ***\n",
       "countryBrazil                    1.095984   0.266380   4.114 4.07e-05 ***\n",
       "countryBulgaria                 -0.787247   0.301924  -2.607 0.009201 ** \n",
       "countryBurkina Faso             -0.090104   0.167837  -0.537 0.591437    \n",
       "countryBurundi                   0.751872   0.222354   3.381 0.000737 ***\n",
       "countryCambodia                 -0.242261   0.225537  -1.074 0.282905    \n",
       "countryCameroon                 -0.093070   0.164081  -0.567 0.570638    \n",
       "countryCanada                    0.170024   0.330917   0.514 0.607461    \n",
       "countryCentral African Republic  0.269839   0.211962   1.273 0.203172    \n",
       "countryChad                     -0.073458   0.163630  -0.449 0.653541    \n",
       "countryChile                     0.435699   0.295494   1.474 0.140536    \n",
       "countryChina                    -0.258079   0.265867  -0.971 0.331831    \n",
       "countryColombia                  0.675389   0.252288   2.677 0.007498 ** \n",
       "countryComoros                  -0.310354   0.201689  -1.539 0.124043    \n",
       "countryCosta Rica                1.326594   0.267836   4.953 8.03e-07 ***\n",
       "countryCote d'Ivoire            -0.509102   0.196784  -2.587 0.009760 ** \n",
       "countryCroatia                   0.040336   0.294099   0.137 0.890927    \n",
       "countryCyprus                   -0.130896   0.326989  -0.400 0.688981    \n",
       "countryCzechia                   0.328644   0.311489   1.055 0.291539    \n",
       "countryDenmark                   0.148486   0.374652   0.396 0.691910    \n",
       "countryDjibouti                  0.288925   0.252120   1.146 0.251962    \n",
       "countryDominican Republic       -0.496904   0.235053  -2.114 0.034659 *  \n",
       "countryEcuador                   0.530972   0.225401   2.356 0.018601 *  \n",
       "countryEgypt                    -0.156033   0.230354  -0.677 0.498269    \n",
       "countryEl Salvador               1.644724   0.299936   5.484 4.79e-08 ***\n",
       "countryEstonia                  -0.171165   0.342665  -0.500 0.617484    \n",
       "countryEswatini                 -1.051294   0.317180  -3.315 0.000937 ***\n",
       "countryEthiopia                  0.307835   0.202466   1.520 0.128587    \n",
       "countryFinland                   0.405944   0.344122   1.180 0.238302    \n",
       "countryFrance                   -0.352807   0.358413  -0.984 0.325077    \n",
       "countryGabon                    -1.514489   0.243288  -6.225 6.04e-10 ***\n",
       "countryGambia                    0.459946   0.239385   1.921 0.054851 .  \n",
       "countryGeorgia                  -0.195551   0.250646  -0.780 0.435388    \n",
       "countryGermany                  -0.170673   0.334626  -0.510 0.610089    \n",
       "countryGhana                     0.051962   0.172058   0.302 0.762688    \n",
       "countryGreece                   -0.147380   0.319119  -0.462 0.644257    \n",
       "countryGuatemala                 1.289221   0.269789   4.779 1.92e-06 ***\n",
       "countryGuinea                   -0.054499   0.175886  -0.310 0.756711    \n",
       "countryHaiti                     0.391775   0.208898   1.875 0.060902 .  \n",
       "countryHonduras                  1.019539   0.210068   4.853 1.32e-06 ***\n",
       "countryHungary                  -0.516186   0.318512  -1.621 0.105284    \n",
       "countryIceland                   0.070719   0.359710   0.197 0.844164    \n",
       "countryIndia                    -0.229148   0.239061  -0.959 0.337930    \n",
       "countryIndonesia                -0.165894   0.245741  -0.675 0.499717    \n",
       "countryIran                     -0.344933   0.277264  -1.244 0.213647    \n",
       "countryIraq                     -0.412042   0.205865  -2.002 0.045494 *  \n",
       "countryIreland                  -0.674414   0.379838  -1.776 0.075987 .  \n",
       "countryIsrael                    0.535969   0.311468   1.721 0.085470 .  \n",
       "countryItaly                    -0.147914   0.335858  -0.440 0.659699    \n",
       "countryJamaica                   0.909075   0.253497   3.586 0.000345 ***\n",
       "countryJapan                    -1.029682   0.378595  -2.720 0.006599 ** \n",
       "countryJordan                    0.298494   0.223129   1.338 0.181149    \n",
       "countryKazakhstan               -0.215654   0.335474  -0.643 0.520418    \n",
       "countryKenya                    -0.395226   0.194536  -2.032 0.042345 *  \n",
       "countryKuwait                   -0.592800   0.370951  -1.598 0.110215    \n",
       "countryKyrgyzstan                0.799457   0.211378   3.782 0.000161 ***\n",
       "countryLaos                     -0.307164   0.228851  -1.342 0.179708    \n",
       "countryLatvia                   -0.117353   0.327645  -0.358 0.720258    \n",
       "countryLebanon                  -0.030889   0.272792  -0.113 0.909860    \n",
       "countryLesotho                  -0.774072   0.286356  -2.703 0.006936 ** \n",
       "countryLiberia                   0.332501   0.177761   1.870 0.061585 .  \n",
       "countryLibya                     0.207823   0.282148   0.737 0.461481    \n",
       "countryLithuania                -0.061182   0.345633  -0.177 0.859518    \n",
       "countryLuxembourg               -1.075622   0.401565  -2.679 0.007464 ** \n",
       "countryMadagascar                0.451681   0.185251   2.438 0.014861 *  \n",
       "countryMalawi                    0.781643   0.183344   4.263 2.12e-05 ***\n",
       "countryMalaysia                 -0.362168   0.286771  -1.263 0.206791    \n",
       "countryMali                     -0.347528   0.173006  -2.009 0.044718 *  \n",
       "countryMalta                    -0.323407   0.316713  -1.021 0.307333    \n",
       "countryMauritania               -0.504216   0.170150  -2.963 0.003085 ** \n",
       "countryMauritius                 0.373135   0.308247   1.211 0.226252    \n",
       "countryMexico                    1.211383   0.246634   4.912 9.89e-07 ***\n",
       "countryMoldova                   1.071719   0.289447   3.703 0.000220 ***\n",
       "countryMongolia                 -0.055745   0.298277  -0.187 0.851768    \n",
       "countryMontenegro                0.004444   0.271901   0.016 0.986963    \n",
       "countryMorocco                   0.932016   0.218715   4.261 2.14e-05 ***\n",
       "countryMozambique                0.893470   0.194418   4.596 4.63e-06 ***\n",
       "countryMyanmar                  -0.585201   0.261874  -2.235 0.025567 *  \n",
       "countryNamibia                  -1.091728   0.254286  -4.293 1.86e-05 ***\n",
       "countryNepal                     0.558905   0.233064   2.398 0.016588 *  \n",
       "countryNetherlands              -0.114465   0.370365  -0.309 0.757312    \n",
       "countryNew Zealand               0.036802   0.334396   0.110 0.912379    \n",
       "countryNicaragua                 1.257433   0.223836   5.618 2.25e-08 ***\n",
       "countryNiger                     0.301223   0.200776   1.500 0.133722    \n",
       "countryNigeria                  -0.448216   0.198781  -2.255 0.024270 *  \n",
       "countryNorth Macedonia          -0.061733   0.275981  -0.224 0.823029    \n",
       "countryNorway                   -0.214180   0.381353  -0.562 0.574439    \n",
       "countryPakistan                  1.002435   0.172934   5.797 8.03e-09 ***\n",
       "countryPalestine                 0.469716   0.196539   2.390 0.016959 *  \n",
       "countryPanama                    0.360085   0.271474   1.326 0.184881    \n",
       "countryParaguay                  0.253422   0.237041   1.069 0.285172    \n",
       "countryPeru                      0.371735   0.249388   1.491 0.136253    \n",
       "countryPhilippines               0.131058   0.198700   0.660 0.509612    \n",
       "countryPoland                   -0.009083   0.313501  -0.029 0.976890    \n",
       "countryPortugal                 -0.809507   0.323407  -2.503 0.012405 *  \n",
       "countryQatar                    -1.499233   0.472362  -3.174 0.001531 ** \n",
       "countryRomania                   0.109108   0.294868   0.370 0.711412    \n",
       "countryRussia                   -0.061739   0.370156  -0.167 0.867553    \n",
       "countryRwanda                   -0.527912   0.209693  -2.518 0.011908 *  \n",
       "countrySaudi Arabia             -0.203429   0.318392  -0.639 0.522956    \n",
       "countrySenegal                  -0.020011   0.166525  -0.120 0.904364    \n",
       "countrySerbia                    0.187833   0.283349   0.663 0.507482    \n",
       "countrySierra Leone              0.065918   0.172896   0.381 0.703060    \n",
       "countrySingapore                -1.572748   0.448227  -3.509 0.000462 ***\n",
       "countrySlovakia                  0.175886   0.309966   0.567 0.570491    \n",
       "countrySlovenia                 -0.506157   0.319815  -1.583 0.113684    \n",
       "countrySouth Africa             -1.075022   0.271317  -3.962 7.73e-05 ***\n",
       "countrySouth Korea              -1.103357   0.485071  -2.275 0.023051 *  \n",
       "countrySpain                    -0.009266   0.333904  -0.028 0.977865    \n",
       "countrySri Lanka                -1.380694   0.302353  -4.566 5.31e-06 ***\n",
       "countrySudan                    -0.287066   0.205116  -1.400 0.161834    \n",
       "countrySweden                   -0.079410   0.349132  -0.227 0.820102    \n",
       "countrySwitzerland              -0.228028   0.382953  -0.595 0.551622    \n",
       "countrySyria                    -0.205766   0.213444  -0.964 0.335169    \n",
       "countryTaiwan                   -0.646702   0.372967  -1.734 0.083109 .  \n",
       "countryTajikistan                0.949858   0.174080   5.456 5.57e-08 ***\n",
       "countryTanzania                 -0.733872   0.168199  -4.363 1.36e-05 ***\n",
       "countryThailand                  0.035570   0.294003   0.121 0.903718    \n",
       "countryTogo                      0.301578   0.177582   1.698 0.089642 .  \n",
       "countryTrinidad and Tobago       0.250049   0.336062   0.744 0.456943    \n",
       "countryTunisia                   0.249504   0.241228   1.034 0.301139    \n",
       "countryTurkey                   -0.312990   0.274056  -1.142 0.253587    \n",
       "countryTurkmenistan              0.282338   0.262391   1.076 0.282070    \n",
       "countryUganda                   -0.178863   0.178549  -1.002 0.316600    \n",
       "countryUkraine                   0.157308   0.324431   0.485 0.627829    \n",
       "countryUnited Arab Emirates     -0.631143   0.368578  -1.712 0.087009 .  \n",
       "countryUnited Kingdom           -0.251669   0.335658  -0.750 0.453491    \n",
       "countryUnited States            -0.075906   0.334254  -0.227 0.820380    \n",
       "countryUruguay                   0.120210   0.272095   0.442 0.658693    \n",
       "countryUzbekistan                0.946110   0.233865   4.046 5.45e-05 ***\n",
       "countryVenezuela                 0.699118   0.237926   2.938 0.003343 ** \n",
       "countryVietnam                   0.292652   0.258513   1.132 0.257769    \n",
       "countryYemen                    -0.304823   0.163933  -1.859 0.063136 .  \n",
       "countryZambia                   -0.291081   0.178140  -1.634 0.102442    \n",
       "countryZimbabwe                 -0.622813   0.204116  -3.051 0.002314 ** \n",
       "log_gdp                          1.106777   0.090883  12.178  < 2e-16 ***\n",
       "social                           1.645021   0.185223   8.881  < 2e-16 ***\n",
       "life_exp                        -0.025738   0.008214  -3.133 0.001757 ** \n",
       "freedom                          0.808122   0.128085   6.309 3.56e-10 ***\n",
       "generosity                       0.379178   0.117193   3.235 0.001237 ** \n",
       "corruption                      -0.553641   0.145091  -3.816 0.000141 ***\n",
       "alcohol                         -0.029791   0.014507  -2.054 0.040170 *  \n",
       "suicide                          0.121500   0.070224   1.730 0.083776 .  \n",
       "obesity                         -0.054653   0.017444  -3.133 0.001759 ** \n",
       "birth                            0.116440   0.056511   2.061 0.039501 *  \n",
       "mental                          -0.007670   0.040925  -0.187 0.851365    \n",
       "---\n",
       "Signif. codes:  0 '***' 0.001 '**' 0.01 '*' 0.05 '.' 0.1 ' ' 1\n",
       "\n",
       "(Dispersion parameter for gaussian family taken to be 0.1249283)\n",
       "\n",
       "    Null deviance: 2369.7  on 1880  degrees of freedom\n",
       "Residual deviance:  214.5  on 1717  degrees of freedom\n",
       "AIC: 1583.9\n",
       "\n",
       "Number of Fisher Scoring iterations: 2\n"
      ]
     },
     "metadata": {},
     "output_type": "display_data"
    }
   ],
   "source": [
    "g7= glm(HS~country+ log_gdp + social+ life_exp + freedom+ generosity+ corruption  + alcohol + \n",
    "          suicide + obesity + birth + mental, data=df, family=gaussian(identity))\n",
    "summary(g7)\n"
   ]
  },
  {
   "cell_type": "code",
   "execution_count": 29,
   "id": "8321fee7",
   "metadata": {},
   "outputs": [
    {
     "data": {
      "text/html": [
       "0.909482321409191"
      ],
      "text/latex": [
       "0.909482321409191"
      ],
      "text/markdown": [
       "0.909482321409191"
      ],
      "text/plain": [
       "[1] 0.9094823"
      ]
     },
     "metadata": {},
     "output_type": "display_data"
    }
   ],
   "source": [
    "with(summary(g7), 1 - deviance/null.deviance)"
   ]
  },
  {
   "cell_type": "code",
   "execution_count": 30,
   "id": "cc5d27ad",
   "metadata": {},
   "outputs": [
    {
     "data": {
      "text/plain": [
       "\n",
       "Call:\n",
       "glm(formula = HS ~ country + log_gdp + social + life_exp + freedom + \n",
       "    generosity + corruption + alcohol + suicide + obesity + birth + \n",
       "    mental, family = Gamma(link = inverse), data = df)\n",
       "\n",
       "Deviance Residuals: \n",
       "     Min        1Q    Median        3Q       Max  \n",
       "-0.35985  -0.03742  -0.00090   0.03521   0.29670  \n",
       "\n",
       "Coefficients:\n",
       "                                  Estimate Std. Error t value Pr(>|t|)    \n",
       "(Intercept)                      0.5802539  0.0342327  16.950  < 2e-16 ***\n",
       "countryAlbania                  -0.0354640  0.0115760  -3.064 0.002221 ** \n",
       "countryAlgeria                  -0.0455239  0.0110190  -4.131 3.78e-05 ***\n",
       "countryAngola                    0.0222487  0.0123475   1.802 0.071739 .  \n",
       "countryArgentina                -0.0287983  0.0122277  -2.355 0.018627 *  \n",
       "countryArmenia                  -0.0210255  0.0115322  -1.823 0.068446 .  \n",
       "countryAustralia                -0.0068051  0.0152619  -0.446 0.655733    \n",
       "countryAustria                  -0.0089723  0.0149708  -0.599 0.549039    \n",
       "countryAzerbaijan               -0.0238482  0.0115287  -2.069 0.038733 *  \n",
       "countryBahrain                   0.0047024  0.0162075   0.290 0.771748    \n",
       "countryBangladesh               -0.0516489  0.0111946  -4.614 4.25e-06 ***\n",
       "countryBelarus                  -0.0400073  0.0158811  -2.519 0.011853 *  \n",
       "countryBelgium                  -0.0035728  0.0152574  -0.234 0.814882    \n",
       "countryBelize                   -0.0705980  0.0125015  -5.647 1.91e-08 ***\n",
       "countryBenin                    -0.0004225  0.0090331  -0.047 0.962698    \n",
       "countryBhutan                   -0.0081431  0.0145938  -0.558 0.576930    \n",
       "countryBolivia                  -0.0506099  0.0096099  -5.266 1.57e-07 ***\n",
       "countryBosnia and Herzegovina   -0.0453390  0.0125603  -3.610 0.000315 ***\n",
       "countryBotswana                  0.0681745  0.0125630   5.427 6.56e-08 ***\n",
       "countryBrazil                   -0.0561443  0.0120853  -4.646 3.65e-06 ***\n",
       "countryBulgaria                  0.0066284  0.0134515   0.493 0.622244    \n",
       "countryBurkina Faso             -0.0135589  0.0086142  -1.574 0.115668    \n",
       "countryBurundi                  -0.0277195  0.0121219  -2.287 0.022333 *  \n",
       "countryCambodia                 -0.0121230  0.0109699  -1.105 0.269266    \n",
       "countryCameroon                 -0.0197791  0.0082579  -2.395 0.016720 *  \n",
       "countryCanada                   -0.0122193  0.0145427  -0.840 0.400893    \n",
       "countryCentral African Republic -0.0071037  0.0120437  -0.590 0.555384    \n",
       "countryChad                     -0.0111395  0.0085122  -1.309 0.190824    \n",
       "countryChile                    -0.0359449  0.0131793  -2.727 0.006449 ** \n",
       "countryChina                    -0.0196410  0.0123601  -1.589 0.112229    \n",
       "countryColombia                 -0.0460837  0.0115994  -3.973 7.39e-05 ***\n",
       "countryComoros                  -0.0017206  0.0106163  -0.162 0.871269    \n",
       "countryCosta Rica               -0.0560505  0.0120545  -4.650 3.58e-06 ***\n",
       "countryCote d'Ivoire            -0.0055314  0.0095480  -0.579 0.562446    \n",
       "countryCroatia                  -0.0277409  0.0132039  -2.101 0.035790 *  \n",
       "countryCyprus                   -0.0205071  0.0144839  -1.416 0.157000    \n",
       "countryCzechia                  -0.0282852  0.0136660  -2.070 0.038626 *  \n",
       "countryDenmark                  -0.0072959  0.0160444  -0.455 0.649359    \n",
       "countryDjibouti                 -0.0373048  0.0118429  -3.150 0.001661 ** \n",
       "countryDominican Republic       -0.0080728  0.0109670  -0.736 0.461770    \n",
       "countryEcuador                  -0.0440763  0.0104981  -4.198 2.82e-05 ***\n",
       "countryEgypt                    -0.0145134  0.0105845  -1.371 0.170493    \n",
       "countryEl Salvador              -0.0829117  0.0129896  -6.383 2.23e-10 ***\n",
       "countryEstonia                  -0.0172120  0.0147016  -1.171 0.241860    \n",
       "countryEswatini                  0.0166010  0.0147677   1.124 0.261108    \n",
       "countryEthiopia                 -0.0340629  0.0098315  -3.465 0.000544 ***\n",
       "countryFinland                  -0.0166822  0.0149042  -1.119 0.263172    \n",
       "countryFrance                   -0.0048273  0.0154023  -0.313 0.754004    \n",
       "countryGabon                     0.0332559  0.0113285   2.936 0.003373 ** \n",
       "countryGambia                   -0.0416566  0.0113230  -3.679 0.000241 ***\n",
       "countryGeorgia                  -0.0143365  0.0113761  -1.260 0.207759    \n",
       "countryGermany                  -0.0088579  0.0147625  -0.600 0.548566    \n",
       "countryGhana                    -0.0280045  0.0085580  -3.272 0.001088 ** \n",
       "countryGreece                   -0.0241754  0.0143028  -1.690 0.091161 .  \n",
       "countryGuatemala                -0.0676887  0.0117033  -5.784 8.66e-09 ***\n",
       "countryGuinea                   -0.0151991  0.0092355  -1.646 0.100005    \n",
       "countryHaiti                    -0.0267139  0.0106680  -2.504 0.012368 *  \n",
       "countryHonduras                 -0.0644556  0.0099417  -6.483 1.17e-10 ***\n",
       "countryHungary                  -0.0070215  0.0140597  -0.499 0.617558    \n",
       "countryIceland                  -0.0063880  0.0153353  -0.417 0.677057    \n",
       "countryIndia                    -0.0161828  0.0112879  -1.434 0.151857    \n",
       "countryIndonesia                -0.0221409  0.0114867  -1.928 0.054079 .  \n",
       "countryIran                     -0.0146886  0.0126607  -1.160 0.246140    \n",
       "countryIraq                     -0.0081861  0.0098637  -0.830 0.406696    \n",
       "countryIreland                   0.0131267  0.0162593   0.807 0.419585    \n",
       "countryIsrael                   -0.0274785  0.0134079  -2.049 0.040572 *  \n",
       "countryItaly                    -0.0179603  0.0149010  -1.205 0.228250    \n",
       "countryJamaica                  -0.0570261  0.0113484  -5.025 5.56e-07 ***\n",
       "countryJapan                     0.0099900  0.0165323   0.604 0.545742    \n",
       "countryJordan                   -0.0344149  0.0104699  -3.287 0.001033 ** \n",
       "countryKazakhstan               -0.0121631  0.0140649  -0.865 0.387276    \n",
       "countryKenya                    -0.0077784  0.0095215  -0.817 0.414085    \n",
       "countryKuwait                    0.0041208  0.0161521   0.255 0.798660    \n",
       "countryKyrgyzstan               -0.0530650  0.0099057  -5.357 9.60e-08 ***\n",
       "countryLaos                     -0.0171503  0.0108061  -1.587 0.112678    \n",
       "countryLatvia                   -0.0205191  0.0141931  -1.446 0.148440    \n",
       "countryLebanon                  -0.0234403  0.0125372  -1.870 0.061701 .  \n",
       "countryLesotho                   0.0264974  0.0150560   1.760 0.078598 .  \n",
       "countryLiberia                  -0.0262777  0.0093722  -2.804 0.005107 ** \n",
       "countryLibya                    -0.0305407  0.0124285  -2.457 0.014097 *  \n",
       "countryLithuania                -0.0197494  0.0148785  -1.327 0.184560    \n",
       "countryLuxembourg                0.0260554  0.0171919   1.516 0.129815    \n",
       "countryMadagascar               -0.0306738  0.0096039  -3.194 0.001429 ** \n",
       "countryMalawi                   -0.0440239  0.0093181  -4.725 2.49e-06 ***\n",
       "countryMalaysia                 -0.0125321  0.0128348  -0.976 0.328996    \n",
       "countryMali                     -0.0051309  0.0087091  -0.589 0.555842    \n",
       "countryMalta                    -0.0093789  0.0141127  -0.665 0.506414    \n",
       "countryMauritania               -0.0026326  0.0086137  -0.306 0.759921    \n",
       "countryMauritius                -0.0359202  0.0133110  -2.699 0.007033 ** \n",
       "countryMexico                   -0.0586925  0.0111013  -5.287 1.40e-07 ***\n",
       "countryMoldova                  -0.0633585  0.0128592  -4.927 9.15e-07 ***\n",
       "countryMongolia                 -0.0203672  0.0129840  -1.569 0.116916    \n",
       "countryMontenegro               -0.0272729  0.0123267  -2.213 0.027062 *  \n",
       "countryMorocco                  -0.0595641  0.0103487  -5.756 1.02e-08 ***\n",
       "countryMozambique               -0.0563886  0.0094004  -5.999 2.42e-09 ***\n",
       "countryMyanmar                  -0.0026779  0.0125805  -0.213 0.831458    \n",
       "countryNamibia                   0.0160952  0.0119146   1.351 0.176911    \n",
       "countryNepal                    -0.0466865  0.0111793  -4.176 3.11e-05 ***\n",
       "countryNetherlands              -0.0018158  0.0159160  -0.114 0.909182    \n",
       "countryNew Zealand              -0.0086423  0.0144707  -0.597 0.550436    \n",
       "countryNicaragua                -0.0699055  0.0104397  -6.696 2.89e-11 ***\n",
       "countryNiger                    -0.0288654  0.0096496  -2.991 0.002817 ** \n",
       "countryNigeria                  -0.0100605  0.0092529  -1.087 0.277066    \n",
       "countryNorth Macedonia          -0.0231711  0.0124682  -1.858 0.063281 .  \n",
       "countryNorway                    0.0027398  0.0162021   0.169 0.865739    \n",
       "countryPakistan                 -0.0659592  0.0085171  -7.744 1.63e-14 ***\n",
       "countryPalestine                -0.0390775  0.0095899  -4.075 4.81e-05 ***\n",
       "countryPanama                   -0.0292480  0.0120911  -2.419 0.015668 *  \n",
       "countryParaguay                 -0.0337945  0.0109545  -3.085 0.002068 ** \n",
       "countryPeru                     -0.0414238  0.0113759  -3.641 0.000279 ***\n",
       "countryPhilippines              -0.0316921  0.0095738  -3.310 0.000951 ***\n",
       "countryPoland                   -0.0226796  0.0138421  -1.638 0.101510    \n",
       "countryPortugal                  0.0008859  0.0144856   0.061 0.951240    \n",
       "countryQatar                     0.0399581  0.0195764   2.041 0.041390 *  \n",
       "countryRomania                  -0.0298745  0.0129669  -2.304 0.021347 *  \n",
       "countryRussia                   -0.0206968  0.0155890  -1.328 0.184469    \n",
       "countryRwanda                    0.0140656  0.0104643   1.344 0.179077    \n",
       "countrySaudi Arabia             -0.0091129  0.0139481  -0.653 0.513621    \n",
       "countrySenegal                  -0.0209815  0.0084272  -2.490 0.012878 *  \n",
       "countrySerbia                   -0.0333226  0.0127413  -2.615 0.008993 ** \n",
       "countrySierra Leone             -0.0175617  0.0090446  -1.942 0.052341 .  \n",
       "countrySingapore                 0.0348829  0.0188701   1.849 0.064690 .  \n",
       "countrySlovakia                 -0.0283197  0.0136500  -2.075 0.038163 *  \n",
       "countrySlovenia                 -0.0039499  0.0141394  -0.279 0.780005    \n",
       "countrySouth Africa              0.0137308  0.0124946   1.099 0.271948    \n",
       "countrySouth Korea               0.0136038  0.0201300   0.676 0.499260    \n",
       "countrySpain                    -0.0196378  0.0147431  -1.332 0.183038    \n",
       "countrySri Lanka                 0.0313278  0.0135155   2.318 0.020571 *  \n",
       "countrySudan                    -0.0088261  0.0103727  -0.851 0.394944    \n",
       "countrySweden                   -0.0042949  0.0150779  -0.285 0.775796    \n",
       "countrySwitzerland               0.0039407  0.0163650   0.241 0.809739    \n",
       "countrySyria                    -0.0057272  0.0109615  -0.522 0.601401    \n",
       "countryTaiwan                    0.0014772  0.0162895   0.091 0.927753    \n",
       "countryTajikistan               -0.0608401  0.0087080  -6.987 4.01e-12 ***\n",
       "countryTanzania                  0.0230425  0.0089000   2.589 0.009706 ** \n",
       "countryThailand                 -0.0245333  0.0132822  -1.847 0.064907 .  \n",
       "countryTogo                     -0.0111403  0.0099350  -1.121 0.262309    \n",
       "countryTrinidad and Tobago      -0.0263635  0.0141295  -1.866 0.062233 .  \n",
       "countryTunisia                  -0.0343180  0.0113750  -3.017 0.002591 ** \n",
       "countryTurkey                   -0.0153144  0.0125199  -1.223 0.221419    \n",
       "countryTurkmenistan             -0.0318563  0.0114208  -2.789 0.005340 ** \n",
       "countryUganda                   -0.0120827  0.0087230  -1.385 0.166186    \n",
       "countryUkraine                  -0.0284303  0.0141563  -2.008 0.044766 *  \n",
       "countryUnited Arab Emirates      0.0102049  0.0158785   0.643 0.520512    \n",
       "countryUnited Kingdom           -0.0056056  0.0146946  -0.381 0.702900    \n",
       "countryUnited States            -0.0060877  0.0146069  -0.417 0.676900    \n",
       "countryUruguay                  -0.0254920  0.0122944  -2.073 0.038278 *  \n",
       "countryUzbekistan               -0.0564803  0.0105420  -5.358 9.57e-08 ***\n",
       "countryVenezuela                -0.0453212  0.0109797  -4.128 3.84e-05 ***\n",
       "countryVietnam                  -0.0402337  0.0120296  -3.345 0.000842 ***\n",
       "countryYemen                     0.0022070  0.0088555   0.249 0.803214    \n",
       "countryZambia                   -0.0126875  0.0087215  -1.455 0.145925    \n",
       "countryZimbabwe                  0.0138578  0.0101216   1.369 0.171137    \n",
       "log_gdp                         -0.0397167  0.0037311 -10.645  < 2e-16 ***\n",
       "social                          -0.0691104  0.0081469  -8.483  < 2e-16 ***\n",
       "life_exp                         0.0010886  0.0003651   2.981 0.002910 ** \n",
       "freedom                         -0.0317394  0.0052486  -6.047 1.80e-09 ***\n",
       "generosity                      -0.0135710  0.0044395  -3.057 0.002271 ** \n",
       "corruption                       0.0174584  0.0055651   3.137 0.001735 ** \n",
       "alcohol                          0.0010181  0.0005645   1.804 0.071471 .  \n",
       "suicide                         -0.0051330  0.0026396  -1.945 0.051984 .  \n",
       "obesity                          0.0016196  0.0006663   2.431 0.015165 *  \n",
       "birth                           -0.0049879  0.0025328  -1.969 0.049072 *  \n",
       "mental                           0.0001361  0.0015907   0.086 0.931811    \n",
       "---\n",
       "Signif. codes:  0 '***' 0.001 '**' 0.01 '*' 0.05 '.' 0.1 ' ' 1\n",
       "\n",
       "(Dispersion parameter for Gamma family taken to be 0.005634605)\n",
       "\n",
       "    Null deviance: 82.449  on 1880  degrees of freedom\n",
       "Residual deviance:  9.774  on 1717  degrees of freedom\n",
       "AIC: 2091.9\n",
       "\n",
       "Number of Fisher Scoring iterations: 4\n"
      ]
     },
     "metadata": {},
     "output_type": "display_data"
    }
   ],
   "source": [
    "g8= glm(HS~country+ log_gdp + social+ life_exp + freedom+ generosity+ corruption  + alcohol + \n",
    "          suicide + obesity + birth + mental, data=df, family=Gamma(link=inverse))\n",
    "summary(g8)"
   ]
  },
  {
   "cell_type": "code",
   "execution_count": 31,
   "id": "a7f7e5ad",
   "metadata": {},
   "outputs": [
    {
     "data": {
      "text/html": [
       "0.881454177968571"
      ],
      "text/latex": [
       "0.881454177968571"
      ],
      "text/markdown": [
       "0.881454177968571"
      ],
      "text/plain": [
       "[1] 0.8814542"
      ]
     },
     "metadata": {},
     "output_type": "display_data"
    }
   ],
   "source": [
    "with(summary(g8), 1 - deviance/null.deviance)"
   ]
  },
  {
   "cell_type": "code",
   "execution_count": 32,
   "id": "04b40e7a",
   "metadata": {},
   "outputs": [
    {
     "data": {
      "text/plain": [
       "\n",
       "Call:\n",
       "glm(formula = HS ~ country + log_gdp + social + life_exp + freedom + \n",
       "    generosity + corruption + alcohol + suicide + obesity + birth + \n",
       "    mental, family = Gamma(link = identity), data = df)\n",
       "\n",
       "Deviance Residuals: \n",
       "     Min        1Q    Median        3Q       Max  \n",
       "-0.36473  -0.03673  -0.00088   0.03457   0.29188  \n",
       "\n",
       "Coefficients:\n",
       "                                 Estimate Std. Error t value Pr(>|t|)    \n",
       "(Intercept)                     -4.303341   0.810612  -5.309 1.25e-07 ***\n",
       "countryAlbania                   0.360644   0.227958   1.582 0.113819    \n",
       "countryAlgeria                   0.649935   0.235185   2.764 0.005780 ** \n",
       "countryAngola                   -1.116691   0.255699  -4.367 1.33e-05 ***\n",
       "countryArgentina                 0.408976   0.272625   1.500 0.133761    \n",
       "countryArmenia                   0.122519   0.223503   0.548 0.583643    \n",
       "countryAustralia                 0.127736   0.370007   0.345 0.729966    \n",
       "countryAustria                   0.240666   0.350804   0.686 0.492780    \n",
       "countryAzerbaijan                0.090015   0.245426   0.367 0.713836    \n",
       "countryBahrain                  -0.476203   0.373405  -1.275 0.202376    \n",
       "countryBangladesh                0.776595   0.221501   3.506 0.000466 ***\n",
       "countryBelarus                   0.559334   0.399413   1.400 0.161577    \n",
       "countryBelgium                  -0.041847   0.361368  -0.116 0.907823    \n",
       "countryBelize                    1.502783   0.366635   4.099 4.35e-05 ***\n",
       "countryBenin                    -0.248775   0.146228  -1.701 0.089071 .  \n",
       "countryBhutan                   -0.430561   0.331689  -1.298 0.194432    \n",
       "countryBolivia                   0.789770   0.199544   3.958 7.87e-05 ***\n",
       "countryBosnia and Herzegovina    0.687606   0.259636   2.648 0.008163 ** \n",
       "countryBotswana                 -2.052168   0.246366  -8.330  < 2e-16 ***\n",
       "countryBrazil                    1.195654   0.266317   4.490 7.61e-06 ***\n",
       "countryBulgaria                 -0.552972   0.299332  -1.847 0.064868 .  \n",
       "countryBurkina Faso             -0.033727   0.151155  -0.223 0.823462    \n",
       "countryBurundi                   0.770765   0.193276   3.988 6.95e-05 ***\n",
       "countryCambodia                 -0.168679   0.207121  -0.814 0.415530    \n",
       "countryCameroon                  0.004234   0.149267   0.028 0.977376    \n",
       "countryCanada                    0.364619   0.339399   1.074 0.282836    \n",
       "countryCentral African Republic  0.293330   0.169699   1.729 0.084073 .  \n",
       "countryChad                     -0.011234   0.146525  -0.077 0.938896    \n",
       "countryChile                     0.571554   0.296823   1.926 0.054323 .  \n",
       "countryChina                    -0.101339   0.253051  -0.400 0.688862    \n",
       "countryColombia                  0.854466   0.246958   3.460 0.000553 ***\n",
       "countryComoros                  -0.237389   0.175750  -1.351 0.176962    \n",
       "countryCosta Rica                1.484791   0.275408   5.391 7.97e-08 ***\n",
       "countryCote d'Ivoire            -0.398708   0.183751  -2.170 0.030156 *  \n",
       "countryCroatia                   0.292971   0.290215   1.009 0.312879    \n",
       "countryCyprus                    0.019163   0.327375   0.059 0.953329    \n",
       "countryCzechia                   0.591837   0.318726   1.857 0.063499 .  \n",
       "countryDenmark                   0.278213   0.394441   0.705 0.480698    \n",
       "countryDjibouti                  0.357235   0.240731   1.484 0.138004    \n",
       "countryDominican Republic       -0.328371   0.223212  -1.471 0.141442    \n",
       "countryEcuador                   0.675515   0.218971   3.085 0.002068 ** \n",
       "countryEgypt                     0.002253   0.226327   0.010 0.992058    \n",
       "countryEl Salvador               1.653394   0.316700   5.221 2.00e-07 ***\n",
       "countryEstonia                  -0.028010   0.357348  -0.078 0.937532    \n",
       "countryEswatini                 -0.848312   0.300800  -2.820 0.004855 ** \n",
       "countryEthiopia                  0.365391   0.192834   1.895 0.058280 .  \n",
       "countryFinland                   0.569006   0.361073   1.576 0.115238    \n",
       "countryFrance                   -0.190272   0.371878  -0.512 0.608961    \n",
       "countryGabon                    -1.325376   0.232441  -5.702 1.39e-08 ***\n",
       "countryGambia                    0.496549   0.231840   2.142 0.032352 *  \n",
       "countryGeorgia                   0.007009   0.247142   0.028 0.977377    \n",
       "countryGermany                   0.016900   0.338469   0.050 0.960183    \n",
       "countryGhana                     0.148089   0.157065   0.943 0.345890    \n",
       "countryGreece                    0.001458   0.312684   0.005 0.996280    \n",
       "countryGuatemala                 1.301429   0.287254   4.531 6.29e-06 ***\n",
       "countryGuinea                   -0.003453   0.152040  -0.023 0.981885    \n",
       "countryHaiti                     0.425851   0.178802   2.382 0.017342 *  \n",
       "countryHonduras                  1.074721   0.203045   5.293 1.36e-07 ***\n",
       "countryHungary                  -0.252201   0.317533  -0.794 0.427159    \n",
       "countryIceland                   0.255084   0.386985   0.659 0.509883    \n",
       "countryIndia                    -0.026542   0.227260  -0.117 0.907040    \n",
       "countryIndonesia                -0.010859   0.232404  -0.047 0.962738    \n",
       "countryIran                     -0.253473   0.266911  -0.950 0.342421    \n",
       "countryIraq                     -0.265171   0.191932  -1.382 0.167277    \n",
       "countryIreland                  -0.502026   0.395110  -1.271 0.204044    \n",
       "countryIsrael                    0.681769   0.328544   2.075 0.038124 *  \n",
       "countryItaly                     0.039077   0.334857   0.117 0.907113    \n",
       "countryJamaica                   1.036590   0.259013   4.002 6.55e-05 ***\n",
       "countryJapan                    -0.753196   0.382684  -1.968 0.049207 *  \n",
       "countryJordan                    0.364432   0.211710   1.721 0.085363 .  \n",
       "countryKazakhstan                0.030798   0.357460   0.086 0.931351    \n",
       "countryKenya                    -0.302256   0.181129  -1.669 0.095353 .  \n",
       "countryKuwait                   -0.450355   0.372527  -1.209 0.226860    \n",
       "countryKyrgyzstan                0.883217   0.206975   4.267 2.09e-05 ***\n",
       "countryLaos                     -0.167918   0.216558  -0.775 0.438213    \n",
       "countryLatvia                    0.059612   0.337174   0.177 0.859687    \n",
       "countryLebanon                   0.081527   0.259041   0.315 0.753007    \n",
       "countryLesotho                  -0.625396   0.247769  -2.524 0.011689 *  \n",
       "countryLiberia                   0.393234   0.152816   2.573 0.010158 *  \n",
       "countryLibya                     0.398492   0.287266   1.387 0.165564    \n",
       "countryLithuania                 0.185312   0.356593   0.520 0.603358    \n",
       "countryLuxembourg               -0.851345   0.415685  -2.048 0.040706 *  \n",
       "countryMadagascar                0.504658   0.162551   3.105 0.001936 ** \n",
       "countryMalawi                    0.779440   0.165037   4.723 2.52e-06 ***\n",
       "countryMalaysia                 -0.202049   0.285073  -0.709 0.478569    \n",
       "countryMali                     -0.285808   0.158871  -1.799 0.072195 .  \n",
       "countryMalta                    -0.148941   0.317305  -0.469 0.638849    \n",
       "countryMauritania               -0.398827   0.152755  -2.611 0.009109 ** \n",
       "countryMauritius                 0.565529   0.321747   1.758 0.078980 .  \n",
       "countryMexico                    1.370797   0.252497   5.429 6.48e-08 ***\n",
       "countryMoldova                   1.229624   0.292148   4.209 2.70e-05 ***\n",
       "countryMongolia                  0.045878   0.309970   0.148 0.882355    \n",
       "countryMontenegro                0.241468   0.265591   0.909 0.363387    \n",
       "countryMorocco                   1.049397   0.205940   5.096 3.86e-07 ***\n",
       "countryMozambique                0.917518   0.184665   4.969 7.42e-07 ***\n",
       "countryMyanmar                  -0.453022   0.239258  -1.893 0.058467 .  \n",
       "countryNamibia                  -0.919596   0.240861  -3.818 0.000139 ***\n",
       "countryNepal                     0.634646   0.216518   2.931 0.003422 ** \n",
       "countryNetherlands               0.051200   0.387177   0.132 0.894812    \n",
       "countryNew Zealand               0.194711   0.348886   0.558 0.576853    \n",
       "countryNicaragua                 1.300073   0.219888   5.912 4.06e-09 ***\n",
       "countryNiger                     0.314617   0.190717   1.650 0.099196 .  \n",
       "countryNigeria                  -0.364866   0.195711  -1.864 0.062449 .  \n",
       "countryNorth Macedonia           0.145374   0.269522   0.539 0.589697    \n",
       "countryNorway                   -0.052554   0.406409  -0.129 0.897126    \n",
       "countryPakistan                  1.117119   0.160735   6.950 5.17e-12 ***\n",
       "countryPalestine                 0.495311   0.180942   2.737 0.006256 ** \n",
       "countryPanama                    0.559612   0.277202   2.019 0.043665 *  \n",
       "countryParaguay                  0.336358   0.230790   1.457 0.145184    \n",
       "countryPeru                      0.475699   0.246489   1.930 0.053784 .  \n",
       "countryPhilippines               0.259153   0.185047   1.400 0.161554    \n",
       "countryPoland                    0.212825   0.316976   0.671 0.502040    \n",
       "countryPortugal                 -0.631517   0.317409  -1.990 0.046793 *  \n",
       "countryQatar                    -1.266701   0.501373  -2.526 0.011611 *  \n",
       "countryRomania                   0.349859   0.297567   1.176 0.239865    \n",
       "countryRussia                    0.113524   0.392281   0.289 0.772314    \n",
       "countryRwanda                   -0.445754   0.195163  -2.284 0.022492 *  \n",
       "countrySaudi Arabia             -0.065436   0.321385  -0.204 0.838684    \n",
       "countrySenegal                   0.070243   0.151041   0.465 0.641948    \n",
       "countrySerbia                    0.401637   0.279119   1.439 0.150348    \n",
       "countrySierra Leone              0.127003   0.148739   0.854 0.393299    \n",
       "countrySingapore                -1.348318   0.467506  -2.884 0.003975 ** \n",
       "countrySlovakia                  0.424518   0.313377   1.355 0.175705    \n",
       "countrySlovenia                 -0.254074   0.321529  -0.790 0.429516    \n",
       "countrySouth Africa             -0.853073   0.256392  -3.327 0.000896 ***\n",
       "countrySouth Korea              -0.733381   0.514189  -1.426 0.153968    \n",
       "countrySpain                     0.151063   0.336539   0.449 0.653580    \n",
       "countrySri Lanka                -1.139118   0.304014  -3.747 0.000185 ***\n",
       "countrySudan                    -0.201156   0.182736  -1.101 0.271137    \n",
       "countrySweden                    0.087224   0.363304   0.240 0.810292    \n",
       "countrySwitzerland              -0.020080   0.405018  -0.050 0.960464    \n",
       "countrySyria                    -0.187229   0.183530  -1.020 0.307798    \n",
       "countryTaiwan                   -0.342465   0.375925  -0.911 0.362427    \n",
       "countryTajikistan                1.023609   0.157610   6.495 1.09e-10 ***\n",
       "countryTanzania                 -0.685320   0.148697  -4.609 4.35e-06 ***\n",
       "countryThailand                  0.221687   0.290481   0.763 0.445466    \n",
       "countryTogo                      0.317337   0.145286   2.184 0.029081 *  \n",
       "countryTrinidad and Tobago       0.485642   0.362120   1.341 0.180062    \n",
       "countryTunisia                   0.339007   0.225037   1.506 0.132135    \n",
       "countryTurkey                   -0.140973   0.262324  -0.537 0.591061    \n",
       "countryTurkmenistan              0.504814   0.274525   1.839 0.066108 .  \n",
       "countryUganda                   -0.141237   0.170903  -0.826 0.408683    \n",
       "countryUkraine                   0.303154   0.334094   0.907 0.364327    \n",
       "countryUnited Arab Emirates     -0.378383   0.376879  -1.004 0.315524    \n",
       "countryUnited Kingdom           -0.093225   0.343569  -0.271 0.786159    \n",
       "countryUnited States             0.124289   0.341252   0.364 0.715741    \n",
       "countryUruguay                   0.307589   0.270355   1.138 0.255395    \n",
       "countryUzbekistan                1.110716   0.235931   4.708 2.71e-06 ***\n",
       "countryVenezuela                 0.821792   0.231212   3.554 0.000389 ***\n",
       "countryVietnam                   0.443454   0.248728   1.783 0.074781 .  \n",
       "countryYemen                    -0.223437   0.134443  -1.662 0.096706 .  \n",
       "countryZambia                   -0.224094   0.167816  -1.335 0.181936    \n",
       "countryZimbabwe                 -0.486888   0.186163  -2.615 0.008991 ** \n",
       "log_gdp                          1.054695   0.092962  11.345  < 2e-16 ***\n",
       "social                           1.627989   0.178526   9.119  < 2e-16 ***\n",
       "life_exp                        -0.026990   0.007863  -3.433 0.000612 ***\n",
       "freedom                          0.813278   0.132346   6.145 9.91e-10 ***\n",
       "generosity                       0.400807   0.130337   3.075 0.002137 ** \n",
       "corruption                      -0.563763   0.155473  -3.626 0.000296 ***\n",
       "alcohol                         -0.019500   0.016256  -1.200 0.230481    \n",
       "suicide                          0.077886   0.080202   0.971 0.331624    \n",
       "obesity                         -0.057127   0.019900  -2.871 0.004146 ** \n",
       "birth                            0.131295   0.052656   2.493 0.012743 *  \n",
       "mental                           0.022223   0.045353   0.490 0.624193    \n",
       "---\n",
       "Signif. codes:  0 '***' 0.001 '**' 0.01 '*' 0.05 '.' 0.1 ' ' 1\n",
       "\n",
       "(Dispersion parameter for Gamma family taken to be 0.005550615)\n",
       "\n",
       "    Null deviance: 82.4490  on 1880  degrees of freedom\n",
       "Residual deviance:  9.5937  on 1717  degrees of freedom\n",
       "AIC: 2056.9\n",
       "\n",
       "Number of Fisher Scoring iterations: 6\n"
      ]
     },
     "metadata": {},
     "output_type": "display_data"
    }
   ],
   "source": [
    "g9= glm(HS~country+ log_gdp + social+ life_exp + freedom+ generosity+ corruption  + alcohol + \n",
    "          suicide + obesity + birth + mental, data=df, family=Gamma(link=identity))\n",
    "summary(g9)"
   ]
  },
  {
   "cell_type": "code",
   "execution_count": 33,
   "id": "d64cbf65",
   "metadata": {},
   "outputs": [
    {
     "data": {
      "text/html": [
       "0.883640856943562"
      ],
      "text/latex": [
       "0.883640856943562"
      ],
      "text/markdown": [
       "0.883640856943562"
      ],
      "text/plain": [
       "[1] 0.8836409"
      ]
     },
     "metadata": {},
     "output_type": "display_data"
    }
   ],
   "source": [
    "with(summary(g9), 1 - deviance/null.deviance)"
   ]
  },
  {
   "cell_type": "code",
   "execution_count": 34,
   "id": "bef80fca",
   "metadata": {},
   "outputs": [
    {
     "data": {
      "text/plain": [
       "\n",
       "Call:\n",
       "glm(formula = HS ~ country + log_gdp + social + life_exp + freedom + \n",
       "    generosity + corruption + alcohol + suicide + obesity + birth + \n",
       "    mental, family = Gamma(link = log), data = df)\n",
       "\n",
       "Deviance Residuals: \n",
       "     Min        1Q    Median        3Q       Max  \n",
       "-0.35460  -0.03672  -0.00137   0.03452   0.28974  \n",
       "\n",
       "Coefficients:\n",
       "                                  Estimate Std. Error t value Pr(>|t|)    \n",
       "(Intercept)                     -0.3270867  0.1711705  -1.911 0.056186 .  \n",
       "countryAlbania                   0.1089001  0.0517238   2.105 0.035400 *  \n",
       "countryAlgeria                   0.1625085  0.0506723   3.207 0.001366 ** \n",
       "countryAngola                   -0.1914501  0.0558455  -3.428 0.000622 ***\n",
       "countryArgentina                 0.0820512  0.0574902   1.427 0.153698    \n",
       "countryArmenia                   0.0499164  0.0511852   0.975 0.329593    \n",
       "countryAustralia                -0.0207246  0.0748095  -0.277 0.781789    \n",
       "countryAustria                  -0.0028104  0.0720607  -0.039 0.968894    \n",
       "countryAzerbaijan                0.0505612  0.0532237   0.950 0.342259    \n",
       "countryBahrain                  -0.0950760  0.0784584  -1.212 0.225755    \n",
       "countryBangladesh                0.1938364  0.0496695   3.903 9.89e-05 ***\n",
       "countryBelarus                   0.1298032  0.0793077   1.637 0.101876    \n",
       "countryBelgium                  -0.0437078  0.0741108  -0.590 0.555427    \n",
       "countryBelize                    0.3082752  0.0656551   4.695 2.87e-06 ***\n",
       "countryBenin                    -0.0337763  0.0357652  -0.944 0.345104    \n",
       "countryBhutan                   -0.0494194  0.0694175  -0.712 0.476614    \n",
       "countryBolivia                   0.1860855  0.0431339   4.314 1.69e-05 ***\n",
       "countryBosnia and Herzegovina    0.1685846  0.0574733   2.933 0.003399 ** \n",
       "countryBotswana                 -0.4059178  0.0560583  -7.241 6.69e-13 ***\n",
       "countryBrazil                    0.2320960  0.0561958   4.130 3.80e-05 ***\n",
       "countryBulgaria                 -0.0910878  0.0636942  -1.430 0.152876    \n",
       "countryBurkina Faso              0.0196761  0.0354071   0.556 0.578481    \n",
       "countryBurundi                   0.1525680  0.0469080   3.252 0.001166 ** \n",
       "countryCambodia                  0.0001914  0.0475795   0.004 0.996792    \n",
       "countryCameroon                  0.0333379  0.0346147   0.963 0.335626    \n",
       "countryCanada                    0.0166330  0.0698106   0.238 0.811709    \n",
       "countryCentral African Republic  0.0462856  0.0447158   1.035 0.300765    \n",
       "countryChad                      0.0178043  0.0345196   0.516 0.606080    \n",
       "countryChile                     0.1157397  0.0623378   1.857 0.063532 .  \n",
       "countryChina                     0.0158007  0.0560876   0.282 0.778197    \n",
       "countryColombia                  0.1754008  0.0532229   3.296 0.001002 ** \n",
       "countryComoros                  -0.0296699  0.0425485  -0.697 0.485698    \n",
       "countryCosta Rica                0.2536522  0.0565030   4.489 7.63e-06 ***\n",
       "countryCote d'Ivoire            -0.0476159  0.0415139  -1.147 0.251546    \n",
       "countryCroatia                   0.0749907  0.0620435   1.209 0.226953    \n",
       "countryCyprus                    0.0232182  0.0689819   0.337 0.736472    \n",
       "countryCzechia                   0.0969221  0.0657121   1.475 0.140409    \n",
       "countryDenmark                  -0.0131783  0.0790370  -0.167 0.867597    \n",
       "countryDjibouti                  0.1127738  0.0531876   2.120 0.034124 *  \n",
       "countryDominican Republic       -0.0376618  0.0495872  -0.760 0.447653    \n",
       "countryEcuador                   0.1555741  0.0475508   3.272 0.001090 ** \n",
       "countryEgypt                     0.0232412  0.0485958   0.478 0.632530    \n",
       "countryEl Salvador               0.3558603  0.0632749   5.624 2.17e-08 ***\n",
       "countryEstonia                   0.0114064  0.0722890   0.158 0.874642    \n",
       "countryEswatini                 -0.1533459  0.0669127  -2.292 0.022042 *  \n",
       "countryEthiopia                  0.1108373  0.0427124   2.595 0.009541 ** \n",
       "countryFinland                   0.0431920  0.0725964   0.595 0.551948    \n",
       "countryFrance                   -0.0518355  0.0756112  -0.686 0.493087    \n",
       "countryGabon                    -0.2440234  0.0513243  -4.755 2.16e-06 ***\n",
       "countryGambia                    0.1428292  0.0505010   2.828 0.004735 ** \n",
       "countryGeorgia                   0.0217381  0.0528767   0.411 0.681044    \n",
       "countryGermany                  -0.0194698  0.0705932  -0.276 0.782733    \n",
       "countryGhana                     0.0686504  0.0362976   1.891 0.058750 .  \n",
       "countryGreece                    0.0369535  0.0673217   0.549 0.583139    \n",
       "countryGuatemala                 0.2771293  0.0569151   4.869 1.22e-06 ***\n",
       "countryGuinea                    0.0275855  0.0371051   0.743 0.457317    \n",
       "countryHaiti                     0.1030481  0.0440694   2.338 0.019485 *  \n",
       "countryHonduras                  0.2570990  0.0443163   5.801 7.81e-09 ***\n",
       "countryHungary                  -0.0340480  0.0671937  -0.507 0.612421    \n",
       "countryIceland                  -0.0102133  0.0758849  -0.135 0.892952    \n",
       "countryIndia                     0.0174541  0.0504327   0.346 0.729320    \n",
       "countryIndonesia                 0.0348830  0.0518418   0.673 0.501118    \n",
       "countryIran                     -0.0103442  0.0584919  -0.177 0.859648    \n",
       "countryIraq                     -0.0250153  0.0434295  -0.576 0.564692    \n",
       "countryIreland                  -0.1356485  0.0801311  -1.693 0.090669 .  \n",
       "countryIsrael                    0.0963351  0.0657078   1.466 0.142800    \n",
       "countryItaly                     0.0171561  0.0708530   0.242 0.808704    \n",
       "countryJamaica                   0.2315096  0.0534780   4.329 1.58e-05 ***\n",
       "countryJapan                    -0.1425913  0.0798689  -1.785 0.074386 .  \n",
       "countryJordan                    0.1065416  0.0470715   2.263 0.023736 *  \n",
       "countryKazakhstan               -0.0003125  0.0707721  -0.004 0.996477    \n",
       "countryKenya                    -0.0270168  0.0410396  -0.658 0.510426    \n",
       "countryKuwait                   -0.0939781  0.0782564  -1.201 0.229956    \n",
       "countryKyrgyzstan                0.2071050  0.0445926   4.644 3.67e-06 ***\n",
       "countryLaos                      0.0034765  0.0482787   0.072 0.942603    \n",
       "countryLatvia                    0.0319620  0.0691204   0.462 0.643845    \n",
       "countryLebanon                   0.0495775  0.0575486   0.861 0.389089    \n",
       "countryLesotho                  -0.1423560  0.0604100  -2.356 0.018560 *  \n",
       "countryLiberia                   0.0995114  0.0375007   2.654 0.008037 ** \n",
       "countryLibya                     0.0943035  0.0595222   1.584 0.113300    \n",
       "countryLithuania                 0.0363688  0.0729151   0.499 0.617996    \n",
       "countryLuxembourg               -0.2074126  0.0847146  -2.448 0.014450 *  \n",
       "countryMadagascar                0.1239644  0.0390809   3.172 0.001541 ** \n",
       "countryMalawi                    0.1855297  0.0386785   4.797 1.75e-06 ***\n",
       "countryMalaysia                 -0.0188497  0.0604976  -0.312 0.755399    \n",
       "countryMali                     -0.0286838  0.0364975  -0.786 0.432028    \n",
       "countryMalta                    -0.0257137  0.0668141  -0.385 0.700393    \n",
       "countryMauritania               -0.0503525  0.0358952  -1.403 0.160867    \n",
       "countryMauritius                 0.1242417  0.0650282   1.911 0.056225 .  \n",
       "countryMexico                    0.2572563  0.0520303   4.944 8.39e-07 ***\n",
       "countryMoldova                   0.2652463  0.0610621   4.344 1.48e-05 ***\n",
       "countryMongolia                  0.0317849  0.0629249   0.505 0.613537    \n",
       "countryMontenegro                0.0718850  0.0573606   1.253 0.210299    \n",
       "countryMorocco                   0.2443412  0.0461404   5.296 1.34e-07 ***\n",
       "countryMozambique                0.2242527  0.0410147   5.468 5.23e-08 ***\n",
       "countryMyanmar                  -0.0566643  0.0552453  -1.026 0.305185    \n",
       "countryNamibia                  -0.1590867  0.0536445  -2.966 0.003063 ** \n",
       "countryNepal                     0.1686474  0.0491675   3.430 0.000618 ***\n",
       "countryNetherlands              -0.0451987  0.0781326  -0.578 0.563011    \n",
       "countryNew Zealand              -0.0097405  0.0705446  -0.138 0.890197    \n",
       "countryNicaragua                 0.2901465  0.0472208   6.144 9.95e-10 ***\n",
       "countryNiger                     0.0964992  0.0423559   2.278 0.022831 *  \n",
       "countryNigeria                  -0.0337425  0.0419351  -0.805 0.421141    \n",
       "countryNorth Macedonia           0.0561043  0.0582214   0.964 0.335363    \n",
       "countryNorway                   -0.0698151  0.0804506  -0.868 0.385625    \n",
       "countryPakistan                  0.2656979  0.0364823   7.283 4.95e-13 ***\n",
       "countryPalestine                 0.1379258  0.0414622   3.327 0.000898 ***\n",
       "countryPanama                    0.0956584  0.0572705   1.670 0.095044 .  \n",
       "countryParaguay                  0.0971466  0.0500065   1.943 0.052218 .  \n",
       "countryPeru                      0.1311805  0.0526113   2.493 0.012746 *  \n",
       "countryPhilippines               0.0868252  0.0419180   2.071 0.038479 *  \n",
       "countryPoland                    0.0483643  0.0661366   0.731 0.464709    \n",
       "countryPortugal                 -0.0958628  0.0682264  -1.405 0.160182    \n",
       "countryQatar                    -0.2847543  0.0996501  -2.858 0.004321 ** \n",
       "countryRomania                   0.0891710  0.0622058   1.433 0.151902    \n",
       "countryRussia                    0.0334607  0.0780886   0.428 0.668344    \n",
       "countryRwanda                   -0.0907325  0.0442372  -2.051 0.040414 *  \n",
       "countrySaudi Arabia             -0.0219437  0.0671684  -0.327 0.743937    \n",
       "countrySenegal                   0.0461399  0.0351304   1.313 0.189227    \n",
       "countrySerbia                    0.1052683  0.0597757   1.761 0.078407 .  \n",
       "countrySierra Leone              0.0471384  0.0364745   1.292 0.196404    \n",
       "countrySingapore                -0.2789808  0.0945586  -2.950 0.003217 ** \n",
       "countrySlovakia                  0.0867451  0.0653907   1.327 0.184829    \n",
       "countrySlovenia                 -0.0514599  0.0674685  -0.763 0.445732    \n",
       "countrySouth Africa             -0.1486358  0.0572373  -2.597 0.009489 ** \n",
       "countrySouth Korea              -0.1564361  0.1023311  -1.529 0.126517    \n",
       "countrySpain                     0.0294212  0.0704408   0.418 0.676239    \n",
       "countrySri Lanka                -0.2222162  0.0637849  -3.484 0.000507 ***\n",
       "countrySudan                    -0.0121608  0.0432715  -0.281 0.778718    \n",
       "countrySweden                   -0.0341100  0.0736533  -0.463 0.643341    \n",
       "countrySwitzerland              -0.0712356  0.0807882  -0.882 0.378031    \n",
       "countrySyria                    -0.0136309  0.0450284  -0.303 0.762141    \n",
       "countryTaiwan                   -0.0803332  0.0786817  -1.021 0.307403    \n",
       "countryTajikistan                0.2457613  0.0367240   6.692 2.97e-11 ***\n",
       "countryTanzania                 -0.1343258  0.0354834  -3.786 0.000159 ***\n",
       "countryThailand                  0.0532631  0.0620233   0.859 0.390593    \n",
       "countryTogo                      0.0595882  0.0374629   1.591 0.111886    \n",
       "countryTrinidad and Tobago       0.0856386  0.0708960   1.208 0.227234    \n",
       "countryTunisia                   0.1071044  0.0508898   2.105 0.035468 *  \n",
       "countryTurkey                    0.0017393  0.0578153   0.030 0.976004    \n",
       "countryTurkmenistan              0.1088353  0.0553544   1.966 0.049441 *  \n",
       "countryUganda                    0.0033809  0.0376669   0.090 0.928489    \n",
       "countryUkraine                   0.0833835  0.0684423   1.218 0.223276    \n",
       "countryUnited Arab Emirates     -0.1130704  0.0777557  -1.454 0.146080    \n",
       "countryUnited Kingdom           -0.0394397  0.0708108  -0.557 0.577618    \n",
       "countryUnited States            -0.0185596  0.0705147  -0.263 0.792427    \n",
       "countryUruguay                   0.0612002  0.0574015   1.066 0.286493    \n",
       "countryUzbekistan                0.2358667  0.0493364   4.781 1.90e-06 ***\n",
       "countryVenezuela                 0.1749715  0.0501931   3.486 0.000503 ***\n",
       "countryVietnam                   0.1256933  0.0545363   2.305 0.021299 *  \n",
       "countryYemen                    -0.0396707  0.0345835  -1.147 0.251500    \n",
       "countryZambia                   -0.0082776  0.0375807  -0.220 0.825693    \n",
       "countryZimbabwe                 -0.0982818  0.0430605  -2.282 0.022587 *  \n",
       "log_gdp                          0.2152908  0.0191729  11.229  < 2e-16 ***\n",
       "social                           0.3468571  0.0390749   8.877  < 2e-16 ***\n",
       "life_exp                        -0.0058297  0.0017328  -3.364 0.000784 ***\n",
       "freedom                          0.1675762  0.0270210   6.202 6.98e-10 ***\n",
       "generosity                       0.0745597  0.0247233   3.016 0.002601 ** \n",
       "corruption                      -0.1097233  0.0306086  -3.585 0.000347 ***\n",
       "alcohol                         -0.0045506  0.0030604  -1.487 0.137219    \n",
       "suicide                          0.0238955  0.0148145   1.613 0.106933    \n",
       "obesity                         -0.0104940  0.0036800  -2.852 0.004402 ** \n",
       "birth                            0.0260638  0.0119216   2.186 0.028930 *  \n",
       "mental                           0.0021185  0.0086337   0.245 0.806192    \n",
       "---\n",
       "Signif. codes:  0 '***' 0.001 '**' 0.01 '*' 0.05 '.' 0.1 ' ' 1\n",
       "\n",
       "(Dispersion parameter for Gamma family taken to be 0.005559894)\n",
       "\n",
       "    Null deviance: 82.4490  on 1880  degrees of freedom\n",
       "Residual deviance:  9.6235  on 1717  degrees of freedom\n",
       "AIC: 2062.7\n",
       "\n",
       "Number of Fisher Scoring iterations: 4\n"
      ]
     },
     "metadata": {},
     "output_type": "display_data"
    }
   ],
   "source": [
    "g10= glm(HS~country+ log_gdp + social+ life_exp + freedom+ generosity+ corruption  + alcohol + \n",
    "          suicide + obesity + birth + mental, data=df, family=Gamma(link=log))\n",
    "summary(g10)"
   ]
  },
  {
   "cell_type": "code",
   "execution_count": 35,
   "id": "678254a4",
   "metadata": {},
   "outputs": [
    {
     "data": {
      "text/html": [
       "0.883279137579229"
      ],
      "text/latex": [
       "0.883279137579229"
      ],
      "text/markdown": [
       "0.883279137579229"
      ],
      "text/plain": [
       "[1] 0.8832791"
      ]
     },
     "metadata": {},
     "output_type": "display_data"
    }
   ],
   "source": [
    "with(summary(g10), 1 - deviance/null.deviance)"
   ]
  },
  {
   "cell_type": "code",
   "execution_count": 36,
   "id": "2af1b43e",
   "metadata": {},
   "outputs": [
    {
     "data": {
      "text/plain": [
       "\n",
       "Call:\n",
       "glm(formula = HS ~ country + log_gdp + social + life_exp + freedom + \n",
       "    generosity + corruption + alcohol + suicide + obesity + birth + \n",
       "    mental, family = inverse.gaussian(link = 1/mu^2), data = df)\n",
       "\n",
       "Deviance Residuals: \n",
       "      Min         1Q     Median         3Q        Max  \n",
       "-0.200807  -0.016237  -0.000307   0.015686   0.144770  \n",
       "\n",
       "Coefficients:\n",
       "                                  Estimate Std. Error t value Pr(>|t|)    \n",
       "(Intercept)                      1.896e-01  1.419e-02  13.361  < 2e-16 ***\n",
       "countryAlbania                  -2.189e-02  5.176e-03  -4.230 2.46e-05 ***\n",
       "countryAlgeria                  -2.510e-02  4.902e-03  -5.120 3.40e-07 ***\n",
       "countryAngola                    9.475e-04  5.560e-03   0.170 0.864713    \n",
       "countryArgentina                -1.863e-02  5.368e-03  -3.470 0.000533 ***\n",
       "countryArmenia                  -1.520e-02  5.179e-03  -2.935 0.003377 ** \n",
       "countryAustralia                -9.439e-03  6.546e-03  -1.442 0.149501    \n",
       "countryAustria                  -1.040e-02  6.473e-03  -1.607 0.108144    \n",
       "countryAzerbaijan               -1.721e-02  5.104e-03  -3.372 0.000762 ***\n",
       "countryBahrain                  -5.868e-03  6.947e-03  -0.845 0.398433    \n",
       "countryBangladesh               -2.787e-02  5.037e-03  -5.533 3.63e-08 ***\n",
       "countryBelarus                  -2.331e-02  6.760e-03  -3.449 0.000577 ***\n",
       "countryBelgium                  -9.010e-03  6.565e-03  -1.372 0.170101    \n",
       "countryBelize                   -3.384e-02  5.305e-03  -6.378 2.30e-10 ***\n",
       "countryBenin                    -4.147e-03  4.347e-03  -0.954 0.340254    \n",
       "countryBhutan                   -1.211e-02  6.343e-03  -1.910 0.056330 .  \n",
       "countryBolivia                  -2.732e-02  4.351e-03  -6.280 4.29e-10 ***\n",
       "countryBosnia and Herzegovina   -2.533e-02  5.548e-03  -4.566 5.34e-06 ***\n",
       "countryBotswana                  2.056e-02  5.636e-03   3.647 0.000273 ***\n",
       "countryBrazil                   -2.832e-02  5.331e-03  -5.312 1.23e-07 ***\n",
       "countryBulgaria                 -4.653e-03  5.868e-03  -0.793 0.427889    \n",
       "countryBurkina Faso             -1.069e-02  4.082e-03  -2.619 0.008889 ** \n",
       "countryBurundi                  -1.005e-02  5.940e-03  -1.693 0.090666 .  \n",
       "countryCambodia                 -1.113e-02  4.997e-03  -2.228 0.025986 *  \n",
       "countryCameroon                 -1.496e-02  3.872e-03  -3.864 0.000116 ***\n",
       "countryCanada                   -1.136e-02  6.300e-03  -1.804 0.071438 .  \n",
       "countryCentral African Republic -1.810e-03  5.968e-03  -0.303 0.761710    \n",
       "countryChad                     -8.906e-03  4.063e-03  -2.192 0.028514 *  \n",
       "countryChile                    -2.141e-02  5.758e-03  -3.718 0.000207 ***\n",
       "countryChina                    -1.631e-02  5.490e-03  -2.971 0.003005 ** \n",
       "countryColombia                 -2.517e-02  5.147e-03  -4.891 1.10e-06 ***\n",
       "countryComoros                  -4.922e-03  5.066e-03  -0.972 0.331397    \n",
       "countryCosta Rica               -2.737e-02  5.322e-03  -5.144 3.00e-07 ***\n",
       "countryCote d'Ivoire            -9.957e-03  4.385e-03  -2.271 0.023276 *  \n",
       "countryCroatia                  -1.891e-02  5.774e-03  -3.275 0.001079 ** \n",
       "countryCyprus                   -1.636e-02  6.279e-03  -2.605 0.009266 ** \n",
       "countryCzechia                  -1.796e-02  5.922e-03  -3.034 0.002453 ** \n",
       "countryDenmark                  -9.555e-03  6.864e-03  -1.392 0.164072    \n",
       "countryDjibouti                 -2.230e-02  5.315e-03  -4.197 2.85e-05 ***\n",
       "countryDominican Republic       -1.150e-02  4.901e-03  -2.346 0.019064 *  \n",
       "countryEcuador                  -2.478e-02  4.713e-03  -5.257 1.65e-07 ***\n",
       "countryEgypt                    -1.201e-02  4.737e-03  -2.534 0.011349 *  \n",
       "countryEl Salvador              -3.912e-02  5.637e-03  -6.941 5.50e-12 ***\n",
       "countryEstonia                  -1.476e-02  6.305e-03  -2.341 0.019326 *  \n",
       "countryEswatini                 -1.240e-03  6.569e-03  -0.189 0.850248    \n",
       "countryEthiopia                 -1.987e-02  4.532e-03  -4.383 1.24e-05 ***\n",
       "countryFinland                  -1.277e-02  6.423e-03  -1.988 0.046973 *  \n",
       "countryFrance                   -9.949e-03  6.602e-03  -1.507 0.131978    \n",
       "countryGabon                     5.050e-03  5.078e-03   0.995 0.320039    \n",
       "countryGambia                   -2.339e-02  5.140e-03  -4.551 5.72e-06 ***\n",
       "countryGeorgia                  -1.208e-02  5.044e-03  -2.396 0.016693 *  \n",
       "countryGermany                  -1.107e-02  6.393e-03  -1.731 0.083550 .  \n",
       "countryGhana                    -1.868e-02  3.979e-03  -4.695 2.88e-06 ***\n",
       "countryGreece                   -1.809e-02  6.219e-03  -2.908 0.003682 ** \n",
       "countryGuatemala                -3.331e-02  5.110e-03  -6.518 9.32e-11 ***\n",
       "countryGuinea                   -1.124e-02  4.397e-03  -2.556 0.010676 *  \n",
       "countryHaiti                    -1.420e-02  4.959e-03  -2.864 0.004239 ** \n",
       "countryHonduras                 -3.254e-02  4.506e-03  -7.221 7.72e-13 ***\n",
       "countryHungary                  -1.108e-02  6.088e-03  -1.819 0.069046 .  \n",
       "countryIceland                  -8.888e-03  6.572e-03  -1.352 0.176424    \n",
       "countryIndia                    -1.388e-02  5.079e-03  -2.732 0.006355 ** \n",
       "countryIndonesia                -1.706e-02  5.117e-03  -3.334 0.000873 ***\n",
       "countryIran                     -1.399e-02  5.573e-03  -2.510 0.012166 *  \n",
       "countryIraq                     -1.056e-02  4.487e-03  -2.354 0.018698 *  \n",
       "countryIreland                  -2.637e-03  6.941e-03  -0.380 0.704094    \n",
       "countryIsrael                   -1.688e-02  5.785e-03  -2.917 0.003579 ** \n",
       "countryItaly                    -1.516e-02  6.455e-03  -2.348 0.018988 *  \n",
       "countryJamaica                  -2.917e-02  5.003e-03  -5.829 6.63e-09 ***\n",
       "countryJapan                    -5.772e-03  7.112e-03  -0.812 0.417155    \n",
       "countryJordan                   -2.050e-02  4.704e-03  -4.357 1.39e-05 ***\n",
       "countryKazakhstan               -1.244e-02  5.984e-03  -2.079 0.037789 *  \n",
       "countryKenya                    -1.005e-02  4.389e-03  -2.290 0.022121 *  \n",
       "countryKuwait                   -5.954e-03  6.909e-03  -0.862 0.388926    \n",
       "countryKyrgyzstan               -2.772e-02  4.481e-03  -6.187 7.67e-10 ***\n",
       "countryLaos                     -1.534e-02  4.860e-03  -3.157 0.001624 ** \n",
       "countryLatvia                   -1.606e-02  6.114e-03  -2.628 0.008676 ** \n",
       "countryLebanon                  -1.655e-02  5.528e-03  -2.993 0.002797 ** \n",
       "countryLesotho                   8.571e-03  7.186e-03   1.193 0.233144    \n",
       "countryLiberia                  -1.451e-02  4.468e-03  -3.247 0.001189 ** \n",
       "countryLibya                    -1.925e-02  5.414e-03  -3.555 0.000388 ***\n",
       "countryLithuania                -1.555e-02  6.379e-03  -2.437 0.014913 *  \n",
       "countryLuxembourg                1.775e-03  7.317e-03   0.243 0.808314    \n",
       "countryMadagascar               -1.588e-02  4.544e-03  -3.494 0.000489 ***\n",
       "countryMalawi                   -2.140e-02  4.385e-03  -4.880 1.16e-06 ***\n",
       "countryMalaysia                 -1.343e-02  5.611e-03  -2.393 0.016816 *  \n",
       "countryMali                     -7.899e-03  4.095e-03  -1.929 0.053894 .  \n",
       "countryMalta                    -1.173e-02  6.141e-03  -1.911 0.056195 .  \n",
       "countryMauritania               -7.856e-03  4.042e-03  -1.944 0.052089 .  \n",
       "countryMauritius                -2.128e-02  5.745e-03  -3.704 0.000219 ***\n",
       "countryMexico                   -2.892e-02  4.915e-03  -5.884 4.82e-09 ***\n",
       "countryMoldova                  -3.178e-02  5.614e-03  -5.661 1.76e-08 ***\n",
       "countryMongolia                 -1.558e-02  5.640e-03  -2.763 0.005787 ** \n",
       "countryMontenegro               -1.869e-02  5.422e-03  -3.446 0.000583 ***\n",
       "countryMorocco                  -3.007e-02  4.667e-03  -6.443 1.52e-10 ***\n",
       "countryMozambique               -2.864e-02  4.324e-03  -6.625 4.65e-11 ***\n",
       "countryMyanmar                  -8.595e-03  5.660e-03  -1.519 0.129050    \n",
       "countryNamibia                  -1.871e-03  5.337e-03  -0.351 0.725878    \n",
       "countryNepal                    -2.549e-02  5.047e-03  -5.050 4.88e-07 ***\n",
       "countryNetherlands              -7.737e-03  6.813e-03  -1.136 0.256294    \n",
       "countryNew Zealand              -1.020e-02  6.235e-03  -1.636 0.102037    \n",
       "countryNicaragua                -3.417e-02  4.698e-03  -7.273 5.30e-13 ***\n",
       "countryNiger                    -1.667e-02  4.428e-03  -3.765 0.000172 ***\n",
       "countryNigeria                  -1.232e-02  4.191e-03  -2.940 0.003329 ** \n",
       "countryNorth Macedonia          -1.659e-02  5.473e-03  -3.031 0.002471 ** \n",
       "countryNorway                   -6.017e-03  6.909e-03  -0.871 0.383970    \n",
       "countryPakistan                 -3.346e-02  3.944e-03  -8.485  < 2e-16 ***\n",
       "countryPalestine                -2.152e-02  4.402e-03  -4.889 1.11e-06 ***\n",
       "countryPanama                   -1.838e-02  5.304e-03  -3.466 0.000541 ***\n",
       "countryParaguay                 -2.082e-02  4.888e-03  -4.260 2.16e-05 ***\n",
       "countryPeru                     -2.425e-02  5.043e-03  -4.809 1.65e-06 ***\n",
       "countryPhilippines              -2.033e-02  4.361e-03  -4.661 3.39e-06 ***\n",
       "countryPoland                   -1.680e-02  6.014e-03  -2.794 0.005262 ** \n",
       "countryPortugal                 -8.799e-03  6.303e-03  -1.396 0.162896    \n",
       "countryQatar                     7.094e-03  8.187e-03   0.866 0.386343    \n",
       "countryRomania                  -1.950e-02  5.626e-03  -3.466 0.000542 ***\n",
       "countryRussia                   -1.606e-02  6.622e-03  -2.426 0.015387 *  \n",
       "countryRwanda                    3.535e-03  4.914e-03   0.719 0.471994    \n",
       "countrySaudi Arabia             -1.091e-02  6.015e-03  -1.813 0.070016 .  \n",
       "countrySenegal                  -1.482e-02  3.963e-03  -3.739 0.000191 ***\n",
       "countrySerbia                   -2.078e-02  5.583e-03  -3.723 0.000203 ***\n",
       "countrySierra Leone             -1.176e-02  4.287e-03  -2.743 0.006155 ** \n",
       "countrySingapore                 3.794e-03  7.962e-03   0.477 0.633747    \n",
       "countrySlovakia                 -1.853e-02  5.918e-03  -3.131 0.001772 ** \n",
       "countrySlovenia                 -9.887e-03  6.140e-03  -1.610 0.107514    \n",
       "countrySouth Africa             -3.289e-03  5.504e-03  -0.598 0.550248    \n",
       "countrySouth Korea              -4.495e-03  8.451e-03  -0.532 0.594858    \n",
       "countrySpain                    -1.539e-02  6.382e-03  -2.411 0.016013 *  \n",
       "countrySri Lanka                 4.930e-03  5.941e-03   0.830 0.406694    \n",
       "countrySudan                    -9.699e-03  4.839e-03  -2.004 0.045195 *  \n",
       "countrySweden                   -8.733e-03  6.478e-03  -1.348 0.177836    \n",
       "countrySwitzerland              -5.499e-03  6.991e-03  -0.787 0.431651    \n",
       "countrySyria                    -6.494e-03  5.135e-03  -1.265 0.206125    \n",
       "countryTaiwan                   -8.085e-03  6.997e-03  -1.156 0.248039    \n",
       "countryTajikistan               -3.078e-02  4.049e-03  -7.602 4.76e-14 ***\n",
       "countryTanzania                  7.098e-03  4.290e-03   1.655 0.098207 .  \n",
       "countryThailand                 -1.764e-02  5.827e-03  -3.028 0.002500 ** \n",
       "countryTogo                     -4.019e-03  4.891e-03  -0.822 0.411437    \n",
       "countryTrinidad and Tobago      -1.711e-02  6.020e-03  -2.843 0.004524 ** \n",
       "countryTunisia                  -2.052e-02  5.091e-03  -4.030 5.82e-05 ***\n",
       "countryTurkey                   -1.415e-02  5.503e-03  -2.571 0.010229 *  \n",
       "countryTurkmenistan             -1.954e-02  4.984e-03  -3.920 9.18e-05 ***\n",
       "countryUganda                   -1.076e-02  4.061e-03  -2.649 0.008152 ** \n",
       "countryUkraine                  -1.827e-02  6.132e-03  -2.980 0.002927 ** \n",
       "countryUnited Arab Emirates     -3.574e-03  6.781e-03  -0.527 0.598238    \n",
       "countryUnited Kingdom           -9.886e-03  6.349e-03  -1.557 0.119618    \n",
       "countryUnited States            -9.137e-03  6.298e-03  -1.451 0.147040    \n",
       "countryUruguay                  -1.769e-02  5.415e-03  -3.268 0.001105 ** \n",
       "countryUzbekistan               -2.873e-02  4.676e-03  -6.144 9.98e-10 ***\n",
       "countryVenezuela                -2.431e-02  4.894e-03  -4.968 7.43e-07 ***\n",
       "countryVietnam                  -2.410e-02  5.358e-03  -4.499 7.28e-06 ***\n",
       "countryYemen                    -2.618e-03  4.264e-03  -0.614 0.539327    \n",
       "countryZambia                   -1.232e-02  4.047e-03  -3.044 0.002373 ** \n",
       "countryZimbabwe                  1.735e-03  4.696e-03   0.369 0.711883    \n",
       "log_gdp                         -1.444e-02  1.522e-03  -9.488  < 2e-16 ***\n",
       "social                          -2.738e-02  3.448e-03  -7.942 3.55e-15 ***\n",
       "life_exp                         4.192e-04  1.549e-04   2.706 0.006885 ** \n",
       "freedom                         -1.204e-02  2.147e-03  -5.608 2.38e-08 ***\n",
       "generosity                      -4.891e-03  1.746e-03  -2.801 0.005144 ** \n",
       "corruption                       5.682e-03  2.181e-03   2.606 0.009246 ** \n",
       "alcohol                          3.834e-04  2.268e-04   1.691 0.091038 .  \n",
       "suicide                         -1.933e-03  1.040e-03  -1.858 0.063276 .  \n",
       "obesity                          5.045e-04  2.668e-04   1.891 0.058771 .  \n",
       "birth                           -1.996e-03  1.074e-03  -1.858 0.063290 .  \n",
       "mental                           3.061e-05  6.365e-04   0.048 0.961645    \n",
       "---\n",
       "Signif. codes:  0 '***' 0.001 '**' 0.01 '*' 0.05 '.' 0.1 ' ' 1\n",
       "\n",
       "(Dispersion parameter for inverse.gaussian family taken to be 0.001271142)\n",
       "\n",
       "    Null deviance: 15.8342  on 1880  degrees of freedom\n",
       "Residual deviance:  2.2418  on 1717  degrees of freedom\n",
       "AIC: 2478.7\n",
       "\n",
       "Number of Fisher Scoring iterations: 4\n"
      ]
     },
     "metadata": {},
     "output_type": "display_data"
    }
   ],
   "source": [
    "g11= glm(HS~country+ log_gdp + social+ life_exp + freedom+ generosity+ corruption  + alcohol + \n",
    "          suicide + obesity + birth + mental, data=df, family=inverse.gaussian(link=1/mu^2))\n",
    "summary(g11)"
   ]
  },
  {
   "cell_type": "code",
   "execution_count": 37,
   "id": "8d97659f",
   "metadata": {},
   "outputs": [
    {
     "data": {
      "text/html": [
       "0.858417921892592"
      ],
      "text/latex": [
       "0.858417921892592"
      ],
      "text/markdown": [
       "0.858417921892592"
      ],
      "text/plain": [
       "[1] 0.8584179"
      ]
     },
     "metadata": {},
     "output_type": "display_data"
    }
   ],
   "source": [
    "with(summary(g11), 1 - deviance/null.deviance)"
   ]
  },
  {
   "cell_type": "code",
   "execution_count": 38,
   "id": "2272d6cc",
   "metadata": {},
   "outputs": [
    {
     "data": {
      "text/plain": [
       "\n",
       "Call:\n",
       "glm(formula = HS ~ country + log_gdp + social + life_exp + freedom + \n",
       "    generosity + corruption + alcohol + suicide + obesity + birth + \n",
       "    mental, family = quasi(link = \"identity\", variance = \"constant\"), \n",
       "    data = df)\n",
       "\n",
       "Deviance Residuals: \n",
       "     Min        1Q    Median        3Q       Max  \n",
       "-1.49794  -0.19485  -0.00686   0.19135   1.28700  \n",
       "\n",
       "Coefficients:\n",
       "                                 Estimate Std. Error t value Pr(>|t|)    \n",
       "(Intercept)                     -4.599865   0.811383  -5.669 1.68e-08 ***\n",
       "countryAlbania                   0.179557   0.245182   0.732 0.464059    \n",
       "countryAlgeria                   0.546894   0.240197   2.277 0.022918 *  \n",
       "countryAngola                   -1.223470   0.264719  -4.622 4.09e-06 ***\n",
       "countryArgentina                 0.240692   0.272516   0.883 0.377239    \n",
       "countryArmenia                  -0.070546   0.242628  -0.291 0.771273    \n",
       "countryAustralia                -0.008882   0.354612  -0.025 0.980021    \n",
       "countryAustria                   0.017630   0.341582   0.052 0.958843    \n",
       "countryAzerbaijan               -0.079734   0.252292  -0.316 0.752010    \n",
       "countryBahrain                  -0.661300   0.371909  -1.778 0.075560 .  \n",
       "countryBangladesh                0.631045   0.235444   2.680 0.007427 ** \n",
       "countryBelarus                   0.459056   0.375935   1.221 0.222214    \n",
       "countryBelgium                  -0.264503   0.351301  -0.753 0.451598    \n",
       "countryBelize                    1.397735   0.311219   4.491 7.56e-06 ***\n",
       "countryBenin                    -0.322974   0.169534  -1.905 0.056938 .  \n",
       "countryBhutan                   -0.554881   0.329053  -1.686 0.091921 .  \n",
       "countryBolivia                   0.691548   0.204463   3.382 0.000735 ***\n",
       "countryBosnia and Herzegovina    0.488605   0.272435   1.793 0.073073 .  \n",
       "countryBotswana                 -2.224665   0.265728  -8.372  < 2e-16 ***\n",
       "countryBrazil                    1.095984   0.266380   4.114 4.07e-05 ***\n",
       "countryBulgaria                 -0.787247   0.301924  -2.607 0.009201 ** \n",
       "countryBurkina Faso             -0.090104   0.167837  -0.537 0.591437    \n",
       "countryBurundi                   0.751872   0.222354   3.381 0.000737 ***\n",
       "countryCambodia                 -0.242261   0.225537  -1.074 0.282905    \n",
       "countryCameroon                 -0.093070   0.164081  -0.567 0.570638    \n",
       "countryCanada                    0.170024   0.330917   0.514 0.607461    \n",
       "countryCentral African Republic  0.269839   0.211962   1.273 0.203172    \n",
       "countryChad                     -0.073458   0.163630  -0.449 0.653541    \n",
       "countryChile                     0.435699   0.295494   1.474 0.140536    \n",
       "countryChina                    -0.258079   0.265867  -0.971 0.331831    \n",
       "countryColombia                  0.675389   0.252288   2.677 0.007498 ** \n",
       "countryComoros                  -0.310354   0.201689  -1.539 0.124043    \n",
       "countryCosta Rica                1.326594   0.267836   4.953 8.03e-07 ***\n",
       "countryCote d'Ivoire            -0.509102   0.196784  -2.587 0.009760 ** \n",
       "countryCroatia                   0.040336   0.294099   0.137 0.890927    \n",
       "countryCyprus                   -0.130896   0.326989  -0.400 0.688981    \n",
       "countryCzechia                   0.328644   0.311489   1.055 0.291539    \n",
       "countryDenmark                   0.148486   0.374652   0.396 0.691910    \n",
       "countryDjibouti                  0.288925   0.252120   1.146 0.251962    \n",
       "countryDominican Republic       -0.496904   0.235053  -2.114 0.034659 *  \n",
       "countryEcuador                   0.530972   0.225401   2.356 0.018601 *  \n",
       "countryEgypt                    -0.156033   0.230354  -0.677 0.498269    \n",
       "countryEl Salvador               1.644724   0.299936   5.484 4.79e-08 ***\n",
       "countryEstonia                  -0.171165   0.342665  -0.500 0.617484    \n",
       "countryEswatini                 -1.051294   0.317180  -3.315 0.000937 ***\n",
       "countryEthiopia                  0.307835   0.202466   1.520 0.128587    \n",
       "countryFinland                   0.405944   0.344122   1.180 0.238302    \n",
       "countryFrance                   -0.352807   0.358413  -0.984 0.325077    \n",
       "countryGabon                    -1.514489   0.243288  -6.225 6.04e-10 ***\n",
       "countryGambia                    0.459946   0.239385   1.921 0.054851 .  \n",
       "countryGeorgia                  -0.195551   0.250646  -0.780 0.435388    \n",
       "countryGermany                  -0.170673   0.334626  -0.510 0.610089    \n",
       "countryGhana                     0.051962   0.172058   0.302 0.762688    \n",
       "countryGreece                   -0.147380   0.319119  -0.462 0.644257    \n",
       "countryGuatemala                 1.289221   0.269789   4.779 1.92e-06 ***\n",
       "countryGuinea                   -0.054499   0.175886  -0.310 0.756711    \n",
       "countryHaiti                     0.391775   0.208898   1.875 0.060902 .  \n",
       "countryHonduras                  1.019539   0.210068   4.853 1.32e-06 ***\n",
       "countryHungary                  -0.516186   0.318512  -1.621 0.105284    \n",
       "countryIceland                   0.070719   0.359710   0.197 0.844164    \n",
       "countryIndia                    -0.229148   0.239061  -0.959 0.337930    \n",
       "countryIndonesia                -0.165894   0.245741  -0.675 0.499717    \n",
       "countryIran                     -0.344933   0.277264  -1.244 0.213647    \n",
       "countryIraq                     -0.412042   0.205865  -2.002 0.045494 *  \n",
       "countryIreland                  -0.674414   0.379838  -1.776 0.075987 .  \n",
       "countryIsrael                    0.535969   0.311468   1.721 0.085470 .  \n",
       "countryItaly                    -0.147914   0.335858  -0.440 0.659699    \n",
       "countryJamaica                   0.909075   0.253497   3.586 0.000345 ***\n",
       "countryJapan                    -1.029682   0.378595  -2.720 0.006599 ** \n",
       "countryJordan                    0.298494   0.223129   1.338 0.181149    \n",
       "countryKazakhstan               -0.215654   0.335474  -0.643 0.520418    \n",
       "countryKenya                    -0.395226   0.194536  -2.032 0.042345 *  \n",
       "countryKuwait                   -0.592800   0.370951  -1.598 0.110215    \n",
       "countryKyrgyzstan                0.799457   0.211378   3.782 0.000161 ***\n",
       "countryLaos                     -0.307164   0.228851  -1.342 0.179708    \n",
       "countryLatvia                   -0.117353   0.327645  -0.358 0.720258    \n",
       "countryLebanon                  -0.030889   0.272792  -0.113 0.909860    \n",
       "countryLesotho                  -0.774072   0.286356  -2.703 0.006936 ** \n",
       "countryLiberia                   0.332501   0.177761   1.870 0.061585 .  \n",
       "countryLibya                     0.207823   0.282148   0.737 0.461481    \n",
       "countryLithuania                -0.061182   0.345633  -0.177 0.859518    \n",
       "countryLuxembourg               -1.075622   0.401565  -2.679 0.007464 ** \n",
       "countryMadagascar                0.451681   0.185251   2.438 0.014861 *  \n",
       "countryMalawi                    0.781643   0.183344   4.263 2.12e-05 ***\n",
       "countryMalaysia                 -0.362168   0.286771  -1.263 0.206791    \n",
       "countryMali                     -0.347528   0.173006  -2.009 0.044718 *  \n",
       "countryMalta                    -0.323407   0.316713  -1.021 0.307333    \n",
       "countryMauritania               -0.504216   0.170150  -2.963 0.003085 ** \n",
       "countryMauritius                 0.373135   0.308247   1.211 0.226252    \n",
       "countryMexico                    1.211383   0.246634   4.912 9.89e-07 ***\n",
       "countryMoldova                   1.071719   0.289447   3.703 0.000220 ***\n",
       "countryMongolia                 -0.055745   0.298277  -0.187 0.851768    \n",
       "countryMontenegro                0.004444   0.271901   0.016 0.986963    \n",
       "countryMorocco                   0.932016   0.218715   4.261 2.14e-05 ***\n",
       "countryMozambique                0.893470   0.194418   4.596 4.63e-06 ***\n",
       "countryMyanmar                  -0.585201   0.261874  -2.235 0.025567 *  \n",
       "countryNamibia                  -1.091728   0.254286  -4.293 1.86e-05 ***\n",
       "countryNepal                     0.558905   0.233064   2.398 0.016588 *  \n",
       "countryNetherlands              -0.114465   0.370365  -0.309 0.757312    \n",
       "countryNew Zealand               0.036802   0.334396   0.110 0.912379    \n",
       "countryNicaragua                 1.257433   0.223836   5.618 2.25e-08 ***\n",
       "countryNiger                     0.301223   0.200776   1.500 0.133722    \n",
       "countryNigeria                  -0.448216   0.198781  -2.255 0.024270 *  \n",
       "countryNorth Macedonia          -0.061733   0.275981  -0.224 0.823029    \n",
       "countryNorway                   -0.214180   0.381353  -0.562 0.574439    \n",
       "countryPakistan                  1.002435   0.172934   5.797 8.03e-09 ***\n",
       "countryPalestine                 0.469716   0.196539   2.390 0.016959 *  \n",
       "countryPanama                    0.360085   0.271474   1.326 0.184881    \n",
       "countryParaguay                  0.253422   0.237041   1.069 0.285172    \n",
       "countryPeru                      0.371735   0.249388   1.491 0.136253    \n",
       "countryPhilippines               0.131058   0.198700   0.660 0.509612    \n",
       "countryPoland                   -0.009083   0.313501  -0.029 0.976890    \n",
       "countryPortugal                 -0.809507   0.323407  -2.503 0.012405 *  \n",
       "countryQatar                    -1.499233   0.472362  -3.174 0.001531 ** \n",
       "countryRomania                   0.109108   0.294868   0.370 0.711412    \n",
       "countryRussia                   -0.061739   0.370156  -0.167 0.867553    \n",
       "countryRwanda                   -0.527912   0.209693  -2.518 0.011908 *  \n",
       "countrySaudi Arabia             -0.203429   0.318392  -0.639 0.522956    \n",
       "countrySenegal                  -0.020011   0.166525  -0.120 0.904364    \n",
       "countrySerbia                    0.187833   0.283349   0.663 0.507482    \n",
       "countrySierra Leone              0.065918   0.172896   0.381 0.703060    \n",
       "countrySingapore                -1.572748   0.448227  -3.509 0.000462 ***\n",
       "countrySlovakia                  0.175886   0.309966   0.567 0.570491    \n",
       "countrySlovenia                 -0.506157   0.319815  -1.583 0.113684    \n",
       "countrySouth Africa             -1.075022   0.271317  -3.962 7.73e-05 ***\n",
       "countrySouth Korea              -1.103357   0.485071  -2.275 0.023051 *  \n",
       "countrySpain                    -0.009266   0.333904  -0.028 0.977865    \n",
       "countrySri Lanka                -1.380694   0.302353  -4.566 5.31e-06 ***\n",
       "countrySudan                    -0.287066   0.205116  -1.400 0.161834    \n",
       "countrySweden                   -0.079410   0.349132  -0.227 0.820102    \n",
       "countrySwitzerland              -0.228028   0.382953  -0.595 0.551622    \n",
       "countrySyria                    -0.205766   0.213444  -0.964 0.335169    \n",
       "countryTaiwan                   -0.646702   0.372967  -1.734 0.083109 .  \n",
       "countryTajikistan                0.949858   0.174080   5.456 5.57e-08 ***\n",
       "countryTanzania                 -0.733872   0.168199  -4.363 1.36e-05 ***\n",
       "countryThailand                  0.035570   0.294003   0.121 0.903718    \n",
       "countryTogo                      0.301578   0.177582   1.698 0.089642 .  \n",
       "countryTrinidad and Tobago       0.250049   0.336062   0.744 0.456943    \n",
       "countryTunisia                   0.249504   0.241228   1.034 0.301139    \n",
       "countryTurkey                   -0.312990   0.274056  -1.142 0.253587    \n",
       "countryTurkmenistan              0.282338   0.262391   1.076 0.282070    \n",
       "countryUganda                   -0.178863   0.178549  -1.002 0.316600    \n",
       "countryUkraine                   0.157308   0.324431   0.485 0.627829    \n",
       "countryUnited Arab Emirates     -0.631143   0.368578  -1.712 0.087009 .  \n",
       "countryUnited Kingdom           -0.251669   0.335658  -0.750 0.453491    \n",
       "countryUnited States            -0.075906   0.334254  -0.227 0.820380    \n",
       "countryUruguay                   0.120210   0.272095   0.442 0.658693    \n",
       "countryUzbekistan                0.946110   0.233865   4.046 5.45e-05 ***\n",
       "countryVenezuela                 0.699118   0.237926   2.938 0.003343 ** \n",
       "countryVietnam                   0.292652   0.258513   1.132 0.257769    \n",
       "countryYemen                    -0.304823   0.163933  -1.859 0.063136 .  \n",
       "countryZambia                   -0.291081   0.178140  -1.634 0.102442    \n",
       "countryZimbabwe                 -0.622813   0.204116  -3.051 0.002314 ** \n",
       "log_gdp                          1.106777   0.090883  12.178  < 2e-16 ***\n",
       "social                           1.645021   0.185223   8.881  < 2e-16 ***\n",
       "life_exp                        -0.025738   0.008214  -3.133 0.001757 ** \n",
       "freedom                          0.808122   0.128085   6.309 3.56e-10 ***\n",
       "generosity                       0.379178   0.117193   3.235 0.001237 ** \n",
       "corruption                      -0.553641   0.145091  -3.816 0.000141 ***\n",
       "alcohol                         -0.029791   0.014507  -2.054 0.040170 *  \n",
       "suicide                          0.121500   0.070224   1.730 0.083776 .  \n",
       "obesity                         -0.054653   0.017444  -3.133 0.001759 ** \n",
       "birth                            0.116440   0.056511   2.061 0.039501 *  \n",
       "mental                          -0.007670   0.040925  -0.187 0.851365    \n",
       "---\n",
       "Signif. codes:  0 '***' 0.001 '**' 0.01 '*' 0.05 '.' 0.1 ' ' 1\n",
       "\n",
       "(Dispersion parameter for quasi family taken to be 0.1249283)\n",
       "\n",
       "    Null deviance: 2369.7  on 1880  degrees of freedom\n",
       "Residual deviance:  214.5  on 1717  degrees of freedom\n",
       "AIC: NA\n",
       "\n",
       "Number of Fisher Scoring iterations: 2\n"
      ]
     },
     "metadata": {},
     "output_type": "display_data"
    }
   ],
   "source": [
    "g12= glm(HS~country+ log_gdp + social+ life_exp + freedom+ generosity+ corruption  + alcohol + \n",
    "          suicide + obesity + birth + mental, data=df, family=quasi(link = \"identity\", variance = \"constant\"))\n",
    "summary(g12)"
   ]
  },
  {
   "cell_type": "code",
   "execution_count": 39,
   "id": "af89e8f9",
   "metadata": {},
   "outputs": [
    {
     "data": {
      "text/html": [
       "0.909482321409191"
      ],
      "text/latex": [
       "0.909482321409191"
      ],
      "text/markdown": [
       "0.909482321409191"
      ],
      "text/plain": [
       "[1] 0.9094823"
      ]
     },
     "metadata": {},
     "output_type": "display_data"
    }
   ],
   "source": [
    "with(summary(g12), 1 - deviance/null.deviance)"
   ]
  },
  {
   "cell_type": "markdown",
   "id": "8b48673f",
   "metadata": {},
   "source": [
    "# 범주형 변수를 빼고 돌릴 경우"
   ]
  },
  {
   "cell_type": "code",
   "execution_count": 40,
   "id": "d6b72b60",
   "metadata": {},
   "outputs": [
    {
     "data": {
      "text/plain": [
       "\n",
       "Call:\n",
       "glm(formula = HS ~ log_gdp + social + life_exp + freedom + generosity + \n",
       "    corruption + alcohol + suicide + obesity + birth + mental, \n",
       "    family = gaussian(identity), data = df)\n",
       "\n",
       "Deviance Residuals: \n",
       "     Min        1Q    Median        3Q       Max  \n",
       "-1.83554  -0.32826   0.01484   0.33623   1.88980  \n",
       "\n",
       "Coefficients:\n",
       "             Estimate Std. Error t value Pr(>|t|)    \n",
       "(Intercept) -3.970241   0.346418 -11.461  < 2e-16 ***\n",
       "log_gdp      0.484240   0.026094  18.557  < 2e-16 ***\n",
       "social       2.060494   0.158106  13.032  < 2e-16 ***\n",
       "life_exp     0.035902   0.004404   8.152 6.48e-16 ***\n",
       "freedom      1.024516   0.113114   9.057  < 2e-16 ***\n",
       "generosity   0.606671   0.088103   6.886 7.81e-12 ***\n",
       "corruption  -0.279226   0.086440  -3.230  0.00126 ** \n",
       "alcohol      0.035862   0.003995   8.977  < 2e-16 ***\n",
       "suicide     -0.123682   0.019946  -6.201 6.90e-10 ***\n",
       "obesity     -0.021818   0.003746  -5.824 6.74e-09 ***\n",
       "birth        0.124693   0.020427   6.104 1.25e-09 ***\n",
       "mental       0.063780   0.011978   5.325 1.13e-07 ***\n",
       "---\n",
       "Signif. codes:  0 '***' 0.001 '**' 0.01 '*' 0.05 '.' 0.1 ' ' 1\n",
       "\n",
       "(Dispersion parameter for gaussian family taken to be 0.2859239)\n",
       "\n",
       "    Null deviance: 2369.72  on 1880  degrees of freedom\n",
       "Residual deviance:  534.39  on 1869  degrees of freedom\n",
       "AIC: 2996.9\n",
       "\n",
       "Number of Fisher Scoring iterations: 2\n"
      ]
     },
     "metadata": {},
     "output_type": "display_data"
    }
   ],
   "source": [
    "g13= glm(HS~log_gdp + social+ life_exp + freedom+ generosity+ corruption  + alcohol + \n",
    "          suicide + obesity + birth + mental, data=df, family=gaussian(identity))\n",
    "summary(g13)"
   ]
  },
  {
   "cell_type": "code",
   "execution_count": 41,
   "id": "d9192c58",
   "metadata": {},
   "outputs": [
    {
     "data": {
      "text/html": [
       "0.774492057032788"
      ],
      "text/latex": [
       "0.774492057032788"
      ],
      "text/markdown": [
       "0.774492057032788"
      ],
      "text/plain": [
       "[1] 0.7744921"
      ]
     },
     "metadata": {},
     "output_type": "display_data"
    }
   ],
   "source": [
    "with(summary(g13), 1 - deviance/null.deviance)"
   ]
  },
  {
   "cell_type": "code",
   "execution_count": 42,
   "id": "bba6255f",
   "metadata": {},
   "outputs": [
    {
     "data": {
      "text/plain": [
       "\n",
       "Call:\n",
       "glm(formula = HS ~ log_gdp + social + life_exp + freedom + generosity + \n",
       "    corruption + alcohol + suicide + obesity + birth + mental, \n",
       "    family = Gamma(link = inverse), data = df)\n",
       "\n",
       "Deviance Residuals: \n",
       "     Min        1Q    Median        3Q       Max  \n",
       "-0.42892  -0.06194  -0.00016   0.06040   0.40286  \n",
       "\n",
       "Coefficients:\n",
       "              Estimate Std. Error t value Pr(>|t|)    \n",
       "(Intercept)  0.5171035  0.0132925  38.902  < 2e-16 ***\n",
       "log_gdp     -0.0126784  0.0009748 -13.006  < 2e-16 ***\n",
       "social      -0.0901615  0.0064984 -13.874  < 2e-16 ***\n",
       "life_exp    -0.0013492  0.0001716  -7.863 6.28e-15 ***\n",
       "freedom     -0.0416918  0.0043060  -9.682  < 2e-16 ***\n",
       "generosity  -0.0127581  0.0030530  -4.179 3.07e-05 ***\n",
       "corruption  -0.0048672  0.0029018  -1.677 0.093650 .  \n",
       "alcohol     -0.0010316  0.0001394  -7.398 2.08e-13 ***\n",
       "suicide      0.0031744  0.0006873   4.619 4.13e-06 ***\n",
       "obesity      0.0001755  0.0001311   1.339 0.180886    \n",
       "birth       -0.0029468  0.0008159  -3.612 0.000312 ***\n",
       "mental      -0.0020574  0.0004222  -4.872 1.19e-06 ***\n",
       "---\n",
       "Signif. codes:  0 '***' 0.001 '**' 0.01 '*' 0.05 '.' 0.1 ' ' 1\n",
       "\n",
       "(Dispersion parameter for Gamma family taken to be 0.0108317)\n",
       "\n",
       "    Null deviance: 82.449  on 1880  degrees of freedom\n",
       "Residual deviance: 20.698  on 1869  degrees of freedom\n",
       "AIC: 3201.1\n",
       "\n",
       "Number of Fisher Scoring iterations: 4\n"
      ]
     },
     "metadata": {},
     "output_type": "display_data"
    }
   ],
   "source": [
    "g14= glm(HS~log_gdp + social+ life_exp + freedom+ generosity+ corruption  + alcohol + \n",
    "          suicide + obesity + birth + mental, data=df, family=Gamma(link=inverse))\n",
    "summary(g14)"
   ]
  },
  {
   "cell_type": "code",
   "execution_count": 43,
   "id": "1b53521c",
   "metadata": {},
   "outputs": [
    {
     "data": {
      "text/html": [
       "0.748960145286001"
      ],
      "text/latex": [
       "0.748960145286001"
      ],
      "text/markdown": [
       "0.748960145286001"
      ],
      "text/plain": [
       "[1] 0.7489601"
      ]
     },
     "metadata": {},
     "output_type": "display_data"
    }
   ],
   "source": [
    "with(summary(g14), 1 - deviance/null.deviance)\n"
   ]
  },
  {
   "cell_type": "code",
   "execution_count": 44,
   "id": "c3d47e22",
   "metadata": {},
   "outputs": [
    {
     "data": {
      "text/plain": [
       "\n",
       "Call:\n",
       "glm(formula = HS ~ log_gdp + social + life_exp + freedom + generosity + \n",
       "    corruption + alcohol + suicide + obesity + birth + mental, \n",
       "    family = Gamma(link = identity), data = df)\n",
       "\n",
       "Deviance Residuals: \n",
       "     Min        1Q    Median        3Q       Max  \n",
       "-0.44635  -0.06314   0.00426   0.06130   0.39552  \n",
       "\n",
       "Coefficients:\n",
       "             Estimate Std. Error t value Pr(>|t|)    \n",
       "(Intercept) -3.068428   0.326906  -9.386  < 2e-16 ***\n",
       "log_gdp      0.506993   0.026166  19.376  < 2e-16 ***\n",
       "social       1.744324   0.139358  12.517  < 2e-16 ***\n",
       "life_exp     0.024743   0.004117   6.010 2.22e-09 ***\n",
       "freedom      0.885401   0.108987   8.124 8.11e-16 ***\n",
       "generosity   0.643289   0.094203   6.829 1.15e-11 ***\n",
       "corruption  -0.276749   0.094774  -2.920  0.00354 ** \n",
       "alcohol      0.040314   0.004369   9.227  < 2e-16 ***\n",
       "suicide     -0.127015   0.022021  -5.768 9.37e-09 ***\n",
       "obesity     -0.027150   0.004035  -6.728 2.28e-11 ***\n",
       "birth        0.088322   0.018718   4.718 2.55e-06 ***\n",
       "mental       0.081105   0.012699   6.387 2.13e-10 ***\n",
       "---\n",
       "Signif. codes:  0 '***' 0.001 '**' 0.01 '*' 0.05 '.' 0.1 ' ' 1\n",
       "\n",
       "(Dispersion parameter for Gamma family taken to be 0.01118184)\n",
       "\n",
       "    Null deviance: 82.449  on 1880  degrees of freedom\n",
       "Residual deviance: 21.502  on 1869  degrees of freedom\n",
       "AIC: 3272.9\n",
       "\n",
       "Number of Fisher Scoring iterations: 6\n"
      ]
     },
     "metadata": {},
     "output_type": "display_data"
    }
   ],
   "source": [
    "g15= glm(HS~log_gdp + social+ life_exp + freedom+ generosity+ corruption  + alcohol + \n",
    "          suicide + obesity + birth + mental, data=df, family=Gamma(link=identity))\n",
    "summary(g15)"
   ]
  },
  {
   "cell_type": "code",
   "execution_count": 45,
   "id": "ff939663",
   "metadata": {},
   "outputs": [
    {
     "data": {
      "text/html": [
       "0.739205735029591"
      ],
      "text/latex": [
       "0.739205735029591"
      ],
      "text/markdown": [
       "0.739205735029591"
      ],
      "text/plain": [
       "[1] 0.7392057"
      ]
     },
     "metadata": {},
     "output_type": "display_data"
    }
   ],
   "source": [
    "with(summary(g15), 1 - deviance/null.deviance)\n"
   ]
  },
  {
   "cell_type": "code",
   "execution_count": 46,
   "id": "b8586b5d",
   "metadata": {},
   "outputs": [
    {
     "data": {
      "text/plain": [
       "\n",
       "Call:\n",
       "glm(formula = HS ~ log_gdp + social + life_exp + freedom + generosity + \n",
       "    corruption + alcohol + suicide + obesity + birth + mental, \n",
       "    family = Gamma(link = log), data = df)\n",
       "\n",
       "Deviance Residuals: \n",
       "     Min        1Q    Median        3Q       Max  \n",
       "-0.42140  -0.06320   0.00196   0.06068   0.41173  \n",
       "\n",
       "Coefficients:\n",
       "              Estimate Std. Error t value Pr(>|t|)    \n",
       "(Intercept) -0.0383819  0.0674501  -0.569    0.569    \n",
       "log_gdp      0.0824424  0.0050807  16.227  < 2e-16 ***\n",
       "social       0.4153886  0.0307844  13.493  < 2e-16 ***\n",
       "life_exp     0.0061845  0.0008575   7.212 7.95e-13 ***\n",
       "freedom      0.2029531  0.0220241   9.215  < 2e-16 ***\n",
       "generosity   0.0942603  0.0171542   5.495 4.45e-08 ***\n",
       "corruption  -0.0082075  0.0168305  -0.488    0.626    \n",
       "alcohol      0.0064230  0.0007778   8.258 2.78e-16 ***\n",
       "suicide     -0.0211091  0.0038837  -5.435 6.19e-08 ***\n",
       "obesity     -0.0029443  0.0007294  -4.037 5.64e-05 ***\n",
       "birth        0.0173995  0.0039773   4.375 1.28e-05 ***\n",
       "mental       0.0124155  0.0023323   5.323 1.14e-07 ***\n",
       "---\n",
       "Signif. codes:  0 '***' 0.001 '**' 0.01 '*' 0.05 '.' 0.1 ' ' 1\n",
       "\n",
       "(Dispersion parameter for Gamma family taken to be 0.01083967)\n",
       "\n",
       "    Null deviance: 82.449  on 1880  degrees of freedom\n",
       "Residual deviance: 20.718  on 1869  degrees of freedom\n",
       "AIC: 3202.9\n",
       "\n",
       "Number of Fisher Scoring iterations: 4\n"
      ]
     },
     "metadata": {},
     "output_type": "display_data"
    }
   ],
   "source": [
    "g16= glm(HS~log_gdp + social+ life_exp + freedom+ generosity+ corruption  + alcohol + \n",
    "          suicide + obesity + birth + mental, data=df, family=Gamma(link=log))\n",
    "summary(g16)"
   ]
  },
  {
   "cell_type": "code",
   "execution_count": 47,
   "id": "6c49ac84",
   "metadata": {},
   "outputs": [
    {
     "data": {
      "text/html": [
       "0.748714649834027"
      ],
      "text/latex": [
       "0.748714649834027"
      ],
      "text/markdown": [
       "0.748714649834027"
      ],
      "text/plain": [
       "[1] 0.7487146"
      ]
     },
     "metadata": {},
     "output_type": "display_data"
    }
   ],
   "source": [
    "with(summary(g16), 1 - deviance/null.deviance)\n"
   ]
  },
  {
   "cell_type": "code",
   "execution_count": 48,
   "id": "ea710b87",
   "metadata": {},
   "outputs": [
    {
     "data": {
      "text/plain": [
       "\n",
       "Call:\n",
       "glm(formula = HS ~ log_gdp + social + life_exp + freedom + generosity + \n",
       "    corruption + alcohol + suicide + obesity + birth + mental, \n",
       "    family = inverse.gaussian(link = 1/mu^2), data = df)\n",
       "\n",
       "Deviance Residuals: \n",
       "      Min         1Q     Median         3Q        Max  \n",
       "-0.242632  -0.027066  -0.000089   0.026422   0.181901  \n",
       "\n",
       "Coefficients:\n",
       "              Estimate Std. Error t value Pr(>|t|)    \n",
       "(Intercept)  1.568e-01  5.274e-03  29.722  < 2e-16 ***\n",
       "log_gdp     -3.988e-03  3.859e-04 -10.335  < 2e-16 ***\n",
       "social      -3.671e-02  2.679e-03 -13.701  < 2e-16 ***\n",
       "life_exp    -5.082e-04  6.900e-05  -7.365 2.65e-13 ***\n",
       "freedom     -1.584e-02  1.715e-03  -9.237  < 2e-16 ***\n",
       "generosity  -3.305e-03  1.160e-03  -2.850 0.004419 ** \n",
       "corruption  -3.661e-03  1.083e-03  -3.379 0.000742 ***\n",
       "alcohol     -3.542e-04  5.396e-05  -6.564 6.79e-11 ***\n",
       "suicide      9.747e-04  2.640e-04   3.692 0.000229 ***\n",
       "obesity     -2.622e-05  5.052e-05  -0.519 0.603844    \n",
       "birth       -6.990e-04  3.318e-04  -2.107 0.035285 *  \n",
       "mental      -7.802e-04  1.623e-04  -4.806 1.66e-06 ***\n",
       "---\n",
       "Signif. codes:  0 '***' 0.001 '**' 0.01 '*' 0.05 '.' 0.1 ' ' 1\n",
       "\n",
       "(Dispersion parameter for inverse.gaussian family taken to be 0.002268974)\n",
       "\n",
       "    Null deviance: 15.834  on 1880  degrees of freedom\n",
       "Residual deviance:  4.462  on 1869  degrees of freedom\n",
       "AIC: 3469.4\n",
       "\n",
       "Number of Fisher Scoring iterations: 4\n"
      ]
     },
     "metadata": {},
     "output_type": "display_data"
    }
   ],
   "source": [
    "g17= glm(HS~log_gdp + social+ life_exp + freedom+ generosity+ corruption  + alcohol + \n",
    "          suicide + obesity + birth + mental, data=df, family=inverse.gaussian(link=1/mu^2))\n",
    "summary(g17)"
   ]
  },
  {
   "cell_type": "code",
   "execution_count": 49,
   "id": "a1960cff",
   "metadata": {},
   "outputs": [
    {
     "data": {
      "text/html": [
       "0.718207323932172"
      ],
      "text/latex": [
       "0.718207323932172"
      ],
      "text/markdown": [
       "0.718207323932172"
      ],
      "text/plain": [
       "[1] 0.7182073"
      ]
     },
     "metadata": {},
     "output_type": "display_data"
    }
   ],
   "source": [
    "with(summary(g17), 1 - deviance/null.deviance)\n"
   ]
  },
  {
   "cell_type": "code",
   "execution_count": 50,
   "id": "30b5f0f5",
   "metadata": {},
   "outputs": [
    {
     "data": {
      "text/plain": [
       "\n",
       "Call:\n",
       "glm(formula = HS ~ log_gdp + social + life_exp + freedom + generosity + \n",
       "    corruption + alcohol + suicide + obesity + birth + mental, \n",
       "    family = quasi(link = \"identity\", variance = \"constant\"), \n",
       "    data = df)\n",
       "\n",
       "Deviance Residuals: \n",
       "     Min        1Q    Median        3Q       Max  \n",
       "-1.83554  -0.32826   0.01484   0.33623   1.88980  \n",
       "\n",
       "Coefficients:\n",
       "             Estimate Std. Error t value Pr(>|t|)    \n",
       "(Intercept) -3.970241   0.346418 -11.461  < 2e-16 ***\n",
       "log_gdp      0.484240   0.026094  18.557  < 2e-16 ***\n",
       "social       2.060494   0.158106  13.032  < 2e-16 ***\n",
       "life_exp     0.035902   0.004404   8.152 6.48e-16 ***\n",
       "freedom      1.024516   0.113114   9.057  < 2e-16 ***\n",
       "generosity   0.606671   0.088103   6.886 7.81e-12 ***\n",
       "corruption  -0.279226   0.086440  -3.230  0.00126 ** \n",
       "alcohol      0.035862   0.003995   8.977  < 2e-16 ***\n",
       "suicide     -0.123682   0.019946  -6.201 6.90e-10 ***\n",
       "obesity     -0.021818   0.003746  -5.824 6.74e-09 ***\n",
       "birth        0.124693   0.020427   6.104 1.25e-09 ***\n",
       "mental       0.063780   0.011978   5.325 1.13e-07 ***\n",
       "---\n",
       "Signif. codes:  0 '***' 0.001 '**' 0.01 '*' 0.05 '.' 0.1 ' ' 1\n",
       "\n",
       "(Dispersion parameter for quasi family taken to be 0.2859239)\n",
       "\n",
       "    Null deviance: 2369.72  on 1880  degrees of freedom\n",
       "Residual deviance:  534.39  on 1869  degrees of freedom\n",
       "AIC: NA\n",
       "\n",
       "Number of Fisher Scoring iterations: 2\n"
      ]
     },
     "metadata": {},
     "output_type": "display_data"
    }
   ],
   "source": [
    "g18= glm(HS~log_gdp + social+ life_exp + freedom+ generosity+ corruption  + alcohol + \n",
    "          suicide + obesity + birth + mental, data=df, family=quasi(link = \"identity\", variance = \"constant\"))\n",
    "summary(g18)"
   ]
  },
  {
   "cell_type": "code",
   "execution_count": 51,
   "id": "b037cff8",
   "metadata": {},
   "outputs": [
    {
     "data": {
      "text/html": [
       "0.774492057032788"
      ],
      "text/latex": [
       "0.774492057032788"
      ],
      "text/markdown": [
       "0.774492057032788"
      ],
      "text/plain": [
       "[1] 0.7744921"
      ]
     },
     "metadata": {},
     "output_type": "display_data"
    }
   ],
   "source": [
    "with(summary(g18), 1 - deviance/null.deviance)\n"
   ]
  },
  {
   "cell_type": "markdown",
   "id": "e04ce9a5",
   "metadata": {},
   "source": [
    "# Scale 변경시 R^2 변화 X\n",
    "# Country 컬럼 넣는게 Continent 컬럼보다 더 R^2 높다\n",
    "# 그러나 country 컬럼을 넣으면 VIF 높고,  유의하지 않은 나라 컬럼 다수 존재\n",
    "# glm (일반화 선형 회귀) 중 가우시안분포(정규분포)가 가장 R^2가 높다\n"
   ]
  }
 ],
 "metadata": {
  "kernelspec": {
   "display_name": "R",
   "language": "R",
   "name": "ir"
  },
  "language_info": {
   "codemirror_mode": "r",
   "file_extension": ".r",
   "mimetype": "text/x-r-source",
   "name": "R",
   "pygments_lexer": "r",
   "version": "3.6.1"
  }
 },
 "nbformat": 4,
 "nbformat_minor": 5
}
