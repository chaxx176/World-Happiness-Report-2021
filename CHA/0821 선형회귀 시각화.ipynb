{
 "cells": [
  {
   "cell_type": "markdown",
   "id": "4a7c470d",
   "metadata": {},
   "source": [
    "# 선형회귀 알고리즘 시각화"
   ]
  },
  {
   "cell_type": "markdown",
   "id": "53a62f6a",
   "metadata": {},
   "source": [
    "# 1. Multiple Linear Regression (HS~country+...)"
   ]
  },
  {
   "cell_type": "code",
   "execution_count": 3,
   "id": "3e66565c",
   "metadata": {},
   "outputs": [
    {
     "name": "stderr",
     "output_type": "stream",
     "text": [
      "The following object is masked _by_ .GlobalEnv:\n",
      "\n",
      "    year\n",
      "\n",
      "The following objects are masked from df (pos = 3):\n",
      "\n",
      "    alcohol, birth, continent, corruption, country, country_num,\n",
      "    freedom, generosity, HS, life_exp, log_gdp, mental, obesity,\n",
      "    schooling, social, suicide, year\n",
      "\n"
     ]
    }
   ],
   "source": [
    "# install.packages('caTools')\n",
    "library(caTools)\n",
    "set.seed(4)\n",
    "setwd(\"C:/Users/CHA-LAPTOP/Downloads/Jupyter Notebook/\")\n",
    "df <-read.csv(\"happy_0814.csv\")\n",
    "attach(df)"
   ]
  },
  {
   "cell_type": "code",
   "execution_count": 4,
   "id": "9d7ef75b",
   "metadata": {},
   "outputs": [
    {
     "name": "stdout",
     "output_type": "stream",
     "text": [
      "'data.frame':\t1881 obs. of  17 variables:\n",
      " $ country    : Factor w/ 153 levels \"Afghanistan\",..: 1 1 1 1 1 1 1 1 1 1 ...\n",
      " $ year       : Factor w/ 16 levels \"2005\",\"2006\",..: 4 5 6 7 8 9 10 11 12 13 ...\n",
      " $ HS         : num  3.72 4.4 4.76 3.83 3.78 ...\n",
      " $ log_gdp    : num  7.37 7.54 7.65 7.62 7.71 ...\n",
      " $ social     : num  0.451 0.552 0.539 0.521 0.521 0.484 0.526 0.529 0.559 0.491 ...\n",
      " $ life_exp   : num  50.8 51.2 51.6 51.9 52.2 ...\n",
      " $ freedom    : num  0.718 0.679 0.6 0.496 0.531 0.578 0.509 0.389 0.523 0.427 ...\n",
      " $ generosity : num  0.168 0.19 0.121 0.162 0.236 0.061 0.104 0.08 0.042 -0.121 ...\n",
      " $ corruption : num  0.882 0.85 0.707 0.731 0.776 0.823 0.871 0.881 0.793 0.954 ...\n",
      " $ schooling  : num  3 3.1 3.2 3.3 3.4 3.5 3.5 3.6 3.6 3.8 ...\n",
      " $ alcohol    : num  0.79 0.771 0.757 0.74 0.724 ...\n",
      " $ suicide    : num  0.59 0.605 0.626 0.646 0.658 ...\n",
      " $ obesity    : num  5.77 6.23 6.6 6.87 7.08 7.34 7.34 7.37 7.45 8.5 ...\n",
      " $ birth      : num  6.37 6.18 5.98 5.77 5.56 ...\n",
      " $ mental     : num  2.3 2.41 2.54 2.66 2.75 ...\n",
      " $ country_num: Factor w/ 153 levels \"4\",\"8\",\"12\",\"24\",..: 1 1 1 1 1 1 1 1 1 1 ...\n",
      " $ continent  : Factor w/ 6 levels \"AF\",\"AS\",\"EU\",..: 2 2 2 2 2 2 2 2 2 2 ...\n"
     ]
    },
    {
     "data": {
      "text/plain": [
       "       country          year            HS           log_gdp      \n",
       " Georgia   :  17   2017   : 142   Min.   :2.375   Min.   : 6.635  \n",
       " Argentina :  15   2019   : 140   1st Qu.:4.641   1st Qu.: 8.480  \n",
       " Bangladesh:  15   2011   : 139   Median :5.387   Median : 9.472  \n",
       " Bolivia   :  15   2014   : 138   Mean   :5.478   Mean   : 9.380  \n",
       " Brazil    :  15   2015   : 137   3rd Qu.:6.313   3rd Qu.:10.356  \n",
       " Cambodia  :  15   2018   : 137   Max.   :8.019   Max.   :11.648  \n",
       " (Other)   :1789   (Other):1048                                   \n",
       "     social          life_exp        freedom         generosity       \n",
       " Min.   :0.2900   Min.   :32.30   Min.   :0.2580   Min.   :-0.335000  \n",
       " 1st Qu.:0.7510   1st Qu.:59.20   1st Qu.:0.6490   1st Qu.:-0.116000  \n",
       " Median :0.8390   Median :65.28   Median :0.7660   Median :-0.029000  \n",
       " Mean   :0.8146   Mean   :63.54   Mean   :0.7437   Mean   :-0.001192  \n",
       " 3rd Qu.:0.9080   3rd Qu.:68.68   3rd Qu.:0.8560   3rd Qu.: 0.089000  \n",
       " Max.   :0.9870   Max.   :77.10   Max.   :0.9850   Max.   : 0.698000  \n",
       "                                                                      \n",
       "   corruption       schooling         alcohol           suicide      \n",
       " Min.   :0.0350   Min.   : 1.300   Min.   : 0.1747   Min.   :0.2341  \n",
       " 1st Qu.:0.6840   1st Qu.: 6.300   1st Qu.: 0.9300   1st Qu.:0.8594  \n",
       " Median :0.7960   Median : 9.100   Median : 1.9829   Median :1.2275  \n",
       " Mean   :0.7416   Mean   : 8.598   Mean   : 3.1115   Mean   :1.3719  \n",
       " 3rd Qu.:0.8680   3rd Qu.:11.400   3rd Qu.: 3.1935   3rd Qu.:1.7160  \n",
       " Max.   :0.9830   Max.   :14.100   Max.   :26.5333   Max.   :6.6137  \n",
       "                                                                     \n",
       "    obesity           birth           mental         country_num   continent  \n",
       " Min.   : 0.910   Min.   :1.054   Min.   : 0.7973   268    :  17   AF   :447  \n",
       " 1st Qu.: 6.140   1st Qu.:1.652   1st Qu.: 3.6527   32     :  15   AS   :569  \n",
       " Median :10.190   Median :2.168   Median : 4.8854   50     :  15   EU   :521  \n",
       " Mean   : 9.994   Mean   :2.676   Mean   : 5.2575   68     :  15   Nor.A:169  \n",
       " 3rd Qu.:14.020   3rd Qu.:3.300   3rd Qu.: 7.0100   76     :  15   OC   : 28  \n",
       " Max.   :25.690   Max.   :7.592   Max.   :11.9818   116    :  15   SA   :147  \n",
       "                                                    (Other):1789              "
      ]
     },
     "metadata": {},
     "output_type": "display_data"
    }
   ],
   "source": [
    "df$country <- as.factor(df$country)\n",
    "df$year <- as.factor(df$year)\n",
    "df$country_num <- as.factor(df$country_num)\n",
    "df$continent <- as.factor(df$continent)\n",
    "str(df)\n",
    "summary(df)"
   ]
  },
  {
   "cell_type": "code",
   "execution_count": 5,
   "id": "dad076aa",
   "metadata": {},
   "outputs": [
    {
     "data": {
      "text/plain": [
       "    log_gdp           social          life_exp         freedom      \n",
       " Min.   :0.0000   Min.   :0.0000   Min.   :0.0000   Min.   :0.0000  \n",
       " 1st Qu.:0.3680   1st Qu.:0.6614   1st Qu.:0.6004   1st Qu.:0.5378  \n",
       " Median :0.5659   Median :0.7877   Median :0.7362   Median :0.6988  \n",
       " Mean   :0.5476   Mean   :0.7526   Mean   :0.6972   Mean   :0.6681  \n",
       " 3rd Qu.:0.7423   3rd Qu.:0.8867   3rd Qu.:0.8121   3rd Qu.:0.8226  \n",
       " Max.   :1.0000   Max.   :1.0000   Max.   :1.0000   Max.   :1.0000  \n",
       "                                                                    \n",
       "   generosity       corruption       schooling         alcohol       \n",
       " Min.   :0.0000   Min.   :0.0000   Min.   :0.0000   Min.   :0.00000  \n",
       " 1st Qu.:0.2120   1st Qu.:0.6846   1st Qu.:0.3906   1st Qu.:0.02865  \n",
       " Median :0.2962   Median :0.8027   Median :0.6094   Median :0.06860  \n",
       " Mean   :0.3231   Mean   :0.7454   Mean   :0.5702   Mean   :0.11142  \n",
       " 3rd Qu.:0.4105   3rd Qu.:0.8787   3rd Qu.:0.7891   3rd Qu.:0.11453  \n",
       " Max.   :1.0000   Max.   :1.0000   Max.   :1.0000   Max.   :1.00000  \n",
       "                                                                     \n",
       "    suicide           obesity           birth             mental      \n",
       " Min.   :0.00000   Min.   :0.0000   Min.   :0.00000   Min.   :0.0000  \n",
       " 1st Qu.:0.09802   1st Qu.:0.2111   1st Qu.:0.09147   1st Qu.:0.2553  \n",
       " Median :0.15572   Median :0.3745   Median :0.17039   Median :0.3655  \n",
       " Mean   :0.17836   Mean   :0.3666   Mean   :0.24814   Mean   :0.3988  \n",
       " 3rd Qu.:0.23230   3rd Qu.:0.5291   3rd Qu.:0.34353   3rd Qu.:0.5555  \n",
       " Max.   :1.00000   Max.   :1.0000   Max.   :1.00000   Max.   :1.0000  \n",
       "                                                                      \n",
       "       HS             year            country      country_num   continent  \n",
       " Min.   :2.375   2017   : 142   Georgia   :  17   268    :  17   AF   :447  \n",
       " 1st Qu.:4.641   2019   : 140   Argentina :  15   32     :  15   AS   :569  \n",
       " Median :5.387   2011   : 139   Bangladesh:  15   50     :  15   EU   :521  \n",
       " Mean   :5.478   2014   : 138   Bolivia   :  15   68     :  15   Nor.A:169  \n",
       " 3rd Qu.:6.313   2015   : 137   Brazil    :  15   76     :  15   OC   : 28  \n",
       " Max.   :8.019   2018   : 137   Cambodia  :  15   116    :  15   SA   :147  \n",
       "                 (Other):1048   (Other)   :1789   (Other):1789              "
      ]
     },
     "metadata": {},
     "output_type": "display_data"
    },
    {
     "data": {
      "text/plain": [
       "\n",
       "Call:\n",
       "lm(formula = HS ~ country + log_gdp + social + life_exp + freedom + \n",
       "    generosity + corruption + schooling + alcohol + suicide + \n",
       "    obesity + birth + mental, data = dfnor)\n",
       "\n",
       "Residuals:\n",
       "    Min      1Q  Median      3Q     Max \n",
       "-1.4977 -0.1919 -0.0066  0.1900  1.2733 \n",
       "\n",
       "Coefficients:\n",
       "                                  Estimate Std. Error t value Pr(>|t|)    \n",
       "(Intercept)                      2.5795035  0.3905847   6.604 5.31e-11 ***\n",
       "countryAlbania                   0.2637988  0.2584106   1.021 0.307469    \n",
       "countryAlgeria                   0.5794640  0.2422575   2.392 0.016867 *  \n",
       "countryAngola                   -1.1704886  0.2696472  -4.341 1.50e-05 ***\n",
       "countryArgentina                 0.3375394  0.2882183   1.171 0.241712    \n",
       "countryArmenia                   0.0707266  0.2785826   0.254 0.799619    \n",
       "countryAustralia                 0.1692457  0.3943873   0.429 0.667878    \n",
       "countryAustria                   0.1627921  0.3694080   0.441 0.659498    \n",
       "countryAzerbaijan                0.0260807  0.2723293   0.096 0.923715    \n",
       "countryBahrain                  -0.6226159  0.3737865  -1.666 0.095956 .  \n",
       "countryBangladesh                0.6507634  0.2362132   2.755 0.005932 ** \n",
       "countryBelarus                   0.6199624  0.4069829   1.523 0.127865    \n",
       "countryBelgium                  -0.1087974  0.3823280  -0.285 0.776011    \n",
       "countryBelize                    1.5407761  0.3406870   4.523 6.53e-06 ***\n",
       "countryBenin                    -0.3254398  0.1695481  -1.919 0.055093 .  \n",
       "countryBhutan                   -0.6197078  0.3349901  -1.850 0.064496 .  \n",
       "countryBolivia                   0.7811244  0.2221233   3.517 0.000448 ***\n",
       "countryBosnia and Herzegovina    0.5354856  0.2761919   1.939 0.052687 .  \n",
       "countryBotswana                 -2.1043219  0.2901874  -7.252 6.21e-13 ***\n",
       "countryBrazil                    1.1150893  0.2670171   4.176 3.11e-05 ***\n",
       "countryBulgaria                 -0.6803865  0.3191831  -2.132 0.033177 *  \n",
       "countryBurkina Faso             -0.1248261  0.1711733  -0.729 0.465956    \n",
       "countryBurundi                   0.7779600  0.2237821   3.476 0.000521 ***\n",
       "countryCambodia                 -0.2437987  0.2255372  -1.081 0.279863    \n",
       "countryCameroon                 -0.0103829  0.1825982  -0.057 0.954662    \n",
       "countryCanada                    0.3491358  0.3736688   0.934 0.350257    \n",
       "countryCentral African Republic  0.3261661  0.2188735   1.490 0.136355    \n",
       "countryChad                     -0.0679534  0.1637139  -0.415 0.678140    \n",
       "countryChile                     0.5486474  0.3151085   1.741 0.081839 .  \n",
       "countryChina                    -0.2113254  0.2696948  -0.784 0.433399    \n",
       "countryColombia                  0.7216709  0.2562385   2.816 0.004912 ** \n",
       "countryComoros                  -0.2808857  0.2036967  -1.379 0.168093    \n",
       "countryCosta Rica                1.3886340  0.2744958   5.059 4.67e-07 ***\n",
       "countryCote d'Ivoire            -0.4559401  0.2034125  -2.241 0.025124 *  \n",
       "countryCroatia                   0.1539324  0.3140205   0.490 0.624056    \n",
       "countryCyprus                    0.0003365  0.3508420   0.001 0.999235    \n",
       "countryCzechia                   0.4821064  0.3451627   1.397 0.162669    \n",
       "countryDenmark                   0.3323827  0.4148687   0.801 0.423141    \n",
       "countryDjibouti                  0.2953307  0.2521919   1.171 0.241739    \n",
       "countryDominican Republic       -0.4599724  0.2377579  -1.935 0.053200 .  \n",
       "countryEcuador                   0.6006152  0.2352832   2.553 0.010774 *  \n",
       "countryEgypt                    -0.1600687  0.2303831  -0.695 0.487279    \n",
       "countryEl Salvador               1.6568335  0.3001600   5.520 3.91e-08 ***\n",
       "countryEstonia                  -0.0233753  0.3713835  -0.063 0.949821    \n",
       "countryEswatini                 -0.9945889  0.3218989  -3.090 0.002035 ** \n",
       "countryEthiopia                  0.2931580  0.2029609   1.444 0.148807    \n",
       "countryFinland                   0.5725959  0.3801266   1.506 0.132167    \n",
       "countryFrance                   -0.2023909  0.3869125  -0.523 0.600978    \n",
       "countryGabon                    -1.4154381  0.2615343  -5.412 7.11e-08 ***\n",
       "countryGambia                    0.4699178  0.2395755   1.961 0.049987 *  \n",
       "countryGeorgia                  -0.0430113  0.2909844  -0.148 0.882508    \n",
       "countryGermany                   0.0338294  0.3889005   0.087 0.930692    \n",
       "countryGhana                     0.1376437  0.1910420   0.720 0.471322    \n",
       "countryGreece                   -0.0634566  0.3293128  -0.193 0.847221    \n",
       "countryGuatemala                 1.2942414  0.2698280   4.797 1.75e-06 ***\n",
       "countryGuinea                   -0.0727391  0.1767686  -0.411 0.680762    \n",
       "countryHaiti                     0.4472713  0.2157056   2.074 0.038272 *  \n",
       "countryHonduras                  1.0214883  0.2100729   4.863 1.26e-06 ***\n",
       "countryHungary                  -0.3736688  0.3471594  -1.076 0.281917    \n",
       "countryIceland                   0.2310361  0.3918193   0.590 0.555503    \n",
       "countryIndia                    -0.1688776  0.2460880  -0.686 0.492649    \n",
       "countryIndonesia                -0.1010898  0.2536337  -0.399 0.690263    \n",
       "countryIran                     -0.2494277  0.2922972  -0.853 0.393592    \n",
       "countryIraq                     -0.3753304  0.2089121  -1.797 0.072576 .  \n",
       "countryIreland                  -0.5065428  0.4132012  -1.226 0.220405    \n",
       "countryIsrael                    0.7289757  0.3633052   2.007 0.044958 *  \n",
       "countryItaly                    -0.0764125  0.3429243  -0.223 0.823697    \n",
       "countryJamaica                   0.9754163  0.2615170   3.730 0.000198 ***\n",
       "countryJapan                    -0.8350770  0.4229568  -1.974 0.048499 *  \n",
       "countryJordan                    0.3997642  0.2437525   1.640 0.101180    \n",
       "countryKazakhstan               -0.0310152  0.3802016  -0.082 0.934994    \n",
       "countryKenya                    -0.3109697  0.2109725  -1.474 0.140670    \n",
       "countryKuwait                   -0.6239115  0.3721674  -1.676 0.093837 .  \n",
       "countryKyrgyzstan                0.9764262  0.2721928   3.587 0.000344 ***\n",
       "countryLaos                     -0.2932030  0.2292460  -1.279 0.201074    \n",
       "countryLatvia                    0.0469775  0.3642889   0.129 0.897407    \n",
       "countryLebanon                  -0.0079281  0.2736929  -0.029 0.976894    \n",
       "countryLesotho                  -0.6769322  0.3014260  -2.246 0.024846 *  \n",
       "countryLiberia                   0.3761143  0.1827128   2.058 0.039693 *  \n",
       "countryLibya                     0.2244413  0.2826016   0.794 0.427191    \n",
       "countryLithuania                 0.1241613  0.3895082   0.319 0.749944    \n",
       "countryLuxembourg               -0.9361809  0.4236829  -2.210 0.027263 *  \n",
       "countryMadagascar                0.5417168  0.2047664   2.646 0.008231 ** \n",
       "countryMalawi                    0.8324632  0.1898397   4.385 1.23e-05 ***\n",
       "countryMalaysia                 -0.2551550  0.3049404  -0.837 0.402857    \n",
       "countryMali                     -0.3572954  0.1732611  -2.062 0.039341 *  \n",
       "countryMalta                    -0.2217714  0.3316680  -0.669 0.503806    \n",
       "countryMauritania               -0.5034862  0.1701487  -2.959 0.003128 ** \n",
       "countryMauritius                 0.4096493  0.3102658   1.320 0.186905    \n",
       "countryMexico                    1.2431933  0.2485485   5.002 6.26e-07 ***\n",
       "countryMoldova                   1.2186066  0.3225486   3.778 0.000163 ***\n",
       "countryMongolia                  0.0929534  0.3312553   0.281 0.779044    \n",
       "countryMontenegro                0.1275768  0.2969265   0.430 0.667499    \n",
       "countryMorocco                   0.8767247  0.2251787   3.893 0.000103 ***\n",
       "countryMozambique                0.9273031  0.1971595   4.703 2.76e-06 ***\n",
       "countryMyanmar                  -0.5797586  0.2619224  -2.213 0.026996 *  \n",
       "countryNamibia                  -1.0235988  0.2627123  -3.896 0.000101 ***\n",
       "countryNepal                     0.5577934  0.2330621   2.393 0.016803 *  \n",
       "countryNetherlands               0.0519727  0.4039537   0.129 0.897642    \n",
       "countryNew Zealand               0.2089362  0.3736863   0.559 0.576152    \n",
       "countryNicaragua                 1.2779354  0.2247122   5.687 1.52e-08 ***\n",
       "countryNiger                     0.2960087  0.2008356   1.474 0.140696    \n",
       "countryNigeria                  -0.3564612  0.2177579  -1.637 0.101822    \n",
       "countryNorth Macedonia          -0.0044092  0.2815114  -0.016 0.987505    \n",
       "countryNorway                   -0.0374258  0.4180466  -0.090 0.928675    \n",
       "countryPakistan                  1.0173917  0.1735366   5.863 5.45e-09 ***\n",
       "countryPalestine                 0.5772107  0.2224349   2.595 0.009541 ** \n",
       "countryPanama                    0.4568687  0.2872135   1.591 0.111863    \n",
       "countryParaguay                  0.3081345  0.2428937   1.269 0.204756    \n",
       "countryPeru                      0.4572193  0.2627822   1.740 0.082053 .  \n",
       "countryPhilippines               0.2414163  0.2256479   1.070 0.284824    \n",
       "countryPoland                    0.1431733  0.3464806   0.413 0.679496    \n",
       "countryPortugal                 -0.7632517  0.3264925  -2.338 0.019516 *  \n",
       "countryQatar                    -1.4266951  0.4775548  -2.988 0.002853 ** \n",
       "countryRomania                   0.2014063  0.3081300   0.654 0.513431    \n",
       "countryRussia                    0.1013828  0.4024897   0.252 0.801157    \n",
       "countryRwanda                   -0.5079634  0.2105785  -2.412 0.015960 *  \n",
       "countrySaudi Arabia             -0.1565903  0.3216050  -0.487 0.626390    \n",
       "countrySenegal                  -0.0421287  0.1678960  -0.251 0.801905    \n",
       "countrySerbia                    0.2988909  0.3030942   0.986 0.324207    \n",
       "countrySierra Leone              0.0880028  0.1742128   0.505 0.613521    \n",
       "countrySingapore                -1.4254737  0.4703919  -3.030 0.002479 ** \n",
       "countrySlovakia                  0.3181778  0.3392466   0.938 0.348430    \n",
       "countrySlovenia                 -0.3422911  0.3570624  -0.959 0.337880    \n",
       "countrySouth Africa             -0.9252926  0.3076731  -3.007 0.002673 ** \n",
       "countrySouth Korea              -0.8491461  0.5440318  -1.561 0.118746    \n",
       "countrySpain                     0.0530289  0.3393106   0.156 0.875827    \n",
       "countrySri Lanka                -1.1712543  0.3641516  -3.216 0.001322 ** \n",
       "countrySudan                    -0.3090188  0.2062122  -1.499 0.134175    \n",
       "countrySweden                    0.0930030  0.3870447   0.240 0.810134    \n",
       "countrySwitzerland              -0.0275026  0.4294274  -0.064 0.948942    \n",
       "countrySyria                    -0.1894963  0.2140215  -0.885 0.376061    \n",
       "countryTaiwan                   -0.6843524  0.3747406  -1.826 0.067993 .  \n",
       "countryTajikistan                1.1351037  0.2500554   4.539 6.03e-06 ***\n",
       "countryTanzania                 -0.6576588  0.1836961  -3.580 0.000353 ***\n",
       "countryThailand                  0.0940167  0.2994034   0.314 0.753549    \n",
       "countryTogo                      0.3564045  0.1853563   1.923 0.054670 .  \n",
       "countryTrinidad and Tobago       0.3466394  0.3488473   0.994 0.320523    \n",
       "countryTunisia                   0.2429033  0.2413086   1.007 0.314265    \n",
       "countryTurkey                   -0.3176929  0.2740891  -1.159 0.246582    \n",
       "countryTurkmenistan              0.3878757  0.2816134   1.377 0.168589    \n",
       "countryUganda                   -0.0826104  0.2014414  -0.410 0.681787    \n",
       "countryUkraine                   0.3019027  0.3533911   0.854 0.393057    \n",
       "countryUnited Arab Emirates     -0.5303452  0.3812946  -1.391 0.164434    \n",
       "countryUnited Kingdom           -0.0718782  0.3781762  -0.190 0.849280    \n",
       "countryUnited States             0.1105520  0.3799607   0.291 0.771120    \n",
       "countryUruguay                   0.1939738  0.2813225   0.690 0.490598    \n",
       "countryUzbekistan                1.1003230  0.2775310   3.965 7.65e-05 ***\n",
       "countryVenezuela                 0.7977934  0.2564179   3.111 0.001893 ** \n",
       "countryVietnam                   0.3734656  0.2701104   1.383 0.166955    \n",
       "countryYemen                    -0.3423160  0.1679076  -2.039 0.041631 *  \n",
       "countryZambia                   -0.1719532  0.2122721  -0.810 0.418018    \n",
       "countryZimbabwe                 -0.4637477  0.2557772  -1.813 0.069992 .  \n",
       "log_gdp                          5.6272827  0.4619790  12.181  < 2e-16 ***\n",
       "social                           1.1353669  0.1295544   8.764  < 2e-16 ***\n",
       "life_exp                        -1.0649626  0.3777507  -2.819 0.004869 ** \n",
       "freedom                          0.6012124  0.0940587   6.392 2.11e-10 ***\n",
       "generosity                       0.3784749  0.1217341   3.109 0.001908 ** \n",
       "corruption                      -0.5196972  0.1376346  -3.776 0.000165 ***\n",
       "schooling                       -0.4018028  0.3893701  -1.032 0.302250    \n",
       "alcohol                         -0.7784181  0.3824329  -2.035 0.041960 *  \n",
       "suicide                          0.6475604  0.4647352   1.393 0.163680    \n",
       "obesity                         -1.2434481  0.4454012  -2.792 0.005301 ** \n",
       "birth                            0.6945828  0.3750721   1.852 0.064217 .  \n",
       "mental                          -0.0992630  0.4579095  -0.217 0.828410    \n",
       "---\n",
       "Signif. codes:  0 '***' 0.001 '**' 0.01 '*' 0.05 '.' 0.1 ' ' 1\n",
       "\n",
       "Residual standard error: 0.3534 on 1716 degrees of freedom\n",
       "Multiple R-squared:  0.9095,\tAdjusted R-squared:  0.9009 \n",
       "F-statistic: 105.2 on 164 and 1716 DF,  p-value: < 2.2e-16\n"
      ]
     },
     "metadata": {},
     "output_type": "display_data"
    }
   ],
   "source": [
    "# 정규화 (minmax)\n",
    "normalize <- function(x){\n",
    "  return((x-min(x))/(max(x)-min(x)))\n",
    "}\n",
    "dfnor <- as.data.frame(lapply(df[4:15],normalize))\n",
    "dfnor[c('HS','year','country','country_num','continent')] <- df[c('HS','year','country','country_num','continent')]\n",
    "summary(dfnor)\n",
    "# 모델 만들기 (HS~ Country + ...)\n",
    "model_nor <-lm(HS ~ country +log_gdp + social + life_exp + freedom + generosity + corruption + schooling +\n",
    "                 alcohol + suicide + obesity + birth + mental, data=dfnor)\n",
    "summary(model_nor)"
   ]
  },
  {
   "cell_type": "code",
   "execution_count": 6,
   "id": "904c2e7e",
   "metadata": {},
   "outputs": [],
   "source": [
    "# training set, test set 분리\n",
    "split = sample.split(dfnor$HS, SplitRatio = 0.8)\n",
    "training_set = subset(dfnor, split == TRUE)\n",
    "test_set = subset(dfnor, split == FALSE)"
   ]
  },
  {
   "cell_type": "code",
   "execution_count": 7,
   "id": "23308a0b",
   "metadata": {},
   "outputs": [
    {
     "name": "stderr",
     "output_type": "stream",
     "text": [
      "Warning message in grid.Call(C_textBounds, as.graphicsAnnot(x$label), x$x, x$y, :\n",
      "\"윈도우즈 폰트데이터베이스에서 찾을 수 없는 폰트페밀리입니다\"Warning message in grid.Call(C_textBounds, as.graphicsAnnot(x$label), x$x, x$y, :\n",
      "\"윈도우즈 폰트데이터베이스에서 찾을 수 없는 폰트페밀리입니다\"Warning message in grid.Call(C_textBounds, as.graphicsAnnot(x$label), x$x, x$y, :\n",
      "\"윈도우즈 폰트데이터베이스에서 찾을 수 없는 폰트페밀리입니다\"Warning message in grid.Call(C_textBounds, as.graphicsAnnot(x$label), x$x, x$y, :\n",
      "\"윈도우즈 폰트데이터베이스에서 찾을 수 없는 폰트페밀리입니다\"Warning message in grid.Call(C_textBounds, as.graphicsAnnot(x$label), x$x, x$y, :\n",
      "\"윈도우즈 폰트데이터베이스에서 찾을 수 없는 폰트페밀리입니다\"Warning message in grid.Call(C_textBounds, as.graphicsAnnot(x$label), x$x, x$y, :\n",
      "\"윈도우즈 폰트데이터베이스에서 찾을 수 없는 폰트페밀리입니다\"Warning message in grid.Call.graphics(C_text, as.graphicsAnnot(x$label), x$x, x$y, :\n",
      "\"윈도우즈 폰트데이터베이스에서 찾을 수 없는 폰트페밀리입니다\"Warning message in grid.Call(C_textBounds, as.graphicsAnnot(x$label), x$x, x$y, :\n",
      "\"윈도우즈 폰트데이터베이스에서 찾을 수 없는 폰트페밀리입니다\""
     ]
    },
    {
     "data": {
      "image/png": "[encoded data removed]",
      "text/plain": [
       "plot without title"
      ]
     },
     "metadata": {},
     "output_type": "display_data"
    }
   ],
   "source": [
    "# 시각화\n",
    "y_pred_lm = predict(model_nor, newdata = test_set)\n",
    "Pred_Actual_lm <- as.data.frame(cbind(Prediction = y_pred_lm, Actual = test_set$HS))\n",
    "library(ggplot2)\n",
    "gg.lm <- ggplot(Pred_Actual_lm, aes(Actual, Prediction )) +\n",
    "  geom_point() + theme_bw() + geom_abline() +\n",
    "  labs(title = \"Multiple Linear Regression\", x = \"Actual happiness score\",\n",
    "       y = \"Predicted happiness score\") +\n",
    "  theme(plot.title = element_text(family = \"Helvetica\", face = \"bold\", size = (15)), \n",
    "        axis.title = element_text(family = \"Helvetica\", size = (10)))\n",
    "gg.lm"
   ]
  },
  {
   "cell_type": "markdown",
   "id": "9b0176e4",
   "metadata": {},
   "source": [
    "# 2. Multiple Linear Regression (HS^2~country+...)"
   ]
  },
  {
   "cell_type": "code",
   "execution_count": 9,
   "id": "6b9922b1",
   "metadata": {},
   "outputs": [
    {
     "data": {
      "text/plain": [
       "\n",
       "Call:\n",
       "lm(formula = HS^2 ~ country + log_gdp + social + life_exp + freedom + \n",
       "    generosity + corruption + schooling + alcohol + suicide + \n",
       "    obesity + birth + mental, data = dfnor)\n",
       "\n",
       "Residuals:\n",
       "     Min       1Q   Median       3Q      Max \n",
       "-12.9790  -2.1549  -0.1258   2.0441  14.7620 \n",
       "\n",
       "Coefficients:\n",
       "                                 Estimate Std. Error t value Pr(>|t|)    \n",
       "(Intercept)                       3.82092    4.00224   0.955 0.339865    \n",
       "countryAlbania                   -0.23231    2.64788  -0.088 0.930098    \n",
       "countryAlgeria                    3.66269    2.48236   1.475 0.140265    \n",
       "countryAngola                   -14.18484    2.76302  -5.134 3.16e-07 ***\n",
       "countryArgentina                  2.14542    2.95331   0.726 0.467664    \n",
       "countryArmenia                   -1.51526    2.85458  -0.531 0.595613    \n",
       "countryAustralia                  3.73334    4.04120   0.924 0.355711    \n",
       "countryAustria                    2.99478    3.78524   0.791 0.428953    \n",
       "countryAzerbaijan                -2.33243    2.79050  -0.836 0.403358    \n",
       "countryBahrain                   -7.75924    3.83011  -2.026 0.042934 *  \n",
       "countryBangladesh                 3.52531    2.42043   1.456 0.145441    \n",
       "countryBelarus                    4.97559    4.17027   1.193 0.232991    \n",
       "countryBelgium                   -0.88246    3.91763  -0.225 0.821808    \n",
       "countryBelize                    14.97500    3.49095   4.290 1.89e-05 ***\n",
       "countryBenin                     -4.64518    1.73732  -2.674 0.007572 ** \n",
       "countryBhutan                    -9.88631    3.43257  -2.880 0.004024 ** \n",
       "countryBolivia                    5.85520    2.27605   2.573 0.010179 *  \n",
       "countryBosnia and Herzegovina     2.39090    2.83008   0.845 0.398330    \n",
       "countryBotswana                 -22.77120    2.97349  -7.658 3.13e-14 ***\n",
       "countryBrazil                    10.95340    2.73607   4.003 6.51e-05 ***\n",
       "countryBulgaria                  -9.24911    3.27060  -2.828 0.004739 ** \n",
       "countryBurkina Faso              -3.11899    1.75398  -1.778 0.075542 .  \n",
       "countryBurundi                    7.83823    2.29305   3.418 0.000645 ***\n",
       "countryCambodia                  -4.84701    2.31103  -2.097 0.036110 *  \n",
       "countryCameroon                  -2.20654    1.87104  -1.179 0.238439    \n",
       "countryCanada                     5.71937    3.82890   1.494 0.135428    \n",
       "countryCentral African Republic   3.56280    2.24275   1.589 0.112338    \n",
       "countryChad                      -2.14394    1.67754  -1.278 0.201414    \n",
       "countryChile                      4.56459    3.22885   1.414 0.157635    \n",
       "countryChina                     -5.39439    2.76350  -1.952 0.051099 .  \n",
       "countryColombia                   5.54793    2.62562   2.113 0.034745 *  \n",
       "countryComoros                   -4.31367    2.08724  -2.067 0.038913 *  \n",
       "countryCosta Rica                15.56870    2.81270   5.535 3.59e-08 ***\n",
       "countryCote d'Ivoire             -6.85835    2.08432  -3.290 0.001021 ** \n",
       "countryCroatia                   -1.11547    3.21770  -0.347 0.728884    \n",
       "countryCyprus                    -1.96136    3.59500  -0.546 0.585426    \n",
       "countryCzechia                    4.27323    3.53681   1.208 0.227131    \n",
       "countryDenmark                    7.03808    4.25107   1.656 0.097985 .  \n",
       "countryDjibouti                   0.15581    2.58416   0.060 0.951928    \n",
       "countryDominican Republic        -7.57564    2.43625  -3.110 0.001905 ** \n",
       "countryEcuador                    3.95303    2.41090   1.640 0.101260    \n",
       "countryEgypt                     -3.69945    2.36069  -1.567 0.117274    \n",
       "countryEl Salvador               15.76296    3.07568   5.125 3.31e-07 ***\n",
       "countryEstonia                   -1.93563    3.80549  -0.509 0.611068    \n",
       "countryEswatini                 -12.75882    3.29843  -3.868 0.000114 ***\n",
       "countryEthiopia                   0.44777    2.07970   0.215 0.829554    \n",
       "countryFinland                    9.21898    3.89508   2.367 0.018052 *  \n",
       "countryFrance                    -2.59754    3.96461  -0.655 0.512438    \n",
       "countryGabon                    -16.81027    2.67989  -6.273 4.48e-10 ***\n",
       "countryGambia                     2.43067    2.45488   0.990 0.322246    \n",
       "countryGeorgia                   -2.39839    2.98165  -0.804 0.421288    \n",
       "countryGermany                    0.54143    3.98498   0.136 0.891941    \n",
       "countryGhana                     -0.98820    1.95757  -0.505 0.613758    \n",
       "countryGreece                    -3.50102    3.37440  -1.038 0.299638    \n",
       "countryGuatemala                 12.03665    2.76487   4.353 1.42e-05 ***\n",
       "countryGuinea                    -2.47354    1.81131  -1.366 0.172241    \n",
       "countryHaiti                      3.57118    2.21029   1.616 0.106342    \n",
       "countryHonduras                   7.91819    2.15257   3.678 0.000242 ***\n",
       "countryHungary                   -6.43130    3.55727  -1.808 0.070792 .  \n",
       "countryIceland                    4.87648    4.01489   1.215 0.224686    \n",
       "countryIndia                     -4.26520    2.52161  -1.691 0.090931 .  \n",
       "countryIndonesia                 -4.21380    2.59893  -1.621 0.105124    \n",
       "countryIran                      -5.03408    2.99511  -1.681 0.092990 .  \n",
       "countryIraq                      -6.32749    2.14068  -2.956 0.003161 ** \n",
       "countryIreland                   -4.38657    4.23398  -1.036 0.300331    \n",
       "countryIsrael                     9.26769    3.72271   2.490 0.012886 *  \n",
       "countryItaly                     -2.84268    3.51387  -0.809 0.418635    \n",
       "countryJamaica                    8.04167    2.67971   3.001 0.002730 ** \n",
       "countryJapan                    -11.32815    4.33395  -2.614 0.009032 ** \n",
       "countryJordan                     2.49422    2.49768   0.999 0.318122    \n",
       "countryKazakhstan                -1.79851    3.89584  -0.462 0.644393    \n",
       "countryKenya                     -5.43858    2.16179  -2.516 0.011968 *  \n",
       "countryKuwait                    -7.74349    3.81352  -2.031 0.042456 *  \n",
       "countryKyrgyzstan                 8.46390    2.78910   3.035 0.002444 ** \n",
       "countryLaos                      -6.34163    2.34903  -2.700 0.007009 ** \n",
       "countryLatvia                    -1.43165    3.73279  -0.384 0.701372    \n",
       "countryLebanon                   -2.41497    2.80447  -0.861 0.389296    \n",
       "countryLesotho                   -7.27295    3.08865  -2.355 0.018648 *  \n",
       "countryLiberia                    2.85707    1.87222   1.526 0.127186    \n",
       "countryLibya                     -0.13733    2.89576  -0.047 0.962179    \n",
       "countryLithuania                 -0.43774    3.99121  -0.110 0.912679    \n",
       "countryLuxembourg                -9.32998    4.34139  -2.149 0.031768 *  \n",
       "countryMadagascar                 4.31184    2.09820   2.055 0.040028 *  \n",
       "countryMalawi                     7.37054    1.94525   3.789 0.000156 ***\n",
       "countryMalaysia                  -4.97918    3.12466  -1.594 0.111230    \n",
       "countryMali                      -5.61853    1.77537  -3.165 0.001580 ** \n",
       "countryMalta                     -3.83361    3.39853  -1.128 0.259470    \n",
       "countryMauritania                -7.56884    1.74348  -4.341 1.50e-05 ***\n",
       "countryMauritius                  2.03491    3.17923   0.640 0.522217    \n",
       "countryMexico                    12.50412    2.54682   4.910 9.99e-07 ***\n",
       "countryMoldova                   10.68959    3.30509   3.234 0.001243 ** \n",
       "countryMongolia                  -0.65070    3.39430  -0.192 0.847997    \n",
       "countryMontenegro                -1.54064    3.04254  -0.506 0.612665    \n",
       "countryMorocco                    6.25186    2.30736   2.710 0.006805 ** \n",
       "countryMozambique                 7.29834    2.02025   3.613 0.000312 ***\n",
       "countryMyanmar                   -8.95544    2.68386  -3.337 0.000866 ***\n",
       "countryNamibia                  -13.19172    2.69196  -4.900 1.05e-06 ***\n",
       "countryNepal                      2.86948    2.38814   1.202 0.229701    \n",
       "countryNetherlands                2.81463    4.13923   0.680 0.496603    \n",
       "countryNew Zealand                4.05341    3.82908   1.059 0.289938    \n",
       "countryNicaragua                 11.33800    2.30258   4.924 9.29e-07 ***\n",
       "countryNiger                      1.37424    2.05792   0.668 0.504363    \n",
       "countryNigeria                   -6.24187    2.23132  -2.797 0.005209 ** \n",
       "countryNorth Macedonia           -2.85274    2.88459  -0.989 0.322823    \n",
       "countryNorway                     2.23343    4.28363   0.521 0.602165    \n",
       "countryPakistan                   7.30217    1.77819   4.107 4.21e-05 ***\n",
       "countryPalestine                  4.38603    2.27924   1.924 0.054477 .  \n",
       "countryPanama                     4.16795    2.94301   1.416 0.156893    \n",
       "countryParaguay                   1.02080    2.48888   0.410 0.681753    \n",
       "countryPeru                       2.12066    2.69267   0.788 0.431059    \n",
       "countryPhilippines                0.02013    2.31217   0.009 0.993056    \n",
       "countryPoland                    -0.46415    3.55031  -0.131 0.895999    \n",
       "countryPortugal                 -10.97813    3.34550  -3.281 0.001053 ** \n",
       "countryQatar                    -15.37049    4.89340  -3.141 0.001712 ** \n",
       "countryRomania                   -0.63521    3.15734  -0.201 0.840577    \n",
       "countryRussia                    -0.66306    4.12422  -0.161 0.872293    \n",
       "countryRwanda                    -5.94586    2.15775  -2.756 0.005921 ** \n",
       "countrySaudi Arabia              -2.24759    3.29542  -0.682 0.495310    \n",
       "countrySenegal                   -2.85196    1.72039  -1.658 0.097553 .  \n",
       "countrySerbia                     0.46025    3.10574   0.148 0.882207    \n",
       "countrySierra Leone              -0.44347    1.78512  -0.248 0.803833    \n",
       "countrySingapore                -16.24461    4.82000  -3.370 0.000768 ***\n",
       "countrySlovakia                   1.43112    3.47619   0.412 0.680615    \n",
       "countrySlovenia                  -5.42437    3.65874  -1.483 0.138370    \n",
       "countrySouth Africa             -12.03069    3.15266  -3.816 0.000140 ***\n",
       "countrySouth Korea              -11.42371    5.57458  -2.049 0.040589 *  \n",
       "countrySpain                     -0.73756    3.47684  -0.212 0.832027    \n",
       "countrySri Lanka                -13.92363    3.73138  -3.731 0.000197 ***\n",
       "countrySudan                     -5.42239    2.11301  -2.566 0.010367 *  \n",
       "countrySweden                     2.97234    3.96596   0.749 0.453682    \n",
       "countrySwitzerland                2.43970    4.40025   0.554 0.579347    \n",
       "countrySyria                     -2.55622    2.19303  -1.166 0.243935    \n",
       "countryTaiwan                    -9.84925    3.83989  -2.565 0.010402 *  \n",
       "countryTajikistan                 9.77575    2.56226   3.815 0.000141 ***\n",
       "countryTanzania                  -7.11711    1.88229  -3.781 0.000161 ***\n",
       "countryThailand                  -1.29495    3.06792  -0.422 0.673009    \n",
       "countryTogo                       3.66356    1.89931   1.929 0.053909 .  \n",
       "countryTrinidad and Tobago        2.43664    3.57456   0.682 0.495545    \n",
       "countryTunisia                   -0.02766    2.47264  -0.011 0.991076    \n",
       "countryTurkey                    -6.25698    2.80853  -2.228 0.026020 *  \n",
       "countryTurkmenistan               2.11696    2.88563   0.734 0.463279    \n",
       "countryUganda                    -2.34079    2.06413  -1.134 0.256938    \n",
       "countryUkraine                    1.48278    3.62112   0.409 0.682238    \n",
       "countryUnited Arab Emirates      -5.58657    3.90704  -1.430 0.152936    \n",
       "countryUnited Kingdom            -0.50566    3.87509  -0.130 0.896193    \n",
       "countryUnited States              2.40855    3.89338   0.619 0.536244    \n",
       "countryUruguay                    0.27912    2.88265   0.097 0.922874    \n",
       "countryUzbekistan                 9.70771    2.84380   3.414 0.000656 ***\n",
       "countryVenezuela                  7.33467    2.62746   2.792 0.005304 ** \n",
       "countryVietnam                    0.68662    2.76776   0.248 0.804104    \n",
       "countryYemen                     -4.63117    1.72051  -2.692 0.007177 ** \n",
       "countryZambia                    -3.63057    2.17511  -1.669 0.095271 .  \n",
       "countryZimbabwe                  -5.23788    2.62089  -1.999 0.045819 *  \n",
       "log_gdp                          59.89165    4.73380  12.652  < 2e-16 ***\n",
       "social                           10.99909    1.32752   8.285 2.34e-16 ***\n",
       "life_exp                         -9.27713    3.87073  -2.397 0.016648 *  \n",
       "freedom                           5.99251    0.96380   6.218 6.33e-10 ***\n",
       "generosity                        4.07964    1.24738   3.271 0.001095 ** \n",
       "corruption                       -5.59458    1.41031  -3.967 7.58e-05 ***\n",
       "schooling                        -5.84103    3.98979  -1.464 0.143379    \n",
       "alcohol                          -9.44828    3.91871  -2.411 0.016010 *  \n",
       "suicide                           6.63036    4.76204   1.392 0.164001    \n",
       "obesity                         -13.74191    4.56393  -3.011 0.002642 ** \n",
       "birth                             6.07152    3.84328   1.580 0.114343    \n",
       "mental                           -2.73620    4.69210  -0.583 0.559869    \n",
       "---\n",
       "Signif. codes:  0 '***' 0.001 '**' 0.01 '*' 0.05 '.' 0.1 ' ' 1\n",
       "\n",
       "Residual standard error: 3.622 on 1716 degrees of freedom\n",
       "Multiple R-squared:  0.9229,\tAdjusted R-squared:  0.9155 \n",
       "F-statistic: 125.3 on 164 and 1716 DF,  p-value: < 2.2e-16\n"
      ]
     },
     "metadata": {},
     "output_type": "display_data"
    }
   ],
   "source": [
    "# 모델 만들기 HS^2~ country + ...)\n",
    "model_nor2 <-lm(HS^2 ~ country +log_gdp + social + life_exp + freedom + generosity + corruption + schooling +\n",
    "                 alcohol + suicide + obesity + birth + mental, data=dfnor)\n",
    "summary(model_nor2)\n"
   ]
  },
  {
   "cell_type": "code",
   "execution_count": 10,
   "id": "076ee6ab",
   "metadata": {},
   "outputs": [
    {
     "name": "stderr",
     "output_type": "stream",
     "text": [
      "Warning message in grid.Call(C_textBounds, as.graphicsAnnot(x$label), x$x, x$y, :\n",
      "\"윈도우즈 폰트데이터베이스에서 찾을 수 없는 폰트페밀리입니다\"Warning message in grid.Call(C_textBounds, as.graphicsAnnot(x$label), x$x, x$y, :\n",
      "\"윈도우즈 폰트데이터베이스에서 찾을 수 없는 폰트페밀리입니다\"Warning message in grid.Call(C_textBounds, as.graphicsAnnot(x$label), x$x, x$y, :\n",
      "\"윈도우즈 폰트데이터베이스에서 찾을 수 없는 폰트페밀리입니다\"Warning message in grid.Call(C_textBounds, as.graphicsAnnot(x$label), x$x, x$y, :\n",
      "\"윈도우즈 폰트데이터베이스에서 찾을 수 없는 폰트페밀리입니다\"Warning message in grid.Call(C_textBounds, as.graphicsAnnot(x$label), x$x, x$y, :\n",
      "\"윈도우즈 폰트데이터베이스에서 찾을 수 없는 폰트페밀리입니다\"Warning message in grid.Call(C_textBounds, as.graphicsAnnot(x$label), x$x, x$y, :\n",
      "\"윈도우즈 폰트데이터베이스에서 찾을 수 없는 폰트페밀리입니다\"Warning message in grid.Call.graphics(C_text, as.graphicsAnnot(x$label), x$x, x$y, :\n",
      "\"윈도우즈 폰트데이터베이스에서 찾을 수 없는 폰트페밀리입니다\"Warning message in grid.Call(C_textBounds, as.graphicsAnnot(x$label), x$x, x$y, :\n",
      "\"윈도우즈 폰트데이터베이스에서 찾을 수 없는 폰트페밀리입니다\""
     ]
    },
    {
     "data": {
      "image/png": "[encoded data removed]",
      "text/plain": [
       "plot without title"
      ]
     },
     "metadata": {},
     "output_type": "display_data"
    }
   ],
   "source": [
    "# 시각화\n",
    "y_pred_lm = predict(model_nor2, newdata = test_set)\n",
    "Pred_Actual_lm2 <- as.data.frame(cbind(Prediction = y_pred_lm, Actual = (test_set$HS)^2))\n",
    "gg.lm2 <- ggplot(Pred_Actual_lm2, aes(Actual, Prediction )) +\n",
    "  geom_point() + theme_bw() + geom_abline() +\n",
    "  labs(title = \"Multiple Linear Regression (HS^2)\", x = \"Actual happiness score\",\n",
    "       y = \"Predicted happiness score\") +\n",
    "  theme(plot.title = element_text(family = \"Helvetica\", face = \"bold\", size = (15)), \n",
    "        axis.title = element_text(family = \"Helvetica\", size = (10)))\n",
    "gg.lm2"
   ]
  },
  {
   "cell_type": "markdown",
   "id": "8f240398",
   "metadata": {},
   "source": [
    "# 3. SVR"
   ]
  },
  {
   "cell_type": "code",
   "execution_count": 13,
   "id": "fa890954",
   "metadata": {},
   "outputs": [],
   "source": [
    "# SVR 알고리즘 모델 만들기\n",
    "# install.packages('e1071')\n",
    "library(e1071)\n",
    "regressor_svr = svm(formula = HS ~ country +log_gdp + social + life_exp + freedom + generosity + corruption + schooling +\n",
    "                      alcohol + suicide + obesity + birth + mental,\n",
    "                    data = dfnor,\n",
    "                    type = 'eps-regression',\n",
    "                    kernel = 'radial')"
   ]
  },
  {
   "cell_type": "code",
   "execution_count": 14,
   "id": "fb693cba",
   "metadata": {},
   "outputs": [
    {
     "name": "stderr",
     "output_type": "stream",
     "text": [
      "Warning message in grid.Call(C_textBounds, as.graphicsAnnot(x$label), x$x, x$y, :\n",
      "\"윈도우즈 폰트데이터베이스에서 찾을 수 없는 폰트페밀리입니다\"Warning message in grid.Call(C_textBounds, as.graphicsAnnot(x$label), x$x, x$y, :\n",
      "\"윈도우즈 폰트데이터베이스에서 찾을 수 없는 폰트페밀리입니다\"Warning message in grid.Call(C_textBounds, as.graphicsAnnot(x$label), x$x, x$y, :\n",
      "\"윈도우즈 폰트데이터베이스에서 찾을 수 없는 폰트페밀리입니다\"Warning message in grid.Call(C_textBounds, as.graphicsAnnot(x$label), x$x, x$y, :\n",
      "\"윈도우즈 폰트데이터베이스에서 찾을 수 없는 폰트페밀리입니다\"Warning message in grid.Call(C_textBounds, as.graphicsAnnot(x$label), x$x, x$y, :\n",
      "\"윈도우즈 폰트데이터베이스에서 찾을 수 없는 폰트페밀리입니다\"Warning message in grid.Call(C_textBounds, as.graphicsAnnot(x$label), x$x, x$y, :\n",
      "\"윈도우즈 폰트데이터베이스에서 찾을 수 없는 폰트페밀리입니다\"Warning message in grid.Call.graphics(C_text, as.graphicsAnnot(x$label), x$x, x$y, :\n",
      "\"윈도우즈 폰트데이터베이스에서 찾을 수 없는 폰트페밀리입니다\"Warning message in grid.Call(C_textBounds, as.graphicsAnnot(x$label), x$x, x$y, :\n",
      "\"윈도우즈 폰트데이터베이스에서 찾을 수 없는 폰트페밀리입니다\""
     ]
    },
    {
     "data": {
      "image/png": "[encoded data removed]",
      "text/plain": [
       "plot without title"
      ]
     },
     "metadata": {},
     "output_type": "display_data"
    }
   ],
   "source": [
    "# 시각화\n",
    "y_pred_svr = predict(regressor_svr,  newdata = test_set)\n",
    "Pred_Actual_svr <- as.data.frame(cbind(Prediction = y_pred_svr, Actual = test_set$HS))\n",
    "Pred_Actual_lm.versus.svr <- cbind(Prediction.lm = y_pred_lm, Prediction.svr = y_pred_svr, Actual = test_set$HS)\n",
    "gg.svr <- ggplot(Pred_Actual_svr, aes(Actual, Prediction )) +\n",
    "  geom_point() + theme_bw() + geom_abline() +\n",
    "  labs(title = \"SVR\", x = \"Actual happiness score\",\n",
    "       y = \"Predicted happiness score\") +\n",
    "  theme(plot.title = element_text(family = \"Helvetica\", face = \"bold\", size = (15)), \n",
    "        axis.title = element_text(family = \"Helvetica\", size = (10)))\n",
    "gg.svr"
   ]
  },
  {
   "cell_type": "markdown",
   "id": "6e449782",
   "metadata": {},
   "source": [
    "# 4. Decision Tree"
   ]
  },
  {
   "cell_type": "code",
   "execution_count": 15,
   "id": "790c814b",
   "metadata": {},
   "outputs": [],
   "source": [
    "# Decision Tree 알고리즘 모델 만들기\n",
    "library(rpart)\n",
    "regressor_dt = rpart(formula = HS ~ continent +log_gdp + social + life_exp + freedom + generosity + corruption + schooling +\n",
    "                       alcohol + suicide + obesity + birth + mental,\n",
    "                     data = dfnor,\n",
    "                     control = rpart.control(minsplit = 10))"
   ]
  },
  {
   "cell_type": "code",
   "execution_count": 16,
   "id": "7f112afb",
   "metadata": {},
   "outputs": [
    {
     "name": "stderr",
     "output_type": "stream",
     "text": [
      "Warning message in grid.Call(C_textBounds, as.graphicsAnnot(x$label), x$x, x$y, :\n",
      "\"윈도우즈 폰트데이터베이스에서 찾을 수 없는 폰트페밀리입니다\"Warning message in grid.Call(C_textBounds, as.graphicsAnnot(x$label), x$x, x$y, :\n",
      "\"윈도우즈 폰트데이터베이스에서 찾을 수 없는 폰트페밀리입니다\"Warning message in grid.Call(C_textBounds, as.graphicsAnnot(x$label), x$x, x$y, :\n",
      "\"윈도우즈 폰트데이터베이스에서 찾을 수 없는 폰트페밀리입니다\"Warning message in grid.Call(C_textBounds, as.graphicsAnnot(x$label), x$x, x$y, :\n",
      "\"윈도우즈 폰트데이터베이스에서 찾을 수 없는 폰트페밀리입니다\"Warning message in grid.Call(C_textBounds, as.graphicsAnnot(x$label), x$x, x$y, :\n",
      "\"윈도우즈 폰트데이터베이스에서 찾을 수 없는 폰트페밀리입니다\"Warning message in grid.Call(C_textBounds, as.graphicsAnnot(x$label), x$x, x$y, :\n",
      "\"윈도우즈 폰트데이터베이스에서 찾을 수 없는 폰트페밀리입니다\"Warning message in grid.Call.graphics(C_text, as.graphicsAnnot(x$label), x$x, x$y, :\n",
      "\"윈도우즈 폰트데이터베이스에서 찾을 수 없는 폰트페밀리입니다\"Warning message in grid.Call(C_textBounds, as.graphicsAnnot(x$label), x$x, x$y, :\n",
      "\"윈도우즈 폰트데이터베이스에서 찾을 수 없는 폰트페밀리입니다\""
     ]
    },
    {
     "data": {
      "image/png": "[encoded data removed]",
      "text/plain": [
       "plot without title"
      ]
     },
     "metadata": {},
     "output_type": "display_data"
    }
   ],
   "source": [
    "# 시각화 (그래프)\n",
    "y_pred_dt = predict(regressor_dt, newdata = test_set)\n",
    "\n",
    "Pred_Actual_dt <- as.data.frame(cbind(Prediction = y_pred_dt, Actual = test_set$HS))\n",
    "\n",
    "\n",
    "gg.dt <- ggplot(Pred_Actual_dt, aes(Actual, Prediction )) +\n",
    "  geom_point() + theme_bw() + geom_abline() +\n",
    "  labs(title = \"Decision Tree Regression\", x = \"Actual happiness score\",\n",
    "       y = \"Predicted happiness score\") +\n",
    "  theme(plot.title = element_text(family = \"Helvetica\", face = \"bold\", size = (15)), \n",
    "        axis.title = element_text(family = \"Helvetica\", size = (10)))\n",
    "gg.dt"
   ]
  },
  {
   "cell_type": "code",
   "execution_count": 24,
   "id": "1a99b2d1",
   "metadata": {},
   "outputs": [
    {
     "data": {
      "image/png": "[encoded data removed]",
      "text/plain": [
       "plot without title"
      ]
     },
     "metadata": {},
     "output_type": "display_data"
    }
   ],
   "source": [
    "# 가지치기 ver.1\n",
    "# install.packages('rpart.plot')\n",
    "# install.packages('rattle')\n",
    "# install.packages('RColorBrewer')\n",
    "\n",
    "library(rpart.plot)\n",
    "library(rattle)\n",
    "library(RColorBrewer)\n",
    "rpart.plot(regressor_dt) \n"
   ]
  },
  {
   "cell_type": "code",
   "execution_count": 23,
   "id": "d147bb87",
   "metadata": {},
   "outputs": [
    {
     "data": {
      "image/png": "[encoded data removed]",
      "text/plain": [
       "plot without title"
      ]
     },
     "metadata": {},
     "output_type": "display_data"
    }
   ],
   "source": [
    "# 가지치기 ver.2\n",
    "prp(regressor_dt)"
   ]
  },
  {
   "cell_type": "markdown",
   "id": "d08f8c7e",
   "metadata": {},
   "source": [
    "# 5. Random Forest"
   ]
  },
  {
   "cell_type": "code",
   "execution_count": 25,
   "id": "18c757b0",
   "metadata": {},
   "outputs": [
    {
     "name": "stderr",
     "output_type": "stream",
     "text": [
      "randomForest 4.6-14\n",
      "Type rfNews() to see new features/changes/bug fixes.\n",
      "\n",
      "Attaching package: 'randomForest'\n",
      "\n",
      "The following object is masked from 'package:rattle':\n",
      "\n",
      "    importance\n",
      "\n",
      "The following object is masked from 'package:ggplot2':\n",
      "\n",
      "    margin\n",
      "\n"
     ]
    }
   ],
   "source": [
    "# Random Forest 알고리즘 모델 만들기\n",
    "library(randomForest)\n",
    "set.seed(4)\n",
    "# Can not handle categorical predictors with more than 53 categories. error\n",
    "# country -> continent 로 변경\n",
    "regressor_rf = randomForest(x = dfnor[c(\"continent\", \"log_gdp\",\"social\",\"life_exp\",\"freedom\",\"generosity\",\"corruption\",\"schooling\",\"alcohol\",\"suicide\",\"obesity\",\"birth\",\"mental\")],\n",
    "                            y = dfnor$HS,\n",
    "                            ntree = 500)"
   ]
  },
  {
   "cell_type": "code",
   "execution_count": 26,
   "id": "8d7c9825",
   "metadata": {},
   "outputs": [
    {
     "name": "stderr",
     "output_type": "stream",
     "text": [
      "Warning message in grid.Call(C_textBounds, as.graphicsAnnot(x$label), x$x, x$y, :\n",
      "\"윈도우즈 폰트데이터베이스에서 찾을 수 없는 폰트페밀리입니다\"Warning message in grid.Call(C_textBounds, as.graphicsAnnot(x$label), x$x, x$y, :\n",
      "\"윈도우즈 폰트데이터베이스에서 찾을 수 없는 폰트페밀리입니다\"Warning message in grid.Call(C_textBounds, as.graphicsAnnot(x$label), x$x, x$y, :\n",
      "\"윈도우즈 폰트데이터베이스에서 찾을 수 없는 폰트페밀리입니다\"Warning message in grid.Call(C_textBounds, as.graphicsAnnot(x$label), x$x, x$y, :\n",
      "\"윈도우즈 폰트데이터베이스에서 찾을 수 없는 폰트페밀리입니다\"Warning message in grid.Call(C_textBounds, as.graphicsAnnot(x$label), x$x, x$y, :\n",
      "\"윈도우즈 폰트데이터베이스에서 찾을 수 없는 폰트페밀리입니다\"Warning message in grid.Call(C_textBounds, as.graphicsAnnot(x$label), x$x, x$y, :\n",
      "\"윈도우즈 폰트데이터베이스에서 찾을 수 없는 폰트페밀리입니다\"Warning message in grid.Call.graphics(C_text, as.graphicsAnnot(x$label), x$x, x$y, :\n",
      "\"윈도우즈 폰트데이터베이스에서 찾을 수 없는 폰트페밀리입니다\"Warning message in grid.Call(C_textBounds, as.graphicsAnnot(x$label), x$x, x$y, :\n",
      "\"윈도우즈 폰트데이터베이스에서 찾을 수 없는 폰트페밀리입니다\""
     ]
    },
    {
     "data": {
      "image/png": "[encoded data removed]",
      "text/plain": [
       "plot without title"
      ]
     },
     "metadata": {},
     "output_type": "display_data"
    }
   ],
   "source": [
    "# 시각화\n",
    "y_pred_rf = predict(regressor_rf, newdata = test_set)\n",
    "Pred_Actual_rf <- as.data.frame(cbind(Prediction = y_pred_rf, Actual = test_set$HS))\n",
    "gg.rf <- ggplot(Pred_Actual_rf, aes(Actual, Prediction )) +\n",
    "  geom_point() + theme_bw() + geom_abline() +\n",
    "  labs(title = \"Random Forest Regression\", x = \"Actual happiness score\",\n",
    "       y = \"Predicted happiness score\") +\n",
    "  theme(plot.title = element_text(family = \"Helvetica\", face = \"bold\", size = (15)), \n",
    "        axis.title = element_text(family = \"Helvetica\", size = (10)))\n",
    "gg.rf\n"
   ]
  },
  {
   "cell_type": "markdown",
   "id": "95d11878",
   "metadata": {},
   "source": [
    "# 6. Neural Net"
   ]
  },
  {
   "cell_type": "code",
   "execution_count": null,
   "id": "2b866c94",
   "metadata": {},
   "outputs": [],
   "source": [
    "# 모델& 시각화\n",
    "# 구동하는데 오래 걸림...\n",
    "library(neuralnet)\n",
    "\n",
    "nn <- neuralnet(HS~ log_gdp+ social+ life_exp+ freedom+ generosity+ corruption+ schooling+ \n",
    "                  alcohol + suicide + obesity + birth + mental, data=dfnor, hidden = 10, linear.output=TRUE, stepmax=1e7)\n",
    "plot(nn)\n",
    "\n",
    "predicted.nn.values <- compute(nn,test_set[c(\"continent\", \"log_gdp\",\"social\",\"life_exp\",\"freedom\",\"generosity\",\"corruption\",\"schooling\",\"alcohol\",\"suicide\",\"obesity\",\"birth\",\"mental\")])\n",
    "\n",
    "Pred_Actual_nn <- as.data.frame(cbind(Prediction = predicted.nn.values$net.result, Actual = test_set$HS))\n",
    "\n",
    "gg.nn <- ggplot(Pred_Actual_nn, aes(Actual, V1 )) +\n",
    "  geom_point() + theme_bw() + geom_abline() +\n",
    "  labs(title = \"Neural Net\", x = \"Actual happiness score\",\n",
    "       y = \"Predicted happiness score\") +\n",
    "  theme(plot.title = element_text(family = \"Helvetica\", face = \"bold\", size = (15)), \n",
    "        axis.title = element_text(family = \"Helvetica\", size = (10)))\n",
    "gg.nn\n"
   ]
  },
  {
   "cell_type": "markdown",
   "id": "ab2ab71b",
   "metadata": {},
   "source": [
    "# 7. 총정리"
   ]
  },
  {
   "cell_type": "code",
   "execution_count": 41,
   "id": "c8d56170",
   "metadata": {},
   "outputs": [
    {
     "name": "stderr",
     "output_type": "stream",
     "text": [
      "Warning message:\n",
      "\"package 'ggpubr' was built under R version 3.6.3\""
     ]
    },
    {
     "ename": "ERROR",
     "evalue": "Error: package or namespace load failed for 'ggpubr' in loadNamespace(j <- i[[1L]], c(lib.loc, .libPaths()), versionCheck = vI[[j]]):\n namespace 'broom' 0.5.2 is being loaded, but >= 0.7.4 is required\n",
     "output_type": "error",
     "traceback": [
      "Error: package or namespace load failed for 'ggpubr' in loadNamespace(j <- i[[1L]], c(lib.loc, .libPaths()), versionCheck = vI[[j]]):\n namespace 'broom' 0.5.2 is being loaded, but >= 0.7.4 is required\nTraceback:\n",
      "1. library(ggpubr)",
      "2. tryCatch({\n .     attr(package, \"LibPath\") <- which.lib.loc\n .     ns <- loadNamespace(package, lib.loc)\n .     env <- attachNamespace(ns, pos = pos, deps, exclude, include.only)\n . }, error = function(e) {\n .     P <- if (!is.null(cc <- conditionCall(e))) \n .         paste(\" in\", deparse(cc)[1L])\n .     else \"\"\n .     msg <- gettextf(\"package or namespace load failed for %s%s:\\n %s\", \n .         sQuote(package), P, conditionMessage(e))\n .     if (logical.return) \n .         message(paste(\"Error:\", msg), domain = NA)\n .     else stop(msg, call. = FALSE, domain = NA)\n . })",
      "3. tryCatchList(expr, classes, parentenv, handlers)",
      "4. tryCatchOne(expr, names, parentenv, handlers[[1L]])",
      "5. value[[3L]](cond)",
      "6. stop(msg, call. = FALSE, domain = NA)"
     ]
    }
   ],
   "source": [
    "library(ggpubr)\n",
    "library(gridExtra)"
   ]
  },
  {
   "cell_type": "code",
   "execution_count": 38,
   "id": "8207ec52",
   "metadata": {},
   "outputs": [
    {
     "ename": "ERROR",
     "evalue": "Error in ggarrange(gg.lm, gg.lm2, gg.svr, gg.dt, gg.rf, ncol = 2, nrow = 3): 함수 \"ggarrange\"를 찾을 수 없습니다\n",
     "output_type": "error",
     "traceback": [
      "Error in ggarrange(gg.lm, gg.lm2, gg.svr, gg.dt, gg.rf, ncol = 2, nrow = 3): 함수 \"ggarrange\"를 찾을 수 없습니다\nTraceback:\n"
     ]
    }
   ],
   "source": [
    "# Neural Net 제외하고 출력\n",
    "ggarrange(gg.lm, gg.lm2, gg.svr, gg.dt, gg.rf, ncol = 2, nrow = 3)"
   ]
  },
  {
   "cell_type": "code",
   "execution_count": null,
   "id": "4dd45952",
   "metadata": {},
   "outputs": [],
   "source": []
  },
  {
   "cell_type": "code",
   "execution_count": null,
   "id": "a2dd6c5e",
   "metadata": {},
   "outputs": [],
   "source": []
  },
  {
   "cell_type": "code",
   "execution_count": null,
   "id": "921a1b93",
   "metadata": {},
   "outputs": [],
   "source": []
  },
  {
   "cell_type": "code",
   "execution_count": null,
   "id": "eb802c3b",
   "metadata": {},
   "outputs": [],
   "source": []
  },
  {
   "cell_type": "code",
   "execution_count": null,
   "id": "1fade753",
   "metadata": {},
   "outputs": [],
   "source": []
  },
  {
   "cell_type": "code",
   "execution_count": null,
   "id": "d3bca91e",
   "metadata": {},
   "outputs": [],
   "source": []
  },
  {
   "cell_type": "code",
   "execution_count": null,
   "id": "e5546b4b",
   "metadata": {},
   "outputs": [],
   "source": []
  },
  {
   "cell_type": "code",
   "execution_count": null,
   "id": "9560a5fe",
   "metadata": {},
   "outputs": [],
   "source": []
  },
  {
   "cell_type": "code",
   "execution_count": null,
   "id": "136d7946",
   "metadata": {},
   "outputs": [],
   "source": []
  },
  {
   "cell_type": "code",
   "execution_count": null,
   "id": "ee6eb15c",
   "metadata": {},
   "outputs": [],
   "source": []
  }
 ],
 "metadata": {
  "kernelspec": {
   "display_name": "R",
   "language": "R",
   "name": "ir"
  },
  "language_info": {
   "codemirror_mode": "r",
   "file_extension": ".r",
   "mimetype": "text/x-r-source",
   "name": "R",
   "pygments_lexer": "r",
   "version": "3.6.1"
  }
 },
 "nbformat": 4,
 "nbformat_minor": 5
}
