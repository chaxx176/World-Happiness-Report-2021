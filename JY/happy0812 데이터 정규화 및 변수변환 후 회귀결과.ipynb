{
 "cells": [
  {
   "cell_type": "markdown",
   "id": "1e5dc285",
   "metadata": {},
   "source": [
    "# 1. 데이터 가져오기"
   ]
  },
  {
   "cell_type": "code",
   "execution_count": 34,
   "id": "0dc49145",
   "metadata": {
    "scrolled": true
   },
   "outputs": [
    {
     "data": {
      "text/html": [
       "<table>\n",
       "<thead><tr><th scope=col>country</th><th scope=col>year</th><th scope=col>HS</th><th scope=col>log_gdp</th><th scope=col>social</th><th scope=col>life_exp</th><th scope=col>freedom</th><th scope=col>generosity</th><th scope=col>corruption</th><th scope=col>schooling</th><th scope=col>alcohol</th><th scope=col>suicide</th><th scope=col>obesity</th><th scope=col>birth</th><th scope=col>mental</th><th scope=col>country_num</th><th scope=col>continent</th></tr></thead>\n",
       "<tbody>\n",
       "\t<tr><td>Afghanistan</td><td>2008       </td><td>3.724      </td><td>7.370      </td><td>0.451      </td><td>50.80      </td><td>0.718      </td><td>0.168      </td><td>0.882      </td><td>3.0        </td><td>0.7901894  </td><td>0.5896119  </td><td>5.77       </td><td>6.373      </td><td>2.298615   </td><td>4          </td><td>AS         </td></tr>\n",
       "\t<tr><td>Afghanistan</td><td>2009       </td><td>4.402      </td><td>7.540      </td><td>0.552      </td><td>51.20      </td><td>0.679      </td><td>0.190      </td><td>0.850      </td><td>3.1        </td><td>0.7708637  </td><td>0.6046841  </td><td>6.23       </td><td>6.180      </td><td>2.406117   </td><td>4          </td><td>AS         </td></tr>\n",
       "\t<tr><td>Afghanistan</td><td>2010       </td><td>4.758      </td><td>7.647      </td><td>0.539      </td><td>51.60      </td><td>0.600      </td><td>0.121      </td><td>0.707      </td><td>3.2        </td><td>0.7569276  </td><td>0.6264676  </td><td>6.60       </td><td>5.977      </td><td>2.539439   </td><td>4          </td><td>AS         </td></tr>\n",
       "\t<tr><td>Afghanistan</td><td>2011       </td><td>3.832      </td><td>7.620      </td><td>0.521      </td><td>51.92      </td><td>0.496      </td><td>0.162      </td><td>0.731      </td><td>3.3        </td><td>0.7403437  </td><td>0.6460586  </td><td>6.87       </td><td>5.770      </td><td>2.656310   </td><td>4          </td><td>AS         </td></tr>\n",
       "\t<tr><td>Afghanistan</td><td>2012       </td><td>3.783      </td><td>7.705      </td><td>0.521      </td><td>52.24      </td><td>0.531      </td><td>0.236      </td><td>0.776      </td><td>3.4        </td><td>0.7241509  </td><td>0.6583662  </td><td>7.08       </td><td>5.562      </td><td>2.745618   </td><td>4          </td><td>AS         </td></tr>\n",
       "\t<tr><td>Afghanistan</td><td>2013       </td><td>3.572      </td><td>7.725      </td><td>0.484      </td><td>52.56      </td><td>0.578      </td><td>0.061      </td><td>0.823      </td><td>3.5        </td><td>0.7100469  </td><td>0.6780369  </td><td>7.34       </td><td>5.359      </td><td>2.852844   </td><td>4          </td><td>AS         </td></tr>\n",
       "</tbody>\n",
       "</table>\n"
      ],
      "text/latex": [
       "\\begin{tabular}{r|lllllllllllllllll}\n",
       " country & year & HS & log\\_gdp & social & life\\_exp & freedom & generosity & corruption & schooling & alcohol & suicide & obesity & birth & mental & country\\_num & continent\\\\\n",
       "\\hline\n",
       "\t Afghanistan & 2008        & 3.724       & 7.370       & 0.451       & 50.80       & 0.718       & 0.168       & 0.882       & 3.0         & 0.7901894   & 0.5896119   & 5.77        & 6.373       & 2.298615    & 4           & AS         \\\\\n",
       "\t Afghanistan & 2009        & 4.402       & 7.540       & 0.552       & 51.20       & 0.679       & 0.190       & 0.850       & 3.1         & 0.7708637   & 0.6046841   & 6.23        & 6.180       & 2.406117    & 4           & AS         \\\\\n",
       "\t Afghanistan & 2010        & 4.758       & 7.647       & 0.539       & 51.60       & 0.600       & 0.121       & 0.707       & 3.2         & 0.7569276   & 0.6264676   & 6.60        & 5.977       & 2.539439    & 4           & AS         \\\\\n",
       "\t Afghanistan & 2011        & 3.832       & 7.620       & 0.521       & 51.92       & 0.496       & 0.162       & 0.731       & 3.3         & 0.7403437   & 0.6460586   & 6.87        & 5.770       & 2.656310    & 4           & AS         \\\\\n",
       "\t Afghanistan & 2012        & 3.783       & 7.705       & 0.521       & 52.24       & 0.531       & 0.236       & 0.776       & 3.4         & 0.7241509   & 0.6583662   & 7.08        & 5.562       & 2.745618    & 4           & AS         \\\\\n",
       "\t Afghanistan & 2013        & 3.572       & 7.725       & 0.484       & 52.56       & 0.578       & 0.061       & 0.823       & 3.5         & 0.7100469   & 0.6780369   & 7.34        & 5.359       & 2.852844    & 4           & AS         \\\\\n",
       "\\end{tabular}\n"
      ],
      "text/markdown": [
       "\n",
       "| country | year | HS | log_gdp | social | life_exp | freedom | generosity | corruption | schooling | alcohol | suicide | obesity | birth | mental | country_num | continent |\n",
       "|---|---|---|---|---|---|---|---|---|---|---|---|---|---|---|---|---|\n",
       "| Afghanistan | 2008        | 3.724       | 7.370       | 0.451       | 50.80       | 0.718       | 0.168       | 0.882       | 3.0         | 0.7901894   | 0.5896119   | 5.77        | 6.373       | 2.298615    | 4           | AS          |\n",
       "| Afghanistan | 2009        | 4.402       | 7.540       | 0.552       | 51.20       | 0.679       | 0.190       | 0.850       | 3.1         | 0.7708637   | 0.6046841   | 6.23        | 6.180       | 2.406117    | 4           | AS          |\n",
       "| Afghanistan | 2010        | 4.758       | 7.647       | 0.539       | 51.60       | 0.600       | 0.121       | 0.707       | 3.2         | 0.7569276   | 0.6264676   | 6.60        | 5.977       | 2.539439    | 4           | AS          |\n",
       "| Afghanistan | 2011        | 3.832       | 7.620       | 0.521       | 51.92       | 0.496       | 0.162       | 0.731       | 3.3         | 0.7403437   | 0.6460586   | 6.87        | 5.770       | 2.656310    | 4           | AS          |\n",
       "| Afghanistan | 2012        | 3.783       | 7.705       | 0.521       | 52.24       | 0.531       | 0.236       | 0.776       | 3.4         | 0.7241509   | 0.6583662   | 7.08        | 5.562       | 2.745618    | 4           | AS          |\n",
       "| Afghanistan | 2013        | 3.572       | 7.725       | 0.484       | 52.56       | 0.578       | 0.061       | 0.823       | 3.5         | 0.7100469   | 0.6780369   | 7.34        | 5.359       | 2.852844    | 4           | AS          |\n",
       "\n"
      ],
      "text/plain": [
       "  country     year HS    log_gdp social life_exp freedom generosity corruption\n",
       "1 Afghanistan 2008 3.724 7.370   0.451  50.80    0.718   0.168      0.882     \n",
       "2 Afghanistan 2009 4.402 7.540   0.552  51.20    0.679   0.190      0.850     \n",
       "3 Afghanistan 2010 4.758 7.647   0.539  51.60    0.600   0.121      0.707     \n",
       "4 Afghanistan 2011 3.832 7.620   0.521  51.92    0.496   0.162      0.731     \n",
       "5 Afghanistan 2012 3.783 7.705   0.521  52.24    0.531   0.236      0.776     \n",
       "6 Afghanistan 2013 3.572 7.725   0.484  52.56    0.578   0.061      0.823     \n",
       "  schooling alcohol   suicide   obesity birth mental   country_num continent\n",
       "1 3.0       0.7901894 0.5896119 5.77    6.373 2.298615 4           AS       \n",
       "2 3.1       0.7708637 0.6046841 6.23    6.180 2.406117 4           AS       \n",
       "3 3.2       0.7569276 0.6264676 6.60    5.977 2.539439 4           AS       \n",
       "4 3.3       0.7403437 0.6460586 6.87    5.770 2.656310 4           AS       \n",
       "5 3.4       0.7241509 0.6583662 7.08    5.562 2.745618 4           AS       \n",
       "6 3.5       0.7100469 0.6780369 7.34    5.359 2.852844 4           AS       "
      ]
     },
     "metadata": {},
     "output_type": "display_data"
    }
   ],
   "source": [
    "df = read.csv(\"Project/pdata/happy_0812.csv\")\n",
    "head(df)"
   ]
  },
  {
   "cell_type": "markdown",
   "id": "f4872104",
   "metadata": {},
   "source": [
    "#### country, year, country_num, continent 변수 범주화"
   ]
  },
  {
   "cell_type": "code",
   "execution_count": 35,
   "id": "5828ba63",
   "metadata": {},
   "outputs": [
    {
     "name": "stdout",
     "output_type": "stream",
     "text": [
      "'data.frame':\t1890 obs. of  17 variables:\n",
      " $ country    : Factor w/ 158 levels \"Afghanistan\",..: 1 1 1 1 1 1 1 1 1 1 ...\n",
      " $ year       : Factor w/ 16 levels \"2005\",\"2006\",..: 4 5 6 7 8 9 10 11 12 13 ...\n",
      " $ HS         : num  3.72 4.4 4.76 3.83 3.78 ...\n",
      " $ log_gdp    : num  7.37 7.54 7.65 7.62 7.71 ...\n",
      " $ social     : num  0.451 0.552 0.539 0.521 0.521 0.484 0.526 0.529 0.559 0.491 ...\n",
      " $ life_exp   : num  50.8 51.2 51.6 51.9 52.2 ...\n",
      " $ freedom    : num  0.718 0.679 0.6 0.496 0.531 0.578 0.509 0.389 0.523 0.427 ...\n",
      " $ generosity : num  0.168 0.19 0.121 0.162 0.236 0.061 0.104 0.08 0.042 -0.121 ...\n",
      " $ corruption : num  0.882 0.85 0.707 0.731 0.776 0.823 0.871 0.881 0.793 0.954 ...\n",
      " $ schooling  : num  3 3.1 3.2 3.3 3.4 3.5 3.5 3.6 3.6 3.8 ...\n",
      " $ alcohol    : num  0.79 0.771 0.757 0.74 0.724 ...\n",
      " $ suicide    : num  0.59 0.605 0.626 0.646 0.658 ...\n",
      " $ obesity    : num  5.77 6.23 6.6 6.87 7.08 7.34 7.34 7.37 7.45 8.5 ...\n",
      " $ birth      : num  6.37 6.18 5.98 5.77 5.56 ...\n",
      " $ mental     : num  2.3 2.41 2.54 2.66 2.75 ...\n",
      " $ country_num: Factor w/ 158 levels \"4\",\"8\",\"12\",\"24\",..: 1 1 1 1 1 1 1 1 1 1 ...\n",
      " $ continent  : Factor w/ 6 levels \"AF\",\"AS\",\"EU\",..: 2 2 2 2 2 2 2 2 2 2 ...\n"
     ]
    }
   ],
   "source": [
    "df$country <- as.factor(df$country)\n",
    "df$year <- as.factor(df$year)\n",
    "df$country_num <- as.factor(df$country_num)\n",
    "df$continent <- as.factor(df$continent)\n",
    "str(df)"
   ]
  },
  {
   "cell_type": "markdown",
   "id": "2febc972",
   "metadata": {},
   "source": [
    "#### 예측변수의 수치 데이터 minmax 정규화"
   ]
  },
  {
   "cell_type": "code",
   "execution_count": 36,
   "id": "012fb13f",
   "metadata": {
    "scrolled": false
   },
   "outputs": [
    {
     "data": {
      "text/plain": [
       "    log_gdp           social          life_exp         freedom      \n",
       " Min.   :0.0000   Min.   :0.0000   Min.   :0.0000   Min.   :0.0000  \n",
       " 1st Qu.:0.3681   1st Qu.:0.6618   1st Qu.:0.5991   1st Qu.:0.5378  \n",
       " Median :0.5665   Median :0.7877   Median :0.7362   Median :0.6988  \n",
       " Mean   :0.5476   Mean   :0.7530   Mean   :0.6970   Mean   :0.6684  \n",
       " 3rd Qu.:0.7421   3rd Qu.:0.8867   3rd Qu.:0.8119   3rd Qu.:0.8236  \n",
       " Max.   :1.0000   Max.   :1.0000   Max.   :1.0000   Max.   :1.0000  \n",
       "                                                                    \n",
       "   generosity       corruption       schooling         alcohol       \n",
       " Min.   :0.0000   Min.   :0.0000   Min.   :0.0000   Min.   :0.00000  \n",
       " 1st Qu.:0.2110   1st Qu.:0.6880   1st Qu.:0.3906   1st Qu.:0.02874  \n",
       " Median :0.2957   Median :0.8038   Median :0.6094   Median :0.06871  \n",
       " Mean   :0.3221   Mean   :0.7460   Mean   :0.5699   Mean   :0.11129  \n",
       " 3rd Qu.:0.4095   3rd Qu.:0.8787   3rd Qu.:0.7812   3rd Qu.:0.11452  \n",
       " Max.   :1.0000   Max.   :1.0000   Max.   :1.0000   Max.   :1.00000  \n",
       "                                                                     \n",
       "    suicide           obesity           birth             mental      \n",
       " Min.   :0.00000   Min.   :0.0000   Min.   :0.00000   Min.   :0.0000  \n",
       " 1st Qu.:0.09802   1st Qu.:0.2111   1st Qu.:0.09169   1st Qu.:0.2553  \n",
       " Median :0.15598   Median :0.3745   Median :0.17047   Median :0.3665  \n",
       " Mean   :0.17882   Mean   :0.3672   Mean   :0.24818   Mean   :0.3991  \n",
       " 3rd Qu.:0.23265   3rd Qu.:0.5291   3rd Qu.:0.34284   3rd Qu.:0.5555  \n",
       " Max.   :1.00000   Max.   :1.0000   Max.   :1.00000   Max.   :1.0000  \n",
       "                                                                      \n",
       "       HS             year            country      country_num   continent  \n",
       " Min.   :2.375   2017   : 142   Georgia   :  17   268    :  17   AF   :449  \n",
       " 1st Qu.:4.647   2011   : 141   Argentina :  15   32     :  15   AS   :573  \n",
       " Median :5.389   2019   : 141   Bangladesh:  15   50     :  15   EU   :521  \n",
       " Mean   :5.480   2018   : 140   Bolivia   :  15   68     :  15   Nor.A:170  \n",
       " 3rd Qu.:6.312   2014   : 138   Brazil    :  15   76     :  15   OC   : 28  \n",
       " Max.   :8.019   2015   : 137   Cambodia  :  15   116    :  15   SA   :149  \n",
       "                 (Other):1051   (Other)   :1798   (Other):1798              "
      ]
     },
     "metadata": {},
     "output_type": "display_data"
    }
   ],
   "source": [
    "normalize <- function(x){\n",
    "  return((x-min(x))/(max(x)-min(x)))\n",
    "}\n",
    "\n",
    "dfnor <- as.data.frame(lapply(df[4:15],normalize))\n",
    "dfnor[c('HS','year','country','country_num','continent')] <- df[c('HS','year','country','country_num','continent')]\n",
    "\n",
    "summary(dfnor)"
   ]
  },
  {
   "cell_type": "code",
   "execution_count": 37,
   "id": "e1f8538e",
   "metadata": {},
   "outputs": [
    {
     "data": {
      "text/html": [
       "<table>\n",
       "<thead><tr><th scope=col>log_gdp</th><th scope=col>social</th><th scope=col>life_exp</th><th scope=col>freedom</th><th scope=col>generosity</th><th scope=col>corruption</th><th scope=col>schooling</th><th scope=col>alcohol</th><th scope=col>suicide</th><th scope=col>obesity</th><th scope=col>birth</th><th scope=col>mental</th><th scope=col>HS</th><th scope=col>year</th><th scope=col>country</th><th scope=col>country_num</th><th scope=col>continent</th></tr></thead>\n",
       "<tbody>\n",
       "\t<tr><td>0.1466188  </td><td>0.2309900  </td><td>0.4129464  </td><td>0.6327373  </td><td>0.4869313  </td><td>0.8934599  </td><td>0.1328125  </td><td>0.02334898 </td><td>0.05573201 </td><td>0.1961259  </td><td>0.8135515  </td><td>0.1342338  </td><td>3.724      </td><td>2008       </td><td>Afghanistan</td><td>4          </td><td>AS         </td></tr>\n",
       "\t<tr><td>0.1805306  </td><td>0.3758967  </td><td>0.4218750  </td><td>0.5790922  </td><td>0.5082285  </td><td>0.8597046  </td><td>0.1406250  </td><td>0.02261579 </td><td>0.05809457 </td><td>0.2146893  </td><td>0.7840318  </td><td>0.1438455  </td><td>4.402      </td><td>2009       </td><td>Afghanistan</td><td>4          </td><td>AS         </td></tr>\n",
       "\t<tr><td>0.2018751  </td><td>0.3572453  </td><td>0.4308036  </td><td>0.4704264  </td><td>0.4414327  </td><td>0.7088608  </td><td>0.1484375  </td><td>0.02208708 </td><td>0.06150912 </td><td>0.2296207  </td><td>0.7529826  </td><td>0.1557656  </td><td>4.758      </td><td>2010       </td><td>Afghanistan</td><td>4          </td><td>AS         </td></tr>\n",
       "\t<tr><td>0.1964891  </td><td>0.3314204  </td><td>0.4379464  </td><td>0.3273728  </td><td>0.4811229  </td><td>0.7341772  </td><td>0.1562500  </td><td>0.02145792 </td><td>0.06458000 </td><td>0.2405165  </td><td>0.7213215  </td><td>0.1662150  </td><td>3.832      </td><td>2011       </td><td>Afghanistan</td><td>4          </td><td>AS         </td></tr>\n",
       "\t<tr><td>0.2134450  </td><td>0.3314204  </td><td>0.4450893  </td><td>0.3755158  </td><td>0.5527590  </td><td>0.7816456  </td><td>0.1640625  </td><td>0.02084359 </td><td>0.06650920 </td><td>0.2489911  </td><td>0.6895075  </td><td>0.1741999  </td><td>3.783      </td><td>2012       </td><td>Afghanistan</td><td>4          </td><td>AS         </td></tr>\n",
       "\t<tr><td>0.2174347  </td><td>0.2783357  </td><td>0.4522321  </td><td>0.4401651  </td><td>0.3833495  </td><td>0.8312236  </td><td>0.1718750  </td><td>0.02030850 </td><td>0.06959256 </td><td>0.2594835  </td><td>0.6584582  </td><td>0.1837868  </td><td>3.572      </td><td>2013       </td><td>Afghanistan</td><td>4          </td><td>AS         </td></tr>\n",
       "</tbody>\n",
       "</table>\n"
      ],
      "text/latex": [
       "\\begin{tabular}{r|lllllllllllllllll}\n",
       " log\\_gdp & social & life\\_exp & freedom & generosity & corruption & schooling & alcohol & suicide & obesity & birth & mental & HS & year & country & country\\_num & continent\\\\\n",
       "\\hline\n",
       "\t 0.1466188   & 0.2309900   & 0.4129464   & 0.6327373   & 0.4869313   & 0.8934599   & 0.1328125   & 0.02334898  & 0.05573201  & 0.1961259   & 0.8135515   & 0.1342338   & 3.724       & 2008        & Afghanistan & 4           & AS         \\\\\n",
       "\t 0.1805306   & 0.3758967   & 0.4218750   & 0.5790922   & 0.5082285   & 0.8597046   & 0.1406250   & 0.02261579  & 0.05809457  & 0.2146893   & 0.7840318   & 0.1438455   & 4.402       & 2009        & Afghanistan & 4           & AS         \\\\\n",
       "\t 0.2018751   & 0.3572453   & 0.4308036   & 0.4704264   & 0.4414327   & 0.7088608   & 0.1484375   & 0.02208708  & 0.06150912  & 0.2296207   & 0.7529826   & 0.1557656   & 4.758       & 2010        & Afghanistan & 4           & AS         \\\\\n",
       "\t 0.1964891   & 0.3314204   & 0.4379464   & 0.3273728   & 0.4811229   & 0.7341772   & 0.1562500   & 0.02145792  & 0.06458000  & 0.2405165   & 0.7213215   & 0.1662150   & 3.832       & 2011        & Afghanistan & 4           & AS         \\\\\n",
       "\t 0.2134450   & 0.3314204   & 0.4450893   & 0.3755158   & 0.5527590   & 0.7816456   & 0.1640625   & 0.02084359  & 0.06650920  & 0.2489911   & 0.6895075   & 0.1741999   & 3.783       & 2012        & Afghanistan & 4           & AS         \\\\\n",
       "\t 0.2174347   & 0.2783357   & 0.4522321   & 0.4401651   & 0.3833495   & 0.8312236   & 0.1718750   & 0.02030850  & 0.06959256  & 0.2594835   & 0.6584582   & 0.1837868   & 3.572       & 2013        & Afghanistan & 4           & AS         \\\\\n",
       "\\end{tabular}\n"
      ],
      "text/markdown": [
       "\n",
       "| log_gdp | social | life_exp | freedom | generosity | corruption | schooling | alcohol | suicide | obesity | birth | mental | HS | year | country | country_num | continent |\n",
       "|---|---|---|---|---|---|---|---|---|---|---|---|---|---|---|---|---|\n",
       "| 0.1466188   | 0.2309900   | 0.4129464   | 0.6327373   | 0.4869313   | 0.8934599   | 0.1328125   | 0.02334898  | 0.05573201  | 0.1961259   | 0.8135515   | 0.1342338   | 3.724       | 2008        | Afghanistan | 4           | AS          |\n",
       "| 0.1805306   | 0.3758967   | 0.4218750   | 0.5790922   | 0.5082285   | 0.8597046   | 0.1406250   | 0.02261579  | 0.05809457  | 0.2146893   | 0.7840318   | 0.1438455   | 4.402       | 2009        | Afghanistan | 4           | AS          |\n",
       "| 0.2018751   | 0.3572453   | 0.4308036   | 0.4704264   | 0.4414327   | 0.7088608   | 0.1484375   | 0.02208708  | 0.06150912  | 0.2296207   | 0.7529826   | 0.1557656   | 4.758       | 2010        | Afghanistan | 4           | AS          |\n",
       "| 0.1964891   | 0.3314204   | 0.4379464   | 0.3273728   | 0.4811229   | 0.7341772   | 0.1562500   | 0.02145792  | 0.06458000  | 0.2405165   | 0.7213215   | 0.1662150   | 3.832       | 2011        | Afghanistan | 4           | AS          |\n",
       "| 0.2134450   | 0.3314204   | 0.4450893   | 0.3755158   | 0.5527590   | 0.7816456   | 0.1640625   | 0.02084359  | 0.06650920  | 0.2489911   | 0.6895075   | 0.1741999   | 3.783       | 2012        | Afghanistan | 4           | AS          |\n",
       "| 0.2174347   | 0.2783357   | 0.4522321   | 0.4401651   | 0.3833495   | 0.8312236   | 0.1718750   | 0.02030850  | 0.06959256  | 0.2594835   | 0.6584582   | 0.1837868   | 3.572       | 2013        | Afghanistan | 4           | AS          |\n",
       "\n"
      ],
      "text/plain": [
       "  log_gdp   social    life_exp  freedom   generosity corruption schooling\n",
       "1 0.1466188 0.2309900 0.4129464 0.6327373 0.4869313  0.8934599  0.1328125\n",
       "2 0.1805306 0.3758967 0.4218750 0.5790922 0.5082285  0.8597046  0.1406250\n",
       "3 0.2018751 0.3572453 0.4308036 0.4704264 0.4414327  0.7088608  0.1484375\n",
       "4 0.1964891 0.3314204 0.4379464 0.3273728 0.4811229  0.7341772  0.1562500\n",
       "5 0.2134450 0.3314204 0.4450893 0.3755158 0.5527590  0.7816456  0.1640625\n",
       "6 0.2174347 0.2783357 0.4522321 0.4401651 0.3833495  0.8312236  0.1718750\n",
       "  alcohol    suicide    obesity   birth     mental    HS    year country    \n",
       "1 0.02334898 0.05573201 0.1961259 0.8135515 0.1342338 3.724 2008 Afghanistan\n",
       "2 0.02261579 0.05809457 0.2146893 0.7840318 0.1438455 4.402 2009 Afghanistan\n",
       "3 0.02208708 0.06150912 0.2296207 0.7529826 0.1557656 4.758 2010 Afghanistan\n",
       "4 0.02145792 0.06458000 0.2405165 0.7213215 0.1662150 3.832 2011 Afghanistan\n",
       "5 0.02084359 0.06650920 0.2489911 0.6895075 0.1741999 3.783 2012 Afghanistan\n",
       "6 0.02030850 0.06959256 0.2594835 0.6584582 0.1837868 3.572 2013 Afghanistan\n",
       "  country_num continent\n",
       "1 4           AS       \n",
       "2 4           AS       \n",
       "3 4           AS       \n",
       "4 4           AS       \n",
       "5 4           AS       \n",
       "6 4           AS       "
      ]
     },
     "metadata": {},
     "output_type": "display_data"
    }
   ],
   "source": [
    "head(dfnor)"
   ]
  },
  {
   "cell_type": "markdown",
   "id": "ad0aec11",
   "metadata": {},
   "source": [
    "##### 정규화 후 0 되는 값 log변환하면 -inf 됨 -> 두번째로 작은 값으로 바꾸기 "
   ]
  },
  {
   "cell_type": "code",
   "execution_count": 39,
   "id": "430905d8",
   "metadata": {
    "scrolled": true
   },
   "outputs": [
    {
     "data": {
      "text/html": [
       "3"
      ],
      "text/latex": [
       "3"
      ],
      "text/markdown": [
       "3"
      ],
      "text/plain": [
       "[1] 3"
      ]
     },
     "metadata": {},
     "output_type": "display_data"
    },
    {
     "data": {
      "text/html": [
       "1"
      ],
      "text/latex": [
       "1"
      ],
      "text/markdown": [
       "1"
      ],
      "text/plain": [
       "[1] 1"
      ]
     },
     "metadata": {},
     "output_type": "display_data"
    },
    {
     "data": {
      "text/html": [
       "1"
      ],
      "text/latex": [
       "1"
      ],
      "text/markdown": [
       "1"
      ],
      "text/plain": [
       "[1] 1"
      ]
     },
     "metadata": {},
     "output_type": "display_data"
    }
   ],
   "source": [
    "sum(is.infinite(log(dfnor$alcohol)))   # 3개\n",
    "sum(is.infinite(log(dfnor$suicide)))   # 1개\n",
    "sum(is.infinite(log(dfnor$birth)))     # 1개"
   ]
  },
  {
   "cell_type": "code",
   "execution_count": 40,
   "id": "0907f8e9",
   "metadata": {
    "scrolled": true
   },
   "outputs": [
    {
     "data": {
      "text/html": [
       "<table>\n",
       "<thead><tr><th></th><th scope=col>log_gdp</th><th scope=col>social</th><th scope=col>life_exp</th><th scope=col>freedom</th><th scope=col>generosity</th><th scope=col>corruption</th><th scope=col>schooling</th><th scope=col>alcohol</th><th scope=col>suicide</th><th scope=col>obesity</th><th scope=col>birth</th><th scope=col>mental</th><th scope=col>HS</th><th scope=col>year</th><th scope=col>country</th><th scope=col>country_num</th><th scope=col>continent</th></tr></thead>\n",
       "<tbody>\n",
       "\t<tr><th scope=row>1484</th><td>0.9626970 </td><td>0.8708752 </td><td>0.9866071 </td><td>0.9188446 </td><td>0.4559535 </td><td>0.13396624</td><td>0.796875  </td><td>0         </td><td>0.3554143 </td><td>0.2800646 </td><td>0.02416641</td><td>0.841428  </td><td>6.378     </td><td>2017      </td><td>Singapore </td><td>702       </td><td>AS        </td></tr>\n",
       "\t<tr><th scope=row>1485</th><td>0.9684819 </td><td>0.8794835 </td><td>0.9933036 </td><td>0.9050894 </td><td>0.2604066 </td><td>0.06540084</td><td>0.796875  </td><td>0         </td><td>0.3554143 </td><td>0.2800646 </td><td>0.02431936</td><td>0.841428  </td><td>6.375     </td><td>2018      </td><td>Singapore </td><td>702       </td><td>AS        </td></tr>\n",
       "\t<tr><th scope=row>1486</th><td>0.9676840 </td><td>0.9110473 </td><td>1.0000000 </td><td>0.9353508 </td><td>0.3504356 </td><td>0.03691983</td><td>0.796875  </td><td>0         </td><td>0.3554143 </td><td>0.2800646 </td><td>0.02493117</td><td>0.841428  </td><td>6.378     </td><td>2019      </td><td>Singapore </td><td>702       </td><td>AS        </td></tr>\n",
       "</tbody>\n",
       "</table>\n"
      ],
      "text/latex": [
       "\\begin{tabular}{r|lllllllllllllllll}\n",
       "  & log\\_gdp & social & life\\_exp & freedom & generosity & corruption & schooling & alcohol & suicide & obesity & birth & mental & HS & year & country & country\\_num & continent\\\\\n",
       "\\hline\n",
       "\t1484 & 0.9626970  & 0.8708752  & 0.9866071  & 0.9188446  & 0.4559535  & 0.13396624 & 0.796875   & 0          & 0.3554143  & 0.2800646  & 0.02416641 & 0.841428   & 6.378      & 2017       & Singapore  & 702        & AS        \\\\\n",
       "\t1485 & 0.9684819  & 0.8794835  & 0.9933036  & 0.9050894  & 0.2604066  & 0.06540084 & 0.796875   & 0          & 0.3554143  & 0.2800646  & 0.02431936 & 0.841428   & 6.375      & 2018       & Singapore  & 702        & AS        \\\\\n",
       "\t1486 & 0.9676840  & 0.9110473  & 1.0000000  & 0.9353508  & 0.3504356  & 0.03691983 & 0.796875   & 0          & 0.3554143  & 0.2800646  & 0.02493117 & 0.841428   & 6.378      & 2019       & Singapore  & 702        & AS        \\\\\n",
       "\\end{tabular}\n"
      ],
      "text/markdown": [
       "\n",
       "| <!--/--> | log_gdp | social | life_exp | freedom | generosity | corruption | schooling | alcohol | suicide | obesity | birth | mental | HS | year | country | country_num | continent |\n",
       "|---|---|---|---|---|---|---|---|---|---|---|---|---|---|---|---|---|---|\n",
       "| 1484 | 0.9626970  | 0.8708752  | 0.9866071  | 0.9188446  | 0.4559535  | 0.13396624 | 0.796875   | 0          | 0.3554143  | 0.2800646  | 0.02416641 | 0.841428   | 6.378      | 2017       | Singapore  | 702        | AS         |\n",
       "| 1485 | 0.9684819  | 0.8794835  | 0.9933036  | 0.9050894  | 0.2604066  | 0.06540084 | 0.796875   | 0          | 0.3554143  | 0.2800646  | 0.02431936 | 0.841428   | 6.375      | 2018       | Singapore  | 702        | AS         |\n",
       "| 1486 | 0.9676840  | 0.9110473  | 1.0000000  | 0.9353508  | 0.3504356  | 0.03691983 | 0.796875   | 0          | 0.3554143  | 0.2800646  | 0.02493117 | 0.841428   | 6.378      | 2019       | Singapore  | 702        | AS         |\n",
       "\n"
      ],
      "text/plain": [
       "     log_gdp   social    life_exp  freedom   generosity corruption schooling\n",
       "1484 0.9626970 0.8708752 0.9866071 0.9188446 0.4559535  0.13396624 0.796875 \n",
       "1485 0.9684819 0.8794835 0.9933036 0.9050894 0.2604066  0.06540084 0.796875 \n",
       "1486 0.9676840 0.9110473 1.0000000 0.9353508 0.3504356  0.03691983 0.796875 \n",
       "     alcohol suicide   obesity   birth      mental   HS    year country  \n",
       "1484 0       0.3554143 0.2800646 0.02416641 0.841428 6.378 2017 Singapore\n",
       "1485 0       0.3554143 0.2800646 0.02431936 0.841428 6.375 2018 Singapore\n",
       "1486 0       0.3554143 0.2800646 0.02493117 0.841428 6.378 2019 Singapore\n",
       "     country_num continent\n",
       "1484 702         AS       \n",
       "1485 702         AS       \n",
       "1486 702         AS       "
      ]
     },
     "metadata": {},
     "output_type": "display_data"
    },
    {
     "data": {
      "text/html": [
       "<ol class=list-inline>\n",
       "\t<li>0</li>\n",
       "\t<li>0</li>\n",
       "\t<li>0</li>\n",
       "\t<li>3.69892385493921e-05</li>\n",
       "\t<li>0.000159719509520901</li>\n",
       "</ol>\n"
      ],
      "text/latex": [
       "\\begin{enumerate*}\n",
       "\\item 0\n",
       "\\item 0\n",
       "\\item 0\n",
       "\\item 3.69892385493921e-05\n",
       "\\item 0.000159719509520901\n",
       "\\end{enumerate*}\n"
      ],
      "text/markdown": [
       "1. 0\n",
       "2. 0\n",
       "3. 0\n",
       "4. 3.69892385493921e-05\n",
       "5. 0.000159719509520901\n",
       "\n",
       "\n"
      ],
      "text/plain": [
       "[1] 0.000000e+00 0.000000e+00 0.000000e+00 3.698924e-05 1.597195e-04"
      ]
     },
     "metadata": {},
     "output_type": "display_data"
    }
   ],
   "source": [
    "## alcohol -inf 데이터 찾기\n",
    "idx <- (log(dfnor$alcohol)== -Inf)\n",
    "dfnor[idx,]   # 1484,1485,1486\n",
    "sort(dfnor$alcohol, decreasing = F)[1:5]   # 두번째로 작은 값 3.698924e-05\n",
    "dfnor$alcohol[idx] <- 3.698924e-05"
   ]
  },
  {
   "cell_type": "code",
   "execution_count": 41,
   "id": "a0c16d7d",
   "metadata": {},
   "outputs": [
    {
     "data": {
      "text/html": [
       "<table>\n",
       "<thead><tr><th></th><th scope=col>log_gdp</th><th scope=col>social</th><th scope=col>life_exp</th><th scope=col>freedom</th><th scope=col>generosity</th><th scope=col>corruption</th><th scope=col>schooling</th><th scope=col>alcohol</th><th scope=col>suicide</th><th scope=col>obesity</th><th scope=col>birth</th><th scope=col>mental</th><th scope=col>HS</th><th scope=col>year</th><th scope=col>country</th><th scope=col>country_num</th><th scope=col>continent</th></tr></thead>\n",
       "<tbody>\n",
       "\t<tr><th scope=row>661</th><td>0.1494115 </td><td>0.3787661 </td><td>0         </td><td>0.1581843 </td><td>0.5333979 </td><td>0.8575949 </td><td>0.265625  </td><td>0.1313798 </td><td>0         </td><td>0.02461663</td><td>0.362955  </td><td>0         </td><td>3.766     </td><td>2010      </td><td>Haiti     </td><td>332       </td><td>Nor.A     </td></tr>\n",
       "</tbody>\n",
       "</table>\n"
      ],
      "text/latex": [
       "\\begin{tabular}{r|lllllllllllllllll}\n",
       "  & log\\_gdp & social & life\\_exp & freedom & generosity & corruption & schooling & alcohol & suicide & obesity & birth & mental & HS & year & country & country\\_num & continent\\\\\n",
       "\\hline\n",
       "\t661 & 0.1494115  & 0.3787661  & 0          & 0.1581843  & 0.5333979  & 0.8575949  & 0.265625   & 0.1313798  & 0          & 0.02461663 & 0.362955   & 0          & 3.766      & 2010       & Haiti      & 332        & Nor.A     \\\\\n",
       "\\end{tabular}\n"
      ],
      "text/markdown": [
       "\n",
       "| <!--/--> | log_gdp | social | life_exp | freedom | generosity | corruption | schooling | alcohol | suicide | obesity | birth | mental | HS | year | country | country_num | continent |\n",
       "|---|---|---|---|---|---|---|---|---|---|---|---|---|---|---|---|---|---|\n",
       "| 661 | 0.1494115  | 0.3787661  | 0          | 0.1581843  | 0.5333979  | 0.8575949  | 0.265625   | 0.1313798  | 0          | 0.02461663 | 0.362955   | 0          | 3.766      | 2010       | Haiti      | 332        | Nor.A      |\n",
       "\n"
      ],
      "text/plain": [
       "    log_gdp   social    life_exp freedom   generosity corruption schooling\n",
       "661 0.1494115 0.3787661 0        0.1581843 0.5333979  0.8575949  0.265625 \n",
       "    alcohol   suicide obesity    birth    mental HS    year country country_num\n",
       "661 0.1313798 0       0.02461663 0.362955 0      3.766 2010 Haiti   332        \n",
       "    continent\n",
       "661 Nor.A    "
      ]
     },
     "metadata": {},
     "output_type": "display_data"
    },
    {
     "data": {
      "text/html": [
       "<ol class=list-inline>\n",
       "\t<li>0</li>\n",
       "\t<li>0.0103522047221671</li>\n",
       "\t<li>0.0104345881435503</li>\n",
       "\t<li>0.0117067985270319</li>\n",
       "\t<li>0.0131087695981852</li>\n",
       "</ol>\n"
      ],
      "text/latex": [
       "\\begin{enumerate*}\n",
       "\\item 0\n",
       "\\item 0.0103522047221671\n",
       "\\item 0.0104345881435503\n",
       "\\item 0.0117067985270319\n",
       "\\item 0.0131087695981852\n",
       "\\end{enumerate*}\n"
      ],
      "text/markdown": [
       "1. 0\n",
       "2. 0.0103522047221671\n",
       "3. 0.0104345881435503\n",
       "4. 0.0117067985270319\n",
       "5. 0.0131087695981852\n",
       "\n",
       "\n"
      ],
      "text/plain": [
       "[1] 0.00000000 0.01035220 0.01043459 0.01170680 0.01310877"
      ]
     },
     "metadata": {},
     "output_type": "display_data"
    }
   ],
   "source": [
    "##suicide -inf 데이터 찾기\n",
    "idx <- (log(dfnor$suicide)== -Inf)\n",
    "dfnor[idx,]   # 661\n",
    "sort(dfnor$suicide, decreasing = F)[1:5]   # 두번째로 작은 값 0.01035220\n",
    "dfnor$suicide[idx] <- 0.01035220"
   ]
  },
  {
   "cell_type": "code",
   "execution_count": 42,
   "id": "fc99d902",
   "metadata": {
    "scrolled": true
   },
   "outputs": [
    {
     "data": {
      "text/html": [
       "<table>\n",
       "<thead><tr><th></th><th scope=col>log_gdp</th><th scope=col>social</th><th scope=col>life_exp</th><th scope=col>freedom</th><th scope=col>generosity</th><th scope=col>corruption</th><th scope=col>schooling</th><th scope=col>alcohol</th><th scope=col>suicide</th><th scope=col>obesity</th><th scope=col>birth</th><th scope=col>mental</th><th scope=col>HS</th><th scope=col>year</th><th scope=col>country</th><th scope=col>country_num</th><th scope=col>continent</th></tr></thead>\n",
       "<tbody>\n",
       "\t<tr><th scope=row>1613</th><td>0.8090963 </td><td>0.7761836 </td><td>0.8325893 </td><td>0.5763411 </td><td>0.3291384 </td><td>0.8291139 </td><td>0.296875  </td><td>0.03489101</td><td>0.4361455 </td><td>0.346247  </td><td>0         </td><td>0.4708261 </td><td>6.229     </td><td>2010      </td><td>Taiwan    </td><td>158       </td><td>AS        </td></tr>\n",
       "</tbody>\n",
       "</table>\n"
      ],
      "text/latex": [
       "\\begin{tabular}{r|lllllllllllllllll}\n",
       "  & log\\_gdp & social & life\\_exp & freedom & generosity & corruption & schooling & alcohol & suicide & obesity & birth & mental & HS & year & country & country\\_num & continent\\\\\n",
       "\\hline\n",
       "\t1613 & 0.8090963  & 0.7761836  & 0.8325893  & 0.5763411  & 0.3291384  & 0.8291139  & 0.296875   & 0.03489101 & 0.4361455  & 0.346247   & 0          & 0.4708261  & 6.229      & 2010       & Taiwan     & 158        & AS        \\\\\n",
       "\\end{tabular}\n"
      ],
      "text/markdown": [
       "\n",
       "| <!--/--> | log_gdp | social | life_exp | freedom | generosity | corruption | schooling | alcohol | suicide | obesity | birth | mental | HS | year | country | country_num | continent |\n",
       "|---|---|---|---|---|---|---|---|---|---|---|---|---|---|---|---|---|---|\n",
       "| 1613 | 0.8090963  | 0.7761836  | 0.8325893  | 0.5763411  | 0.3291384  | 0.8291139  | 0.296875   | 0.03489101 | 0.4361455  | 0.346247   | 0          | 0.4708261  | 6.229      | 2010       | Taiwan     | 158        | AS         |\n",
       "\n"
      ],
      "text/plain": [
       "     log_gdp   social    life_exp  freedom   generosity corruption schooling\n",
       "1613 0.8090963 0.7761836 0.8325893 0.5763411 0.3291384  0.8291139  0.296875 \n",
       "     alcohol    suicide   obesity  birth mental    HS    year country\n",
       "1613 0.03489101 0.4361455 0.346247 0     0.4708261 6.229 2010 Taiwan \n",
       "     country_num continent\n",
       "1613 158         AS       "
      ]
     },
     "metadata": {},
     "output_type": "display_data"
    },
    {
     "data": {
      "text/html": [
       "<ol class=list-inline>\n",
       "\t<li>0</li>\n",
       "\t<li>0.000458855919241342</li>\n",
       "\t<li>0.00183542367696543</li>\n",
       "\t<li>0.00412970327317221</li>\n",
       "\t<li>0.00428265524625268</li>\n",
       "</ol>\n"
      ],
      "text/latex": [
       "\\begin{enumerate*}\n",
       "\\item 0\n",
       "\\item 0.000458855919241342\n",
       "\\item 0.00183542367696543\n",
       "\\item 0.00412970327317221\n",
       "\\item 0.00428265524625268\n",
       "\\end{enumerate*}\n"
      ],
      "text/markdown": [
       "1. 0\n",
       "2. 0.000458855919241342\n",
       "3. 0.00183542367696543\n",
       "4. 0.00412970327317221\n",
       "5. 0.00428265524625268\n",
       "\n",
       "\n"
      ],
      "text/plain": [
       "[1] 0.0000000000 0.0004588559 0.0018354237 0.0041297033 0.0042826552"
      ]
     },
     "metadata": {},
     "output_type": "display_data"
    }
   ],
   "source": [
    "# birth -inf 데이터 찾기, 두번째로 작은 값으로 변경\n",
    "idx <- (log(dfnor$birth)== -Inf)\n",
    "dfnor[idx,]   # 1613\n",
    "sort(dfnor$birth, decreasing = F)[1:5]   # 두번째로 작은 값 0.0004588559\n",
    "dfnor$birth[idx] <- 0.0004588559"
   ]
  },
  {
   "cell_type": "markdown",
   "id": "a671b858",
   "metadata": {},
   "source": [
    "# 2. 회귀식 적합"
   ]
  },
  {
   "cell_type": "markdown",
   "id": "33cc163a",
   "metadata": {},
   "source": [
    "#### fit1 : 변수변환 X"
   ]
  },
  {
   "cell_type": "code",
   "execution_count": 43,
   "id": "3e56e4e2",
   "metadata": {
    "scrolled": true
   },
   "outputs": [
    {
     "data": {
      "text/plain": [
       "\n",
       "Call:\n",
       "lm(formula = HS ~ country + log_gdp + social + life_exp + freedom + \n",
       "    generosity + corruption + schooling + alcohol + suicide + \n",
       "    obesity + birth + mental, data = dfnor)\n",
       "\n",
       "Residuals:\n",
       "     Min       1Q   Median       3Q      Max \n",
       "-1.47821 -0.19550 -0.00733  0.19445  1.71033 \n",
       "\n",
       "Coefficients:\n",
       "                                 Estimate Std. Error t value Pr(>|t|)    \n",
       "(Intercept)                      2.668216   0.395813   6.741 2.14e-11 ***\n",
       "countryAlbania                   0.263458   0.262623   1.003 0.315916    \n",
       "countryAlgeria                   0.578431   0.246016   2.351 0.018826 *  \n",
       "countryAngola                   -1.113805   0.275010  -4.050 5.35e-05 ***\n",
       "countryArgentina                 0.391210   0.292478   1.338 0.181213    \n",
       "countryArmenia                   0.099338   0.283122   0.351 0.725732    \n",
       "countryAustralia                 0.339173   0.396311   0.856 0.392214    \n",
       "countryAustria                   0.286384   0.373816   0.766 0.443716    \n",
       "countryAzerbaijan                0.052267   0.276716   0.189 0.850206    \n",
       "countryBahrain                  -0.392736   0.376366  -1.043 0.296867    \n",
       "countryBangladesh                0.624546   0.240569   2.596 0.009509 ** \n",
       "countryBelarus                   0.709946   0.413112   1.719 0.085880 .  \n",
       "countryBelgium                   0.023559   0.387265   0.061 0.951498    \n",
       "countryBelize                    1.621290   0.346261   4.682 3.06e-06 ***\n",
       "countryBenin                    -0.151240   0.169869  -0.890 0.373409    \n",
       "countryBhutan                   -0.646154   0.340382  -1.898 0.057822 .  \n",
       "countryBolivia                   0.822063   0.226099   3.636 0.000285 ***\n",
       "countryBosnia and Herzegovina    0.498361   0.280130   1.779 0.075411 .  \n",
       "countryBotswana                 -2.010893   0.295593  -6.803 1.41e-11 ***\n",
       "countryBrazil                    1.111023   0.271148   4.097 4.37e-05 ***\n",
       "countryBulgaria                 -0.658229   0.324560  -2.028 0.042708 *  \n",
       "countryBurkina Faso             -0.139075   0.174102  -0.799 0.424509    \n",
       "countryBurundi                   0.777861   0.228192   3.409 0.000668 ***\n",
       "countryCambodia                 -0.260297   0.229741  -1.133 0.257371    \n",
       "countryCameroon                  0.057663   0.186466   0.309 0.757174    \n",
       "countryCanada                    0.499580   0.376768   1.326 0.185029    \n",
       "countryCentral African Republic  0.365944   0.223986   1.634 0.102487    \n",
       "countryChad                     -0.059075   0.166807  -0.354 0.723268    \n",
       "countryChile                     0.623990   0.318466   1.959 0.050232 .  \n",
       "countryChina                    -0.210425   0.274289  -0.767 0.443089    \n",
       "countryColombia                  0.729979   0.260459   2.803 0.005125 ** \n",
       "countryComoros                  -0.277502   0.207431  -1.338 0.181139    \n",
       "countryCosta Rica                1.429220   0.278570   5.131 3.22e-07 ***\n",
       "countryCote d'Ivoire            -0.388531   0.207390  -1.873 0.061177 .  \n",
       "countryCroatia                   0.192429   0.319169   0.603 0.546651    \n",
       "countryCuba                     -0.299618   0.500194  -0.599 0.549250    \n",
       "countryCyprus                    0.052324   0.355207   0.147 0.882908    \n",
       "countryCzechia                   0.563731   0.350956   1.606 0.108398    \n",
       "countryDenmark                   0.493093   0.417708   1.180 0.237975    \n",
       "countryDjibouti                  0.286191   0.256785   1.115 0.265213    \n",
       "countryDominican Republic       -0.429977   0.241820  -1.778 0.075567 .  \n",
       "countryEcuador                   0.642628   0.238923   2.690 0.007221 ** \n",
       "countryEgypt                    -0.165116   0.234659  -0.704 0.481752    \n",
       "countryEl Salvador               1.633619   0.305383   5.349 1.00e-07 ***\n",
       "countryEstonia                   0.062412   0.376879   0.166 0.868489    \n",
       "countryEswatini                 -0.938845   0.328160  -2.861 0.004275 ** \n",
       "countryEthiopia                  0.276307   0.206779   1.336 0.181647    \n",
       "countryFinland                   0.717127   0.383660   1.869 0.061769 .  \n",
       "countryFrance                   -0.088550   0.391753  -0.226 0.821202    \n",
       "countryGabon                    -1.330111   0.266265  -4.995 6.47e-07 ***\n",
       "countryGambia                    0.501997   0.243931   2.058 0.039746 *  \n",
       "countryGeorgia                   0.016817   0.295351   0.057 0.954600    \n",
       "countryGermany                   0.177503   0.392894   0.452 0.651482    \n",
       "countryGhana                     0.196277   0.195075   1.006 0.314479    \n",
       "countryGreece                   -0.098494   0.334081  -0.295 0.768166    \n",
       "countryGuatemala                 1.290863   0.274462   4.703 2.76e-06 ***\n",
       "countryGuinea                   -0.077770   0.180086  -0.432 0.665905    \n",
       "countryGuyana                    1.217150   0.462966   2.629 0.008639 ** \n",
       "countryHaiti                     0.454829   0.219145   2.075 0.038091 *  \n",
       "countryHonduras                  0.979702   0.213491   4.589 4.78e-06 ***\n",
       "countryHungary                  -0.306672   0.352818  -0.869 0.384855    \n",
       "countryIceland                   0.368448   0.395961   0.931 0.352234    \n",
       "countryIndia                    -0.123851   0.250679  -0.494 0.621325    \n",
       "countryIndonesia                -0.078700   0.257043  -0.306 0.759510    \n",
       "countryIran                     -0.190309   0.295160  -0.645 0.519165    \n",
       "countryIraq                     -0.346904   0.212363  -1.634 0.102539    \n",
       "countryIreland                  -0.353369   0.416744  -0.848 0.396597    \n",
       "countryIsrael                    0.856973   0.366770   2.337 0.019577 *  \n",
       "countryItaly                    -0.072238   0.347578  -0.208 0.835383    \n",
       "countryJamaica                   0.967832   0.265842   3.641 0.000280 ***\n",
       "countryJapan                    -0.707210   0.429410  -1.647 0.099754 .  \n",
       "countryJordan                    0.450239   0.246259   1.828 0.067675 .  \n",
       "countryKazakhstan                0.147055   0.386094   0.381 0.703340    \n",
       "countryKenya                    -0.267658   0.214989  -1.245 0.213307    \n",
       "countryKuwait                   -0.580619   0.378983  -1.532 0.125695    \n",
       "countryKyrgyzstan                1.066605   0.276725   3.854 0.000120 ***\n",
       "countryLaos                     -0.255879   0.233020  -1.098 0.272316    \n",
       "countryLatvia                    0.127357   0.370071   0.344 0.730781    \n",
       "countryLebanon                  -0.008945   0.277586  -0.032 0.974297    \n",
       "countryLesotho                  -0.297628   0.288213  -1.033 0.301905    \n",
       "countryLiberia                   0.389812   0.186821   2.087 0.037075 *  \n",
       "countryLibya                     0.254915   0.287601   0.886 0.375553    \n",
       "countryLithuania                 0.240342   0.395863   0.607 0.543842    \n",
       "countryLuxembourg               -0.797374   0.428632  -1.860 0.063017 .  \n",
       "countryMadagascar                0.486797   0.208716   2.332 0.019798 *  \n",
       "countryMalawi                    0.852509   0.194454   4.384 1.23e-05 ***\n",
       "countryMalaysia                 -0.180860   0.308976  -0.585 0.558386    \n",
       "countryMaldives                 -0.570026   0.454606  -1.254 0.210052    \n",
       "countryMali                     -0.350171   0.176384  -1.985 0.047273 *  \n",
       "countryMalta                    -0.125705   0.335752  -0.374 0.708154    \n",
       "countryMauritania               -0.500190   0.173395  -2.885 0.003967 ** \n",
       "countryMauritius                 0.427602   0.315382   1.356 0.175334    \n",
       "countryMexico                    1.254126   0.252781   4.961 7.69e-07 ***\n",
       "countryMoldova                   1.261618   0.327942   3.847 0.000124 ***\n",
       "countryMongolia                  0.200770   0.336172   0.597 0.550436    \n",
       "countryMontenegro                0.169887   0.301408   0.564 0.573069    \n",
       "countryMorocco                   0.812234   0.229602   3.538 0.000415 ***\n",
       "countryMozambique                0.945987   0.201317   4.699 2.82e-06 ***\n",
       "countryMyanmar                  -0.577051   0.264863  -2.179 0.029491 *  \n",
       "countryNamibia                  -0.967127   0.267751  -3.612 0.000313 ***\n",
       "countryNepal                     0.523579   0.236637   2.213 0.027057 *  \n",
       "countryNetherlands               0.196137   0.407204   0.482 0.630103    \n",
       "countryNew Zealand               0.366665   0.375769   0.976 0.329316    \n",
       "countryNicaragua                 1.279014   0.228462   5.598 2.51e-08 ***\n",
       "countryNiger                     0.317668   0.204151   1.556 0.119882    \n",
       "countryNigeria                  -0.273896   0.222108  -1.233 0.217682    \n",
       "countryNorth Macedonia          -0.003245   0.285986  -0.011 0.990948    \n",
       "countryNorway                    0.111374   0.422092   0.264 0.791918    \n",
       "countryOman                      0.072873   0.458817   0.159 0.873823    \n",
       "countryPakistan                  1.009124   0.176505   5.717 1.27e-08 ***\n",
       "countryPalestine                 0.606448   0.224867   2.697 0.007067 ** \n",
       "countryPanama                    0.514642   0.291695   1.764 0.077857 .  \n",
       "countryParaguay                  0.330297   0.246287   1.341 0.180063    \n",
       "countryPeru                      0.467091   0.266997   1.749 0.080397 .  \n",
       "countryPhilippines               0.296847   0.230029   1.290 0.197058    \n",
       "countryPoland                    0.232701   0.352147   0.661 0.508825    \n",
       "countryPortugal                 -0.761753   0.331642  -2.297 0.021743 *  \n",
       "countryQatar                    -1.213464   0.483836  -2.508 0.012233 *  \n",
       "countryRomania                   0.207068   0.314181   0.659 0.509937    \n",
       "countryRussia                    0.205105   0.409432   0.501 0.616470    \n",
       "countryRwanda                   -0.469623   0.212949  -2.205 0.027562 *  \n",
       "countrySaudi Arabia             -0.104642   0.325584  -0.321 0.747947    \n",
       "countrySenegal                  -0.051639   0.170934  -0.302 0.762611    \n",
       "countrySerbia                    0.324216   0.307944   1.053 0.292562    \n",
       "countrySierra Leone              0.100811   0.177991   0.566 0.571209    \n",
       "countrySingapore                -1.225954   0.472912  -2.592 0.009613 ** \n",
       "countrySlovakia                  0.377086   0.344547   1.094 0.273916    \n",
       "countrySlovenia                 -0.218156   0.362679  -0.602 0.547579    \n",
       "countrySouth Africa             -0.829916   0.313516  -2.647 0.008192 ** \n",
       "countrySouth Korea              -0.605047   0.551044  -1.098 0.272358    \n",
       "countrySpain                     0.061059   0.344209   0.177 0.859224    \n",
       "countrySri Lanka                -0.989439   0.369041  -2.681 0.007408 ** \n",
       "countrySudan                    -0.325830   0.210245  -1.550 0.121381    \n",
       "countrySuriname                  0.436921   0.484951   0.901 0.367736    \n",
       "countrySweden                    0.250627   0.389862   0.643 0.520400    \n",
       "countrySwitzerland               0.144429   0.433415   0.333 0.738998    \n",
       "countrySyria                    -0.209559   0.217018  -0.966 0.334365    \n",
       "countryTaiwan                   -0.669606   0.380734  -1.759 0.078803 .  \n",
       "countryTajikistan                1.214456   0.254665   4.769 2.01e-06 ***\n",
       "countryTanzania                 -0.610493   0.187293  -3.260 0.001138 ** \n",
       "countryThailand                  0.147977   0.303189   0.488 0.625563    \n",
       "countryTogo                      0.374856   0.189643   1.977 0.048242 *  \n",
       "countryTrinidad and Tobago       0.428547   0.354328   1.209 0.226651    \n",
       "countryTunisia                   0.188728   0.245326   0.769 0.441824    \n",
       "countryTurkey                   -0.345419   0.278710  -1.239 0.215385    \n",
       "countryTurkmenistan              0.351583   0.283962   1.238 0.215836    \n",
       "countryUganda                   -0.020903   0.205560  -0.102 0.919015    \n",
       "countryUkraine                   0.346502   0.359063   0.965 0.334671    \n",
       "countryUnited Arab Emirates     -0.372799   0.385596  -0.967 0.333773    \n",
       "countryUnited Kingdom            0.060135   0.380783   0.158 0.874534    \n",
       "countryUnited States             0.264328   0.383762   0.689 0.491053    \n",
       "countryUruguay                   0.260002   0.285484   0.911 0.362559    \n",
       "countryUzbekistan                1.198252   0.281253   4.260 2.15e-05 ***\n",
       "countryVenezuela                 0.835212   0.260316   3.208 0.001359 ** \n",
       "countryVietnam                   0.389845   0.275280   1.416 0.156905    \n",
       "countryYemen                    -0.379738   0.170848  -2.223 0.026368 *  \n",
       "countryZambia                   -0.087510   0.216806  -0.404 0.686532    \n",
       "countryZimbabwe                 -0.369245   0.261139  -1.414 0.157549    \n",
       "log_gdp                          5.533085   0.472177  11.718  < 2e-16 ***\n",
       "social                           1.150890   0.131339   8.763  < 2e-16 ***\n",
       "life_exp                        -0.918381   0.384985  -2.385 0.017164 *  \n",
       "freedom                          0.550760   0.094152   5.850 5.88e-09 ***\n",
       "generosity                       0.325664   0.116144   2.804 0.005105 ** \n",
       "corruption                      -0.471120   0.132733  -3.549 0.000397 ***\n",
       "schooling                       -0.625786   0.395075  -1.584 0.113385    \n",
       "alcohol                         -0.752761   0.389118  -1.935 0.053212 .  \n",
       "suicide                          0.392172   0.472122   0.831 0.406282    \n",
       "obesity                         -1.196775   0.453091  -2.641 0.008332 ** \n",
       "birth                            0.541378   0.381194   1.420 0.155726    \n",
       "mental                          -0.099354   0.465492  -0.213 0.831010    \n",
       "---\n",
       "Signif. codes:  0 '***' 0.001 '**' 0.01 '*' 0.05 '.' 0.1 ' ' 1\n",
       "\n",
       "Residual standard error: 0.3605 on 1720 degrees of freedom\n",
       "Multiple R-squared:  0.9059,\tAdjusted R-squared:  0.8967 \n",
       "F-statistic: 98.03 on 169 and 1720 DF,  p-value: < 2.2e-16\n"
      ]
     },
     "metadata": {},
     "output_type": "display_data"
    }
   ],
   "source": [
    "# 회귀식 적합\n",
    "fit1<-lm(HS ~ country +log_gdp + social + life_exp + freedom + generosity + corruption + schooling +\n",
    "          alcohol + suicide + obesity + birth + mental, data=dfnor)\n",
    "summary(fit1)\n",
    "\n",
    "# Multiple R-squared:  0.9059,\tAdjusted R-squared:  0.8967  "
   ]
  },
  {
   "cell_type": "markdown",
   "id": "13532f6f",
   "metadata": {},
   "source": [
    "#### fit1 가정 테스트"
   ]
  },
  {
   "cell_type": "code",
   "execution_count": 44,
   "id": "9e5a0307",
   "metadata": {},
   "outputs": [
    {
     "data": {
      "text/plain": [
       "\n",
       "\tShapiro-Wilk normality test\n",
       "\n",
       "data:  resid(fit1)\n",
       "W = 0.9833, p-value = 4.69e-14\n"
      ]
     },
     "metadata": {},
     "output_type": "display_data"
    },
    {
     "data": {
      "text/plain": [
       "\n",
       "\tstudentized Breusch-Pagan test\n",
       "\n",
       "data:  fit1\n",
       "BP = 464.72, df = 169, p-value < 2.2e-16\n"
      ]
     },
     "metadata": {},
     "output_type": "display_data"
    },
    {
     "data": {
      "text/plain": [
       "\n",
       "\tDurbin-Watson test\n",
       "\n",
       "data:  fit1\n",
       "DW = 1.3235, p-value < 2.2e-16\n",
       "alternative hypothesis: true autocorrelation is greater than 0\n"
      ]
     },
     "metadata": {},
     "output_type": "display_data"
    }
   ],
   "source": [
    "# 정규성 테스트\n",
    "shapiro.test(resid(fit1))  \n",
    "\n",
    "# 등분산성 검정 \n",
    "library(lmtest)\n",
    "bptest(fit1) \n",
    "\n",
    "# 독립성 검정\n",
    "dwtest(fit1)   # DW = 1.3235"
   ]
  },
  {
   "cell_type": "markdown",
   "id": "54f30cd2",
   "metadata": {},
   "source": [
    "####  fit1 boxcox 변환"
   ]
  },
  {
   "cell_type": "code",
   "execution_count": 45,
   "id": "633ee55a",
   "metadata": {},
   "outputs": [
    {
     "data": {
      "text/html": [
       "2.07070707070707"
      ],
      "text/latex": [
       "2.07070707070707"
      ],
      "text/markdown": [
       "2.07070707070707"
      ],
      "text/plain": [
       "[1] 2.070707"
      ]
     },
     "metadata": {},
     "output_type": "display_data"
    },
    {
     "data": {
      "image/png": "[encoded data removed]",
      "text/plain": [
       "Plot with title \"Profile Log-likelihood\""
      ]
     },
     "metadata": {},
     "output_type": "display_data"
    }
   ],
   "source": [
    "library(car)\n",
    "bc <- boxCox(fit1,lambda=seq(-1,3))\n",
    "lambda <- bc$x[which.max(bc$y)]  # 최적의 람다 값 찾기(log-likelihood가 최대가 되는 람다값)\n",
    "lambda # 2.07070707070707"
   ]
  },
  {
   "cell_type": "markdown",
   "id": "4abd884d",
   "metadata": {},
   "source": [
    "#### fit2 : boxcox 결과로 반응변수 변환"
   ]
  },
  {
   "cell_type": "code",
   "execution_count": 46,
   "id": "d2889c58",
   "metadata": {},
   "outputs": [
    {
     "data": {
      "text/plain": [
       "\n",
       "Call:\n",
       "lm(formula = HS^lambda ~ country + log_gdp + social + life_exp + \n",
       "    freedom + generosity + corruption + schooling + alcohol + \n",
       "    suicide + obesity + birth + mental, data = dfnor)\n",
       "\n",
       "Residuals:\n",
       "     Min       1Q   Median       3Q      Max \n",
       "-16.6239  -2.5444  -0.1472   2.3881  19.6953 \n",
       "\n",
       "Coefficients:\n",
       "                                 Estimate Std. Error t value Pr(>|t|)    \n",
       "(Intercept)                       4.68383    4.72735   0.991 0.321926    \n",
       "countryAlbania                   -0.26256    3.13662  -0.084 0.933298    \n",
       "countryAlgeria                    4.14848    2.93827   1.412 0.158167    \n",
       "countryAngola                   -15.76602    3.28456  -4.800 1.72e-06 ***\n",
       "countryArgentina                  3.36609    3.49318   0.964 0.335372    \n",
       "countryArmenia                   -1.32053    3.38144  -0.391 0.696198    \n",
       "countryAustralia                  7.15170    4.73330   1.511 0.130989    \n",
       "countryAustria                    5.57616    4.46464   1.249 0.211849    \n",
       "countryAzerbaijan                -2.43001    3.30493  -0.735 0.462277    \n",
       "countryBahrain                   -5.91155    4.49509  -1.315 0.188648    \n",
       "countryBangladesh                 3.78303    2.87321   1.317 0.188130    \n",
       "countryBelarus                    7.01443    4.93396   1.422 0.155306    \n",
       "countryBelgium                    1.13360    4.62526   0.245 0.806417    \n",
       "countryBelize                    18.59821    4.13553   4.497 7.35e-06 ***\n",
       "countryBenin                     -3.49528    2.02881  -1.723 0.085100 .  \n",
       "countryBhutan                   -11.92260    4.06532  -2.933 0.003404 ** \n",
       "countryBolivia                    7.39429    2.70038   2.738 0.006241 ** \n",
       "countryBosnia and Herzegovina     2.24895    3.34571   0.672 0.501553    \n",
       "countryBotswana                 -25.11724    3.53039  -7.115 1.64e-12 ***\n",
       "countryBrazil                    12.86017    3.23843   3.971 7.45e-05 ***\n",
       "countryBulgaria                 -10.51008    3.87635  -2.711 0.006768 ** \n",
       "countryBurkina Faso              -3.92616    2.07937  -1.888 0.059174 .  \n",
       "countryBurundi                    9.19140    2.72538   3.373 0.000761 ***\n",
       "countryCambodia                  -5.81873    2.74389  -2.121 0.034097 *  \n",
       "countryCameroon                  -1.69192    2.22704  -0.760 0.447526    \n",
       "countryCanada                     9.18851    4.49989   2.042 0.041310 *  \n",
       "countryCentral African Republic   4.78917    2.67515   1.790 0.073591 .  \n",
       "countryChad                      -2.41038    1.99224  -1.210 0.226489    \n",
       "countryChile                      6.53986    3.80357   1.719 0.085721 .  \n",
       "countryChina                     -6.22742    3.27594  -1.901 0.057475 .  \n",
       "countryColombia                   6.64513    3.11077   2.136 0.032807 *  \n",
       "countryComoros                   -4.92539    2.47744  -1.988 0.046959 *  \n",
       "countryCosta Rica                19.02578    3.32708   5.718 1.26e-08 ***\n",
       "countryCote d'Ivoire             -7.14056    2.47694  -2.883 0.003990 ** \n",
       "countryCroatia                   -0.78081    3.81197  -0.205 0.837728    \n",
       "countryCuba                      -6.54020    5.97401  -1.095 0.273769    \n",
       "countryCyprus                    -1.33608    4.24238  -0.315 0.752849    \n",
       "countryCzechia                    6.24054    4.19161   1.489 0.136719    \n",
       "countryDenmark                   11.03684    4.98886   2.212 0.027077 *  \n",
       "countryDjibouti                  -0.00899    3.06688  -0.003 0.997661    \n",
       "countryDominican Republic        -8.51394    2.88816  -2.948 0.003243 ** \n",
       "countryEcuador                    5.13959    2.85355   1.801 0.071859 .  \n",
       "countryEgypt                     -4.59572    2.80263  -1.640 0.101232    \n",
       "countryEl Salvador               18.04436    3.64731   4.947 8.26e-07 ***\n",
       "countryEstonia                   -1.11338    4.50121  -0.247 0.804666    \n",
       "countryEswatini                 -14.17717    3.91935  -3.617 0.000306 ***\n",
       "countryEthiopia                   0.23673    2.46965   0.096 0.923647    \n",
       "countryFinland                   13.24991    4.58220   2.892 0.003881 ** \n",
       "countryFrance                    -1.13800    4.67886  -0.243 0.807864    \n",
       "countryGabon                    -18.42658    3.18011  -5.794 8.14e-09 ***\n",
       "countryGambia                     3.11959    2.91337   1.071 0.284417    \n",
       "countryGeorgia                   -2.06127    3.52749  -0.584 0.559066    \n",
       "countryGermany                    2.93725    4.69249   0.626 0.531432    \n",
       "countryGhana                     -0.39222    2.32986  -0.168 0.866331    \n",
       "countryGreece                    -4.36929    3.99006  -1.095 0.273651    \n",
       "countryGuatemala                 14.02487    3.27801   4.278 1.99e-05 ***\n",
       "countryGuinea                    -3.01570    2.15084  -1.402 0.161064    \n",
       "countryGuyana                    13.02048    5.52939   2.355 0.018646 *  \n",
       "countryHaiti                      4.37128    2.61734   1.670 0.095077 .  \n",
       "countryHonduras                   8.61730    2.54981   3.380 0.000742 ***\n",
       "countryHungary                   -6.59932    4.21385  -1.566 0.117509    \n",
       "countryIceland                    8.12902    4.72912   1.719 0.085807 .  \n",
       "countryIndia                     -4.31027    2.99396  -1.440 0.150146    \n",
       "countryIndonesia                 -4.57480    3.06996  -1.490 0.136360    \n",
       "countryIran                      -4.97908    3.52522  -1.412 0.158007    \n",
       "countryIraq                      -7.09668    2.53634  -2.798 0.005199 ** \n",
       "countryIreland                   -2.57397    4.97734  -0.517 0.605127    \n",
       "countryIsrael                    13.05464    4.38047   2.980 0.002921 ** \n",
       "countryItaly                     -3.03183    4.15126  -0.730 0.465282    \n",
       "countryJamaica                    9.27203    3.17505   2.920 0.003543 ** \n",
       "countryJapan                    -11.22553    5.12861  -2.189 0.028745 *  \n",
       "countryJordan                     3.54335    2.94117   1.205 0.228469    \n",
       "countryKazakhstan                 0.21921    4.61127   0.048 0.962089    \n",
       "countryKenya                     -5.67488    2.56770  -2.210 0.027230 *  \n",
       "countryKuwait                    -8.49591    4.52634  -1.877 0.060688 .  \n",
       "countryKyrgyzstan                11.12634    3.30503   3.366 0.000778 ***\n",
       "countryLaos                      -7.00366    2.78306  -2.517 0.011942 *  \n",
       "countryLatvia                    -0.56888    4.41990  -0.129 0.897604    \n",
       "countryLebanon                   -2.87703    3.31532  -0.868 0.385627    \n",
       "countryLesotho                   -4.36512    3.44224  -1.268 0.204932    \n",
       "countryLiberia                    3.53937    2.23127   1.586 0.112865    \n",
       "countryLibya                      0.05152    3.43493   0.015 0.988036    \n",
       "countryLithuania                  1.11353    4.72795   0.236 0.813832    \n",
       "countryLuxembourg                -8.62003    5.11932  -1.684 0.092398 .  \n",
       "countryMadagascar                 4.49148    2.49278   1.802 0.071752 .  \n",
       "countryMalawi                     8.86728    2.32244   3.818 0.000139 ***\n",
       "countryMalaysia                  -4.68696    3.69022  -1.270 0.204220    \n",
       "countryMaldives                 -10.01916    5.42954  -1.845 0.065165 .  \n",
       "countryMali                      -6.55419    2.10663  -3.111 0.001894 ** \n",
       "countryMalta                     -3.00964    4.01002  -0.751 0.453038    \n",
       "countryMauritania                -8.87668    2.07092  -4.286 1.92e-05 ***\n",
       "countryMauritius                  2.48079    3.76674   0.659 0.510238    \n",
       "countryMexico                    14.77007    3.01907   4.892 1.09e-06 ***\n",
       "countryMoldova                   13.06906    3.91674   3.337 0.000866 ***\n",
       "countryMongolia                   0.71273    4.01503   0.178 0.859124    \n",
       "countryMontenegro                -1.27727    3.59983  -0.355 0.722773    \n",
       "countryMorocco                    6.21599    2.74222   2.267 0.023528 *  \n",
       "countryMozambique                 8.65988    2.40441   3.602 0.000325 ***\n",
       "countryMyanmar                  -10.39136    3.16336  -3.285 0.001041 ** \n",
       "countryNamibia                  -14.61882    3.19785  -4.571 5.19e-06 ***\n",
       "countryNepal                      2.92169    2.82625   1.034 0.301390    \n",
       "countryNetherlands                5.83702    4.86340   1.200 0.230230    \n",
       "countryNew Zealand                7.32500    4.48796   1.632 0.102832    \n",
       "countryNicaragua                 13.17169    2.72862   4.827 1.51e-06 ***\n",
       "countryNiger                      1.72966    2.43826   0.709 0.478183    \n",
       "countryNigeria                   -6.17529    2.65273  -2.328 0.020033 *  \n",
       "countryNorth Macedonia           -3.41353    3.41565  -0.999 0.317752    \n",
       "countryNorway                     5.24472    5.04122   1.040 0.298315    \n",
       "countryOman                       1.38335    5.47984   0.252 0.800729    \n",
       "countryPakistan                   8.27745    2.10807   3.927 8.96e-05 ***\n",
       "countryPalestine                  5.54100    2.68567   2.063 0.039247 *  \n",
       "countryPanama                     5.85643    3.48383   1.681 0.092938 .  \n",
       "countryParaguay                   1.50822    2.94150   0.513 0.608201    \n",
       "countryPeru                       2.71686    3.18886   0.852 0.394341    \n",
       "countryPhilippines                0.74884    2.74732   0.273 0.785215    \n",
       "countryPoland                     0.70731    4.20583   0.168 0.866466    \n",
       "countryPortugal                 -12.66437    3.96093  -3.197 0.001412 ** \n",
       "countryQatar                    -15.00771    5.77865  -2.597 0.009482 ** \n",
       "countryRomania                   -0.71109    3.75238  -0.190 0.849721    \n",
       "countryRussia                     0.62936    4.89001   0.129 0.897607    \n",
       "countryRwanda                    -6.40369    2.54333  -2.518 0.011898 *  \n",
       "countrySaudi Arabia              -1.83631    3.88858  -0.472 0.636820    \n",
       "countrySenegal                   -3.56832    2.04153  -1.748 0.080666 .  \n",
       "countrySerbia                     0.84261    3.67790   0.229 0.818817    \n",
       "countrySierra Leone              -0.33832    2.12582  -0.159 0.873572    \n",
       "countrySingapore                -15.98015    5.64818  -2.829 0.004720 ** \n",
       "countrySlovakia                   2.51497    4.11506   0.611 0.541173    \n",
       "countrySlovenia                  -4.55616    4.33162  -1.052 0.293022    \n",
       "countrySouth Africa             -12.67975    3.74445  -3.386 0.000724 ***\n",
       "countrySouth Korea               -9.79481    6.58134  -1.488 0.136863    \n",
       "countrySpain                     -0.48294    4.11102  -0.117 0.906498    \n",
       "countrySri Lanka                -13.61959    4.40761  -3.090 0.002034 ** \n",
       "countrySudan                     -6.66511    2.51103  -2.654 0.008020 ** \n",
       "countrySuriname                   3.63465    5.79196   0.628 0.530393    \n",
       "countrySweden                     6.10170    4.65628   1.310 0.190227    \n",
       "countrySwitzerland                5.79580    5.17645   1.120 0.263020    \n",
       "countrySyria                     -3.22846    2.59193  -1.246 0.213088    \n",
       "countryTaiwan                   -11.27813    4.54726  -2.480 0.013226 *  \n",
       "countryTajikistan                12.49190    3.04157   4.107 4.20e-05 ***\n",
       "countryTanzania                  -7.52778    2.23691  -3.365 0.000782 ***\n",
       "countryThailand                  -0.67414    3.62111  -0.186 0.852334    \n",
       "countryTogo                       4.63452    2.26498   2.046 0.040892 *  \n",
       "countryTrinidad and Tobago        3.92571    4.23188   0.928 0.353719    \n",
       "countryTunisia                   -0.79445    2.93003  -0.271 0.786316    \n",
       "countryTurkey                    -7.74242    3.32874  -2.326 0.020138 *  \n",
       "countryTurkmenistan               1.91864    3.39148   0.566 0.571655    \n",
       "countryUganda                    -1.83507    2.45508  -0.747 0.454888    \n",
       "countryUkraine                    2.37926    4.28843   0.555 0.579098    \n",
       "countryUnited Arab Emirates      -4.27989    4.60533  -0.929 0.352846    \n",
       "countryUnited Kingdom             1.58783    4.54784   0.349 0.727027    \n",
       "countryUnited States              5.27407    4.58342   1.151 0.250022    \n",
       "countryUruguay                    1.26389    3.40965   0.371 0.710922    \n",
       "countryUzbekistan                12.53039    3.35912   3.730 0.000197 ***\n",
       "countryVenezuela                  9.13723    3.10906   2.939 0.003338 ** \n",
       "countryVietnam                    1.09949    3.28778   0.334 0.738105    \n",
       "countryYemen                     -5.92359    2.04051  -2.903 0.003743 ** \n",
       "countryZambia                    -3.04708    2.58940  -1.177 0.239457    \n",
       "countryZimbabwe                  -4.65478    3.11888  -1.492 0.135765    \n",
       "log_gdp                          68.57447    5.63940  12.160  < 2e-16 ***\n",
       "social                           12.91122    1.56863   8.231 3.63e-16 ***\n",
       "life_exp                         -8.67438    4.59803  -1.887 0.059390 .  \n",
       "freedom                           6.38500    1.12449   5.678 1.60e-08 ***\n",
       "generosity                        4.01671    1.38715   2.896 0.003832 ** \n",
       "corruption                       -6.00499    1.58529  -3.788 0.000157 ***\n",
       "schooling                       -10.21946    4.71854  -2.166 0.030463 *  \n",
       "alcohol                         -10.78971    4.64739  -2.322 0.020367 *  \n",
       "suicide                           4.42155    5.63874   0.784 0.433067    \n",
       "obesity                         -14.81423    5.41144  -2.738 0.006253 ** \n",
       "birth                             5.20269    4.55275   1.143 0.253298    \n",
       "mental                           -3.64788    5.55955  -0.656 0.511817    \n",
       "---\n",
       "Signif. codes:  0 '***' 0.001 '**' 0.01 '*' 0.05 '.' 0.1 ' ' 1\n",
       "\n",
       "Residual standard error: 4.305 on 1720 degrees of freedom\n",
       "Multiple R-squared:  0.9206,\tAdjusted R-squared:  0.9127 \n",
       "F-statistic: 117.9 on 169 and 1720 DF,  p-value: < 2.2e-16\n"
      ]
     },
     "metadata": {},
     "output_type": "display_data"
    }
   ],
   "source": [
    "fit2<-lm(HS^lambda ~ country +log_gdp + social + life_exp + freedom + generosity + corruption + schooling +\n",
    "          alcohol + suicide + obesity + birth + mental, data=dfnor)\n",
    "summary(fit2)\n",
    "\n",
    "# Multiple R-squared:  0.9206,\tAdjusted R-squared:  0.9127 "
   ]
  },
  {
   "cell_type": "markdown",
   "id": "731b1ed7",
   "metadata": {},
   "source": [
    "#### fit2 가정 테스트"
   ]
  },
  {
   "cell_type": "code",
   "execution_count": 47,
   "id": "981e05dd",
   "metadata": {},
   "outputs": [
    {
     "data": {
      "text/plain": [
       "\n",
       "\tShapiro-Wilk normality test\n",
       "\n",
       "data:  resid(fit2)\n",
       "W = 0.98596, p-value = 1.195e-12\n"
      ]
     },
     "metadata": {},
     "output_type": "display_data"
    },
    {
     "data": {
      "text/plain": [
       "\n",
       "\tstudentized Breusch-Pagan test\n",
       "\n",
       "data:  fit2\n",
       "BP = 397.43, df = 169, p-value < 2.2e-16\n"
      ]
     },
     "metadata": {},
     "output_type": "display_data"
    },
    {
     "data": {
      "text/plain": [
       "\n",
       "\tDurbin-Watson test\n",
       "\n",
       "data:  fit2\n",
       "DW = 1.334, p-value < 2.2e-16\n",
       "alternative hypothesis: true autocorrelation is greater than 0\n"
      ]
     },
     "metadata": {},
     "output_type": "display_data"
    }
   ],
   "source": [
    "# 정규성 테스트\n",
    "shapiro.test(resid(fit2))  \n",
    "\n",
    "# 등분산성 검정 \n",
    "library(lmtest)\n",
    "bptest(fit2) \n",
    "\n",
    "# 독립성 검정\n",
    "dwtest(fit2)  # DW = 1.334"
   ]
  },
  {
   "cell_type": "markdown",
   "id": "6b141715",
   "metadata": {},
   "source": [
    "#### fit3 : alcohol, suicide, birth만 로그 변환 "
   ]
  },
  {
   "cell_type": "code",
   "execution_count": 48,
   "id": "ec776400",
   "metadata": {},
   "outputs": [
    {
     "data": {
      "text/plain": [
       "\n",
       "Call:\n",
       "lm(formula = HS ~ country + log_gdp + social + life_exp + freedom + \n",
       "    generosity + corruption + schooling + log(alcohol) + log(suicide) + \n",
       "    obesity + log(birth) + mental, data = dfnor)\n",
       "\n",
       "Residuals:\n",
       "     Min       1Q   Median       3Q      Max \n",
       "-1.46799 -0.19628 -0.00522  0.19533  1.68764 \n",
       "\n",
       "Coefficients:\n",
       "                                  Estimate Std. Error t value Pr(>|t|)    \n",
       "(Intercept)                      3.9357371  0.3644691  10.799  < 2e-16 ***\n",
       "countryAlbania                   0.3617270  0.2382873   1.518 0.129191    \n",
       "countryAlgeria                   0.5802181  0.2399220   2.418 0.015694 *  \n",
       "countryAngola                   -1.2025217  0.2811344  -4.277 1.99e-05 ***\n",
       "countryArgentina                 0.2034200  0.3005912   0.677 0.498666    \n",
       "countryArmenia                  -0.0722541  0.2718165  -0.266 0.790410    \n",
       "countryAustralia                 0.1849410  0.4164302   0.444 0.657019    \n",
       "countryAustria                   0.1165168  0.3974597   0.293 0.769440    \n",
       "countryAzerbaijan               -0.1682472  0.2814660  -0.598 0.550083    \n",
       "countryBahrain                  -0.4937801  0.3592731  -1.374 0.169501    \n",
       "countryBangladesh                0.8233367  0.2794012   2.947 0.003254 ** \n",
       "countryBelarus                  -0.2408081  0.3803417  -0.633 0.526729    \n",
       "countryBelgium                  -0.1933155  0.4037205  -0.479 0.632117    \n",
       "countryBelize                    1.2336583  0.3568024   3.458 0.000558 ***\n",
       "countryBenin                    -0.3036227  0.1905764  -1.593 0.111303    \n",
       "countryBhutan                   -0.6635688  0.3312998  -2.003 0.045342 *  \n",
       "countryBolivia                   0.5305502  0.2527067   2.099 0.035921 *  \n",
       "countryBosnia and Herzegovina    0.6005967  0.2831668   2.121 0.034065 *  \n",
       "countryBotswana                 -2.3130744  0.2916577  -7.931 3.89e-15 ***\n",
       "countryBrazil                    0.9536664  0.3041151   3.136 0.001742 ** \n",
       "countryBulgaria                 -0.7294611  0.2963420  -2.462 0.013931 *  \n",
       "countryBurkina Faso             -0.2193353  0.1933767  -1.134 0.256852    \n",
       "countryBurundi                   0.6751447  0.2381840   2.835 0.004643 ** \n",
       "countryCambodia                 -0.2552116  0.2219155  -1.150 0.250287    \n",
       "countryCameroon                 -0.2425776  0.2100188  -1.155 0.248239    \n",
       "countryCanada                    0.3332965  0.3933867   0.847 0.396974    \n",
       "countryCentral African Republic  0.1500759  0.2329611   0.644 0.519525    \n",
       "countryChad                      0.0000214  0.1814829   0.000 0.999906    \n",
       "countryChile                     0.4333710  0.3431868   1.263 0.206838    \n",
       "countryChina                    -0.1826477  0.2709344  -0.674 0.500313    \n",
       "countryColombia                  0.8363221  0.2593854   3.224 0.001287 ** \n",
       "countryComoros                  -0.4021507  0.2195489  -1.832 0.067167 .  \n",
       "countryCosta Rica                1.3119368  0.2906789   4.513 6.81e-06 ***\n",
       "countryCote d'Ivoire            -0.6679528  0.2269261  -2.943 0.003289 ** \n",
       "countryCroatia                  -0.0173743  0.3267412  -0.053 0.957599    \n",
       "countryCuba                     -0.4019227  0.5125336  -0.784 0.433038    \n",
       "countryCyprus                    0.2792759  0.3630848   0.769 0.441895    \n",
       "countryCzechia                   0.3276534  0.3538079   0.926 0.354536    \n",
       "countryDenmark                   0.0313768  0.4574049   0.069 0.945318    \n",
       "countryDjibouti                  0.1289283  0.2545149   0.507 0.612525    \n",
       "countryDominican Republic       -0.6134296  0.2357630  -2.602 0.009351 ** \n",
       "countryEcuador                   0.3482299  0.2544167   1.369 0.171260    \n",
       "countryEgypt                    -0.1727251  0.2537530  -0.681 0.496164    \n",
       "countryEl Salvador               0.9129018  0.2924025   3.122 0.001826 ** \n",
       "countryEstonia                  -0.6454729  0.3813254  -1.693 0.090692 .  \n",
       "countryEswatini                 -1.3873229  0.3224377  -4.303 1.78e-05 ***\n",
       "countryEthiopia                  0.1904282  0.2200918   0.865 0.387038    \n",
       "countryFinland                   0.2983125  0.4188194   0.712 0.476394    \n",
       "countryFrance                   -0.3229982  0.4247409  -0.760 0.447084    \n",
       "countryGabon                    -1.6351810  0.2788664  -5.864 5.42e-09 ***\n",
       "countryGambia                    0.3668047  0.2551955   1.437 0.150801    \n",
       "countryGeorgia                  -0.1499952  0.2732302  -0.549 0.583097    \n",
       "countryGermany                  -0.0487132  0.4257990  -0.114 0.908931    \n",
       "countryGhana                    -0.0490865  0.2090617  -0.235 0.814397    \n",
       "countryGreece                    0.4673856  0.3489519   1.339 0.180618    \n",
       "countryGuatemala                 0.7058699  0.2945180   2.397 0.016650 *  \n",
       "countryGuinea                   -0.1516357  0.1921037  -0.789 0.430020    \n",
       "countryGuyana                    0.6947720  0.4435296   1.566 0.117425    \n",
       "countryHaiti                     0.1548718  0.2144475   0.722 0.470276    \n",
       "countryHonduras                  0.7598521  0.2557205   2.971 0.003005 ** \n",
       "countryHungary                  -0.5481898  0.3505259  -1.564 0.118023    \n",
       "countryIceland                   0.1943402  0.4134831   0.470 0.638409    \n",
       "countryIndia                    -0.3959161  0.2433729  -1.627 0.103965    \n",
       "countryIndonesia                 0.0674984  0.2321176   0.291 0.771244    \n",
       "countryIran                     -0.1695437  0.2823433  -0.600 0.548260    \n",
       "countryIraq                     -0.3703447  0.2237603  -1.655 0.098088 .  \n",
       "countryIreland                  -0.4995478  0.4359518  -1.146 0.252005    \n",
       "countryIsrael                    0.7428520  0.3669172   2.025 0.043065 *  \n",
       "countryItaly                     0.2593037  0.3511284   0.738 0.460320    \n",
       "countryJamaica                   1.1083476  0.2542036   4.360 1.38e-05 ***\n",
       "countryJapan                    -0.5879603  0.4177290  -1.408 0.159455    \n",
       "countryJordan                    0.4127372  0.2498831   1.652 0.098774 .  \n",
       "countryKazakhstan               -0.6571230  0.3683637  -1.784 0.074617 .  \n",
       "countryKenya                    -0.4926378  0.2315106  -2.128 0.033485 *  \n",
       "countryKuwait                   -0.4274006  0.3829199  -1.116 0.264509    \n",
       "countryKyrgyzstan                0.4135819  0.3007246   1.375 0.169222    \n",
       "countryLaos                     -0.4783013  0.2222102  -2.152 0.031499 *  \n",
       "countryLatvia                   -0.5019740  0.3786457  -1.326 0.185112    \n",
       "countryLebanon                   0.0561013  0.2642071   0.212 0.831868    \n",
       "countryLesotho                  -0.7517723  0.2843763  -2.644 0.008278 ** \n",
       "countryLiberia                   0.1891517  0.1982339   0.954 0.340124    \n",
       "countryLibya                     0.1128775  0.2646857   0.426 0.669827    \n",
       "countryLithuania                -0.3776869  0.3927345  -0.962 0.336343    \n",
       "countryLuxembourg               -0.9204368  0.4574455  -2.012 0.044363 *  \n",
       "countryMadagascar                0.3105306  0.2197264   1.413 0.157760    \n",
       "countryMalawi                    0.6654881  0.2128131   3.127 0.001795 ** \n",
       "countryMalaysia                 -0.3393653  0.3148892  -1.078 0.281306    \n",
       "countryMaldives                 -0.6811270  0.4578654  -1.488 0.137036    \n",
       "countryMali                     -0.1092799  0.2076021  -0.526 0.598684    \n",
       "countryMalta                     0.0921545  0.3380793   0.273 0.785207    \n",
       "countryMauritania               -0.5561688  0.1833384  -3.034 0.002453 ** \n",
       "countryMauritius                 0.2353318  0.3240375   0.726 0.467785    \n",
       "countryMexico                    0.9799650  0.2732129   3.587 0.000344 ***\n",
       "countryMoldova                   0.8581473  0.3473810   2.470 0.013595 *  \n",
       "countryMongolia                 -0.6881315  0.3314282  -2.076 0.038018 *  \n",
       "countryMontenegro               -0.0089685  0.2847514  -0.031 0.974878    \n",
       "countryMorocco                   0.8545110  0.2161661   3.953 8.03e-05 ***\n",
       "countryMozambique                0.6944824  0.2245882   3.092 0.002018 ** \n",
       "countryMyanmar                  -0.6097302  0.2359637  -2.584 0.009848 ** \n",
       "countryNamibia                  -1.2882890  0.2755570  -4.675 3.17e-06 ***\n",
       "countryNepal                     0.4756325  0.2136090   2.227 0.026100 *  \n",
       "countryNetherlands               0.1091547  0.4264739   0.256 0.798022    \n",
       "countryNew Zealand               0.2329934  0.3794283   0.614 0.539254    \n",
       "countryNicaragua                 0.8336898  0.2639754   3.158 0.001615 ** \n",
       "countryNiger                     0.5850437  0.2169203   2.697 0.007064 ** \n",
       "countryNigeria                  -0.2949825  0.2422138  -1.218 0.223444    \n",
       "countryNorth Macedonia           0.0189479  0.2548131   0.074 0.940733    \n",
       "countryNorway                   -0.0859115  0.4571462  -0.188 0.850954    \n",
       "countryOman                      0.0639795  0.4521523   0.141 0.887492    \n",
       "countryPakistan                  0.9833918  0.1697849   5.792 8.25e-09 ***\n",
       "countryPalestine                 0.6183892  0.2260234   2.736 0.006284 ** \n",
       "countryPanama                    0.4280433  0.2834139   1.510 0.131148    \n",
       "countryParaguay                  0.0730692  0.2785624   0.262 0.793115    \n",
       "countryPeru                      0.4648312  0.2730253   1.703 0.088838 .  \n",
       "countryPhilippines               0.0918945  0.2262667   0.406 0.684695    \n",
       "countryPoland                   -0.1809983  0.3712817  -0.487 0.625969    \n",
       "countryPortugal                 -0.5915205  0.3628253  -1.630 0.103217    \n",
       "countryQatar                    -1.2219823  0.4385471  -2.786 0.005388 ** \n",
       "countryRomania                   0.0508942  0.3011253   0.169 0.865806    \n",
       "countryRussia                   -0.6821316  0.3921678  -1.739 0.082146 .  \n",
       "countryRwanda                   -0.6897503  0.2347649  -2.938 0.003347 ** \n",
       "countrySaudi Arabia             -0.0861166  0.3175158  -0.271 0.786254    \n",
       "countrySenegal                  -0.1655561  0.1805437  -0.917 0.359278    \n",
       "countrySerbia                    0.1247057  0.3015108   0.414 0.679217    \n",
       "countrySierra Leone              0.0307032  0.1826154   0.168 0.866501    \n",
       "countrySingapore                -0.7040260  0.5084344  -1.385 0.166326    \n",
       "countrySlovakia                  0.1781784  0.3470436   0.513 0.607725    \n",
       "countrySlovenia                 -0.5766666  0.3726139  -1.548 0.121897    \n",
       "countrySouth Africa             -1.1684189  0.2971255  -3.932 8.74e-05 ***\n",
       "countrySouth Korea              -0.3205468  0.4667320  -0.687 0.492308    \n",
       "countrySpain                     0.3432414  0.3588365   0.957 0.338934    \n",
       "countrySri Lanka                -1.3197514  0.3250710  -4.060 5.13e-05 ***\n",
       "countrySudan                    -0.2574467  0.2092150  -1.231 0.218665    \n",
       "countrySuriname                  0.0577428  0.4492750   0.129 0.897749    \n",
       "countrySweden                    0.0411655  0.4155838   0.099 0.921106    \n",
       "countrySwitzerland               0.0368962  0.4500829   0.082 0.934675    \n",
       "countrySyria                    -0.1126981  0.2176345  -0.518 0.604642    \n",
       "countryTaiwan                   -0.1135052  0.4240257  -0.268 0.788974    \n",
       "countryTajikistan                0.8598326  0.2707765   3.175 0.001523 ** \n",
       "countryTanzania                 -0.7260916  0.2087429  -3.478 0.000517 ***\n",
       "countryThailand                  0.0412536  0.3077710   0.134 0.893387    \n",
       "countryTogo                      0.1578228  0.2031175   0.777 0.437264    \n",
       "countryTrinidad and Tobago       0.1328930  0.3430235   0.387 0.698496    \n",
       "countryTunisia                   0.4633305  0.2474447   1.872 0.061312 .  \n",
       "countryTurkey                   -0.1207425  0.2733747  -0.442 0.658781    \n",
       "countryTurkmenistan             -0.0883889  0.2837354  -0.312 0.755444    \n",
       "countryUganda                   -0.1635603  0.2219957  -0.737 0.461361    \n",
       "countryUkraine                  -0.3399836  0.3565748  -0.953 0.340486    \n",
       "countryUnited Arab Emirates     -0.4542991  0.3626181  -1.253 0.210438    \n",
       "countryUnited Kingdom           -0.1001875  0.4085273  -0.245 0.806299    \n",
       "countryUnited States            -0.0520659  0.3991300  -0.130 0.896227    \n",
       "countryUruguay                   0.0524718  0.2888849   0.182 0.855890    \n",
       "countryUzbekistan                0.8657369  0.2645928   3.272 0.001089 ** \n",
       "countryVenezuela                 0.6570405  0.2400841   2.737 0.006270 ** \n",
       "countryVietnam                   0.3463572  0.2628982   1.317 0.187861    \n",
       "countryYemen                    -0.3475508  0.1686341  -2.061 0.039455 *  \n",
       "countryZambia                   -0.3352035  0.2393645  -1.400 0.161577    \n",
       "countryZimbabwe                 -0.7286951  0.2634670  -2.766 0.005739 ** \n",
       "log_gdp                          5.4979352  0.4715218  11.660  < 2e-16 ***\n",
       "social                           1.1347740  0.1301363   8.720  < 2e-16 ***\n",
       "life_exp                        -1.2248429  0.3814419  -3.211 0.001347 ** \n",
       "freedom                          0.5832452  0.0938655   6.214 6.48e-10 ***\n",
       "generosity                       0.3605272  0.1146766   3.144 0.001696 ** \n",
       "corruption                      -0.4946760  0.1318459  -3.752 0.000181 ***\n",
       "schooling                       -0.2884113  0.3934175  -0.733 0.463602    \n",
       "log(alcohol)                     0.0495176  0.0610098   0.812 0.417114    \n",
       "log(suicide)                     0.1936152  0.0820414   2.360 0.018388 *  \n",
       "obesity                         -1.0454778  0.4593589  -2.276 0.022971 *  \n",
       "log(birth)                       0.2126791  0.0541744   3.926 8.98e-05 ***\n",
       "mental                          -0.3834617  0.4850457  -0.791 0.429305    \n",
       "---\n",
       "Signif. codes:  0 '***' 0.001 '**' 0.01 '*' 0.05 '.' 0.1 ' ' 1\n",
       "\n",
       "Residual standard error: 0.3589 on 1720 degrees of freedom\n",
       "Multiple R-squared:  0.9068,\tAdjusted R-squared:  0.8976 \n",
       "F-statistic:    99 on 169 and 1720 DF,  p-value: < 2.2e-16\n"
      ]
     },
     "metadata": {},
     "output_type": "display_data"
    }
   ],
   "source": [
    "fit3<-lm(HS ~ country +log_gdp + social + life_exp + freedom + generosity + corruption + schooling +\n",
    "          log(alcohol) + log(suicide) + obesity +log(birth) + mental, data=dfnor)\n",
    "summary(fit3)\n",
    "\n",
    "# Multiple R-squared:  0.9068,\tAdjusted R-squared:  0.8976 "
   ]
  },
  {
   "cell_type": "markdown",
   "id": "9eee5d2f",
   "metadata": {},
   "source": [
    "#### fir3 가정 테스트"
   ]
  },
  {
   "cell_type": "code",
   "execution_count": 49,
   "id": "9b0bee3e",
   "metadata": {
    "scrolled": true
   },
   "outputs": [
    {
     "data": {
      "text/plain": [
       "\n",
       "\tShapiro-Wilk normality test\n",
       "\n",
       "data:  resid(fit3)\n",
       "W = 0.98408, p-value = 1.176e-13\n"
      ]
     },
     "metadata": {},
     "output_type": "display_data"
    },
    {
     "data": {
      "text/plain": [
       "\n",
       "\tstudentized Breusch-Pagan test\n",
       "\n",
       "data:  fit3\n",
       "BP = 453.66, df = 169, p-value < 2.2e-16\n"
      ]
     },
     "metadata": {},
     "output_type": "display_data"
    },
    {
     "data": {
      "text/plain": [
       "\n",
       "\tDurbin-Watson test\n",
       "\n",
       "data:  fit3\n",
       "DW = 1.3282, p-value < 2.2e-16\n",
       "alternative hypothesis: true autocorrelation is greater than 0\n"
      ]
     },
     "metadata": {},
     "output_type": "display_data"
    }
   ],
   "source": [
    "# 정규성 테스트\n",
    "shapiro.test(resid(fit3))  \n",
    "\n",
    "# 등분산성 검정 \n",
    "library(lmtest)\n",
    "bptest(fit3) \n",
    "\n",
    "# 독립성 검정\n",
    "dwtest(fit3)  # DW = 1.3282"
   ]
  },
  {
   "cell_type": "markdown",
   "id": "70521877",
   "metadata": {},
   "source": [
    "#### fit3 boxcox 변환"
   ]
  },
  {
   "cell_type": "code",
   "execution_count": 50,
   "id": "bc561285",
   "metadata": {
    "scrolled": true
   },
   "outputs": [
    {
     "data": {
      "text/html": [
       "2.11111111111111"
      ],
      "text/latex": [
       "2.11111111111111"
      ],
      "text/markdown": [
       "2.11111111111111"
      ],
      "text/plain": [
       "[1] 2.111111"
      ]
     },
     "metadata": {},
     "output_type": "display_data"
    },
    {
     "data": {
      "image/png": "[encoded data removed]",
      "text/plain": [
       "Plot with title \"Profile Log-likelihood\""
      ]
     },
     "metadata": {},
     "output_type": "display_data"
    }
   ],
   "source": [
    "library(car)\n",
    "bc <- boxCox(fit3,lambda=seq(-1,3))\n",
    "lambda <- bc$x[which.max(bc$y)]  # 최적의 람다 값 찾기(log-likelihood가 최대가 되는 람다값)\n",
    "lambda # 2.11111111111111"
   ]
  },
  {
   "cell_type": "markdown",
   "id": "cad5fc44",
   "metadata": {},
   "source": [
    "#### fit4 : boxcox 결과로 반응변수 변환 + alcohol, suicide, birth 로그변환"
   ]
  },
  {
   "cell_type": "code",
   "execution_count": 54,
   "id": "1f0e3c1b",
   "metadata": {
    "scrolled": false
   },
   "outputs": [
    {
     "data": {
      "text/plain": [
       "\n",
       "Call:\n",
       "lm(formula = HS^lambda ~ country + log_gdp + social + life_exp + \n",
       "    freedom + generosity + corruption + schooling + log(alcohol) + \n",
       "    log(suicide) + obesity + log(birth) + mental, data = df)\n",
       "\n",
       "Residuals:\n",
       "     Min       1Q   Median       3Q      Max \n",
       "-17.8612  -2.7703  -0.2016   2.6093  22.5660 \n",
       "\n",
       "Coefficients:\n",
       "                                  Estimate Std. Error t value Pr(>|t|)    \n",
       "(Intercept)                     -101.82824   10.07750 -10.105  < 2e-16 ***\n",
       "countryAlbania                     3.88984    3.54732   1.097 0.272988    \n",
       "countryAlgeria                     4.29292    3.20752   1.338 0.180945    \n",
       "countryAngola                    -16.15742    3.72144  -4.342 1.50e-05 ***\n",
       "countryArgentina                   7.68918    4.08317   1.883 0.059850 .  \n",
       "countryArmenia                     3.57206    3.86300   0.925 0.355259    \n",
       "countryAustralia                  13.48317    5.54554   2.431 0.015144 *  \n",
       "countryAustria                    13.69656    5.52744   2.478 0.013310 *  \n",
       "countryAzerbaijan                  3.34145    4.21847   0.792 0.428411    \n",
       "countryBahrain                    -3.94294    4.77793  -0.825 0.409350    \n",
       "countryBangladesh                  5.67615    3.64894   1.556 0.119996    \n",
       "countryBelarus                     8.86209    6.11968   1.448 0.147764    \n",
       "countryBelgium                     7.61438    5.53098   1.377 0.168791    \n",
       "countryBelize                     22.95035    4.93866   4.647 3.62e-06 ***\n",
       "countryBenin                      -1.70890    2.73388  -0.625 0.532001    \n",
       "countryBhutan                     -5.55941    4.68026  -1.188 0.235060    \n",
       "countryBolivia                    11.72585    3.70723   3.163 0.001589 ** \n",
       "countryBosnia and Herzegovina     11.33586    4.18765   2.707 0.006857 ** \n",
       "countryBotswana                  -24.89138    3.93469  -6.326 3.20e-10 ***\n",
       "countryBrazil                     22.14376    4.60833   4.805 1.68e-06 ***\n",
       "countryBulgaria                   -6.87254    4.19419  -1.639 0.101482    \n",
       "countryBurkina Faso               -1.58592    2.80361  -0.566 0.571691    \n",
       "countryBurundi                    11.89271    3.36643   3.533 0.000422 ***\n",
       "countryCambodia                   -0.77575    3.18109  -0.244 0.807366    \n",
       "countryCameroon                   -0.69345    2.97175  -0.233 0.815519    \n",
       "countryCanada                     16.64445    5.37123   3.099 0.001974 ** \n",
       "countryCentral African Republic    6.95482    3.16971   2.194 0.028358 *  \n",
       "countryChad                       -0.03583    2.48521  -0.014 0.988499    \n",
       "countryChile                      13.57554    4.81189   2.821 0.004839 ** \n",
       "countryChina                      -0.35370    3.85394  -0.092 0.926886    \n",
       "countryColombia                    8.96640    3.80315   2.358 0.018504 *  \n",
       "countryComoros                    -3.18146    2.98520  -1.066 0.286688    \n",
       "countryCosta Rica                 26.77493    4.06268   6.590 5.81e-11 ***\n",
       "countryCote d'Ivoire              -6.18732    3.12305  -1.981 0.047730 *  \n",
       "countryCroatia                     5.85782    4.73903   1.236 0.216597    \n",
       "countryCuba                        0.46064    6.92444   0.067 0.946969    \n",
       "countryCyprus                      5.09194    4.91146   1.037 0.299999    \n",
       "countryCzechia                    12.77090    4.98263   2.563 0.010459 *  \n",
       "countryDenmark                    18.83842    6.59945   2.855 0.004362 ** \n",
       "countryDjibouti                    4.41128    3.59232   1.228 0.219623    \n",
       "countryDominican Republic         -5.70829    3.28535  -1.738 0.082478 .  \n",
       "countryEcuador                     9.15320    3.69573   2.477 0.013356 *  \n",
       "countryEgypt                      -7.11264    3.28673  -2.164 0.030598 *  \n",
       "countryEl Salvador                22.55434    5.17956   4.354 1.41e-05 ***\n",
       "countryEstonia                     2.32416    5.94674   0.391 0.695971    \n",
       "countryEswatini                  -12.60099    4.46496  -2.822 0.004825 ** \n",
       "countryEthiopia                    3.06117    3.01753   1.014 0.310506    \n",
       "countryFinland                    21.06076    6.06266   3.474 0.000526 ***\n",
       "countryFrance                      5.17769    5.82445   0.889 0.374150    \n",
       "countryGabon                     -19.12365    3.77121  -5.071 4.39e-07 ***\n",
       "countryGambia                      4.98956    3.49568   1.427 0.153660    \n",
       "countryGeorgia                     1.32633    3.77902   0.351 0.725653    \n",
       "countryGermany                    10.80745    5.94277   1.819 0.069148 .  \n",
       "countryGhana                       1.40595    2.92175   0.481 0.630434    \n",
       "countryGreece                      2.11937    4.89265   0.433 0.664943    \n",
       "countryGuatemala                  18.11857    4.98316   3.636 0.000285 ***\n",
       "countryGuinea                     -0.60868    2.68258  -0.227 0.820528    \n",
       "countryGuyana                     16.44258    6.16740   2.666 0.007747 ** \n",
       "countryHaiti                       9.33688    3.33713   2.798 0.005201 ** \n",
       "countryHonduras                   15.01952    4.12505   3.641 0.000280 ***\n",
       "countryHungary                    -0.88072    5.02581  -0.175 0.860912    \n",
       "countryIceland                    14.71668    5.55147   2.651 0.008100 ** \n",
       "countryIndia                      -0.56322    3.50277  -0.161 0.872275    \n",
       "countryIndonesia                  -2.06496    3.41714  -0.604 0.545728    \n",
       "countryIran                       -2.93635    3.93257  -0.747 0.455362    \n",
       "countryIraq                       -9.94943    2.98901  -3.329 0.000891 ***\n",
       "countryIreland                     3.10619    5.79136   0.536 0.591787    \n",
       "countryIsrael                     15.08942    4.77000   3.163 0.001587 ** \n",
       "countryItaly                       3.70120    4.88048   0.758 0.448335    \n",
       "countryJamaica                    13.89045    3.50361   3.965 7.65e-05 ***\n",
       "countryJapan                      -7.76035    5.86361  -1.323 0.185853    \n",
       "countryJordan                      1.63302    3.28312   0.497 0.618972    \n",
       "countryKazakhstan                  0.40080    5.59692   0.072 0.942920    \n",
       "countryKenya                      -3.62743    3.21471  -1.128 0.259315    \n",
       "countryKuwait                     -8.10018    5.06416  -1.600 0.109891    \n",
       "countryKyrgyzstan                 13.15777    4.69999   2.800 0.005175 ** \n",
       "countryLaos                       -3.94689    3.15437  -1.251 0.211015    \n",
       "countryLatvia                      3.63546    5.77392   0.630 0.529018    \n",
       "countryLebanon                    -1.21126    3.67184  -0.330 0.741532    \n",
       "countryLesotho                    -2.89863    3.94200  -0.735 0.462245    \n",
       "countryLiberia                     5.33895    2.75016   1.941 0.052382 .  \n",
       "countryLibya                       1.34631    3.65771   0.368 0.712864    \n",
       "countryLithuania                   5.38916    5.89897   0.914 0.361067    \n",
       "countryLuxembourg                 -1.30391    6.20731  -0.210 0.833645    \n",
       "countryMadagascar                  6.75771    3.02921   2.231 0.025820 *  \n",
       "countryMalawi                     11.87746    3.08514   3.850 0.000122 ***\n",
       "countryMalaysia                   -0.39321    4.27125  -0.092 0.926662    \n",
       "countryMaldives                   -5.62742    6.11400  -0.920 0.357485    \n",
       "countryMali                       -4.40617    2.56752  -1.716 0.086320 .  \n",
       "countryMalta                       3.83993    4.66442   0.823 0.410486    \n",
       "countryMauritania                 -7.79941    2.47709  -3.149 0.001669 ** \n",
       "countryMauritius                  10.28134    4.85606   2.117 0.034385 *  \n",
       "countryMexico                     21.24512    4.10561   5.175 2.55e-07 ***\n",
       "countryMoldova                    20.80145    5.36205   3.879 0.000109 ***\n",
       "countryMongolia                    0.68375    5.36602   0.127 0.898622    \n",
       "countryMontenegro                  2.89638    4.00162   0.724 0.469286    \n",
       "countryMorocco                     7.88510    2.99936   2.629 0.008642 ** \n",
       "countryMozambique                 11.62382    3.33668   3.484 0.000507 ***\n",
       "countryMyanmar                    -4.39333    3.59837  -1.221 0.222283    \n",
       "countryNamibia                   -13.46552    3.78360  -3.559 0.000382 ***\n",
       "countryNepal                       8.25003    3.14262   2.625 0.008736 ** \n",
       "countryNetherlands                13.35305    5.70214   2.342 0.019307 *  \n",
       "countryNew Zealand                12.21785    5.03507   2.427 0.015345 *  \n",
       "countryNicaragua                  18.46758    4.37284   4.223 2.53e-05 ***\n",
       "countryNiger                       4.25851    2.79174   1.525 0.127344    \n",
       "countryNigeria                    -4.14136    3.25114  -1.274 0.202900    \n",
       "countryNorth Macedonia             0.99692    3.76051   0.265 0.790963    \n",
       "countryNorway                     13.18705    6.21538   2.122 0.034007 *  \n",
       "countryOman                        1.86056    5.96447   0.312 0.755123    \n",
       "countryPakistan                   11.43636    2.30043   4.971 7.31e-07 ***\n",
       "countryPalestine                   3.95459    2.96744   1.333 0.182820    \n",
       "countryPanama                      8.45381    3.78723   2.232 0.025731 *  \n",
       "countryParaguay                    6.30571    4.09209   1.541 0.123513    \n",
       "countryPeru                        7.41973    3.65407   2.031 0.042455 *  \n",
       "countryPhilippines                 3.48923    3.11083   1.122 0.262173    \n",
       "countryPoland                      7.02787    5.55509   1.265 0.205999    \n",
       "countryPortugal                   -4.59509    4.95169  -0.928 0.353545    \n",
       "countryQatar                     -14.27456    5.95444  -2.397 0.016623 *  \n",
       "countryRomania                     5.31990    4.32342   1.230 0.218684    \n",
       "countryRussia                      2.40271    6.10191   0.394 0.693804    \n",
       "countryRwanda                     -4.21957    3.35778  -1.257 0.209050    \n",
       "countrySaudi Arabia               -0.89377    4.21644  -0.212 0.832154    \n",
       "countrySenegal                    -2.64611    2.44228  -1.083 0.278756    \n",
       "countrySerbia                      7.19042    4.40258   1.633 0.102604    \n",
       "countrySierra Leone                2.43446    2.52474   0.964 0.335061    \n",
       "countrySingapore                 -12.52606    6.58235  -1.903 0.057211 .  \n",
       "countrySlovakia                    9.28745    4.94129   1.880 0.060337 .  \n",
       "countrySlovenia                    0.92675    5.38243   0.172 0.863316    \n",
       "countrySouth Africa              -11.15846    4.08099  -2.734 0.006316 ** \n",
       "countrySouth Korea                -2.25861    6.27669  -0.360 0.719010    \n",
       "countrySpain                       7.32007    4.87364   1.502 0.133288    \n",
       "countrySri Lanka                 -11.72548    4.58487  -2.557 0.010630 *  \n",
       "countrySudan                      -7.16629    2.76541  -2.591 0.009639 ** \n",
       "countrySuriname                    6.57740    6.13857   1.071 0.284101    \n",
       "countrySweden                     12.99271    5.63480   2.306 0.021240 *  \n",
       "countrySwitzerland                13.37790    6.03225   2.218 0.026704 *  \n",
       "countrySyria                      -1.59180    2.85557  -0.557 0.577302    \n",
       "countryTaiwan                     -2.54145    5.36842  -0.473 0.635982    \n",
       "countryTajikistan                 14.86715    3.84111   3.871 0.000113 ***\n",
       "countryTanzania                   -5.99912    2.95964  -2.027 0.042819 *  \n",
       "countryThailand                    6.93821    4.46433   1.554 0.120334    \n",
       "countryTogo                        6.55611    2.81600   2.328 0.020019 *  \n",
       "countryTrinidad and Tobago         8.73772    4.77590   1.830 0.067491 .  \n",
       "countryTunisia                     1.87647    3.44156   0.545 0.585660    \n",
       "countryTurkey                     -5.86534    3.82386  -1.534 0.125244    \n",
       "countryTurkmenistan                3.79354    4.03796   0.939 0.347622    \n",
       "countryUganda                     -0.49449    3.09738  -0.160 0.873177    \n",
       "countryUkraine                     6.66489    5.68197   1.173 0.240963    \n",
       "countryUnited Arab Emirates       -0.26260    4.98964  -0.053 0.958033    \n",
       "countryUnited Kingdom              8.86012    5.59732   1.583 0.113623    \n",
       "countryUnited States              10.90061    5.48343   1.988 0.046979 *  \n",
       "countryUruguay                     6.53955    4.08125   1.602 0.109265    \n",
       "countryUzbekistan                 14.28578    3.62170   3.944 8.32e-05 ***\n",
       "countryVenezuela                  11.09881    3.34380   3.319 0.000922 ***\n",
       "countryVietnam                     6.01612    3.71476   1.620 0.105519    \n",
       "countryYemen                      -6.64822    2.30897  -2.879 0.004035 ** \n",
       "countryZambia                     -1.75122    3.36236  -0.521 0.602552    \n",
       "countryZimbabwe                   -5.84719    3.58786  -1.630 0.103345    \n",
       "log_gdp                           14.61608    1.22494  11.932  < 2e-16 ***\n",
       "social                            19.50051    2.44905   7.962 3.04e-15 ***\n",
       "life_exp                          -0.21074    0.11123  -1.895 0.058311 .  \n",
       "freedom                           10.29236    1.68999   6.090 1.39e-09 ***\n",
       "generosity                         3.90673    1.46139   2.673 0.007582 ** \n",
       "corruption                        -6.75216    1.81868  -3.713 0.000212 ***\n",
       "schooling                         -0.56141    0.40909  -1.372 0.170134    \n",
       "log(alcohol)                      -2.33037    1.42988  -1.630 0.103335    \n",
       "log(suicide)                       2.96540    1.58028   1.877 0.060755 .  \n",
       "obesity                           -0.51349    0.24014  -2.138 0.032634 *  \n",
       "log(birth)                         8.88801    2.34020   3.798 0.000151 ***\n",
       "mental                            -0.67171    0.56613  -1.186 0.235590    \n",
       "---\n",
       "Signif. codes:  0 '***' 0.001 '**' 0.01 '*' 0.05 '.' 0.1 ' ' 1\n",
       "\n",
       "Residual standard error: 4.683 on 1720 degrees of freedom\n",
       "Multiple R-squared:  0.9214,\tAdjusted R-squared:  0.9137 \n",
       "F-statistic: 119.4 on 169 and 1720 DF,  p-value: < 2.2e-16\n"
      ]
     },
     "metadata": {},
     "output_type": "display_data"
    }
   ],
   "source": [
    "fit4<-lm(HS^lambda ~ country +log_gdp + social + life_exp + freedom + generosity + corruption + schooling +\n",
    "           log(alcohol) + log(suicide) + obesity + log(birth) + mental, data=df)\n",
    "summary(fit4)\n",
    "\n",
    "# Multiple R-squared:  0.9214,\tAdjusted R-squared:  0.9137   => fit1~ fit4 중 미세하게 가장 높음"
   ]
  },
  {
   "cell_type": "markdown",
   "id": "faaf3cf3",
   "metadata": {},
   "source": [
    "#### fit4 가정 테스트"
   ]
  },
  {
   "cell_type": "code",
   "execution_count": 55,
   "id": "5791bc6c",
   "metadata": {},
   "outputs": [
    {
     "data": {
      "text/plain": [
       "\n",
       "\tShapiro-Wilk normality test\n",
       "\n",
       "data:  resid(fit4)\n",
       "W = 0.98583, p-value = 1.013e-12\n"
      ]
     },
     "metadata": {},
     "output_type": "display_data"
    },
    {
     "data": {
      "text/plain": [
       "\n",
       "\tstudentized Breusch-Pagan test\n",
       "\n",
       "data:  fit4\n",
       "BP = 393.02, df = 169, p-value < 2.2e-16\n"
      ]
     },
     "metadata": {},
     "output_type": "display_data"
    },
    {
     "data": {
      "text/plain": [
       "\n",
       "\tDurbin-Watson test\n",
       "\n",
       "data:  fit4\n",
       "DW = 1.3468, p-value < 2.2e-16\n",
       "alternative hypothesis: true autocorrelation is greater than 0\n"
      ]
     },
     "metadata": {},
     "output_type": "display_data"
    }
   ],
   "source": [
    "# 정규성 테스트\n",
    "shapiro.test(resid(fit4))  \n",
    "\n",
    "# 등분산성 검정 \n",
    "library(lmtest)\n",
    "bptest(fit4) \n",
    "\n",
    "# 독립성 검정\n",
    "dwtest(fit4)   # DW = 1.3468"
   ]
  },
  {
   "cell_type": "code",
   "execution_count": null,
   "id": "094c096a",
   "metadata": {},
   "outputs": [],
   "source": []
  },
  {
   "cell_type": "code",
   "execution_count": null,
   "id": "d6cdd883",
   "metadata": {},
   "outputs": [],
   "source": []
  }
 ],
 "metadata": {
  "kernelspec": {
   "display_name": "R",
   "language": "R",
   "name": "ir"
  },
  "language_info": {
   "codemirror_mode": "r",
   "file_extension": ".r",
   "mimetype": "text/x-r-source",
   "name": "R",
   "pygments_lexer": "r",
   "version": "3.6.1"
  }
 },
 "nbformat": 4,
 "nbformat_minor": 5
}
